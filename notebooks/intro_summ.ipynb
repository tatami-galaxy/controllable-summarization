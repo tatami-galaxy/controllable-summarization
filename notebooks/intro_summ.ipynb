{
 "cells": [
  {
   "cell_type": "markdown",
   "metadata": {},
   "source": [
    "<img src=\"docs/images/DSPy8.png\" alt=\"DSPy7 Image\" height=\"150\"/>\n",
    "\n",
    "## **DSPy**: Programming with Foundation Models\n",
    "\n",
    "[<img align=\"center\" src=\"https://colab.research.google.com/assets/colab-badge.svg\" />](https://colab.research.google.com/github/stanfordnlp/dspy/blob/main/intro.ipynb)"
   ]
  },
  {
   "cell_type": "markdown",
   "metadata": {},
   "source": [
    "This notebook introduces the **DSPy** framework for **Programming with Foundation Models**, i.e., language models (LMs) and retrieval models (RMs).\n",
    "\n",
    "**DSPy** emphasizes programming over prompting. It unifies techniques for **prompting** and **fine-tuning** LMs as well as improving them with **reasoning** and **tool/retrieval augmentation**, all expressed through a _minimalistic set of Pythonic operations that compose and learn_.\n",
    "\n",
    "**DSPy** provides **composable and declarative modules** for instructing LMs in a familiar Pythonic syntax. On top of that, **DSPy** introduces an **automatic compiler that teaches LMs** how to conduct the declarative steps in your program. The **DSPy compiler** will internally _trace_ your program and then **craft high-quality prompts for large LMs (or train automatic finetunes for small LMs)** to teach them the steps of your task."
   ]
  },
  {
   "cell_type": "markdown",
   "metadata": {},
   "source": [
    "### 0] Setting Up\n",
    "\n",
    "As we'll start to see below, **DSPy** can routinely teach powerful models like `GPT-3.5` and local models like `T5-base` or `Llama2-13b` to be much more reliable at complex tasks. **DSPy** will compile the _same program_ into different few-shot prompts and/or finetunes for each LM."
   ]
  },
  {
   "cell_type": "code",
   "execution_count": 89,
   "metadata": {},
   "outputs": [],
   "source": [
    "import sys\n",
    "import os\n",
    "import dspy"
   ]
  },
  {
   "cell_type": "code",
   "execution_count": 114,
   "metadata": {},
   "outputs": [],
   "source": [
    "#model_name = 'gemma2:27b'\n",
    "model_name = 'qwen2.5:72b'"
   ]
  },
  {
   "cell_type": "code",
   "execution_count": 115,
   "metadata": {},
   "outputs": [],
   "source": [
    "#turbo = dspy.OpenAI(model='gpt-3.5-turbo')\n",
    "lm = dspy.OllamaLocal(model=model_name)\n",
    "colbertv2_wiki17_abstracts = dspy.ColBERTv2(url='http://20.102.90.50:2017/wiki17_abstracts')\n",
    "\n",
    "dspy.settings.configure(lm=lm, rm=colbertv2_wiki17_abstracts)"
   ]
  },
  {
   "cell_type": "markdown",
   "metadata": {},
   "source": [
    "You can build your own **DSPy programs** for various tasks, e.g., question answering, information extraction, or text-to-SQL.\n",
    "\n",
    "Whatever the task, the general workflow is:\n",
    "\n",
    "1. **Collect a little bit of data.** Define examples of the inputs and outputs of your program (e.g., questions and their answers). This could just be a handful of quick examples you wrote down. If large datasets exist, the more the merrier!\n",
    "1. **Write your program.** Define the modules (i.e., sub-tasks) of your program and the way they should interact together to solve your task.\n",
    "1. **Define some validation logic.** What makes for a good run of your program? Maybe the answers need to have a certain length or stick to a particular format? Specify the logic that checks that.\n",
    "1. **Compile!** Ask **DSPy** to _compile_ your program using your data. The compiler will use your data and validation logic to optimize your program (e.g., prompts and modules) so it's efficient and effective!\n",
    "1. **Iterate.** Repeat the process by improving your data, program, validation, or by using more advanced features of the **DSPy** compiler.\n",
    "\n",
    "Load dataset"
   ]
  },
  {
   "cell_type": "code",
   "execution_count": 26,
   "metadata": {},
   "outputs": [
    {
     "name": "stdout",
     "output_type": "stream",
     "text": [
      "DatasetDict({\n",
      "    train: Dataset({\n",
      "        features: ['id', 'sources', 'sources_metadata', 'summary/long', 'summary/short', 'summary/tiny', 'case_metadata'],\n",
      "        num_rows: 3177\n",
      "    })\n",
      "    validation: Dataset({\n",
      "        features: ['id', 'sources', 'sources_metadata', 'summary/long', 'summary/short', 'summary/tiny', 'case_metadata'],\n",
      "        num_rows: 454\n",
      "    })\n",
      "    test: Dataset({\n",
      "        features: ['id', 'sources', 'sources_metadata', 'summary/long', 'summary/short', 'summary/tiny', 'case_metadata'],\n",
      "        num_rows: 908\n",
      "    })\n",
      "})\n"
     ]
    }
   ],
   "source": [
    "from datasets import load_dataset\n",
    "\n",
    "multi_lexsum = load_dataset(\"allenai/multi_lexsum\", name=\"v20230518\")\n",
    "print(multi_lexsum)"
   ]
  },
  {
   "cell_type": "markdown",
   "metadata": {},
   "source": [
    "The core data type for data in DSPy is Example. You will use Examples to represent items in your training set and test set. DSPy Examples are similar to Python dicts but have a few useful utilities. Your DSPy modules will return values of the type Prediction, which is a special sub-class of Example. When you use DSPy, you will do a lot of evaluation and optimization runs. Your individual datapoints will be of type Example."
   ]
  },
  {
   "cell_type": "markdown",
   "metadata": {},
   "source": [
    "Select 100 train examples and 20 dev examples where all 3 summaries are present"
   ]
  },
  {
   "cell_type": "code",
   "execution_count": 32,
   "metadata": {},
   "outputs": [
    {
     "data": {
      "application/vnd.jupyter.widget-view+json": {
       "model_id": "1c910ed3cf58405a99fd7fe706a883de",
       "version_major": 2,
       "version_minor": 0
      },
      "text/plain": [
       "Filter:   0%|          | 0/454 [00:00<?, ? examples/s]"
      ]
     },
     "metadata": {},
     "output_type": "display_data"
    }
   ],
   "source": [
    "trainset = multi_lexsum['train'].filter(\n",
    "    lambda x: x['summary/tiny'] is not None and x['summary/short'] is not None and x['summary/long'] is not None\n",
    ").select(range(100))\n",
    "\n",
    "devset = multi_lexsum['validation'].filter(\n",
    "    lambda x: x['summary/tiny'] is not None and x['summary/short'] is not None and x['summary/long'] is not None\n",
    ").select(range(20))"
   ]
  },
  {
   "cell_type": "markdown",
   "metadata": {},
   "source": [
    "Create Examples"
   ]
  },
  {
   "cell_type": "code",
   "execution_count": 56,
   "metadata": {},
   "outputs": [
    {
     "data": {
      "text/plain": [
       "(100, 20)"
      ]
     },
     "execution_count": 56,
     "metadata": {},
     "output_type": "execute_result"
    }
   ],
   "source": [
    "# Tell DSPy that the joined 'sources' field is the input. Any other fields are labels and/or metadata\n",
    "trainset = [dspy.Example(\n",
    "    doc=' '.join(x['sources']),\n",
    "    long=x['summary/long'],\n",
    "    short=x['summary/short'],\n",
    "    tiny=x['summary/tiny']\n",
    ").with_inputs(' '.join(x['sources'])) for x in trainset]\n",
    "\n",
    "devset = [dspy.Example(\n",
    "    doc=' '.join(x['sources']),\n",
    "    long=x['summary/long'],\n",
    "    short=x['summary/short'],\n",
    "    tiny=x['summary/tiny']\n",
    ").with_inputs(' '.join(x['sources'])) for x in devset]\n",
    "\n",
    "len(trainset), len(devset)"
   ]
  },
  {
   "cell_type": "markdown",
   "metadata": {},
   "source": [
    "**DSPy** typically requires very minimal labeling. Whereas your pipeline may involve six or seven complex steps, you only need labels for the initial question and the final answer. **DSPy** will bootstrap any intermediate labels needed to support your pipeline. If you change your pipeline in any way, the data bootstrapped will change accordingly!\n",
    "\n",
    "Now, let's look at some data examples."
   ]
  },
  {
   "cell_type": "code",
   "execution_count": 61,
   "metadata": {},
   "outputs": [
    {
     "name": "stdout",
     "output_type": "stream",
     "text": [
      "short: On October 1, 2013, three same-sex couples and the minor child of one of the couples filed a lawsuit against Kanawha County, West Virginia. The plaintiffs asked the court to declare unconstitutional any West Virginia laws banning same-sex marriage, enjoin West Virginia from refusing to recognize same-sex marriages undertaken in other states, and to award the plaintiffs reasonable attorney's fees and costs of suit. The case was decided in favor of the plaintiffs, who were granted summary judgment in November 2014 and awarded attorneys’ fees, costs, and expenses.\n",
      "tiny: Three same-sex couples, and the minor child of one of the couples won this same-sex marriage lawsuit in WV\n"
     ]
    }
   ],
   "source": [
    "train_example = trainset[0]\n",
    "print(f\"short: {train_example.short}\")\n",
    "print(f\"tiny: {train_example.tiny}\")"
   ]
  },
  {
   "cell_type": "code",
   "execution_count": 106,
   "metadata": {},
   "outputs": [
    {
     "name": "stdout",
     "output_type": "stream",
     "text": [
      "short: Pretrial detainees file lawsuit against Middlesex County in November 2015 to ameliorate the unconstitutional conditions of solitary confinement in the Middlesex County Jail. In September 2018, the parties reached a settlement agreement that restricted the maximum amount of time allowed in isolation and provides those in isolation with opportunities to interact with others.\n",
      "tiny: Pretrial detainees settled this class action against Middlesex County to provide 28 hours per week of out-of-cell time and mental health screenings to people held in solitary confinement.\n"
     ]
    }
   ],
   "source": [
    "dev_example = devset[2]\n",
    "print(f\"short: {dev_example.short}\")\n",
    "print(f\"tiny: {dev_example.tiny}\")"
   ]
  },
  {
   "cell_type": "code",
   "execution_count": 107,
   "metadata": {
    "scrolled": true
   },
   "outputs": [
    {
     "data": {
      "text/plain": [
       "Example({'doc': 'Case 3:15-cv-07920-PGS-TJB Document 1 Filed 11/05/15 Page 1 of 13 PageID: 1\\n\\nIN THE UNITED STATES DISTRICT COURT FOR THE DISTRICT OF NEW JERSEY\\n\\n_______________________________________\\n\\n:\\n\\nC-POD INMATES OF MIDDLESEX\\n\\n:\\n\\nCOUNTY ADULT CORRECTION CENTER, :\\n\\nAZARIAH LAZAR, LUIS BORRERO,\\n\\n:\\n\\nHECTOR AMENGUAL, SEAN PERSHING, :\\n\\nTYSON RATLIFF, JONATHAN\\n\\n:\\n\\nRODRIGUEZ, TERRENCE EDWARDS,\\n\\n:\\n\\nDAMANI HARRIS, and PATRICK\\n\\n:\\n\\nO’DWYER, on behalf of themselves and all :\\n\\nothers similarly situated,\\n\\nH :\\n\\n:\\n\\nPlaintiffs,\\n\\n:\\n\\nv.\\n\\n:\\n\\n:\\n\\nMIDDLESEX COUNTY,\\n\\n:\\n\\n:\\n\\nDefendant.\\n\\n:\\n\\n:\\n\\nCLASS ACTION COMPLAINT Hon.______________________________ Civil Action No._____________________\\n\\nINTRODUCTION Plaintiffs are inmates housed at the Middlesex County Jail in “C-Pod,” a unit for solitary confinement. Whether they are there for their own protection, for disciplinary reasons, or to separate them from a codefendant while they await trial for years, the conditions are equally deplorable. Plaintiffs are locked in a small cell alone almost continuously, where they languish in a state of forced idleness. They cannot interact with other inmates. Family cannot visit them. They cannot participate in religious, educational or rehabilitative programs. They are never even allowed outdoors. Research shows that such social and environmental deprivations are toxic to the human brain. Instead of promoting public safety, these conditions cause inmates to spiral into mental illness before they are released to the community. Courts, advocates and prison administrators across the country are recognizing the costs of excessive isolation. The\\n\\n\\x0cCase 3:15-cv-07920-PGS-TJB Document 1 Filed 11/05/15 Page 2 of 13 PageID: 2\\nconstitutional standards of decency are evolving. Plaintiffs bring this class action seeking to remedy the unconstitutional conditions in C-Pod, and say:\\nJURISDICTION AND VENUE 1. This Court has jurisdiction under 28 U.S.C. §§ 1331 and 1343(a)(3) and (4). Plaintiffs bring claims under 42 U.S.C. § 1983 for the deprivation of rights secured by the Eighth and Fourteenth Amendments to the United States Constitution. 2. Venue is proper in this Court under 28 U.S.C. § 1391 because a substantial part of the events giving rise to the claims occurred in this judicial district and the parties reside in this district.\\nPARTIES 3. Plaintiff Azariah Lazar is a pretrial detainee housed in “C-Pod” at the Middlesex County Adult Correction Center located at U.S. Route 130 and Apple Orchard Lane, North Brunswick, NJ 08902. Mr. Lazar has been in C-Pod since February 2015. 4. Plaintiff Luis Borrero is awaiting trial and housed in C-Pod. He is also serving a sentence in Pennsylvania. Mr. Borrero has been in C-Pod since June 2015. 5. Plaintiff Hector Amengual is a pretrial detainee housed in C-Pod since May 2014. 6. Plaintiff Sean Pershing is a pretrial detainee housed in C-Pod since September 2015. 7. Plaintiff Tyson Ratliff is a pretrial detainee housed in C-Pod since September 2015. 8. Plaintiff Jonathan Rodriguez is a pretrial detainee housed in C-Pod since September 2015.\\n2\\n\\n\\x0cCase 3:15-cv-07920-PGS-TJB Document 1 Filed 11/05/15 Page 3 of 13 PageID: 3\\n9. Plaintiff Terrence Edwards is a pretrial detainee housed in C-Pod since October 2015.\\n10. Plaintiff Damani Harris is a pretrial detainee housed in C-Pod since October 2014. 11. Plaintiff Patrick O’Dwyer is a pretrial detainee housed in C-Pod since November 2014. 12. Defendant Middlesex County is a body politic with a principal business address at the County Administration Building, 75 Bayard Street, New Brunswick, NJ 08901. The subdivision of the County responsible for the jail is the Office of Adult Corrections and Youth Services.\\nCLASS ALLEGATIONS 13. Plaintiffs bring this action individually and on behalf of all persons who are now or will be housed in C-Pod during the pendency of this lawsuit, pursuant to Fed. R. Civ. P. 23(a) and (b)(2). 14. This is a fluid class of about 50 individuals at a given time and is so numerous that joinder of all members is impracticable. 15. There are questions of law or fact common to the class. All individuals in C-Pod are subject to the same conditions, the constitutionality of which will be determined under either the Eighth or Fourteenth Amendments. 16. The claims or defenses of the representative parties are typical of the claims or defenses of the class. 17. The representative parties will fairly and adequately protect the interests of the class. There are no conflicts between the Plaintiffs and other class members. No class member has an interest in maintaining the current inhumane conditions in C-Pod.\\n3\\n\\n\\x0cCase 3:15-cv-07920-PGS-TJB Document 1 Filed 11/05/15 Page 4 of 13 PageID: 4\\n18. The party opposing the class has acted or refused to act on grounds that apply generally to the class, so that final injunctive relief or corresponding declaratory relief is appropriate respecting the class as a whole.\\n19. Plaintiffs have retained competent and experienced counsel who will fairly and adequately represent the interests of the class. The Public Defender has done substantial work in investigating and identifying potential claims in the action and has experience in handling class actions. This experience includes prosecuting class action claims on behalf of inmates in county jails and state prisons throughout New Jersey. Accordingly, the Public Defender has knowledge of the applicable law and procedures that relate to these claims. Finally, in what can be described as the largest public interest law firm in the State of New Jersey, the New Jersey Office of the Public Defender will commit substantial resources to representing the class.\\nFACTUAL ALLEGATIONS 20. Plaintiffs are inmates housed in an area of the Correction Center known as C-Pod, a cluster of maximum-security cells spanning four levels of the jail. 21. There are about 50 inmates in C-Pod. 22. The cells in C-Pod are smaller than a parking space. They have narrow windows that are sealed shut, many of which are painted over, preventing the inmates from looking outside. Other windows are so dirty that only a faint glow of sunlight comes through. Aside from a small window and a slot for food, the doors are solid metal. 23. The cells are equipped with a combination toilet-sink, a bed with a thin foam mattress, and a small desk. There is no chair for the desk, so inmates must either sit on the concrete floor or the bed.\\n4\\n\\n\\x0cCase 3:15-cv-07920-PGS-TJB Document 1 Filed 11/05/15 Page 5 of 13 PageID: 5\\n24. In C-Pod, time passes in long silences broken by the sudden outbursts of the mentally ill, who scream, bang on the walls and toilets, and jump on the beds in their cells.\\n25. The air in C-Pod is dusty, tinged with sewage, and inadequately ventilated; it causes some Plaintiffs to have nosebleeds or asthma attacks.\\n26. The air in C-Pod is uncomfortably cold at all times. Inmates are provided with only one, thin blanket, which exacerbates the discomfort.\\n27. The cells are infested with flies, roaches, centipedes and other insects. 28. There is black mold in the shower facilities. 29. Many of the cells have leaky plumbing, causing rank water to pool on the floor. 30. The inmates are confined alone in their cells 5 days a week for 23 hours a day, and 2 days a week for 24 hours. 31. The inmates’ only form of stimuli comes in the form of an antiquated book delivered by library staff. 32. On days when an inmate can leave his cell for an hour, he may not interact with, or even speak to, any other inmates. He may only shower by himself or pace around in one of the small, 10x10 chain-link cages inside C-Pod. Some of the cages face a television controlled by the officer on duty, and some have a telephone that inmates can use if they have sufficient funds. 33. Officers are not always scrupulous in allowing an inmate his full hour. 34. The hourly schedule for when an inmate may leave his cell is not consistent. For example, an inmate may be permitted to leave for an hour at 6 a.m. on one day but 6 p.m. on the following day, meaning he will remain alone in his cell for much longer than 24 hours even during the 5 days he is permitted to leave his cell.\\n5\\n\\n\\x0cCase 3:15-cv-07920-PGS-TJB Document 1 Filed 11/05/15 Page 6 of 13 PageID: 6\\n35. Unlike inmates in the general population, inmates in C-Pod are never allowed to: A. Eat meals away from their toilets or with other inmates; B. Have in-person visits from family, friends or loved ones; C. Participate in religious groups or services; D. Participate in groups or programs designed to educate or rehabilitate them; E. Access the law library to research their cases; F. Access the computer laboratory; or G. Go outside for exercise, recreation, and their overall well-being, meaning Plaintiff Hector Amengual, for example, has not been exposed to fresh air and natural sunlight for over 1.5 years.\\n36. The inability to go outside or even walk in one direction for more than 10 feet causes inmates a number of physical maladies, such as stiffness of the joints and backaches.\\n37. Unlike inmates in the general population, inmates in C-Pod have restricted access to their attorneys.\\nA. If they do not have sufficient funds to use the telephone in one of the 10x10 cages, an inmate’s only way of contacting his attorney by phone is through a social worker who visits between once a week and once a month.\\nB. Attorneys wishing to meet with an inmate in C-Pod are routinely subject to long wait times and limited timeframes in which to conduct the meeting. For example, the afternoon visitation hours at the Correction Center are between 2-4 p.m., but attorneys wishing to visit with a C-Pod client must wait until 3:30 p.m. to accommodate “window checks” that are scheduled during attorney visitation hours. And when the meetings do occur, they are short and\\n6\\n\\n\\x0cCase 3:15-cv-07920-PGS-TJB Document 1 Filed 11/05/15 Page 7 of 13 PageID: 7\\nharried because of the time constraints and because there is only one meeting room in the pod. C. Additionally, the physical layout of the attorney-client meeting room impairs an inmate’s access to his attorney. There is no desk or table at which the attorney and client may sit. Instead, the room is divided in two by a chainmetal partition, with the inmate on one side and his attorney on the other. 38. These conditions, separately and in combination, deprive Plaintiffs of the minimal necessities of civilized life and cause them unnecessary pain and suffering. This is of grave constitutional concern. 39. Solitary confinement lasting more than 10 days results in a distinct set of emotional, cognitive, social, and physical pathologies. 40. Solitary confinement creates or exacerbates serious mental health problems and anti-social behavior, and leads to an increased rate of recidivism after release. 1 41. Because solitary confinement deprives the subject of social and environmental stimulation, it is “toxic to brain functioning and causes symptoms characteristic of stupor and delirium.”2 42. Neurological effects may include perceptual distortions, illusions, and hallucinations; panic attacks; difficulties with thinking, concentration, and memory; frightening and uncontrollable fantasies, such as those involving revenge, torture, or mutilation; paranoid and persecutory delusions; and problems with impulse control.\\n1 Vera Institute of Justice Safe Alternatives to Segregation Initiative, Request for Proposals for Technical Assistance Sites, http://www.vera.org/project/safe-alternatives-segregation-initiative. 2 Stuart Grassian, Psychiatric Effects of Solitary Confinement, 22 Wash. U. J. L. & Pol’y 325, 348 (2006).\\n7\\n\\n\\x0cCase 3:15-cv-07920-PGS-TJB Document 1 Filed 11/05/15 Page 8 of 13 PageID: 8\\n43. The motor effects of those subject to solitary confinement range from a state of restlessness, yelling, and banging at one end of the spectrum to a kind of regressed, dissociated, withdrawn, hypnoid state at the other.\\n44. Suicide rates and incidents of self-mutilation (such as banging one’s head against the cell wall) are much higher for people in segregation than those in the general prison population.\\n45. In C-Pod, inmates who exhibit some of these disturbed behaviors are stripped naked and put in a thin mesh gown known as “the chicken suit” and held for hours or days in a cold, empty observation cell without a bed or even a blanket.\\n46. These types of conditions may cause prolonged or permanent psychiatric disability, including impairments which destroy the inmate\\'s capacity to reintegrate into the community upon release.\\n47. Plaintiffs are suffering from some or all of the foregoing effects. 48. The conditions in C-Pod violate the evolving standards of decency in the United States towards incarcerated people.\\nA. The Association of State Correctional Administrators has now recognized solitary confinement as “a grave problem.”3\\nB. Justice Kennedy of the United States Supreme Court recently called on the Judiciary to examine the practice of confining an inmate to near-total isolation for an extended period of time.4\\n3 George Camp et al., New Report on Prisoners in Administrative Segregation Prepared by the Association of State Correctional Administrators and the Arthur Liman Public Interest Program at Yale Law School, http://www.asca.net/system/assets/attachments/8895/ASCA%20LIMAN%20Press%20Release%208-2815.pdf?1441222595. 4 Davis v. Ayala, 135 S. Ct. 2187, 2210 (2015) (Kennedy, J., concurring).\\n8\\n\\n\\x0cCase 3:15-cv-07920-PGS-TJB Document 1 Filed 11/05/15 Page 9 of 13 PageID: 9\\nC. President Obama recently directed the Attorney General to review the overuse of solitary confinement across American prisons.5\\nD. The American Bar Association now recommends that “[s]egregated housing should be for the briefest term and under the least restrictive conditions practicable and consistent with the rationale for placement and with the progress achieved by the prisoner.”6\\nE. The Committee against Torture, the official body established under the United Nations’ Convention against Torture, advocates a “ban [on] solitary confinement regimes in prisons.”7\\n49. Whether solitary confinement should be abolished altogether is debatable. 50. But even if some inmates must be separated, that can be done without the extreme social isolation and sensory deprivations inflicted by the conditions in C-Pod. The conditions in C-Pod are excessive in relation to the purposes assigned to them. 51. There are a number of ways that Defendant can alleviate the harm to which Plaintiffs are subjected, even if they are still confined in C-Pod. Some of these include, but are not limited to: providing access to an outdoor exercise area; increasing the time out of cell; permitting in-person visits with family, friends and loved ones; providing in-cell programming via headphones or speakers in cells that play radio, television or educational information; permitting inmates in C-Pod to interact with one another, such as by eating together; or giving inmates opportunities to increase privileges through good behavior.\\n5 https://www.whitehouse.gov/the-press-office/2015/07/14/remarks-president-naacp-conference. 6 ABA, Standards for Criminal Justice: Treatment of Prisoners 50, Standard 23-2.6 (Rationales for segregated housing) (3d. ed. 2011). 7 U.N. Comm. against Torture, Concluding Observations on the Combined Third to Fifth Periodic Reports of the United States of America ¶ 20, U.N. Doc. CAT/C/USA/CO/3-5 (Dec. 19, 2014).\\n9\\n\\n\\x0cCase 3:15-cv-07920-PGS-TJB Document 1 Filed 11/05/15 Page 10 of 13 PageID: 10\\n52. These changes are not impracticable. For example, New York offers prisoners incell programming via headphones and a jack in their cells that plays radio, television, and other programs. Colorado now requires that incarcerated people held in its Management Control Unit receive four hours of time outside their cell each day. Maine requires that incarcerated people in segregated housing receive group recreation, counseling sessions, and opportunities to increase privileges through good behavior, as well as greater access to radios, televisions, and reading materials. And in a national survey of administrative segregation practices, “44 of 46 responding jurisdictions had an outdoor exercise area.”8\\n53. These changes are also financially feasible. Defendant has sufficient resources to remedy its constitutional defects: in 2014, Middlesex County’s total appropriations were $454,043,454, with $12,761,636 in reserves at the end of the fiscal year.9\\n54. The Court should shepherd Defendants into compliance with the evolving standards of decency towards incarcerated people.\\nCAUSES OF ACTION Count I\\nPunishment in Violation of Due Process under the Fourteenth Amendment to the United States Constitution 55. The above facts are incorporated by reference here as if set forth at length. 56. In the context of prisons, the United States Constitution looks beyond historical conceptions to the evolving standards of decency that mark the progress of a maturing society.\\n8 Time-In-Cell: The ASCA-Liman 2014 National Survey of Administrative Segregation in Prison 41 (Yale Law Sch. Liman Public Interest Program, August 2015), available at https://www.law.yale.edu/centers-workshops/arthurliman-public-interest-program/liman-publications. 9 Middlesex County 2015 Operating Budget, adopted January 15, 2015, http://www.co.middlesex.nj.us/Government/Departments/Finance/Documents/2015%20County%20Budget%20hand out.pdf.\\n10\\n\\n\\x0cCase 3:15-cv-07920-PGS-TJB Document 1 Filed 11/05/15 Page 11 of 13 PageID: 11\\n57. In light of the known effects of solitary confinement, the conditions in C-Pod are not reasonably related to legitimate purposes.\\n58. These conditions cause inmates deprivations and hardships over an extended period of time and are excessive in relation to the purposes assigned to them.\\n59. Therefore, the conditions in C-Pod constitute punishment of pretrial detainees in violation of the Due Process Clause of the Fourteenth Amendment.\\nCount II Cruel and Unusual Punishment in Violation of the Eighth Amendment to the United States Constitution 60. The above facts are incorporated by reference here as if set forth at length. 61. The United States Constitution requires the government to respect the human attributes even of those who have committed serious crimes. 62. The Eighth Amendment’s scope must change as the basic mores of society change. 63. The conditions of C-Pod deprive inmates of the minimal necessities of civilized life and cause profound and obvious psychological pain and suffering. This suffering is unnecessary and wanton. 64. Under these circumstances, Defendant knows of and disregards an excessive risk to inmate health. 65. Therefore, the conditions in C-Pod inflict cruel and unusual punishment on sentenced inmates, in violation of the Eighth Amendment.\\nCount III Restriction on the Right of Access to the Courts\\nin Violation of Due Process under the Fourteenth Amendment to the United States Constitution 66. The above facts are incorporated by reference here as if set forth at length.\\n11\\n\\n\\x0cCase 3:15-cv-07920-PGS-TJB Document 1 Filed 11/05/15 Page 12 of 13 PageID: 12\\n67. The Constitution guarantees inmates a right of access to the courts. This right applies to both criminal proceedings and civil proceedings in which an inmate is challenging the conditions of his confinement.\\n68. Inmates in C-Pod are completely deprived of access to the Correction Center’s law library.\\n69. The conditions in C-Pod restricting attorney visitation severely impair their access to counsel.\\n70. Therefore, detainees in C-Pod are subject to restrictions that impair their right of access to the courts, in violation of the Fourteenth Amendment.\\nPRAYER FOR RELIEF Wherefore, Plaintiffs, individually and on behalf of the class they represent, ask the Court to: A. Certify this case as a class action; B. Appoint Plaintiffs as class representatives; C. Appoint Plaintiffs’ counsel as class counsel; D. Pursuant to 28 U.S.C. § 2201, declare that the conditions of confinement in C-Pod are\\nunconstitutional; E. Permanently enjoin Defendants and all its officers, employees, and agents to transfer\\ninmates out of C-Pod or take all actions necessary to render the conditions of confinement in C-Pod constitutional; F. Retain jurisdiction of this case until Defendants have complied with the Court’s Orders; G. Award costs and reasonable attorney’s fees; and\\n12\\n\\n\\x0cCase 3:15-cv-07920-PGS-TJB Document 1 Filed 11/05/15 Page 13 of 13 PageID: 13\\n\\nH. Award any other relief the Court deems necessary and just pursuant to 28 U.S.C. § 2202.\\n\\nLOCAL CIVIL RULE 11.2 CERTIFICATION The matter in controversy is not the subject of any other action pending in any court, or of any pending arbitration or administrative proceeding. I certify under penalty of perjury that the foregoing is true and correct.\\n\\nJoseph E. Krakora Public Defender of the State of New Jersey Richard J. Hughes Justice Complex 25 Market Street, 2nd Floor, North Wing P.O. Box 850 Trenton, NJ 08625 (609) 292-7087\\n\\nBy: s/ Jennifer Sellitti, Deputy Public Defender\\n\\nBy: s/ Fletcher C. Duddy, Deputy Public Defender\\n\\nBy: s/ Jesse M. DeBrosse, Asst. Deputy Public Defender\\n\\nDated: November 5, 2015\\n\\nAttorneys for Plaintiffs\\n\\n13\\n\\n\\x0c Case 3:15-cv-07920-PGS-TJB Document 42 Filed 07/31/18 Page 1 of 11 PageID: 150\\n\\nUNITED STATES DISTRICT COURT DISTRICT OF NEW JERSEY\\n\\nC-POD INMATES OF MIDDLESEX COUNTY ADULT CORRECTION CENTER, et al.,\\n\\nCivil Action No. 15-7920 (PGS)\\n\\nPlaintiffs,\\n\\nREPORT AND RECOMMENDATION\\n\\nv.\\n\\nMIDDLESEX COUNTY,\\n\\nDefendant.\\n\\nBONGIOVANNI, Magistrate Judge\\n\\nThis matter has been opened by the Court sua sponte based on Plaintiff Tyson Ratliff’s\\n\\n(“Ratliff”) failure to comply with this Court’s Orders. For the reasons that follow, it is respectfully\\n\\nrecommended that Ratliff’s claims be DISMISSED WITH PREJUDICE.\\n\\nBackground and Procedural History\\n\\nOn November 5, 2015, Plaintiffs, who were inmates housed at the Middlesex County Adult\\n\\nCorrection Center in “C-Pod,” a unit for solitary confinement, initiated this litigation by filing their\\n\\nComplaint against Middlesex County, challenging the social and environmental deprivations\\n\\nexperienced by inmates in C-Pod, alleging that said deprivations violated their constitutional\\n\\nrights. (See generally, Pl. Cmplt.; Docket Entry No. 1). Specifically, Plaintiffs brought claims for\\n\\n(1) unconstitutional punishment of pretrial detainees under the Fourteenth Amendment (Count I);\\n\\n(2) cruel and unusual punishment under the Eight Amendment (Count II); and (3) unconstitutional\\n\\nrestrictions on the right of access to the courts under the Fourteenth Amendment. (Id). A week\\n\\nafter Plaintiffs filed their Complaint, they sought to certify a class. (Pl. Motion to Certify Class;\\n\\nDocket Entry No. 3). This motion was ultimately withdrawn at Plaintiffs’ request in order to give\\n\\nthe American Civil Liberties Union (“ACLU”), which had decided to enter an appearance on\\n\\n\\x0cCase 3:15-cv-07920-PGS-TJB Document 42 Filed 07/31/18 Page 2 of 11 PageID: 151\\nbehalf of Plaintiffs, an opportunity to become acclimated with the case. (See Letter Order of 1/4/2016; Docket Entry No. 14).\\nMiddlesex County responded to Plaintiffs’ Complaint on December 17, 2015, denying that any constitutional violations had occurred. (See generally, Def. Answer; Docket Entry No. 11). After Defendant answered, the Court scheduled the Initial Conference in this matter. (Initial Scheduling Order of 1/5/2016; Docket Entry No. 15). During the Initial Conference, the Court set a schedule for certain discovery necessary to facilitate the parties’ settlement discussions. (See Scheduling Order of 3/1/2016; Docket Entry No. 21). Said discovery ensued and the parties’ settlement discussions progressed. (See Text Orders of 8/22/2016 & 10/6/2016; Docket Entry Nos. 25 & 26).\\nIn light of the development of the parties’ discussions, the Court scheduled an in-person status conference for January 30, 2017 for the purpose of discussing settlement. (Text Order of 12/6/2016; Docket Entry No. 27).1 During the conference, it became apparent that the parties’ negotiations had progressed significantly, with substantial headway having been made. As a result, the Court arranged to follow up with the parties via telephone on May 24, 2017.\\nOn May 24, 2017, the Court stayed discovery in order to further facilitate the parties’ settlement discussions. The Court also set a schedule for the parties’ exchanges of settlement proposals. (See Letter Order of 5/25/2017; Docket Entry No. 29). The parties continued to exchange settlement proposals and it appeared that a settlement had been reached with 8 of 9 of the named Plaintiffs having signed the settlement agreement by June 19, 2018. The only Plaintiff who had not signed the settlement agreement was Ratliff, though during a conference held on June 19, 2018, counsel indicated that Ratliff was not unhappy with the agreement, but nevertheless did\\n1 The conference was later moved to February 16, 2017. (Letter Order of 1/19/2017; Docket Entry No. 28).\\n2\\n\\n\\x0cCase 3:15-cv-07920-PGS-TJB Document 42 Filed 07/31/18 Page 3 of 11 PageID: 152\\nnot want to sign same. Given Ratliff’s refusal to sign the settlement agreement, the Court scheduled a telephonic settlement conference exclusively for Ratliff and his attorney for July 10, 2018. (Text Minute Entry of 6/19/2018). As the Court explained:\\nSo I scheduled a telephone conference for July 10th to, again, discuss the settlement with Mr. Duddy and Mr. Ratliff separate from the defendants. It was my intention to explore with him what Mr. Ratliff’s position was, if he had any concerns, if he wasn’t interested in the settlement, all of the concerns that a Court would address when we’re conducting an in-person settlement conference. . . . I thought I could at least tease-out and explore, again, with Mr. Ratliff informally what his concerns were, and perhaps address with Mr. Duddy any of the issues that he had, and maybe eliminate them, and move this along for a settlement. (Tr. of Proceedings of 7/26/2017 at 4:7-22; Docket Entry No.41). However, despite being aware of the scheduled telephonic settlement conference, Ratliff did not participate in same. As a result, on July 12, 2018, the Court entered a Letter Order to Show Cause in which Ratliff was ordered to appear in person before the undersigned on July 26, 2018 at 10:30 a.m. to show cause for his failure to participate in the scheduled July 10, 2018 conference. (Letter Order to Show Cause of 7/12/2018 at 1; Docket Entry No. 39). Ratliff was also directed to submit a written explanation regarding his failure to participate in the July 10, 2018 conference by July 24, 2018. (Id .at 2). Further, Ratliff was specifically warned that if he failed to comply with the Court’s Order to Show Cause, his claims could be dismissed from this matter: Should Plaintiff Ratliff fail to submit the written explanation or fail to appear in person on July 26, 2018 as ordered, both monetary and nonmonetary sanctions may be imposed, including the dismissal of his claims. (Id.) Despite the foregoing, Ratliff neither submitted a written explanation nor appeared in person at the show cause hearing.\\n3\\n\\n\\x0cCase 3:15-cv-07920-PGS-TJB Document 42 Filed 07/31/18 Page 4 of 11 PageID: 153\\nDuring the show cause hearing, the Court confirmed through his counsel that Ratliff was\\naware of the Court’s Order to Show Cause, the requirement that he submit a written explanation,\\nthe requirement that he appear in person, and the potential dispositive consequences failing to\\ncomply with the Court’s Order could have for him:\\nTHE COURT: I will now turn to, Mr. Duddy, and as I discussed off-the-record with you, I am not interested in encroaching upon your attorney-client communications. What you have a responsibility to do, however, is to report to the Court, did you, in fact, provide this letter order to Mr. Ratliff, as I had instructed? What’s your understanding of whether or not he received this letter; was aware of today’s appearance order to show cause hearing; whether he was aware of the July 24th submission date; and more importantly, if you have any indication of whether or not he intended to participate; and if he has any interest in proceeding with this litigation?\\nThat last aspect, I will note that there have been times where parties have somewhat compelled the Court to move forward while they are not interested in pursuing the litigation, they can’t be bothered, mind you, of even withdrawing the complaint or officially indicating that they no longer want to participate, and then we have to go through these steps.\\nSo, if I could -- that was very longwinded, but, Mr. Duddy, if you outline the steps that you have taken to communicate this letter with Mr. Ratliff, its import, and if you have any indication of whether or not he intended to continue with this litigation. You can remain seated, too.\\nMR. DUDDY: Thank you, Your Honor.\\nOn Monday -- on the morning of Monday, July 16th, I texted Mr. Ratliff a picture of the Court’s order to show cause. And that’s been the way that I’ve been communicating with Mr. Ratliff for some time now, probably going on six months via text message, that is.\\nSo I took a picture of the order to show cause, I text it to him.\\nAlso in the body of my text message, I kind of pointed out or highlighted the substance of the order, which was that he was to provide either me or the Court with a written explanation by July\\n4\\n\\n\\x0cCase 3:15-cv-07920-PGS-TJB Document 42 Filed 07/31/18 Page 5 of 11 PageID: 154\\n24th as to why he did not participate in the telephone conference on July 10th. And also, that he is to report in person to the Court with me today, July 26th. So, again, that was in the body of my text, in addition to sending him a picture of the order to show cause.\\nThe text message went through to Mr. Ratliff from my end. I then followed up my text message with a phone call to him later that day. He took my phone call, and I then reiterated, again, the body of my text to him verbally and the substance of the Court order, very slowly and clearly, so as to make sure that he understood. And I finished the phone call by asking that he text me back to confirm receipt of my earlier text messages. And he simply just responded “okay” or “fine,” something to that effect.\\nHe did not text me back later that day, or the next day, despite my repeated text messages to him in those days asking for him to confirm receipt.\\nI then mailed -- I overnight via overnight mail a hard copy version of the order to show cause to his last known address in New York, New York. It’s my understanding that that package is being returned, as of yesterday, because the occupant of his last known address is something other than him, and that person would not accept receipt of the package.\\nSo a couple days after that, after my initial text message to him on July 16th -- and I apologize if I’m jumping around -- but I would say July 18th and 19th, I called him two separate times to remind him of the text messages, and to remind him or ask him to confirm receipt of those text messages.\\nEach time I placed that call to him, he took my call. But midway through my explanation to him as to what I was asking him to do, he hung up on me both times.\\nAnd so those were my efforts to ensure that he received the Court’s order to show cause on July 12th.\\nI’m very confident that he did receive the order to show cause via text message. As I said, that has been our custom, that’s been our way of corresponding with one another, and the message did go through on my side.\\nAnd then, of course, in my conversation with him on July 16th, I repeated the substance and import of the order to show cause.\\n5\\n\\n\\x0cCase 3:15-cv-07920-PGS-TJB Document 42 Filed 07/31/18 Page 6 of 11 PageID: 155\\nSo I am confident that he did receive it, that he did understand the main aspects of it. And he’s not here today, and so I’m also confident that he’s not going to be showing up today before the Court.\\nAnd similarly, it’s my belief that he no longer wants to take part in this litigation, or prosecute this lawsuit of which he is a part.\\nHe did, I will add, finally, for the record, that about a week later -- a week after July 16th, thereabouts, and this would only be a couple days ago, he sent me a text message, seemingly out of the blue, more or less expressing his displeasure with the Middlesex County Jail. The text message neither answered the Court’s order to show cause, nor did it confirm receipt of my delivery of the order to show cause. It was something of an irrelevant non sequitur about some issue entirely different.\\nSo, again, given all those circumstances, I do not believe that he wishes to prosecute this lawsuit.\\nTHE COURT: One question. When you mentioned that you believe he understood the import of the order to show cause, did that include -- is it your impression that Mr. Ratliff realized that he could be dismissed as a complainant in this matter if he did not come forward today?\\nMR. DUDDY: It did include that, Your Honor, and I apologize for leaving that out of my summation here. When I spoke to him -- well, when I texted him the picture of the order to show cause, included in the body of my text was the information that if he did not comply with the order, he could be subject to sanctions/punishment, including his dismissal from the lawsuit, so that was in the body of my text. And I also repeated that to him in my phone conversation on the 16th. I repeated that to him slowly and clearly so as to make sure that he understood that.\\nSo to answer Your Honor’s question, yes, I do believe that he understands that as a consequence of not following through with the order to show cause, he could be dismissed from the lawsuit.\\n(Tr. of Proceedings of 7/26/2017 at 6:1 – 10:13). After confirming the foregoing, the Court\\nindicated its intention to enter a Report and Recommendation, recommending that Ratliff’s claims\\n6\\n\\n\\x0cCase 3:15-cv-07920-PGS-TJB Document 42 Filed 07/31/18 Page 7 of 11 PageID: 156\\nbe dismissed for “failure to comply with this Court’s orders and, equally as important, to prosecute his case.” (Id. at 11:10-11).\\nAnalysis The Federal Rules of Civil Procedure authorize courts to impose sanctions for failure to provide discovery, obey court orders and/or prosecute a case. See FED.R.CIV.P. 37(b)(2), 41(b). Where such failures have occurred, dismissal may be an appropriate penalty. Id. Generally, in determining whether to impose an involuntary order of dismissal with prejudice, the Court considers the factors set forth in Poulis v. State Farm Casualty Co., 747 F.2d , 863, 868 (3d Cir. 1984). These factors include:\\n(1) The extent of the party’s personal responsibility; (2) the prejudice to the adversary caused by the plaintiff’s conduct; (3) the history of dilatoriness; (4) whether the conduct of the party or the attorney was willful or in bad faith; (5) the effectiveness of sanctions other than dismissal, which entails an analysis of alternative sanctions; and (6) the meritoriousness of the claim. Id. No single Poulis factor is determinative and dismissal may be appropriate even if some of the factors are not met. See Mindek v. Rigatti, 964 F.2d 1369, 1373 (3d Cir. 1992); Hicks v. Feeney, 850 F.2d 152, 156 (3d Cir. 1988). If a court finds dismissal appropriate under Poulis, it may dismiss an action sua sponte, pursuant to its inherent powers and Federal Rule of Civil Procedure 41(b). See Iseley v. Bitner, 216 Fed App’x 252, 254-55 (3d Cir. 2007) (citing Link v. Wabash R.R. Co., 370 U.S. 626, 630-31, 82 S.Ct. 1386, 8 L.Ed.2d 734 (1962)). The Court considers the Poulis factors in determining whether to recommend the dismissal of Ratliff’s claims with prejudice. For the reasons that follow, the Court finds that under the circumstances presented here, the Poulis factors support the dismissal of Ratliff’s claims with prejudice:\\n7\\n\\n\\x0cCase 3:15-cv-07920-PGS-TJB Document 42 Filed 07/31/18 Page 8 of 11 PageID: 157\\n1. Plaintiff’s Personal Responsibility: Ratliff is personally responsible for his failure to participate in the July 10, 2018 telephonic settlement conference, scheduled exclusively for his and his attorney’s participation. He is also personally responsible for failing to appear on July 26, 2018 as ordered by the Court. As outlined in the Court’s Letter Order to Show Cause of July 12, 2018 and on the record during the show cause hearing held on July 26, 2018, Ratliff was clearly aware of both conferences, the requirement that he participate in same and the consequences that could befall him if he failed to participate. Despite this knowledge, Ratliff elected to ignore the Court’s Orders and not participate. This decision was solely his own and he bears full responsibility for same. As such, the Court finds this factor to favor dismissal of Ratliff’s claims with prejudice.\\n2. Prejudice to Defendant: Middlesex County has been prejudiced by Ratliff’s failure to prosecute this matter. As described above, the parties have been negotiating the settlement of this matter for many months. Just when it appeared that a full resolution had been reached, Ratliff decided to no longer participate in this case. While Ratliff certainly could not be compelled to agree to settle his claims, he was obliged to continue to participate in this matter. By failing to participate in the telephonic settlement conference or appear at the scheduled show cause hearing, Ratliff abandoned his duty to prosecute his claims. Ratliff’s failure to participate in his own case leaves Middlesex County defending a matter against an absentee plaintiff who has made it clear that he is no longer interested in pursuing his own claims. This is unacceptable and prejudicial to Middlesex County. The Court finds that this prejudice, which was caused by Ratliff’s failure to do that which was required of him, supports the dismissal of Ratliff’s\\n8\\n\\n\\x0cCase 3:15-cv-07920-PGS-TJB Document 42 Filed 07/31/18 Page 9 of 11 PageID: 158\\nclaims with prejudice. See, e.g., Scarborough v. Eubanks, 747 F.2d 871, 876 (3d Cir. 1984). 3. History of Dilatoriness: Ratliff’s failure to participate in the telephonic settlement conference scheduled exclusively for his benefit as well as his subsequent failure to appear, as ordered, at the July 26, 2018 show cause hearing establishes a recent history of dilatoriness on Ratliff’s part. The Court finds that this factor supports the dismissal of Ratliff’s claims with prejudice. 4. Willfulness or Bad Faith: While the circumstances surrounding Ratliff’s failure to participate as ordered by the Court could support a finding of bad faith, even if they did not, they certainly establish that Ratliff’s conduct has been willful. As a result, this factor further supports the dismissal of Ratliff’s claims with prejudice. 5. Effectiveness of Alternative Sanction: As already explained in detail, Ratliff was directed to participate in a telephonic settlement conference. When he refused to do so, the Court entered a Letter Order to Show Cause, requiring him to both appear in person to show cause for his failure to participate in the settlement conference and to submit a written explanation regarding this failure. Ratliff was explicitly warned that failing to comply with the Letter Order to Show Cause could result in the dismissal of his claims. Despite being on notice that his claims could be dismissed if he did not comply with the Letter Order to Show Cause, Ratliff failed to appear at the show cause hearing and failed to submit the required written explanation. Under these circumstances, the Court finds that no lesser sanction than dismissal of his claims with prejudice would be effective. See Joyce v. Continental Airlines, Inc., 09-2460 (WJM), 2011 WL 2610098, *2 (D.N.J. June 15, 2011).\\n9\\n\\n\\x0cCase 3:15-cv-07920-PGS-TJB Document 42 Filed 07/31/18 Page 10 of 11 PageID: 159\\n6. Meritoriousness of the Claims: In light of the proceedings to date, the Court finds it likely that there is some merit to Ratliff’s claims. As such, this particular factor militates against dismissing Ratliff’ claims with prejudice.\\nWhen the Court considers all of the Poulis factors set forth above, the Court finds that on balance they clearly support the dismissal of Ratliff’s claims with prejudice. Ratliff voluntarily filed this case. After doing so, he has failed to take the steps necessary to move this case forward. In fact, despite being given every opportunity to litigate his claims, Ratliff has elected to no longer participate in the case he initiated. As a result, this Court respectfully recommends that Ratliff’s claims be dismissed with prejudice.\\nConclusion The Court having given consideration to the Poulis factors; IT IS on this 31st day of July, 2018, RECOMMENDED that Ratliff’s claims be DISMISSED WITH PREJUDICE; and it is ORDERED that the Clerk of the Court activate this Report and Recommendation; and it is further ORDERED that defense counsel send a copy of this Report & Recommendation to Ratliff via both text message to Ratliff’s known cell phone number and via regular mail to Ratliff’s last known mailing address immediately upon counsel’s receipt of same; and it is further ORDERED that pursuant to FED.R.CIV.P. 72(b)(2) any party, including Ratliff, who has an objection to the proposed findings and recommendations set forth herein has 14 days after being served with a copy of this Report and Recommendation to file his specific written objections. For purposes of calculating the 14 days, Ratliff will be deemed served from the day defense counsel’s\\n10\\n\\n\\x0cCase 3:15-cv-07920-PGS-TJB Document 42 Filed 07/31/18 Page 11 of 11 PageID: 160 text message to Ratliff’s cell phone is delivered. Defense counsel is directed to inform the Court in writing once this text message has been sent. s/Tonianne J. Bongiovanni HONORABLE TONIANNE J. BONGIOVANNI UNITED STATES MAGISTRATE JUDGE\\n11\\n\\n\\x0c SETTLEMENT AGREEMENT and RELEASE\\n~is Senlemf?nt Agreement and Release hereinafter \"Agreement\") is made this\\nd.$ day of ~fe.-.rbe{ 2018 by and between the Plaintiffs in this Lawsuit Azariah\\nLazar, Luis Borrero 1 ector Amengual, Sean Pershmg Jonathan Rodriguez, Terrence Edwards Damani Harris and Patrick O\\'Dwyer, their heirs, representatives, successors and assigns (hereinafter collectively referred to as \"Plaintiffs\" or \"Releasors\") and the Defendant in this Lawsuit, County of Middlesex, its present and former affiliates, elected and appointed officials, directors, officers, agents, attorneys, employees, former employees, volunteer employees, representatives, insurers and reinsurers and all their successors and assigns (hereinafter collectively referred to as \"Defendant\" or \"Releasee\").\\nWhereas Plaintiffs assert claims against Defendant as more fully set forth in a lawsuit entitled C-Pod Inmates of Middlesex County Adult Correction Center, Azariah Lazar, Luis Borrero. Hector Amengual Sean Pershing, Tyson Ratliff: Jonatban Rodriguez. Terrence Edwards, Damani Harris. and Patrick 0 Dwyer v. Middlesex County, in the United States District Court, District of New Jersey under Docket No. 3:15-cv-7920 (PGS)(TJB) (herein referred to as the \"Lawsuit\" or \"Complaint\"); and\\nWhereas PlaintiffTyson Ratliffs claims have been dismissed with prejudice by the Court (see Docket Entry No. 45); and\\nWhereas Defendant denies any liability with respect to all matters asserted by Plaintiffs; and\\nWhereas the Plaintiffs and Defendant now wish fully and finally to compromise and settle the Lawsuit to avoid further burden, expense, hardship, inconvenience and distraction of further litigation and/or appeal between them; and\\nWhereas the Plaintiffs and Defendant hereto have reached a settlement agreement to fully and finally resolve all claims Plaintiffs raised in the Lawsuit, including all claims for declaratory and injunctive relief, as well as attorney fees and costs, up to and including the date of the final execution ofthis Agreement and Release; and\\nNow, in consideration of the good and valuable terms provided for by this Agreement, and the promises and covenants contained herein, the receipt and sufficiency of which the parties acknowledge, the parties do hereby agree as follows:\\nDefinitions:\\na. The term \"C-Pod Unit\" refers to the location where Defendant houses its administrative segregation and disciplinary detention units. The term has been used as shorthand by the parties to refer to the administrative segregation and disciplinary detention units. The terms ofthis Settlement Agreement relate to all\\n1 ofl5\\n\\n\\x0cadministrative segregation and disciplinary detention units, regardless of where they are located within Middlesex County Adult Correction Center (\"MCACC\"). b. The effective date of this settlement Agreement is the last date of a signatory of\\nthis Agreement.\\n\\nPrecautionary Supervision Unit. For the duration of this Settlement Agreement and Release, the Defendant shall continue to operate the Precautionary Supervision Unit (\"PSU\") in a\\nmanner that provides inmates with at least:\\n\\na.\\n\\n28 hours per week out of lock time, security permitting. Out of lock time will not\\n\\nbe adjusted due to facility lockdown; the schedule will be followed. b. Inmates will be handcuffed and escorted at all times while outside the housing\\n\\nunit (with the exception of recreation). c. Recreation time, according to a schedule set by the Operations Captain, Warden,\\nor other MCACC personnel. During recreation movement from PSU to either the\\noutside yard or the gymnasium, the following standards shall apply for movement\\n\\nboth to and from:\\n\\n(I) All movement in the back hallway will be stopped between Lower C and\\n\\nthe recreation area being utilized;\\n\\n(2) Radio transmissions will held for the duration of the move;\\n\\n(3) No handcuffing will be necessary. d. Inmates will be grouped together by the classification committee and that will\\n\\ndictate who comes out together during this initial period.\\n\\ne.\\n\\nUnder normal daily operations, inmates will not be handcuffed during window\\n\\nand wall inspections, but inmates will still need to be removed prior to an officer\\n\\nentering a cell.\\n\\nf.\\n\\nHatches will remain closed at all times except during meals.\\n\\nDefendant will provide Plaintiffs\\' Counsel with copies of any revised PSU directives that have been instituted. Plaintiffs\\' Counsel thereafter will have 14 days to object or otherwise comment on the revised directive that has been instituted.\\n\\nAccess to Programmin g. Defendant shall permit in unit programming on an ad hoc basis. Law library services will continue to be provided out of unit, at the library, twice per month .\\n\\nDisciplinary Detenti on. As required by NJAC 10A:31-17.2, Defendant will house inmates in disciplinary detention only for a period not to exceed 15 days as a result of a single disciplinary charge, and a period not to exceed 30 days as a result of multiple disciplinary charges.\\n\\nMental HeaJth Screening. Defendant has implemented a Mental Health Screening policy that gives the Director of Mental Health or his designee the authority to remove or prevent an inmate from being sent to disciplinary detention or administrative segregation if, in the discretion of the Director of Mental Health, such a placement is inappropriate. Inmates for whom such\\n\\n2 of15\\n\\n\\x0cplacement is inappropriate will remain on psych watch in medical or such location as designated by the Mental Health Professional.\\n\\nAttorney Access. Plaintiffs \\' counsel, and paralegals and law students working directly with them, shall have reasonable access to jail records and the jail facility, only as described\\nherein.\\n\\na. Twice per year, an \"attorney visit\" will be permitted which means an escorted walk-through of the MCACC that includes full access to: the administrative segregation and disciplinary detention units, PSU, areas used for programming and recreation, areas used for medical and mental health treatment (including suicide watch). The attorney visit will also include access to a conference room for at least three hours for Plaintiffs\\' counsel. Plaintiffs may bring experts at their\\nown expense on the attorney visits. b. Upon 14 days\\' notice, the MCACC will advise dates of availability for the\\nattorney visit.\\n\\nDocument Review. Two times per year, Defendant shall make the following information available upon request by Plaintiffs. Plaintiffs\\' requests for the following will be limited to a\\nperiod not to exceed six (6) months:\\n\\na.\\n\\nAll policies in effect at MCACC regarding Administrative Segregation, Protective\\n\\nCustody, Disciplinary Detention and PS U and any attendant polices related to\\n\\nsuch classification.\\n\\nb.\\n\\nWith a properly executed Authorization by the subject inmate, Use of Force\\n\\nReports.\\n\\nc.\\n\\nDisciplinary Detention and Administrative Segregation counts by day.\\n\\nd. With a properly executed HIPAA Authorization by the subject inmate, medical\\n\\nand/or mental health records.\\n\\ne.\\n\\nWith a properly executed HIPAA Authorization by the subject inmate, any report\\n\\nassociated with the in-house medical quality review conducted at MCACC related\\n\\nto Disciplinary Detention and/or Administrative Segregation.\\n\\nf.\\n\\nMCACC\\'s contracts with all medical providers.\\n\\ng.\\n\\nConcurrent with the anticipated deployment of a new jail management software\\n\\nsystem, a look-up will be available by individual as to incarceration status. h. With a properly executed HIPAA and/or other necessary Authorization by the\\n\\nsubject inmate, all inmate grievances/grievance decisions related to C-Pod.\\n\\nReview of these documents will be conducted according and subject to the Confidentiality and Protective Order that has been entered into by the parties (see Docket Entry No. 23), attached hereto as Ex hibit A . The parties understand and agree that said Order will remain in effect for the duration ofthe two-year term of agreement and any extension thereto.\\n\\nAt the conclusion of the two-year term of agreement, Plaintiffs shall give written notice\\n\\n3 ofl5\\n\\n\\x0cto counsel for Defendant certifying that all Confidential Material and information has been destroyed, as set forth in Paragraph 12 ofthe Confidentiality and Protective Order.\\nNotice. The relevant terms of this agreement will be incorporated into the inmate handbook which is disseminated to all inmates upon admission.\\nPrivate ettlement Agreement. This Agreement is a private settlement agreement within the meaning of 18 U.S.C. § 3626, the Prison Litigation Reform Act, and shall not be deemed to grant \"prospective relief\\' within the meaning of said Act. Nor shall this Agreement be deemed to constitute a consent decree or an adjudication on the merits.\\nSti pulation of Di mi ssal. The parties shall simultaneously herewith execute and deliver a Consent Stipulation of Dismissal of the Lawsuit with prejudice in the form attached hereto as E ·hibjt B, with respect to this action. The parties agree that after the Court orders said Stipulation of Dismissal, the Court shall have only the jurisdiction and authority specified in the following paragraph on Enforcement.\\nEnforcement. Any alleged non-compliance by Defendant that is claimed by Plaintiffs will be brought in writing by Plaintiffs\\' Counsel to Defendant\\'s Counsel. In the event of any reported alleged non-compliance by Defendant with a material provision of this Agreement, counsel to the parties shall meet and confer in an effort to resolve the reported alleged noncompliance within 30 days of receipt of written notice of the reported alleged non-compliance. In the event of claimed non-compliance with a material provision of this Agreement and a failure to achieve a resolution of the issue within 60 days of the meet and confer, either side may seek mediation by the Court. If such mediation fails to achieve a resolution, Plaintiffs may move before the Court for reinstatement of the lawsuit or ask the Court to recommend a one-time oneyear extension of the duration of this Agreement. Should the Court recommend that this Agreement be extended for one additional year, the parties agree to be bound by that recommendation. In the event of alleged non-compliance, Plaintiffs may also elect to proceed in state court and seek specific performance of the terms ofthis Agreement. Defendant reserves the right to all defenses to such proceeding in state court.\\nAttorn ey Pees and Costs. Defendant agrees to pay the total sum of $11,123.00 (Eleven Thousand One Hundred and Twenty-Three dollars) as attorney fees and costs in full and final settlement thereof. It is specifically understood and agreed that the amount paid under this Settlement Agreement and Release specifically includes all attorneys\\' fees and costs to which Plaintiffs and/or their attorneys may be entitled to arising out of this matter and the sum is specifically intended to be inclusive of all attorneys\\' fees and costs. Plaintiffs understand that by executing this Settlement Agreement and Release, they release and waive any additional claim and/or right to attorneys\\' fees and expenses in connection with the Complaint. Neither Plaintiffs, nor their attorneys, nor anyone acting on their behalf, shall make an application for additional monies in addition to the amount set forth in this paragraph.\\n4 ofl5\\n\\n\\x0cTerm of Agreement. This agreement shall be in effect for two years from the date the agreement is executed by the parties and shall be enforceable during that period according to the above terms, notwithstanding the Stipulation of Dismissal executed herewith.\\nRelease. Plaintiffs hereby release and forever discharge Defendant, its present and former affiliates, elected and appointed officials, directors, agents, attorneys, employees, former employees, volunteer employees, representatives, insurers and reinsurers, third-party administrators and all of their successors and assigns, from any and all actions for the legal claims at issue in the Lawsuit, up to the date of the signing of this Agreement. Plaintiffs acknowledge that this is a Release of all claims in the Lawsuit and all claims set forth in the Complaint, including claims for attorney\\'s fees, expenses and costs. Plaintiffs further release any and all rights they may have to seek discovery on the claims in the Lawsuit. Plaintiffs hereby release and forever discharge Defendant from any and all claims for attorney\\'s fees which they may have against Defendant, its heirs, executors, administrators, successors and/or assigns, arising out of this Lawsuit.\\nPlaintiffs further covenant and promise that they will not hereafter file or cause to be filed on their behalf any charge, complaint or legal or administrative action of any nature before any court or administrative agency to assert any claim against any of the persons or entities released herein, for the claims in the Lawsuit, except as may be necessary to enforce this Agreement.\\nThis Agreement does not constitute and shall in no manner be construed as an admission of any wrongdoing or liability on the part of the County of Middlesex or as an admission by the County of Middlesex of th~ validity of any of the Plaintiffs\\' allegations as contained in their Complaint and/or as supplemented during the course of discovery. Defendant continues to maintain the validity of the denials and affirmative defenses set forth in its Answer to the Complaint.\\nPlaintiffs represent that they have not assigned to any third party any claim in the Lawsuit. Plaintiffs represent and warrant that no other person or entity has or has had any interest in the claims, demands, obligations or causes of action referred to in this Agreement and Release; and that Plaintiffs have not sold, assigned, transferred, and/or conveyed to any third party, and/or otherwise disposed of, any of the claims, demands, obligations, or causes of actions at issue in the Lawsuit. Plaintiffs further represent that they will not file or cause to be filed any charge, claim or complaint of any kind against the Defendant seeking recovery, sanctions, or injunctive relief, with respect to the claims in the Lawsuit.\\nPlaintiffs agree that they will not voluntarily assist in any claim or litigation which may be pending or filed in the future against Defendant concerning any claims in the Lawsuit. The parties hereto acknowledge that Plaintiffs may be compelled to testify in litigation by court order or process.\\nPlaintiffs\\' counsel have agreed that, at the time of the execution of this Release, there is no intention to initiate a new lawsuit related to, or to continue with the prosecution of, the claims\\n5 of15\\n\\n\\x0cin the Complaint against Defendant, their present and former affiliates, elected and appointed officials, directors, agents, attorneys, employees, former employees, volunteer employees, representatives, insurers and reinsurers, third-party administrators and all of their successors and assigns.\\nBy executing this Agreement, Plaintiffs represent and acknowledge that they do not rely, and have not relied upon, any representation or statement not set forth in this Agreement made by Defendant, or its counsel with regard to the subject matter, basis, or effect of this Agreement or otherwise. This Agreement sets forth the entire agreement between the parties and supersedes any and all prior agreements or understandings between the parties.\\nThis Settlement Agreement and Release shall be binding and inure to the benefit of the Plaintiffs, including successors, assigns, heirs, executors and personal and legal representatives, the County of Middlesex, as well as the successors and assigns of the County of Middlesex, its Departments, and its present and former elected and appointed officials, officers, directors, agents, administrators, attorneys, representatives and employees.\\nThis Agreement shall be construed in accordance with the laws of the State of New Jersey.\\nThe parties agree that the language of this Agreement has been negotiated, is a product of the draftsmanship of all of the parties and that the usual rule that the provisions of a document are to be construed against the drafter shall not apply to the interpretation of any provisions hereof.\\nThe signatures of the parties below indicate they have had an opportunity to review this Agreement with their attorneys, that they have read and understood the provisions and that they have executed it voluntarily with full knowledge of the significance of all its tenns and provisions.\\nCounsel of record, all of whose signatures appear below, represent and warrant that they have reviewed this Settlement Agreement and Release with their respective clients. The Plaintiffs have been advised by their counsel to execute the Agreement and Release.\\nThis Agreement may be executed in counterparts, each of which, when so executed and delivered, shall be deemed to be an original.\\nIN WITNESS WHEREOF, and intending to be legally bound, the parties have executed this Agreement.\\n6 ofl5\\n\\n\\x0cSTATEMENT BY PLAINTIFF, AZAIUAH LAZAR, WHO IS SIGNING BELOW: AKAHTAPHARTEHNHGENAGATHADITVIRORVSSSDOEEEWEOIDEREDTALNHMOMNIEOENNAACEEFEDDTLDUYELNNGENAMFTTNTEPSUDTAEDIUITLUAEXNNAFHLRON,TTNFYATRAOIDFCACTIUHNNITHKBENIAOHOAANENADLANSOI\\'MEElLLVC\\'WURXEAEEITWSNNIEAGDNITCDGALMAVAGDUEIEILEN,VAOSRTLEDTNINASIYANNDHTDNENTGGAEPBDHMLNOSSTAEEDVEOUUOHNGOPNFPIMYAIRLSFDPNAYLOUIAOCAFVNBNRWRATIGIETDYTEISDRRGNAURIVIAEOIHCRTNTIELNYYISTISMNCLTOSS, OYGMETRRSUONNECSIANFTGTRSTONOPDOUHM.TPNRELTHESEIICRTCS.EOROOAOHTORANRTNAIHWRGISSVTITOEIURSUCOETEXNLELLAHRETECATEMGCMWAXITRWUMSWREHEIETSTCIEONEIETETFHUITFMHUHFTMTTAUELIHMMNAHNNALLIYYGDYNYELST ATTORNEY(S).\\n. A Dated:~,2018( By; \\'IJ·%;1;~i~/J1tL\\nSTATE OF NEW .mRSEY:\\nCOUNTY OF /~iJ.lf<.SC!Y\\nI CERTIFY that on~·----\\' 2018, AZARIAH LAZAR,\\npersonally came before me and acknowledged under oath, to my satisfaction, that he: (a) is named in and personally signed this document; and (b) signed, sealed, and delivered this document as their act and deed.\\nI\\n7 of 16\\n\\n\\x0cSTATEMENT BY PLAINTIFF, LUJS BORRERO, WHO IS SIGNING BELOW: RTTHAAPKAHAEHHENATGNAGRATIDIVVORRSSSODEEEEW.OIDREEDALTNHNOMMIENEONAAECFEEDDTLDYEULNNEGNFMATTTNPESUDTAERDULAITEXNNIAFLHNOR,TTFNYATRAOIFDCACTIUHNNTHIKBNEIAODAAHNENDALNSAOIETEMLLCVWRXUAEEITESWNEAINGDTINCDLMGVAAAGDUEIIELNESA,VORTLEDNTIAISNAYDNNDTHNENTGGAEDBHDMLNOSETSAEDVEOUOUHGNPONPFIMAIYRSLPNFDAOLYUOIAACFVNWBNRRAGTIIYTDETIDSRERGANUIRVIEAOIHRTCNTEILNISYTYISMNLCTOSS,GYEOMRTRSOUNNESCAIFNTTGTRSONOJOD.UTHM>PNEHRLTESIECRCITSE.OROOHOATROANR·ANTyHWRGSIVSTITEOUIRUSCEOTEXNLELLAHRECTETEAMGCMAXWTIWRUMWSREHEIETECISTNIOEETETFUHTIFMHUHFTTMATULEIIMMNANAHLLNDDYYYJNGYETSJ ATTORNEY(S).\\n\\nDated: {rr ;_~ - -\\n\\n• 2018\\n\\nBy:--\\'L-U-I-S -BO-R-R-E--R-O--------------------\\n\\nPt.\\'-\"Y\\\\~iv\\\\\\\\ v(\\'...,,·•I,\\nSTAT.It OF NEW:JEfi&Fr¥t\\nCOUNTY .OF b) ~~ ({\\' L\\nI CERTIFY that on _.:::...J\\'---\\'.-,v_l\\',_l,=·<-\"----~!~5..·.-__ _ _ _, 2018, LUIS .BORRERO,\\npersonally came before me and acknowledged under oath, to my satisfaction, that he:\\n(a) is named in and personally signed this document; and (b) signed, sealed, and delivered this document as their act and deed.\\n\\n8 of 16\\n\\n\\x0cSTATI~MENT BY PLAINTIFF, HECTOR AMI~NGUAL, WHO IS SIGNING BELOW:\\nAHAKATPHRATEHNGAHENGATRADITVRIORVSSSODEEEWEOIDEREDTLANHMOMNIEOENNAACEFEEDDTLDY.UELNNGENAFMTTTNEPSUDTAEDRUTILAEXNANIFHLRONT,NTFYAATROJDFCACTIUHNNTHKIDINEADHOAANEANDLASNOIMTEELLVCWRUXEEAEITWSNIAENGDNITCDLAMCAVAGDUEEILIEN,AVOSRTLTEDNIANSIAYNNDHDTNENTGGAEDBDHMLNOSSTAEEDVEOUUOHNGOPNFPMIYAIRLSFPNDAYLOUIAOCAFVNBNRWIATIGUIEYTDTEDSRRNGAURIVAIEIOCRHTNTIELNYYSITISMNLCTOSS, OYGMETRRSOUNNECSIANFTGTRSTONOPDOUHM.TPNRELTHESECIRITSC.EOROOAHOTORARNTANIHWRGISTVSITOEIUSRCUOETEXNLELLRHAETECAETMGCMWAXITRWUMSWRHEEIETTSICEONEIETEHTFUFITMHHUFTTMTAUELIHMMAHNNANLLIYYDGEYNYLST\\nA1TORNEY(S).\\n\\nA Dated:\\n\\n~\\n\\nC)\\n112.\\n\\n(Q\\n\\n, 2018\\n\\nSTATE OF NEW .JERSEY :\\nCOUNTY 01•\\' tv\\\\·,~~l( \\\\,\\\\~.,e.\\nI CERTIFY that on ~A>-·~v:...:..(\\'_,\\\\_.-\\'bJt,LJ\\\\t-----• 2018, HECTOR AMENGUAL,\\npersonally came before me and acknowledged under oath, to my satisfaction, that he: (a) is named in and personally signed this document; and\\n(b) signed, sealed, and delivered this document as theh· act and deed.\\n\\n9 of 16\\n\\n\\x0cSTATEMENT BY I}LAINTIFF, SEAN PERSING, WHO IS SIGNING DELOW:\\nHKTARAHPAATEHNHANGEAGTRDITAIROVVRSSSODEEWEEO1EDREDALTNIHMNOI\\\\EENNO1AAECFEEDDTLDYUELNNEGNFAMTTNTEPSUDTADEIULTIAUEXNNAFLHRNO,TTNFYATOARIFDCACTIUHNNTHIKBENIADOAHANENDALANSO1MTEELLVCWRUXEEAIETWSNAEGINDNITCDLAMAGVAGDUEJIEIENVJS,AORTLEDTNISNAIYNADNTHDNETNGGAEDBHDMLNOSTSEAEDVEOUUOHGNIOPNPIM~YIARSL\\'NPDAYLFOUOAIAFVNNBWCRRATGiIYTDTEISDlRRGAUlRIVIAEONIHRTNTCEILNYITSYSIMNLCT,OSSOGYMETRRSOUNNESCIAFNTGTRSTONOPODUHM.TPNIELHTUESEICRTCSE.OROOAHO\\'ROfANTRANlIWRUGJSVSTTOEIUSRUOCETEXNELLLHRAECETATEMGCMAWXITURWMSWREHEIETSETCINOEIETETFHUTlIMHiUHF\\'TTMATUELIHMMNANHNLALIDYYGYYNETLS ATTORNEY(S).\\n\\nDated: _!_i/.13._ _ ,20,18\\n\\nSTAJ\\'E OF NEW JERSEY :\\n\\nMrddleseY c\\n\\nou\\n\\nN\\n\\nTY oF , I CERTIFY\\n\\nthat\\n\\non\\n\\n:.\\n_~;:::.O,_,h=Vl_.___:_P.~)Jf=c,\"-\",;v_.1.1:!.J:.:.\\'~\\':.f:.~;1-\\'\\\\l~L \\\\- ~ -\\n\\n·\\n\\n2018,\\n\\nSEAN\\n\\nPERSING,\\n\\npersonally\\n\\ncame before me and acknowledged undet· oath, to my satisfaction, that he:\\n\\n(a) is named in and pel\\'sonally signed this document; and\\n\\n(b) signed, sealed, and delivered this document as their act and deed.\\n\\nI\\n10 of 16\\n\\n\\x0cSTATEMENT BY J>LAINTIFF,J ONATHAN RODlUGUEZ, WHO IS SIGNING DEL OW:\\nAHKAATPTRHAEHINGANGEAT-IRDAIRVTORVISSSODEEEWEOIDEREDLTANMMHONIEEONNAACEEEFDDTLDYUELNNGENAMFTTTNEPSUDTAEDRUITLEAXNANIFHLRNOT,TNFYAATORIDFCACTIUHNNKITHBINEADHOANAEANDLANSO1TMEELLVCWRUXEEAEITWSNANIEGDNITCDLGAMAVADGUEIELIENV,OASRTLTEDNINASIYANNDHTDNENTGGAEDBDHMLNOSSTEAEDVEOUUOHNGOPNFPMIYAIRLSFDPNAYLOUIAOCFANVNBRWRTAIGEYTIDTEIDSRRGANURIVAIEIORHCNTTIELNYYTSISIMCLNTOSS,OYGMTERRSUONENCSIANTGFTRSOTNODUPHOM.TINI,ELTHEUSERCITSC.EOROAOOHTORARNTNAIWHRIGSTVSTOIEIUSRCUOEETNXLELLRHAETCEAETMGCMWAXTIRMWUSWRHEEIETSTCIEONEIETEHTFUIFTMHUHFTMTTAUELIMHMANHNNLALIYYGDYEYLNTS . ATTORNEY(S). ·\\n\\nDated: r_/ · 1__,2Q18\\n\\nBy: ~~-~ .JONATHANR0DRIGUEZ\\n\\nSTATE OF NF.W ,JERSEY :\\nCOUNTYOF ~ u~ .<(\\nI CERTIFY that on ~_c;_.;_;\\\\i\\'--_c_:._)_ _ ___, 2018, JONATHAN\\nRODRIGUEZ, personally came before me and acknowl~dged under oath, to my satisfactioi1, that\\nhe:\\n(a) is named in arid personally signed this document; and (b) sigi1ed, sealed, and delivered this document as theiL· act nnd deed.\\n\\n12 of 16\\n\\n\\x0c~ 0 0\\n•• • ··•\\n\\n0 0\\n\\n:~ 0 0 .. , , ,\\n\\n0 0\\n\\n0\\n\\n••\\n\\n0\\n\\n0\\n\\n: a0;\\n\\nJ •o\\n\\n..\\n\\n.. .\\n\\nI. _: . ....... .\\n\\n. ··: \\\\ •~ I · • :: ~: .:: ; .:. . ..\\n\\n•• •••L . : · r.::: ·. ··.~:\\n: ~~\\n\\nI\\n\\nStATEMENT DY PLAINTIFF, TERRENCE EDWARDS, WHO IS SIGNING BELOW:\\n\\ntj ~.\\n\\nAHKATAPHTAREHNHAEGNGATRADTIVIORVRSSSDOEEEEWOIDREEDTNLAHMNMOIEOENNAAECFEEDDTLDYULENNGENAFMTTTNEPSUDTAERDUITLAJXNNAIFmHLNOT,TNFYATOARI~FCACTIUHNTNIHKDENIADOHAANENDALASNOITEMELLVCWRUXEAEEITWSNNEIGADINTCDGAMVAlAG.DlUEEIILNV~,SOARTLEDTINNASIYNADNHTDENNTGGAEDBDHMLNOSSTEAEDVEOUUOHGNOPNFPIMYARISLFDNP~LYOUAIOFCAVNNBWRRTAIGIETYDTIESDRRGNAUIRVAIEOIRHCTNTEILNYYSITSIMNLCTOSS, OYGMETRRSOUNNECSIAFNGTTRSTONOPUDOHM.TPNREITHE.S4EIICRCST.EOROOOAHTROARNTNAIHWRGSISVTIOTEUIRSUCOETEXNLELLRHAETECATEMCGMWAXITUMSWRWRHEEITETSNECIEOIETETHFUTlFHMHUFTTMTAULEIHMMNHANALLNIYYGDYYENLSJ\\n\\n!\\n:.\\ni\\nI\"\\nI\\nI\\nI.\\nI1:\\'\\n:.):\\n\\nATI\\'ORNEY(S).\\n\\n<r-•.sL \\\\) - - Dated:~ 2018 By: TERRENCEEbWARDS~\\n\\nt;r;:J;:{ STATE OF NF.W\\n\\nCOUNTY 01~.11_\\nI CERTIFY\\n\\n>\\nthat\\n\\n\\' Y{, tjj . j / A\\nrut --Jr~---\\'\\n\\n2018,\\n\\nTERRENCg\\n\\nEDWARDS,\\n\\npersonally came before me and acknowledged under oath, to my satisfaction, that he:\\n\\n(a) Is named in and persomlUy signed this document; and\\n\\n. (I>) signed, senled, and delivered this document as theh· net nnd deed, .\\n\\n• t ,.,\\n13 of 16\\n\\n\\x0cSTATEMENT BY PLAINTIJi\\'Jl, DAMANI HARRIS, WHO IS SIGNING BELOW: AAKAHTHPARTEHNGANGHEATRADIRVTORIVSSSDOEEEWEOIDEERDLTANMMHONIEOENNAACEEEFDDTLDYUELNNGENAFMTTTNEPSUDTAEDRUITLEANXANIFLHRNOT,TNFYAATORDIFCACTIUHNNTKHIBINEADHOAANEANDLANSOIMETELLVCWRUXEEAEITWSNANIEGDNITCDLGAMAVAGDUEIELIEN,AVOSRTLTEDNINASIYANNDHDTNENTGAGEDBHDMLNOSSTEAEDVEOUUOING-OPNlFPMYlAIRLSFDPNAYLOUIOACAFVNNBRWRATIGIYETDTEIDSRRGNAURIVAIEIOCRHNTTIELNYYTSIISMCLNTOSS, OYMGTERSROUNENCSIANFGTTRSTONPODUHOM.TPNRELTHESEICRITSC.EOROOAOHTORARNTNAIHWRGISSTVTOIEIURSUCOEETXNLELLRHAETECATEMGCM·WAXITUMRWSWRHEEIETSTICEONEIETEHTFUITFMHUFHTTMTAUELIHMMAHNNNALLIYYDGEYYLNST ATTORNEY(S).\\nSTATE OF NEW JERSEY :\\nCOUNTY OF Lv~l.:.,.r\\\\,:,\\\\J\\nI CERTIFY that on 1\\\\~r--\\'··_\\\\;,_----=\\\\.,==------\\' 2018, DAMANI HARRIS,\\npet\\'sonally came before me and acknowledged under oath, to my satisfaction, that he: (a) is named in and personally signed this document; and (b) signed, sealed, and delivered this document as theit· act aud deed.\\n14 of 16\\n\\n\\x0cSTATEMENT BY PLAINTIFF, PATRICJ( O\\'DWYEH, WHO IS SIGNING BELOW: 1THICPIDHARNNEHHHEAAOTTRAATIAVVCAESSODTLUEENORKLMIDDDANHNENAEOENANTAEOMFNNDLOYDGEWTEWNTEFBIPSSAAUDNAE1ROUNXALGIHLlFVD,LAON,EEFFIYlRTNIAGIIiSNCTNGUUAUTHEIADNENLOFRANANDLDFSNCVCYEITEECIYOORRXAABITNLSSEEADLOIUTMSTNCNVUAAUAN}DCUINN]NNLTS}YTDADETDADI,ANLDARBLSMTNLGTYEYCDlYMIRGOiOITlMITAElPRNGOiSA1ElLIHPl)WGITNSRAPNOTHEONIODSRATRTVERVWGHOMSTR1TIRISRSEMSUUUIOEWR.OCNNYTERMNILDIIIMSATNTAESSEHYTEGPXIROOMTRNETFOTTFTITSCOHHORO.TTUIRENIHHMTSICETCEEEFAOAYOOHUYTAAG(NNAESILGG-RSHSV)XLl.lURREUASEEELEEKVLCAETEMCTNEUGMMAEOTTWRWRENEIWOENIENNTIETLLTGFTTMHAEAHUTNDAAETLHMDNNGANELIDDYNYRETSI\\n\\nSTATE\\' OF N.l!:W JERSEY :\\n. COUNTY Oir V~ t,JQlua\\n\\nI 2018, PATRICK O\\'DWYER,\\n\\npersonally came before me and acknowledged under onth, to my satisfaction, that he: (a) is nnrned Jn and personally signed this document; and (b) signed, sealed, and delivered this document ns their act and deed.\\n\\n15 of 16 ·\\n\\n\\x0cNew Jersey Offioe of the Public Defendel\\' Attomeysfol\\' Plalnl(/fo\\nD-. ~\\nAmedcn11 Civil Libet1ics Union ofNew Jersey A.ttomeysfor Plaintiffs\\nBy:~LA~ cmme LoCicero, Esq. Amel\\'icnn Civil.Liberties Union of New Jersey Attomeys[or Plaintiffs\\nBy:~ t7BOfdett;~\\nDvomk and Associates; LLC . Attomeysfor • ndant\\n15 of 15\\n\\n\\x0c CLOSED,PLO,RULE16,SCHEDO\\nU.S. District Court District of New Jersey [LIVE] (Trenton) CIVIL DOCKET FOR CASE #: 3:15-cv-07920-PGS-TJB\\n\\nC-POD INMATES OF MIDDLESEX COUNTY ADULT CORRECTION CENTER et al v. MIDDLESEX COUNTY Assigned to: Judge Peter G. Sheridan Referred to: Magistrate Judge Tonianne J. Bongiovanni Cause: 42:1983 Prisoner Civil Rights\\n\\nDate Filed: 11/05/2015 Date Terminated: 10/24/2018 Jury Demand: Defendant Nature of Suit: 555 Prison Condition Jurisdiction: Federal Question\\n\\nPlaintiff\\nC-POD INMATES OF MIDDLESEX COUNTY ADULT CORRECTION CENTER\\non behalf of themselves and all others\\nsimilarly situated\\n\\nrepresented by ALEXANDER R. SHALOM AMERICAN CIVIL LIBERTIES UNION OF NEW JERSEY FOUNDATION 89 Market Street, 7th Floor P.O. BOX 32159 NEWARK, NJ 07102 973-854-1714 Email: ashalom@aclu-nj.org\\nLEAD ATTORNEY\\nATTORNEY TO BE NOTICED\\n\\nFLETCHER C. DUDDY NEW JERSEY OFFICE OF THE PUBLIC DEFENDER HUGHES JUSTICE COMPLEX 25 MARKET STREET P.O. BOX 850 TRENTON, NJ 08625 609-292-7087 Email: ﬂetcher.duddy@opd.state.nj.us\\nLEAD ATTORNEY\\nATTORNEY TO BE NOTICED\\n\\nJEANNE LOCICERO AMERICAN CIVIL LIBERTIES UNION OF NEW JERSEY FOUNDATION 89 Market Street, 7th Floor P.O. BOX 32159 NEWARK, NJ 07102 973-854-1715 Fax: 973-642-6523 Email: jlocicero@aclu-nj.org\\nLEAD ATTORNEY\\nATTORNEY TO BE NOTICED\\n\\nJENNIFER N SELLITTI RICHARD J. HUGHES JUSTICE COMPLEX 25 MARKET STREET, 2ND FLOOR,\\n\\n\\x0cPlaintiff AZARIAH LAZAR on behalf of themselves and all others similarly situated\\n\\nNORTH WING, P.O. BOX 850 TRENTON, NJ 08625 LEAD ATTORNEY ATTORNEY TO BE NOTICED\\nJESSE M. DEBROSSE RICHARD J. HUGHES JUSTICE COMPLEX 25 MARKET STREET, 2ND FLOOR, NORTH WING, P.O. BOX 850 TRENTON, NJ 08625 LEAD ATTORNEY ATTORNEY TO BE NOTICED\\nTESS MEILING BORDEN AMERICAN CIVIL LIBERTIES UNION OF NJ 89 MARKET ST PO BOX 32159 NEWARK, NJ 07102 973-854-1733 Email: tborden@aclu-nj.org LEAD ATTORNEY ATTORNEY TO BE NOTICED\\nrepresented by ALEXANDER R. SHALOM (See above for address) LEAD ATTORNEY ATTORNEY TO BE NOTICED\\nFLETCHER C. DUDDY (See above for address) LEAD ATTORNEY ATTORNEY TO BE NOTICED\\nJEANNE LOCICERO (See above for address) LEAD ATTORNEY ATTORNEY TO BE NOTICED\\nJENNIFER N SELLITTI (See above for address) LEAD ATTORNEY ATTORNEY TO BE NOTICED\\nJESSE M. DEBROSSE (See above for address) LEAD ATTORNEY ATTORNEY TO BE NOTICED\\nTESS MEILING BORDEN (See above for address)\\n\\n\\x0cPlaintiff LUIS BORRERO on behalf of themselves and all others similarly situated\\nPlaintiff HECTOR AMENGUAL on behalf of themselves and all others similarly situated\\n\\nLEAD ATTORNEY ATTORNEY TO BE NOTICED\\nrepresented by ALEXANDER R. SHALOM (See above for address) LEAD ATTORNEY ATTORNEY TO BE NOTICED\\nFLETCHER C. DUDDY (See above for address) LEAD ATTORNEY ATTORNEY TO BE NOTICED\\nJEANNE LOCICERO (See above for address) LEAD ATTORNEY ATTORNEY TO BE NOTICED\\nJENNIFER N SELLITTI (See above for address) LEAD ATTORNEY ATTORNEY TO BE NOTICED\\nJESSE M. DEBROSSE (See above for address) LEAD ATTORNEY ATTORNEY TO BE NOTICED\\nTESS MEILING BORDEN (See above for address) LEAD ATTORNEY ATTORNEY TO BE NOTICED\\nrepresented by ALEXANDER R. SHALOM (See above for address) LEAD ATTORNEY ATTORNEY TO BE NOTICED\\nFLETCHER C. DUDDY (See above for address) LEAD ATTORNEY ATTORNEY TO BE NOTICED\\nJEANNE LOCICERO (See above for address) LEAD ATTORNEY ATTORNEY TO BE NOTICED\\nJENNIFER N SELLITTI (See above for address) LEAD ATTORNEY ATTORNEY TO BE NOTICED\\n\\n\\x0cPlaintiff SEAN PERSHING on behalf of themselves and all others similarly situated\\nPlaintiff TYSON RATLIFF on behalf of themselves and all others similarly situated TERMINATED: 08/22/2018\\n\\nJESSE M. DEBROSSE (See above for address) LEAD ATTORNEY ATTORNEY TO BE NOTICED\\nTESS MEILING BORDEN (See above for address) LEAD ATTORNEY ATTORNEY TO BE NOTICED\\nrepresented by ALEXANDER R. SHALOM (See above for address) LEAD ATTORNEY ATTORNEY TO BE NOTICED\\nFLETCHER C. DUDDY (See above for address) LEAD ATTORNEY ATTORNEY TO BE NOTICED\\nJEANNE LOCICERO (See above for address) LEAD ATTORNEY ATTORNEY TO BE NOTICED\\nJENNIFER N SELLITTI (See above for address) LEAD ATTORNEY ATTORNEY TO BE NOTICED\\nJESSE M. DEBROSSE (See above for address) LEAD ATTORNEY ATTORNEY TO BE NOTICED\\nTESS MEILING BORDEN (See above for address) LEAD ATTORNEY ATTORNEY TO BE NOTICED\\nrepresented by ALEXANDER R. SHALOM (See above for address) LEAD ATTORNEY ATTORNEY TO BE NOTICED\\nFLETCHER C. DUDDY (See above for address) LEAD ATTORNEY ATTORNEY TO BE NOTICED\\nJEANNE LOCICERO\\n\\n\\x0cPlaintiff JONATHAN RODRIGUEZ on behalf of themselves and all others similarly situated\\nPlaintiff TERRENCE EDWARDS on behalf of themselves and all others similarly situated\\n\\n(See above for address) LEAD ATTORNEY ATTORNEY TO BE NOTICED\\nJENNIFER N SELLITTI (See above for address) LEAD ATTORNEY ATTORNEY TO BE NOTICED\\nJESSE M. DEBROSSE (See above for address) LEAD ATTORNEY ATTORNEY TO BE NOTICED\\nTESS MEILING BORDEN (See above for address) LEAD ATTORNEY ATTORNEY TO BE NOTICED\\nrepresented by ALEXANDER R. SHALOM (See above for address) LEAD ATTORNEY ATTORNEY TO BE NOTICED\\nFLETCHER C. DUDDY (See above for address) LEAD ATTORNEY ATTORNEY TO BE NOTICED\\nJEANNE LOCICERO (See above for address) LEAD ATTORNEY ATTORNEY TO BE NOTICED\\nJENNIFER N SELLITTI (See above for address) LEAD ATTORNEY ATTORNEY TO BE NOTICED\\nJESSE M. DEBROSSE (See above for address) LEAD ATTORNEY ATTORNEY TO BE NOTICED\\nTESS MEILING BORDEN (See above for address) LEAD ATTORNEY ATTORNEY TO BE NOTICED\\nrepresented by ALEXANDER R. SHALOM (See above for address) LEAD ATTORNEY\\n\\n\\x0cPlaintiff DAMANI HARRIS on behalf of themselves and all others similarly situated\\n\\nATTORNEY TO BE NOTICED\\nFLETCHER C. DUDDY (See above for address) LEAD ATTORNEY ATTORNEY TO BE NOTICED\\nJEANNE LOCICERO (See above for address) LEAD ATTORNEY ATTORNEY TO BE NOTICED\\nJENNIFER N SELLITTI (See above for address) LEAD ATTORNEY ATTORNEY TO BE NOTICED\\nJESSE M. DEBROSSE (See above for address) LEAD ATTORNEY ATTORNEY TO BE NOTICED\\nTESS MEILING BORDEN (See above for address) LEAD ATTORNEY ATTORNEY TO BE NOTICED\\nrepresented by ALEXANDER R. SHALOM (See above for address) LEAD ATTORNEY ATTORNEY TO BE NOTICED\\nFLETCHER C. DUDDY (See above for address) LEAD ATTORNEY ATTORNEY TO BE NOTICED\\nJEANNE LOCICERO (See above for address) LEAD ATTORNEY ATTORNEY TO BE NOTICED\\nJENNIFER N SELLITTI (See above for address) LEAD ATTORNEY ATTORNEY TO BE NOTICED\\nJESSE M. DEBROSSE (See above for address) LEAD ATTORNEY ATTORNEY TO BE NOTICED\\nTESS MEILING BORDEN\\n\\n\\x0cPlaintiff PATRICK O\\'DWYER on behalf of themselves and all others similarly situated\\nV. Defendant MIDDLESEX COUNTY\\n\\n(See above for address) LEAD ATTORNEY ATTORNEY TO BE NOTICED\\nrepresented by ALEXANDER R. SHALOM (See above for address) LEAD ATTORNEY ATTORNEY TO BE NOTICED\\nFLETCHER C. DUDDY (See above for address) LEAD ATTORNEY ATTORNEY TO BE NOTICED\\nJEANNE LOCICERO (See above for address) LEAD ATTORNEY ATTORNEY TO BE NOTICED\\nJENNIFER N SELLITTI (See above for address) LEAD ATTORNEY ATTORNEY TO BE NOTICED\\nJESSE M. DEBROSSE (See above for address) LEAD ATTORNEY ATTORNEY TO BE NOTICED\\nTESS MEILING BORDEN (See above for address) LEAD ATTORNEY ATTORNEY TO BE NOTICED\\nrepresented by LORI A. DVORAK DVORAK & ASSOCIATES, LLC 390 GEORGE STREET 8TH FLOOR NEW BRUNSWICK, NJ 08901 (732) 317-0130 Fax: (732) 317-0140 Email: ldvorak@dvorakandassociates.com LEAD ATTORNEY ATTORNEY TO BE NOTICED\\nDANIELLE ABOUZEID DVORAK AND ASSOCIATES, LLC 390 GEORGE STREET, 8TH FLOOR NEW BRUNSWICK, NJ 08901\\n\\n\\x0c(732) 317-0130 Email: dabouzeid@dvorakandassociates.com\\nATTORNEY TO BE NOTICED\\n\\nDate Filed 11/05/2015\\n11/06/2015 11/12/2015 11/13/2015 11/13/2015 11/19/2015 11/30/2015 12/02/2015 12/02/2015 12/02/2015 12/02/2015 12/03/2015 12/03/2015 12/17/2015\\n\\n# Docket Text\\n1 COMPLAINT against MIDDLESEX COUNTY ( Filing and Admin fee $ 400 receipt number 6742981), ﬁled by JONATHAN RODRIGUEZ, DAMANI HARRIS, TYSON RATLIFF, LUIS BORRERO, SEAN PERSHING, C-POD INMATES OF MIDDLESEX COUNTY ADULT CORRECTION CENTER, PATRICK O\\'DWYER, HECTOR AMENGUAL, TERRENCE EDWARDS, AZARIAH LAZAR. (Attachments: # 1 Civil Cover Sheet)(mps) (Entered: 11/06/2015)\\n2 SUMMONS ISSUED as to MIDDLESEX COUNTY Attached is the ofﬁcial court Summons, please ﬁll out Defendant and Plaintiffs attorney information and serve. Issued By *PATRICK SEILER* (mps) (Entered: 11/06/2015)\\n3 MOTION to Certify Class by C-POD INMATES OF MIDDLESEX COUNTY ADULT CORRECTION CENTER. Responses due by 11/23/2015 (Attachments: # 1 Text of Proposed Order, # 2 Brief, # 3 Exhibit)(DUDDY, FLETCHER) (Entered: 11/12/2015)\\nSet Deadlines as to 3 MOTION to Certify Class . Motion set for 12/7/2015 before Magistrate Judge Tonianne J. Bongiovanni. The motion will be decided on the papers. No appearances required unless notiﬁed by the court. (kas, ) (Entered: 11/13/2015)\\n4 ACKNOWLEDGMENT OF SERVICE Executed by C-POD INMATES OF MIDDLESEX COUNTY ADULT CORRECTION CENTER. MIDDLESEX COUNTY served on 11/12/2015, answer due 12/3/2015. (DUDDY, FLETCHER) (Entered: 11/13/2015)\\nORAL ARGUMENT REQUIRED for the 3 MOTION to Certify Class . Motion RESET for 12/7/2015 at 01:30 PM in Trenton - Courtroom 4E before Judge Peter G. Sheridan. (kas, ) (Entered: 11/19/2015)\\n5 Letter from Plaintiffs re 3 MOTION to Certify Class . (DUDDY, FLETCHER) (Entered: 11/30/2015)\\n6 NOTICE of Appearance by DANIELLE ABOUZEID on behalf of Defendant MIDDLESEX COUNTY (ABOUZEID, DANIELLE) Modiﬁed on 12/3/2015 (dm). (Entered: 12/02/2015)\\n7 Letter from Danielle Abouzeid. (ABOUZEID, DANIELLE) (Entered: 12/02/2015)\\n8 NOTICE of Appearance by LORI A. DVORAK on behalf of MIDDLESEX COUNTY (DVORAK, LORI) (Entered: 12/02/2015)\\n9 Letter from Danielle Abouzeid. (Attachments: # 1 Exhibit)(ABOUZEID, DANIELLE) (Entered: 12/02/2015)\\n10 LETTER ORDER Granting Defense Counsel\\'s request for a fourteen (14) day extension of the deadline to ﬁle Answer by 12/17/2015 and the motion is made returnable on 1/4/2016. Signed by Judge Peter G. Sheridan on 12/3/2015. (km) (Entered: 12/04/2015)\\nORAL ARGUMENT REQUIRED for the 3 MOTION to Certify Class . Motion RESET for 1/4/2016 01:30 PM in Trenton - Courtroom 4E before Judge Peter G. Sheridan. (km) (Entered: 12/10/2015)\\n11 ANSWER to Complaint with JURY DEMAND by MIDDLESEX COUNTY.(DVORAK,\\n\\n\\x0c12/17/2015 12/18/2015 01/04/2016 01/05/2016 01/06/2016 01/06/2016\\n01/06/2016 02/18/2016 02/22/2016 02/29/2016 03/01/2016\\n04/28/2016 05/20/2016 06/03/2016 08/12/2016 08/22/2016 08/22/2016\\n\\nLORI) (Entered: 12/17/2015)\\n12 Corporate Disclosure Statement by MIDDLESEX COUNTY. (DVORAK, LORI) (Entered: 12/17/2015)\\n13 Letter re 3 MOTION to Certify Class . (DUDDY, FLETCHER) (Entered: 12/18/2015)\\n14 Letter ORDER granting Plaintiff\\'s request to withdraw their pending motion for class certiﬁcation. Signed by Judge Peter G. Sheridan on 12/21/2015. (kas, ) (Entered: 01/04/2016)\\n15 INITIAL SCHEDULING ORDER: Scheduling Conference set for 2/22/2016 03:00 PM in Trenton - Courtroom 6E before Magistrate Judge Tonianne J. Bongiovanni. Signed by Magistrate Judge Tonianne J. Bongiovanni on 1/5/2016. (km) (Entered: 01/05/2016)\\n16 NOTICE of Appearance by JEANNE LOCICERO on behalf of All Plaintiffs (LOCICERO, JEANNE) (Entered: 01/06/2016)\\n17 AMENDED DOCUMENT by HECTOR AMENGUAL, LUIS BORRERO, C-POD INMATES OF MIDDLESEX COUNTY ADULT CORRECTION CENTER, TERRENCE EDWARDS, DAMANI HARRIS, AZARIAH LAZAR, PATRICK O\\'DWYER, SEAN PERSHING, TYSON RATLIFF, JONATHAN RODRIGUEZ, neﬂk. Amendment to 16 Notice of Appearance . (LOCICERO, JEANNE) (Entered: 01/06/2016)\\n18 NOTICE of Appearance by ALEXANDER R. SHALOM on behalf of All Plaintiffs (SHALOM, ALEXANDER) (Entered: 01/06/2016)\\n19 Letter from Plaintiffs. (DUDDY, FLETCHER) (Entered: 02/18/2016)\\n20 TEXT ORDER: Initial Pretrial Conference set for 2/29/2016 at 11:00 AM in Trenton Courtroom 6E before Magistrate Judge Tonianne J. Bongiovanni. So Ordered by Magistrate Judge Tonianne J. Bongiovanni on 2/22/2016. (eaj) (Entered: 02/22/2016)\\nMinute Entry for proceedings held before Magistrate Judge Tonianne J. Bongiovanni: Initial Pretrial Conference held on 2/29/2016. (mm) (Entered: 02/29/2016)\\n21 SCHEDULING ORDER: Telephone Conference set for 4/29/2016 10:00 AM and 8/16/2016 at 10:00 AM before Magistrate Judge Tonianne J. Bongiovanni. Plaintiffs shall initiate the call; Amended Pleadings and Joinder of Parties due by 8/26/2016; Fact Discovery due by 2/28/2017. Signed by Magistrate Judge Tonianne J. Bongiovanni on 3/1/2016. (kas, ) (Entered: 03/01/2016)\\n22 LETTER ORDER Rescheduling the Telephone Conference to 5/20/2016 at 10:30AM. Plaintiff to initiate the call. Signed by Magistrate Judge Tonianne J. Bongiovanni on 4/28/2016. (km) (Entered: 04/28/2016)\\nMinute Entry for proceedings held before Magistrate Judge Tonianne J. Bongiovanni: Telephone Conference held on 5/20/2016. Plaintiff is to produce its preliminary expert report no later than 8/1/2016. (mm) (Entered: 05/20/2016)\\n23 Discovery Conﬁdentiality Order. Signed by Magistrate Judge Tonianne J. Bongiovanni on 6/2/2016. (eaj) (Main Document 23 replaced on 6/3/2016) (eaj, ). (Entered: 06/03/2016)\\n24 LETTER ORDER Adjourning the 8/16/2016 Telephone Conference to 8/22/2016 at 11:30AM. Signed by Magistrate Judge Tonianne J. Bongiovanni on 8/11/2016. (km) (Entered: 08/12/2016)\\nMinute Entry for proceedings held before Magistrate Judge Tonianne J. Bongiovanni: Telephone Conference held on 8/22/2016. (NR) (Entered: 08/22/2016)\\n25 TEXT ORDER: No later than October 5, 2016, the parties shall provide the Court with a\\n\\n\\x0c10/06/2016 12/06/2016 01/19/2017 02/16/2017 05/24/2017 05/25/2017\\n06/16/2017\\n07/21/2017 08/08/2017\\n09/13/2017\\n10/11/2017\\n\\njoint status update regarding settlement. In the interim, the parties shall proceed with discovery necessary to facilitate settlement. If the matter does not resolve, the schedule, including the deadline to amend the pleadings, shall be reset. So Ordered by Magistrate Judge Tonianne J. Bongiovanni on 8/22/16. (NR) (Entered: 08/22/2016)\\n26 TEXT ORDER- The parties are to report back to the Court no later than 12/6/2016, with a written status update regarding settlement discussions. Ordered by Magistrate Judge Tonianne J. Bongiovanni. (mm) (Entered: 10/06/2016)\\n27 TEXT ORDER - This shall conﬁrm that an In-Person Status Conference is set for January 30, 2017 at 11:00 AM before Magistrate Judge Tonianne J. Bongiovanni. Kindly mark your calendars accordingly. So Ordered by Magistrate Judge Tonianne J. Bongiovanni. (mm) (Entered: 12/06/2016)\\n28 LETTER ORDER conﬁrming that the In-Person Status Conference that was scheduled for 1/30/2017 is rescheduled to 2/16/2017 at 1:00 PM. Signed by Magistrate Judge Tonianne J. Bongiovanni on 1/19/2017. (km) (Entered: 01/19/2017)\\nMinute Entry for proceedings held before Magistrate Judge Tonianne J. Bongiovanni: InPerson Status Conference held on 2/16/2017. Status Telephone Conference set for 5/24/2017 10:00 AM before Magistrate Judge Tonianne J. Bongiovanni. Plaintiff is to initiate the call. (mm) (Entered: 02/16/2017)\\nMinute Entry for proceedings held before Magistrate Judge Tonianne J. Bongiovanni: Telephone Conference held on 5/24/2017. (mm) (Entered: 05/25/2017)\\n29 LETTER ORDER Staying Discovery. Defendant to provide Plaintiff and the Court with its preliminary response to Plaintiff\\'s settlement proposal by 6/9/2017. A more detailed response and/or counterproposal due 7/21/2017. Telephone Conference set for 8/3/2017 at 3:00PM. Plaintiff, ACLU, to initiate the call. Signed by Magistrate Judge Tonianne J. Bongiovanni on 5/24/2017. (km) Modiﬁed on 5/30/2017 (eaj, ). (Entered: 05/25/2017)\\n30 TEXT ORDER Please be advised that due to a court conﬂict, the telephone conference currently scheduled to take place on August 3, 2017 at 3:00 p.m. shall now take place on the same day, but at 1:00 p.m. It shall be plaintiffs\\' responsibility to contact all counsel to set up the conference as, well as, to initiate the call. Kindly mark your calendars accordingly. So Ordered by Magistrate Judge Tonianne J. Bongiovanni.(mm) (Entered: 06/16/2017)\\n31 LETTER ORDER rescheduling the 8/3/2017 Telephone Conference to 8/8/2017 at 3:30PM. Signed by Magistrate Judge Tonianne J. Bongiovanni on 7/21/2017. (km) (Entered: 07/24/2017)\\nMinute Entry for proceedings held before Magistrate Judge Tonianne J. Bongiovanni: Telephone Conference held on 8/8/2017. The exchange of settlement proposals shall continue; Status Telephone Conference to discuss the status of settlement shall be conducted on 10/10/2017 10:30 AM before Magistrate Judge Tonianne J. Bongiovanni. Plaintiff is to initiate the call. (mm) (Entered: 08/09/2017)\\n32 TEXT ORDER - Telephone Conference set for October 10, 2017, is hereby RESCHEDULED to October 11, 2017 at 11:00 AM before Magistrate Judge Tonianne J. Bongiovanni. It shall be plaintiffs\\' responsibility to contact all counsel to set up the conference, as well as, to initiate the call. Kindly mark your calendars accordingly. So Ordered by Magistrate Judge Tonianne J. Bongiovanni. (mm) (Entered: 09/13/2017)\\nMinute Entry for proceedings held before Magistrate Judge Tonianne J. Bongiovanni: Telephone Conference held on 10/11/2017. The parties are to report back to the Court\\n\\n\\x0c11/21/2017 01/18/2018 01/24/2018 02/13/2018 05/03/2018 06/15/2018 06/19/2018 06/28/2018 07/10/2018 07/12/2018 07/26/2018 07/30/2018\\n\\nelectronically to tjb_orders@njd.uscourts.gov no later than 11/17/2017, with a written status update regarding settlement discussions. (mm) (Entered: 10/11/2017)\\n33 LETTER ORDER that a Telephone Conference is set for 1/24/2018 at 10:00AM. Plaintiff to initiate the call. Signed by Magistrate Judge Tonianne J. Bongiovanni on 11/21/2017. (km) (Entered: 11/21/2017)\\n34 TEXT ORDER: Due to a court conﬂict, the telephone conference set for January 24, 2018 at 10:00 a.m. is reset for January 24, 2018 at 1:00 p.m. Plaintiff remains responsible for initiating the conference. So Ordered by Magistrate Judge Tonianne J. Bongiovanni.(mm) (Entered: 01/18/2018)\\nText Minute Entry for proceedings held before Magistrate Judge Tonianne J. Bongiovanni: Telephone Conference held on 1/24/2018. The parties are to report back to the Court electronically to tjb_orders@njd.uscourts.gov no later than 2/9/2018, with a written status update regarding settlement discussions. (mm) (Entered: 01/24/2018)\\n35 TEXT ORDER: The parties are to report back to the Court electronically to tjb_orders@njd.uscourts.gov no later than 3/23/2018 with a written status update regarding settlement discussions. So Ordered by Magistrate Judge Tonianne J. Bongiovanni.(mm) (Entered: 02/13/2018)\\n36 TEXT ORDER: The parties are to report back to the Court electronically to tjb_orders@njd.uscourts.gov no later than 6/6/2018 with a written status update regarding settlement discussions. So Ordered by Magistrate Judge Tonianne J. Bongiovanni. (mm) (Entered: 05/03/2018)\\n37 LETTER ORDER Scheduling a telephone conference for 6/19/2018 at 3:00PM. Plaintiff to initiate the call. Signed by Magistrate Judge Tonianne J. Bongiovanni on 6/14/2018. (km) (Entered: 06/15/2018)\\nText Minute Entry for proceedings held before Magistrate Judge Tonianne J. Bongiovanni: Telephone Conference held on 6/19/2018. Settlement Conference via telephone with only Plaintiff Tyson Ratliff, and his attorney set for 7/10/2018 11:00 AM before Magistrate Judge Tonianne J. Bongiovanni. (mm) (Entered: 06/20/2018)\\n38 NOTICE of Appearance by TESS MEILING BORDEN on behalf of All Plaintiffs (BORDEN, TESS) (Entered: 06/28/2018)\\nText Minute Entry for proceedings held before Magistrate Judge Tonianne J. Bongiovanni: Telephone Conference held on 7/10/2018. (mm) (Entered: 07/10/2018)\\n39 LETTER ORDER TO SHOW CAUSE Show Cause Hearing set for 7/26/2018 10:30 AM in Trenton - Courtroom 6E before Magistrate Judge Tonianne J. Bongiovanni. Show Cause Response due by 7/24/2018. Signed by Magistrate Judge Tonianne J. Bongiovanni on 7/12/2018. (km) (Entered: 07/13/2018)\\n40 Minute Entry for proceedings held before Magistrate Judge Tonianne J. Bongiovanni: Show Cause Hearing held on 7/26/2018. Tyson Ratliff, plaintiff failed to appear. Report and Recommendation to be entered. (Digitally Recorded) (mm) (Entered: 07/27/2018)\\n41 Transcript of HEARING held on 7/26/2018, before Judge Tonianne J. Bongiovanni. Transcriber- Transcripts Plus, Inc. (215-862-1115). NOTICE REGARDING (1) REDACTION OF PERSONAL IDENTIFIERS IN TRANSCRIPTS AND (2) MOTION TO REDACT AND SEAL: The parties have seven (7) calendar days to ﬁle with the Court a Notice of Intent to Request Redaction of this Transcript to comply with Fed.R.Civ.P.5.2(a) (personal identiﬁers). Parties seeking to redact and seal this Transcript, or portions thereof, pursuant to L.Civ.R. 5.3(g) must e-ﬁle a Motion to Redact and Seal utilizing the event `Redact and Seal Transcript/Digital Recording`. Redaction Request to\\n\\n\\x0c07/31/2018\\n08/01/2018 08/06/2018 08/22/2018 10/24/2018 10/25/2018\\n\\nTranscription Agency due, but not ﬁled, by 8/20/2018. Redacted Transcript Deadline set for 8/30/2018. Release of Transcript Restriction set for 10/29/2018. (kas, ) (Entered: 07/30/2018)\\n42 REPORT AND RECOMMENDATION. It is RECOMMENDED that Ratliff\\'s claims be DISMISSED WITH PREJUDICE; that defense counsel send a copy of this Report & Recommendation to Ratliff via both text message to Ratliff\\'s known cell phone number and via regular mail to Ratliffs last known mailing address immediately upon counsels receipt of same. Objections, if any, to R&R due 14 days after being served with a copy of this Report and Recommendation. Signed by Magistrate Judge Tonianne J. Bongiovanni on 7/31/2018. (mmh) (Entered: 07/31/2018)\\n43 LETTER ORDER amending the 42 Report and Recommendation instructing Plaintiffs\\' counsel to send a copy of the Report and Recommendation to Plaintiff. Signed by Magistrate Judge Tonianne J. Bongiovanni on 8/1/2018. (mmh) (Entered: 08/01/2018)\\n44 Letter from Plaintiffs\\' Counsel re 43 Order. (DUDDY, FLETCHER) (Entered: 08/06/2018)\\n45 ORDER ADOPTING REPORT AND RECOMMENDATIONS for 42 Report and Recommendations. Signed by Judge Peter G. Sheridan on 8/22/2018. (km) (Entered: 08/22/2018)\\n46 Order Administratively Terminating Action - 60 Day, Pending Consummation of Settlement. Administrative Termination deadline set for 12/24/2018. Signed by Judge Peter G. Sheridan on 10/24/2018. (dh, ) (Entered: 10/24/2018)\\n47 STIPULATION of Dismissal with Prejudice as to Defendant, Middlesex County by MIDDLESEX COUNTY. (ABOUZEID, DANIELLE) (Entered: 10/25/2018)\\n\\nPACER Service Center\\n\\nTransaction Receipt\\n\\n03/24/2019 21:03:37\\n\\nPACER Login:\\n\\nCRClearinghouse:2563377:0\\n\\nClient Code:\\n\\nriesterer\\n\\nDescription: Docket Report\\n\\n3:15-cv-07920Search PGS-TJB Start Criteria: date: 1/1/1970 End\\ndate: 3/25/2019\\n\\nBillable Pages:\\n\\n13\\n\\nCost: 1.30\\n\\n\\x0c', 'long': \"On November 5, 2015, the plaintiffs, nine pretrial detainees, filed this class action in the United States District Court of New Jersey. The plaintiffs sued Middlesex County under 42 U.S.C. § 1983 for the deprivation of rights secured by the Eighth and Fourteenth Amendments to the United States Constitution. The plaintiffs, represented by the ACLU and the New Jersey Office of the Public Defender, asked the court to declare that the conditions in solitary confinement were unconstitutional, to enjoin Middlesex County to take all of its inmates out of solitary confinement, and to award costs and reasonable attorneys' fees. The plaintiffs claimed that the conditions in C-Pod, the solitary confinement unit in Middlesex County Jail, were unconstitutional. Specifically, the plaintiffs claimed that they were locked in a small cell alone almost continuously; could not interact with other inmates; could not be visited by family; could not participate in religious, educational or rehabilitative programs; and were never allowed outdoors. \\n\\nThe plaintiffs sought class action status. However, on January 4, 2016, Judge Peter G. Sheridan granted the plaintiffs' request to withdraw their pending motion for class certification without prejudice so that the ACLU attorneys could get acclimated to the case before proceeding with a dispositive motion. \\n\\nThe parties then began settlement conversations. On May 24, 2017, the Court stayed discovery in order to further facilitate the parties’ settlement discussions. The parties reached a settlement with eight of the nine plaintiffs signing the agreement by June 19, 2018. The ninth plaintiff indicated he was not unhappy with the agreement, but did not want to sign. After failing to show and respond to requests to explaining absence from a scheduled conference, Magistrate Judge Tonianne J. Bongiovanni recommended this plaintiff’s claims be dismissed with prejudice. 2018 WL 4006809. Judge Peter G. Sheridan adopted the recommendation and dismissed this plaintiff’s claims with prejudice on August 22, 2018. 2018 WL 4005749.\\n\\nThe eight remaining plaintiffs entered a private settlement agreement with the defendants on September 25, 2018. Under the settlement agreement, the county would continue to operate a precautionary supervision unit, but also provide 28 hours per week out of cells, access to recreation time, in-unit programming, and law library services. Protections used would involve less restrictive security measures. Disciplinary detention could no longer exceed 15 days for a single disciplinary charge and 30 days for multiple disciplinary charges. The county also implemented a mental health screening policy that allowed the director of mental health to stop inappropriate placements in solitary confinement. The settlement agreement permitted the plaintiffs’ counsel access to people detained in the jail, jail records, and the facility itself to ensure full compliance with the settlement. The defendants agreed to pay $11,123 in attorneys’ fees and cost. Under the agreement, any alleged non-compliance would first be brought to the defendant’s counsel, with the opportunity for mediation. The settlement agreement was enforceable for two years. If the mediation failed to resolve the issue, plaintiffs were permitted to move the Court for reinstatement or ask for a one-time one-year extension of the agreement. The two-year enforcement period began on the date the parties executed the agreement.\\n\\nJudge Peter G. Sheridan entered a stipulated of dismissal on October 25, 2018. As of March 21, 2019, the settlement is still in force.\", 'short': 'Pretrial detainees file lawsuit against Middlesex County in November 2015 to ameliorate the unconstitutional conditions of solitary confinement in the Middlesex County Jail. In September 2018, the parties reached a settlement agreement that restricted the maximum amount of time allowed in isolation and provides those in isolation with opportunities to interact with others.', 'tiny': 'Pretrial detainees settled this class action against Middlesex County to provide 28 hours per week of out-of-cell time and mental health screenings to people held in solitary confinement.'}) (input_keys={'Case 3:15-cv-07920-PGS-TJB Document 1 Filed 11/05/15 Page 1 of 13 PageID: 1\\n\\nIN THE UNITED STATES DISTRICT COURT FOR THE DISTRICT OF NEW JERSEY\\n\\n_______________________________________\\n\\n:\\n\\nC-POD INMATES OF MIDDLESEX\\n\\n:\\n\\nCOUNTY ADULT CORRECTION CENTER, :\\n\\nAZARIAH LAZAR, LUIS BORRERO,\\n\\n:\\n\\nHECTOR AMENGUAL, SEAN PERSHING, :\\n\\nTYSON RATLIFF, JONATHAN\\n\\n:\\n\\nRODRIGUEZ, TERRENCE EDWARDS,\\n\\n:\\n\\nDAMANI HARRIS, and PATRICK\\n\\n:\\n\\nO’DWYER, on behalf of themselves and all :\\n\\nothers similarly situated,\\n\\nH :\\n\\n:\\n\\nPlaintiffs,\\n\\n:\\n\\nv.\\n\\n:\\n\\n:\\n\\nMIDDLESEX COUNTY,\\n\\n:\\n\\n:\\n\\nDefendant.\\n\\n:\\n\\n:\\n\\nCLASS ACTION COMPLAINT Hon.______________________________ Civil Action No._____________________\\n\\nINTRODUCTION Plaintiffs are inmates housed at the Middlesex County Jail in “C-Pod,” a unit for solitary confinement. Whether they are there for their own protection, for disciplinary reasons, or to separate them from a codefendant while they await trial for years, the conditions are equally deplorable. Plaintiffs are locked in a small cell alone almost continuously, where they languish in a state of forced idleness. They cannot interact with other inmates. Family cannot visit them. They cannot participate in religious, educational or rehabilitative programs. They are never even allowed outdoors. Research shows that such social and environmental deprivations are toxic to the human brain. Instead of promoting public safety, these conditions cause inmates to spiral into mental illness before they are released to the community. Courts, advocates and prison administrators across the country are recognizing the costs of excessive isolation. The\\n\\n\\x0cCase 3:15-cv-07920-PGS-TJB Document 1 Filed 11/05/15 Page 2 of 13 PageID: 2\\nconstitutional standards of decency are evolving. Plaintiffs bring this class action seeking to remedy the unconstitutional conditions in C-Pod, and say:\\nJURISDICTION AND VENUE 1. This Court has jurisdiction under 28 U.S.C. §§ 1331 and 1343(a)(3) and (4). Plaintiffs bring claims under 42 U.S.C. § 1983 for the deprivation of rights secured by the Eighth and Fourteenth Amendments to the United States Constitution. 2. Venue is proper in this Court under 28 U.S.C. § 1391 because a substantial part of the events giving rise to the claims occurred in this judicial district and the parties reside in this district.\\nPARTIES 3. Plaintiff Azariah Lazar is a pretrial detainee housed in “C-Pod” at the Middlesex County Adult Correction Center located at U.S. Route 130 and Apple Orchard Lane, North Brunswick, NJ 08902. Mr. Lazar has been in C-Pod since February 2015. 4. Plaintiff Luis Borrero is awaiting trial and housed in C-Pod. He is also serving a sentence in Pennsylvania. Mr. Borrero has been in C-Pod since June 2015. 5. Plaintiff Hector Amengual is a pretrial detainee housed in C-Pod since May 2014. 6. Plaintiff Sean Pershing is a pretrial detainee housed in C-Pod since September 2015. 7. Plaintiff Tyson Ratliff is a pretrial detainee housed in C-Pod since September 2015. 8. Plaintiff Jonathan Rodriguez is a pretrial detainee housed in C-Pod since September 2015.\\n2\\n\\n\\x0cCase 3:15-cv-07920-PGS-TJB Document 1 Filed 11/05/15 Page 3 of 13 PageID: 3\\n9. Plaintiff Terrence Edwards is a pretrial detainee housed in C-Pod since October 2015.\\n10. Plaintiff Damani Harris is a pretrial detainee housed in C-Pod since October 2014. 11. Plaintiff Patrick O’Dwyer is a pretrial detainee housed in C-Pod since November 2014. 12. Defendant Middlesex County is a body politic with a principal business address at the County Administration Building, 75 Bayard Street, New Brunswick, NJ 08901. The subdivision of the County responsible for the jail is the Office of Adult Corrections and Youth Services.\\nCLASS ALLEGATIONS 13. Plaintiffs bring this action individually and on behalf of all persons who are now or will be housed in C-Pod during the pendency of this lawsuit, pursuant to Fed. R. Civ. P. 23(a) and (b)(2). 14. This is a fluid class of about 50 individuals at a given time and is so numerous that joinder of all members is impracticable. 15. There are questions of law or fact common to the class. All individuals in C-Pod are subject to the same conditions, the constitutionality of which will be determined under either the Eighth or Fourteenth Amendments. 16. The claims or defenses of the representative parties are typical of the claims or defenses of the class. 17. The representative parties will fairly and adequately protect the interests of the class. There are no conflicts between the Plaintiffs and other class members. No class member has an interest in maintaining the current inhumane conditions in C-Pod.\\n3\\n\\n\\x0cCase 3:15-cv-07920-PGS-TJB Document 1 Filed 11/05/15 Page 4 of 13 PageID: 4\\n18. The party opposing the class has acted or refused to act on grounds that apply generally to the class, so that final injunctive relief or corresponding declaratory relief is appropriate respecting the class as a whole.\\n19. Plaintiffs have retained competent and experienced counsel who will fairly and adequately represent the interests of the class. The Public Defender has done substantial work in investigating and identifying potential claims in the action and has experience in handling class actions. This experience includes prosecuting class action claims on behalf of inmates in county jails and state prisons throughout New Jersey. Accordingly, the Public Defender has knowledge of the applicable law and procedures that relate to these claims. Finally, in what can be described as the largest public interest law firm in the State of New Jersey, the New Jersey Office of the Public Defender will commit substantial resources to representing the class.\\nFACTUAL ALLEGATIONS 20. Plaintiffs are inmates housed in an area of the Correction Center known as C-Pod, a cluster of maximum-security cells spanning four levels of the jail. 21. There are about 50 inmates in C-Pod. 22. The cells in C-Pod are smaller than a parking space. They have narrow windows that are sealed shut, many of which are painted over, preventing the inmates from looking outside. Other windows are so dirty that only a faint glow of sunlight comes through. Aside from a small window and a slot for food, the doors are solid metal. 23. The cells are equipped with a combination toilet-sink, a bed with a thin foam mattress, and a small desk. There is no chair for the desk, so inmates must either sit on the concrete floor or the bed.\\n4\\n\\n\\x0cCase 3:15-cv-07920-PGS-TJB Document 1 Filed 11/05/15 Page 5 of 13 PageID: 5\\n24. In C-Pod, time passes in long silences broken by the sudden outbursts of the mentally ill, who scream, bang on the walls and toilets, and jump on the beds in their cells.\\n25. The air in C-Pod is dusty, tinged with sewage, and inadequately ventilated; it causes some Plaintiffs to have nosebleeds or asthma attacks.\\n26. The air in C-Pod is uncomfortably cold at all times. Inmates are provided with only one, thin blanket, which exacerbates the discomfort.\\n27. The cells are infested with flies, roaches, centipedes and other insects. 28. There is black mold in the shower facilities. 29. Many of the cells have leaky plumbing, causing rank water to pool on the floor. 30. The inmates are confined alone in their cells 5 days a week for 23 hours a day, and 2 days a week for 24 hours. 31. The inmates’ only form of stimuli comes in the form of an antiquated book delivered by library staff. 32. On days when an inmate can leave his cell for an hour, he may not interact with, or even speak to, any other inmates. He may only shower by himself or pace around in one of the small, 10x10 chain-link cages inside C-Pod. Some of the cages face a television controlled by the officer on duty, and some have a telephone that inmates can use if they have sufficient funds. 33. Officers are not always scrupulous in allowing an inmate his full hour. 34. The hourly schedule for when an inmate may leave his cell is not consistent. For example, an inmate may be permitted to leave for an hour at 6 a.m. on one day but 6 p.m. on the following day, meaning he will remain alone in his cell for much longer than 24 hours even during the 5 days he is permitted to leave his cell.\\n5\\n\\n\\x0cCase 3:15-cv-07920-PGS-TJB Document 1 Filed 11/05/15 Page 6 of 13 PageID: 6\\n35. Unlike inmates in the general population, inmates in C-Pod are never allowed to: A. Eat meals away from their toilets or with other inmates; B. Have in-person visits from family, friends or loved ones; C. Participate in religious groups or services; D. Participate in groups or programs designed to educate or rehabilitate them; E. Access the law library to research their cases; F. Access the computer laboratory; or G. Go outside for exercise, recreation, and their overall well-being, meaning Plaintiff Hector Amengual, for example, has not been exposed to fresh air and natural sunlight for over 1.5 years.\\n36. The inability to go outside or even walk in one direction for more than 10 feet causes inmates a number of physical maladies, such as stiffness of the joints and backaches.\\n37. Unlike inmates in the general population, inmates in C-Pod have restricted access to their attorneys.\\nA. If they do not have sufficient funds to use the telephone in one of the 10x10 cages, an inmate’s only way of contacting his attorney by phone is through a social worker who visits between once a week and once a month.\\nB. Attorneys wishing to meet with an inmate in C-Pod are routinely subject to long wait times and limited timeframes in which to conduct the meeting. For example, the afternoon visitation hours at the Correction Center are between 2-4 p.m., but attorneys wishing to visit with a C-Pod client must wait until 3:30 p.m. to accommodate “window checks” that are scheduled during attorney visitation hours. And when the meetings do occur, they are short and\\n6\\n\\n\\x0cCase 3:15-cv-07920-PGS-TJB Document 1 Filed 11/05/15 Page 7 of 13 PageID: 7\\nharried because of the time constraints and because there is only one meeting room in the pod. C. Additionally, the physical layout of the attorney-client meeting room impairs an inmate’s access to his attorney. There is no desk or table at which the attorney and client may sit. Instead, the room is divided in two by a chainmetal partition, with the inmate on one side and his attorney on the other. 38. These conditions, separately and in combination, deprive Plaintiffs of the minimal necessities of civilized life and cause them unnecessary pain and suffering. This is of grave constitutional concern. 39. Solitary confinement lasting more than 10 days results in a distinct set of emotional, cognitive, social, and physical pathologies. 40. Solitary confinement creates or exacerbates serious mental health problems and anti-social behavior, and leads to an increased rate of recidivism after release. 1 41. Because solitary confinement deprives the subject of social and environmental stimulation, it is “toxic to brain functioning and causes symptoms characteristic of stupor and delirium.”2 42. Neurological effects may include perceptual distortions, illusions, and hallucinations; panic attacks; difficulties with thinking, concentration, and memory; frightening and uncontrollable fantasies, such as those involving revenge, torture, or mutilation; paranoid and persecutory delusions; and problems with impulse control.\\n1 Vera Institute of Justice Safe Alternatives to Segregation Initiative, Request for Proposals for Technical Assistance Sites, http://www.vera.org/project/safe-alternatives-segregation-initiative. 2 Stuart Grassian, Psychiatric Effects of Solitary Confinement, 22 Wash. U. J. L. & Pol’y 325, 348 (2006).\\n7\\n\\n\\x0cCase 3:15-cv-07920-PGS-TJB Document 1 Filed 11/05/15 Page 8 of 13 PageID: 8\\n43. The motor effects of those subject to solitary confinement range from a state of restlessness, yelling, and banging at one end of the spectrum to a kind of regressed, dissociated, withdrawn, hypnoid state at the other.\\n44. Suicide rates and incidents of self-mutilation (such as banging one’s head against the cell wall) are much higher for people in segregation than those in the general prison population.\\n45. In C-Pod, inmates who exhibit some of these disturbed behaviors are stripped naked and put in a thin mesh gown known as “the chicken suit” and held for hours or days in a cold, empty observation cell without a bed or even a blanket.\\n46. These types of conditions may cause prolonged or permanent psychiatric disability, including impairments which destroy the inmate\\'s capacity to reintegrate into the community upon release.\\n47. Plaintiffs are suffering from some or all of the foregoing effects. 48. The conditions in C-Pod violate the evolving standards of decency in the United States towards incarcerated people.\\nA. The Association of State Correctional Administrators has now recognized solitary confinement as “a grave problem.”3\\nB. Justice Kennedy of the United States Supreme Court recently called on the Judiciary to examine the practice of confining an inmate to near-total isolation for an extended period of time.4\\n3 George Camp et al., New Report on Prisoners in Administrative Segregation Prepared by the Association of State Correctional Administrators and the Arthur Liman Public Interest Program at Yale Law School, http://www.asca.net/system/assets/attachments/8895/ASCA%20LIMAN%20Press%20Release%208-2815.pdf?1441222595. 4 Davis v. Ayala, 135 S. Ct. 2187, 2210 (2015) (Kennedy, J., concurring).\\n8\\n\\n\\x0cCase 3:15-cv-07920-PGS-TJB Document 1 Filed 11/05/15 Page 9 of 13 PageID: 9\\nC. President Obama recently directed the Attorney General to review the overuse of solitary confinement across American prisons.5\\nD. The American Bar Association now recommends that “[s]egregated housing should be for the briefest term and under the least restrictive conditions practicable and consistent with the rationale for placement and with the progress achieved by the prisoner.”6\\nE. The Committee against Torture, the official body established under the United Nations’ Convention against Torture, advocates a “ban [on] solitary confinement regimes in prisons.”7\\n49. Whether solitary confinement should be abolished altogether is debatable. 50. But even if some inmates must be separated, that can be done without the extreme social isolation and sensory deprivations inflicted by the conditions in C-Pod. The conditions in C-Pod are excessive in relation to the purposes assigned to them. 51. There are a number of ways that Defendant can alleviate the harm to which Plaintiffs are subjected, even if they are still confined in C-Pod. Some of these include, but are not limited to: providing access to an outdoor exercise area; increasing the time out of cell; permitting in-person visits with family, friends and loved ones; providing in-cell programming via headphones or speakers in cells that play radio, television or educational information; permitting inmates in C-Pod to interact with one another, such as by eating together; or giving inmates opportunities to increase privileges through good behavior.\\n5 https://www.whitehouse.gov/the-press-office/2015/07/14/remarks-president-naacp-conference. 6 ABA, Standards for Criminal Justice: Treatment of Prisoners 50, Standard 23-2.6 (Rationales for segregated housing) (3d. ed. 2011). 7 U.N. Comm. against Torture, Concluding Observations on the Combined Third to Fifth Periodic Reports of the United States of America ¶ 20, U.N. Doc. CAT/C/USA/CO/3-5 (Dec. 19, 2014).\\n9\\n\\n\\x0cCase 3:15-cv-07920-PGS-TJB Document 1 Filed 11/05/15 Page 10 of 13 PageID: 10\\n52. These changes are not impracticable. For example, New York offers prisoners incell programming via headphones and a jack in their cells that plays radio, television, and other programs. Colorado now requires that incarcerated people held in its Management Control Unit receive four hours of time outside their cell each day. Maine requires that incarcerated people in segregated housing receive group recreation, counseling sessions, and opportunities to increase privileges through good behavior, as well as greater access to radios, televisions, and reading materials. And in a national survey of administrative segregation practices, “44 of 46 responding jurisdictions had an outdoor exercise area.”8\\n53. These changes are also financially feasible. Defendant has sufficient resources to remedy its constitutional defects: in 2014, Middlesex County’s total appropriations were $454,043,454, with $12,761,636 in reserves at the end of the fiscal year.9\\n54. The Court should shepherd Defendants into compliance with the evolving standards of decency towards incarcerated people.\\nCAUSES OF ACTION Count I\\nPunishment in Violation of Due Process under the Fourteenth Amendment to the United States Constitution 55. The above facts are incorporated by reference here as if set forth at length. 56. In the context of prisons, the United States Constitution looks beyond historical conceptions to the evolving standards of decency that mark the progress of a maturing society.\\n8 Time-In-Cell: The ASCA-Liman 2014 National Survey of Administrative Segregation in Prison 41 (Yale Law Sch. Liman Public Interest Program, August 2015), available at https://www.law.yale.edu/centers-workshops/arthurliman-public-interest-program/liman-publications. 9 Middlesex County 2015 Operating Budget, adopted January 15, 2015, http://www.co.middlesex.nj.us/Government/Departments/Finance/Documents/2015%20County%20Budget%20hand out.pdf.\\n10\\n\\n\\x0cCase 3:15-cv-07920-PGS-TJB Document 1 Filed 11/05/15 Page 11 of 13 PageID: 11\\n57. In light of the known effects of solitary confinement, the conditions in C-Pod are not reasonably related to legitimate purposes.\\n58. These conditions cause inmates deprivations and hardships over an extended period of time and are excessive in relation to the purposes assigned to them.\\n59. Therefore, the conditions in C-Pod constitute punishment of pretrial detainees in violation of the Due Process Clause of the Fourteenth Amendment.\\nCount II Cruel and Unusual Punishment in Violation of the Eighth Amendment to the United States Constitution 60. The above facts are incorporated by reference here as if set forth at length. 61. The United States Constitution requires the government to respect the human attributes even of those who have committed serious crimes. 62. The Eighth Amendment’s scope must change as the basic mores of society change. 63. The conditions of C-Pod deprive inmates of the minimal necessities of civilized life and cause profound and obvious psychological pain and suffering. This suffering is unnecessary and wanton. 64. Under these circumstances, Defendant knows of and disregards an excessive risk to inmate health. 65. Therefore, the conditions in C-Pod inflict cruel and unusual punishment on sentenced inmates, in violation of the Eighth Amendment.\\nCount III Restriction on the Right of Access to the Courts\\nin Violation of Due Process under the Fourteenth Amendment to the United States Constitution 66. The above facts are incorporated by reference here as if set forth at length.\\n11\\n\\n\\x0cCase 3:15-cv-07920-PGS-TJB Document 1 Filed 11/05/15 Page 12 of 13 PageID: 12\\n67. The Constitution guarantees inmates a right of access to the courts. This right applies to both criminal proceedings and civil proceedings in which an inmate is challenging the conditions of his confinement.\\n68. Inmates in C-Pod are completely deprived of access to the Correction Center’s law library.\\n69. The conditions in C-Pod restricting attorney visitation severely impair their access to counsel.\\n70. Therefore, detainees in C-Pod are subject to restrictions that impair their right of access to the courts, in violation of the Fourteenth Amendment.\\nPRAYER FOR RELIEF Wherefore, Plaintiffs, individually and on behalf of the class they represent, ask the Court to: A. Certify this case as a class action; B. Appoint Plaintiffs as class representatives; C. Appoint Plaintiffs’ counsel as class counsel; D. Pursuant to 28 U.S.C. § 2201, declare that the conditions of confinement in C-Pod are\\nunconstitutional; E. Permanently enjoin Defendants and all its officers, employees, and agents to transfer\\ninmates out of C-Pod or take all actions necessary to render the conditions of confinement in C-Pod constitutional; F. Retain jurisdiction of this case until Defendants have complied with the Court’s Orders; G. Award costs and reasonable attorney’s fees; and\\n12\\n\\n\\x0cCase 3:15-cv-07920-PGS-TJB Document 1 Filed 11/05/15 Page 13 of 13 PageID: 13\\n\\nH. Award any other relief the Court deems necessary and just pursuant to 28 U.S.C. § 2202.\\n\\nLOCAL CIVIL RULE 11.2 CERTIFICATION The matter in controversy is not the subject of any other action pending in any court, or of any pending arbitration or administrative proceeding. I certify under penalty of perjury that the foregoing is true and correct.\\n\\nJoseph E. Krakora Public Defender of the State of New Jersey Richard J. Hughes Justice Complex 25 Market Street, 2nd Floor, North Wing P.O. Box 850 Trenton, NJ 08625 (609) 292-7087\\n\\nBy: s/ Jennifer Sellitti, Deputy Public Defender\\n\\nBy: s/ Fletcher C. Duddy, Deputy Public Defender\\n\\nBy: s/ Jesse M. DeBrosse, Asst. Deputy Public Defender\\n\\nDated: November 5, 2015\\n\\nAttorneys for Plaintiffs\\n\\n13\\n\\n\\x0c Case 3:15-cv-07920-PGS-TJB Document 42 Filed 07/31/18 Page 1 of 11 PageID: 150\\n\\nUNITED STATES DISTRICT COURT DISTRICT OF NEW JERSEY\\n\\nC-POD INMATES OF MIDDLESEX COUNTY ADULT CORRECTION CENTER, et al.,\\n\\nCivil Action No. 15-7920 (PGS)\\n\\nPlaintiffs,\\n\\nREPORT AND RECOMMENDATION\\n\\nv.\\n\\nMIDDLESEX COUNTY,\\n\\nDefendant.\\n\\nBONGIOVANNI, Magistrate Judge\\n\\nThis matter has been opened by the Court sua sponte based on Plaintiff Tyson Ratliff’s\\n\\n(“Ratliff”) failure to comply with this Court’s Orders. For the reasons that follow, it is respectfully\\n\\nrecommended that Ratliff’s claims be DISMISSED WITH PREJUDICE.\\n\\nBackground and Procedural History\\n\\nOn November 5, 2015, Plaintiffs, who were inmates housed at the Middlesex County Adult\\n\\nCorrection Center in “C-Pod,” a unit for solitary confinement, initiated this litigation by filing their\\n\\nComplaint against Middlesex County, challenging the social and environmental deprivations\\n\\nexperienced by inmates in C-Pod, alleging that said deprivations violated their constitutional\\n\\nrights. (See generally, Pl. Cmplt.; Docket Entry No. 1). Specifically, Plaintiffs brought claims for\\n\\n(1) unconstitutional punishment of pretrial detainees under the Fourteenth Amendment (Count I);\\n\\n(2) cruel and unusual punishment under the Eight Amendment (Count II); and (3) unconstitutional\\n\\nrestrictions on the right of access to the courts under the Fourteenth Amendment. (Id). A week\\n\\nafter Plaintiffs filed their Complaint, they sought to certify a class. (Pl. Motion to Certify Class;\\n\\nDocket Entry No. 3). This motion was ultimately withdrawn at Plaintiffs’ request in order to give\\n\\nthe American Civil Liberties Union (“ACLU”), which had decided to enter an appearance on\\n\\n\\x0cCase 3:15-cv-07920-PGS-TJB Document 42 Filed 07/31/18 Page 2 of 11 PageID: 151\\nbehalf of Plaintiffs, an opportunity to become acclimated with the case. (See Letter Order of 1/4/2016; Docket Entry No. 14).\\nMiddlesex County responded to Plaintiffs’ Complaint on December 17, 2015, denying that any constitutional violations had occurred. (See generally, Def. Answer; Docket Entry No. 11). After Defendant answered, the Court scheduled the Initial Conference in this matter. (Initial Scheduling Order of 1/5/2016; Docket Entry No. 15). During the Initial Conference, the Court set a schedule for certain discovery necessary to facilitate the parties’ settlement discussions. (See Scheduling Order of 3/1/2016; Docket Entry No. 21). Said discovery ensued and the parties’ settlement discussions progressed. (See Text Orders of 8/22/2016 & 10/6/2016; Docket Entry Nos. 25 & 26).\\nIn light of the development of the parties’ discussions, the Court scheduled an in-person status conference for January 30, 2017 for the purpose of discussing settlement. (Text Order of 12/6/2016; Docket Entry No. 27).1 During the conference, it became apparent that the parties’ negotiations had progressed significantly, with substantial headway having been made. As a result, the Court arranged to follow up with the parties via telephone on May 24, 2017.\\nOn May 24, 2017, the Court stayed discovery in order to further facilitate the parties’ settlement discussions. The Court also set a schedule for the parties’ exchanges of settlement proposals. (See Letter Order of 5/25/2017; Docket Entry No. 29). The parties continued to exchange settlement proposals and it appeared that a settlement had been reached with 8 of 9 of the named Plaintiffs having signed the settlement agreement by June 19, 2018. The only Plaintiff who had not signed the settlement agreement was Ratliff, though during a conference held on June 19, 2018, counsel indicated that Ratliff was not unhappy with the agreement, but nevertheless did\\n1 The conference was later moved to February 16, 2017. (Letter Order of 1/19/2017; Docket Entry No. 28).\\n2\\n\\n\\x0cCase 3:15-cv-07920-PGS-TJB Document 42 Filed 07/31/18 Page 3 of 11 PageID: 152\\nnot want to sign same. Given Ratliff’s refusal to sign the settlement agreement, the Court scheduled a telephonic settlement conference exclusively for Ratliff and his attorney for July 10, 2018. (Text Minute Entry of 6/19/2018). As the Court explained:\\nSo I scheduled a telephone conference for July 10th to, again, discuss the settlement with Mr. Duddy and Mr. Ratliff separate from the defendants. It was my intention to explore with him what Mr. Ratliff’s position was, if he had any concerns, if he wasn’t interested in the settlement, all of the concerns that a Court would address when we’re conducting an in-person settlement conference. . . . I thought I could at least tease-out and explore, again, with Mr. Ratliff informally what his concerns were, and perhaps address with Mr. Duddy any of the issues that he had, and maybe eliminate them, and move this along for a settlement. (Tr. of Proceedings of 7/26/2017 at 4:7-22; Docket Entry No.41). However, despite being aware of the scheduled telephonic settlement conference, Ratliff did not participate in same. As a result, on July 12, 2018, the Court entered a Letter Order to Show Cause in which Ratliff was ordered to appear in person before the undersigned on July 26, 2018 at 10:30 a.m. to show cause for his failure to participate in the scheduled July 10, 2018 conference. (Letter Order to Show Cause of 7/12/2018 at 1; Docket Entry No. 39). Ratliff was also directed to submit a written explanation regarding his failure to participate in the July 10, 2018 conference by July 24, 2018. (Id .at 2). Further, Ratliff was specifically warned that if he failed to comply with the Court’s Order to Show Cause, his claims could be dismissed from this matter: Should Plaintiff Ratliff fail to submit the written explanation or fail to appear in person on July 26, 2018 as ordered, both monetary and nonmonetary sanctions may be imposed, including the dismissal of his claims. (Id.) Despite the foregoing, Ratliff neither submitted a written explanation nor appeared in person at the show cause hearing.\\n3\\n\\n\\x0cCase 3:15-cv-07920-PGS-TJB Document 42 Filed 07/31/18 Page 4 of 11 PageID: 153\\nDuring the show cause hearing, the Court confirmed through his counsel that Ratliff was\\naware of the Court’s Order to Show Cause, the requirement that he submit a written explanation,\\nthe requirement that he appear in person, and the potential dispositive consequences failing to\\ncomply with the Court’s Order could have for him:\\nTHE COURT: I will now turn to, Mr. Duddy, and as I discussed off-the-record with you, I am not interested in encroaching upon your attorney-client communications. What you have a responsibility to do, however, is to report to the Court, did you, in fact, provide this letter order to Mr. Ratliff, as I had instructed? What’s your understanding of whether or not he received this letter; was aware of today’s appearance order to show cause hearing; whether he was aware of the July 24th submission date; and more importantly, if you have any indication of whether or not he intended to participate; and if he has any interest in proceeding with this litigation?\\nThat last aspect, I will note that there have been times where parties have somewhat compelled the Court to move forward while they are not interested in pursuing the litigation, they can’t be bothered, mind you, of even withdrawing the complaint or officially indicating that they no longer want to participate, and then we have to go through these steps.\\nSo, if I could -- that was very longwinded, but, Mr. Duddy, if you outline the steps that you have taken to communicate this letter with Mr. Ratliff, its import, and if you have any indication of whether or not he intended to continue with this litigation. You can remain seated, too.\\nMR. DUDDY: Thank you, Your Honor.\\nOn Monday -- on the morning of Monday, July 16th, I texted Mr. Ratliff a picture of the Court’s order to show cause. And that’s been the way that I’ve been communicating with Mr. Ratliff for some time now, probably going on six months via text message, that is.\\nSo I took a picture of the order to show cause, I text it to him.\\nAlso in the body of my text message, I kind of pointed out or highlighted the substance of the order, which was that he was to provide either me or the Court with a written explanation by July\\n4\\n\\n\\x0cCase 3:15-cv-07920-PGS-TJB Document 42 Filed 07/31/18 Page 5 of 11 PageID: 154\\n24th as to why he did not participate in the telephone conference on July 10th. And also, that he is to report in person to the Court with me today, July 26th. So, again, that was in the body of my text, in addition to sending him a picture of the order to show cause.\\nThe text message went through to Mr. Ratliff from my end. I then followed up my text message with a phone call to him later that day. He took my phone call, and I then reiterated, again, the body of my text to him verbally and the substance of the Court order, very slowly and clearly, so as to make sure that he understood. And I finished the phone call by asking that he text me back to confirm receipt of my earlier text messages. And he simply just responded “okay” or “fine,” something to that effect.\\nHe did not text me back later that day, or the next day, despite my repeated text messages to him in those days asking for him to confirm receipt.\\nI then mailed -- I overnight via overnight mail a hard copy version of the order to show cause to his last known address in New York, New York. It’s my understanding that that package is being returned, as of yesterday, because the occupant of his last known address is something other than him, and that person would not accept receipt of the package.\\nSo a couple days after that, after my initial text message to him on July 16th -- and I apologize if I’m jumping around -- but I would say July 18th and 19th, I called him two separate times to remind him of the text messages, and to remind him or ask him to confirm receipt of those text messages.\\nEach time I placed that call to him, he took my call. But midway through my explanation to him as to what I was asking him to do, he hung up on me both times.\\nAnd so those were my efforts to ensure that he received the Court’s order to show cause on July 12th.\\nI’m very confident that he did receive the order to show cause via text message. As I said, that has been our custom, that’s been our way of corresponding with one another, and the message did go through on my side.\\nAnd then, of course, in my conversation with him on July 16th, I repeated the substance and import of the order to show cause.\\n5\\n\\n\\x0cCase 3:15-cv-07920-PGS-TJB Document 42 Filed 07/31/18 Page 6 of 11 PageID: 155\\nSo I am confident that he did receive it, that he did understand the main aspects of it. And he’s not here today, and so I’m also confident that he’s not going to be showing up today before the Court.\\nAnd similarly, it’s my belief that he no longer wants to take part in this litigation, or prosecute this lawsuit of which he is a part.\\nHe did, I will add, finally, for the record, that about a week later -- a week after July 16th, thereabouts, and this would only be a couple days ago, he sent me a text message, seemingly out of the blue, more or less expressing his displeasure with the Middlesex County Jail. The text message neither answered the Court’s order to show cause, nor did it confirm receipt of my delivery of the order to show cause. It was something of an irrelevant non sequitur about some issue entirely different.\\nSo, again, given all those circumstances, I do not believe that he wishes to prosecute this lawsuit.\\nTHE COURT: One question. When you mentioned that you believe he understood the import of the order to show cause, did that include -- is it your impression that Mr. Ratliff realized that he could be dismissed as a complainant in this matter if he did not come forward today?\\nMR. DUDDY: It did include that, Your Honor, and I apologize for leaving that out of my summation here. When I spoke to him -- well, when I texted him the picture of the order to show cause, included in the body of my text was the information that if he did not comply with the order, he could be subject to sanctions/punishment, including his dismissal from the lawsuit, so that was in the body of my text. And I also repeated that to him in my phone conversation on the 16th. I repeated that to him slowly and clearly so as to make sure that he understood that.\\nSo to answer Your Honor’s question, yes, I do believe that he understands that as a consequence of not following through with the order to show cause, he could be dismissed from the lawsuit.\\n(Tr. of Proceedings of 7/26/2017 at 6:1 – 10:13). After confirming the foregoing, the Court\\nindicated its intention to enter a Report and Recommendation, recommending that Ratliff’s claims\\n6\\n\\n\\x0cCase 3:15-cv-07920-PGS-TJB Document 42 Filed 07/31/18 Page 7 of 11 PageID: 156\\nbe dismissed for “failure to comply with this Court’s orders and, equally as important, to prosecute his case.” (Id. at 11:10-11).\\nAnalysis The Federal Rules of Civil Procedure authorize courts to impose sanctions for failure to provide discovery, obey court orders and/or prosecute a case. See FED.R.CIV.P. 37(b)(2), 41(b). Where such failures have occurred, dismissal may be an appropriate penalty. Id. Generally, in determining whether to impose an involuntary order of dismissal with prejudice, the Court considers the factors set forth in Poulis v. State Farm Casualty Co., 747 F.2d , 863, 868 (3d Cir. 1984). These factors include:\\n(1) The extent of the party’s personal responsibility; (2) the prejudice to the adversary caused by the plaintiff’s conduct; (3) the history of dilatoriness; (4) whether the conduct of the party or the attorney was willful or in bad faith; (5) the effectiveness of sanctions other than dismissal, which entails an analysis of alternative sanctions; and (6) the meritoriousness of the claim. Id. No single Poulis factor is determinative and dismissal may be appropriate even if some of the factors are not met. See Mindek v. Rigatti, 964 F.2d 1369, 1373 (3d Cir. 1992); Hicks v. Feeney, 850 F.2d 152, 156 (3d Cir. 1988). If a court finds dismissal appropriate under Poulis, it may dismiss an action sua sponte, pursuant to its inherent powers and Federal Rule of Civil Procedure 41(b). See Iseley v. Bitner, 216 Fed App’x 252, 254-55 (3d Cir. 2007) (citing Link v. Wabash R.R. Co., 370 U.S. 626, 630-31, 82 S.Ct. 1386, 8 L.Ed.2d 734 (1962)). The Court considers the Poulis factors in determining whether to recommend the dismissal of Ratliff’s claims with prejudice. For the reasons that follow, the Court finds that under the circumstances presented here, the Poulis factors support the dismissal of Ratliff’s claims with prejudice:\\n7\\n\\n\\x0cCase 3:15-cv-07920-PGS-TJB Document 42 Filed 07/31/18 Page 8 of 11 PageID: 157\\n1. Plaintiff’s Personal Responsibility: Ratliff is personally responsible for his failure to participate in the July 10, 2018 telephonic settlement conference, scheduled exclusively for his and his attorney’s participation. He is also personally responsible for failing to appear on July 26, 2018 as ordered by the Court. As outlined in the Court’s Letter Order to Show Cause of July 12, 2018 and on the record during the show cause hearing held on July 26, 2018, Ratliff was clearly aware of both conferences, the requirement that he participate in same and the consequences that could befall him if he failed to participate. Despite this knowledge, Ratliff elected to ignore the Court’s Orders and not participate. This decision was solely his own and he bears full responsibility for same. As such, the Court finds this factor to favor dismissal of Ratliff’s claims with prejudice.\\n2. Prejudice to Defendant: Middlesex County has been prejudiced by Ratliff’s failure to prosecute this matter. As described above, the parties have been negotiating the settlement of this matter for many months. Just when it appeared that a full resolution had been reached, Ratliff decided to no longer participate in this case. While Ratliff certainly could not be compelled to agree to settle his claims, he was obliged to continue to participate in this matter. By failing to participate in the telephonic settlement conference or appear at the scheduled show cause hearing, Ratliff abandoned his duty to prosecute his claims. Ratliff’s failure to participate in his own case leaves Middlesex County defending a matter against an absentee plaintiff who has made it clear that he is no longer interested in pursuing his own claims. This is unacceptable and prejudicial to Middlesex County. The Court finds that this prejudice, which was caused by Ratliff’s failure to do that which was required of him, supports the dismissal of Ratliff’s\\n8\\n\\n\\x0cCase 3:15-cv-07920-PGS-TJB Document 42 Filed 07/31/18 Page 9 of 11 PageID: 158\\nclaims with prejudice. See, e.g., Scarborough v. Eubanks, 747 F.2d 871, 876 (3d Cir. 1984). 3. History of Dilatoriness: Ratliff’s failure to participate in the telephonic settlement conference scheduled exclusively for his benefit as well as his subsequent failure to appear, as ordered, at the July 26, 2018 show cause hearing establishes a recent history of dilatoriness on Ratliff’s part. The Court finds that this factor supports the dismissal of Ratliff’s claims with prejudice. 4. Willfulness or Bad Faith: While the circumstances surrounding Ratliff’s failure to participate as ordered by the Court could support a finding of bad faith, even if they did not, they certainly establish that Ratliff’s conduct has been willful. As a result, this factor further supports the dismissal of Ratliff’s claims with prejudice. 5. Effectiveness of Alternative Sanction: As already explained in detail, Ratliff was directed to participate in a telephonic settlement conference. When he refused to do so, the Court entered a Letter Order to Show Cause, requiring him to both appear in person to show cause for his failure to participate in the settlement conference and to submit a written explanation regarding this failure. Ratliff was explicitly warned that failing to comply with the Letter Order to Show Cause could result in the dismissal of his claims. Despite being on notice that his claims could be dismissed if he did not comply with the Letter Order to Show Cause, Ratliff failed to appear at the show cause hearing and failed to submit the required written explanation. Under these circumstances, the Court finds that no lesser sanction than dismissal of his claims with prejudice would be effective. See Joyce v. Continental Airlines, Inc., 09-2460 (WJM), 2011 WL 2610098, *2 (D.N.J. June 15, 2011).\\n9\\n\\n\\x0cCase 3:15-cv-07920-PGS-TJB Document 42 Filed 07/31/18 Page 10 of 11 PageID: 159\\n6. Meritoriousness of the Claims: In light of the proceedings to date, the Court finds it likely that there is some merit to Ratliff’s claims. As such, this particular factor militates against dismissing Ratliff’ claims with prejudice.\\nWhen the Court considers all of the Poulis factors set forth above, the Court finds that on balance they clearly support the dismissal of Ratliff’s claims with prejudice. Ratliff voluntarily filed this case. After doing so, he has failed to take the steps necessary to move this case forward. In fact, despite being given every opportunity to litigate his claims, Ratliff has elected to no longer participate in the case he initiated. As a result, this Court respectfully recommends that Ratliff’s claims be dismissed with prejudice.\\nConclusion The Court having given consideration to the Poulis factors; IT IS on this 31st day of July, 2018, RECOMMENDED that Ratliff’s claims be DISMISSED WITH PREJUDICE; and it is ORDERED that the Clerk of the Court activate this Report and Recommendation; and it is further ORDERED that defense counsel send a copy of this Report & Recommendation to Ratliff via both text message to Ratliff’s known cell phone number and via regular mail to Ratliff’s last known mailing address immediately upon counsel’s receipt of same; and it is further ORDERED that pursuant to FED.R.CIV.P. 72(b)(2) any party, including Ratliff, who has an objection to the proposed findings and recommendations set forth herein has 14 days after being served with a copy of this Report and Recommendation to file his specific written objections. For purposes of calculating the 14 days, Ratliff will be deemed served from the day defense counsel’s\\n10\\n\\n\\x0cCase 3:15-cv-07920-PGS-TJB Document 42 Filed 07/31/18 Page 11 of 11 PageID: 160 text message to Ratliff’s cell phone is delivered. Defense counsel is directed to inform the Court in writing once this text message has been sent. s/Tonianne J. Bongiovanni HONORABLE TONIANNE J. BONGIOVANNI UNITED STATES MAGISTRATE JUDGE\\n11\\n\\n\\x0c SETTLEMENT AGREEMENT and RELEASE\\n~is Senlemf?nt Agreement and Release hereinafter \"Agreement\") is made this\\nd.$ day of ~fe.-.rbe{ 2018 by and between the Plaintiffs in this Lawsuit Azariah\\nLazar, Luis Borrero 1 ector Amengual, Sean Pershmg Jonathan Rodriguez, Terrence Edwards Damani Harris and Patrick O\\'Dwyer, their heirs, representatives, successors and assigns (hereinafter collectively referred to as \"Plaintiffs\" or \"Releasors\") and the Defendant in this Lawsuit, County of Middlesex, its present and former affiliates, elected and appointed officials, directors, officers, agents, attorneys, employees, former employees, volunteer employees, representatives, insurers and reinsurers and all their successors and assigns (hereinafter collectively referred to as \"Defendant\" or \"Releasee\").\\nWhereas Plaintiffs assert claims against Defendant as more fully set forth in a lawsuit entitled C-Pod Inmates of Middlesex County Adult Correction Center, Azariah Lazar, Luis Borrero. Hector Amengual Sean Pershing, Tyson Ratliff: Jonatban Rodriguez. Terrence Edwards, Damani Harris. and Patrick 0 Dwyer v. Middlesex County, in the United States District Court, District of New Jersey under Docket No. 3:15-cv-7920 (PGS)(TJB) (herein referred to as the \"Lawsuit\" or \"Complaint\"); and\\nWhereas PlaintiffTyson Ratliffs claims have been dismissed with prejudice by the Court (see Docket Entry No. 45); and\\nWhereas Defendant denies any liability with respect to all matters asserted by Plaintiffs; and\\nWhereas the Plaintiffs and Defendant now wish fully and finally to compromise and settle the Lawsuit to avoid further burden, expense, hardship, inconvenience and distraction of further litigation and/or appeal between them; and\\nWhereas the Plaintiffs and Defendant hereto have reached a settlement agreement to fully and finally resolve all claims Plaintiffs raised in the Lawsuit, including all claims for declaratory and injunctive relief, as well as attorney fees and costs, up to and including the date of the final execution ofthis Agreement and Release; and\\nNow, in consideration of the good and valuable terms provided for by this Agreement, and the promises and covenants contained herein, the receipt and sufficiency of which the parties acknowledge, the parties do hereby agree as follows:\\nDefinitions:\\na. The term \"C-Pod Unit\" refers to the location where Defendant houses its administrative segregation and disciplinary detention units. The term has been used as shorthand by the parties to refer to the administrative segregation and disciplinary detention units. The terms ofthis Settlement Agreement relate to all\\n1 ofl5\\n\\n\\x0cadministrative segregation and disciplinary detention units, regardless of where they are located within Middlesex County Adult Correction Center (\"MCACC\"). b. The effective date of this settlement Agreement is the last date of a signatory of\\nthis Agreement.\\n\\nPrecautionary Supervision Unit. For the duration of this Settlement Agreement and Release, the Defendant shall continue to operate the Precautionary Supervision Unit (\"PSU\") in a\\nmanner that provides inmates with at least:\\n\\na.\\n\\n28 hours per week out of lock time, security permitting. Out of lock time will not\\n\\nbe adjusted due to facility lockdown; the schedule will be followed. b. Inmates will be handcuffed and escorted at all times while outside the housing\\n\\nunit (with the exception of recreation). c. Recreation time, according to a schedule set by the Operations Captain, Warden,\\nor other MCACC personnel. During recreation movement from PSU to either the\\noutside yard or the gymnasium, the following standards shall apply for movement\\n\\nboth to and from:\\n\\n(I) All movement in the back hallway will be stopped between Lower C and\\n\\nthe recreation area being utilized;\\n\\n(2) Radio transmissions will held for the duration of the move;\\n\\n(3) No handcuffing will be necessary. d. Inmates will be grouped together by the classification committee and that will\\n\\ndictate who comes out together during this initial period.\\n\\ne.\\n\\nUnder normal daily operations, inmates will not be handcuffed during window\\n\\nand wall inspections, but inmates will still need to be removed prior to an officer\\n\\nentering a cell.\\n\\nf.\\n\\nHatches will remain closed at all times except during meals.\\n\\nDefendant will provide Plaintiffs\\' Counsel with copies of any revised PSU directives that have been instituted. Plaintiffs\\' Counsel thereafter will have 14 days to object or otherwise comment on the revised directive that has been instituted.\\n\\nAccess to Programmin g. Defendant shall permit in unit programming on an ad hoc basis. Law library services will continue to be provided out of unit, at the library, twice per month .\\n\\nDisciplinary Detenti on. As required by NJAC 10A:31-17.2, Defendant will house inmates in disciplinary detention only for a period not to exceed 15 days as a result of a single disciplinary charge, and a period not to exceed 30 days as a result of multiple disciplinary charges.\\n\\nMental HeaJth Screening. Defendant has implemented a Mental Health Screening policy that gives the Director of Mental Health or his designee the authority to remove or prevent an inmate from being sent to disciplinary detention or administrative segregation if, in the discretion of the Director of Mental Health, such a placement is inappropriate. Inmates for whom such\\n\\n2 of15\\n\\n\\x0cplacement is inappropriate will remain on psych watch in medical or such location as designated by the Mental Health Professional.\\n\\nAttorney Access. Plaintiffs \\' counsel, and paralegals and law students working directly with them, shall have reasonable access to jail records and the jail facility, only as described\\nherein.\\n\\na. Twice per year, an \"attorney visit\" will be permitted which means an escorted walk-through of the MCACC that includes full access to: the administrative segregation and disciplinary detention units, PSU, areas used for programming and recreation, areas used for medical and mental health treatment (including suicide watch). The attorney visit will also include access to a conference room for at least three hours for Plaintiffs\\' counsel. Plaintiffs may bring experts at their\\nown expense on the attorney visits. b. Upon 14 days\\' notice, the MCACC will advise dates of availability for the\\nattorney visit.\\n\\nDocument Review. Two times per year, Defendant shall make the following information available upon request by Plaintiffs. Plaintiffs\\' requests for the following will be limited to a\\nperiod not to exceed six (6) months:\\n\\na.\\n\\nAll policies in effect at MCACC regarding Administrative Segregation, Protective\\n\\nCustody, Disciplinary Detention and PS U and any attendant polices related to\\n\\nsuch classification.\\n\\nb.\\n\\nWith a properly executed Authorization by the subject inmate, Use of Force\\n\\nReports.\\n\\nc.\\n\\nDisciplinary Detention and Administrative Segregation counts by day.\\n\\nd. With a properly executed HIPAA Authorization by the subject inmate, medical\\n\\nand/or mental health records.\\n\\ne.\\n\\nWith a properly executed HIPAA Authorization by the subject inmate, any report\\n\\nassociated with the in-house medical quality review conducted at MCACC related\\n\\nto Disciplinary Detention and/or Administrative Segregation.\\n\\nf.\\n\\nMCACC\\'s contracts with all medical providers.\\n\\ng.\\n\\nConcurrent with the anticipated deployment of a new jail management software\\n\\nsystem, a look-up will be available by individual as to incarceration status. h. With a properly executed HIPAA and/or other necessary Authorization by the\\n\\nsubject inmate, all inmate grievances/grievance decisions related to C-Pod.\\n\\nReview of these documents will be conducted according and subject to the Confidentiality and Protective Order that has been entered into by the parties (see Docket Entry No. 23), attached hereto as Ex hibit A . The parties understand and agree that said Order will remain in effect for the duration ofthe two-year term of agreement and any extension thereto.\\n\\nAt the conclusion of the two-year term of agreement, Plaintiffs shall give written notice\\n\\n3 ofl5\\n\\n\\x0cto counsel for Defendant certifying that all Confidential Material and information has been destroyed, as set forth in Paragraph 12 ofthe Confidentiality and Protective Order.\\nNotice. The relevant terms of this agreement will be incorporated into the inmate handbook which is disseminated to all inmates upon admission.\\nPrivate ettlement Agreement. This Agreement is a private settlement agreement within the meaning of 18 U.S.C. § 3626, the Prison Litigation Reform Act, and shall not be deemed to grant \"prospective relief\\' within the meaning of said Act. Nor shall this Agreement be deemed to constitute a consent decree or an adjudication on the merits.\\nSti pulation of Di mi ssal. The parties shall simultaneously herewith execute and deliver a Consent Stipulation of Dismissal of the Lawsuit with prejudice in the form attached hereto as E ·hibjt B, with respect to this action. The parties agree that after the Court orders said Stipulation of Dismissal, the Court shall have only the jurisdiction and authority specified in the following paragraph on Enforcement.\\nEnforcement. Any alleged non-compliance by Defendant that is claimed by Plaintiffs will be brought in writing by Plaintiffs\\' Counsel to Defendant\\'s Counsel. In the event of any reported alleged non-compliance by Defendant with a material provision of this Agreement, counsel to the parties shall meet and confer in an effort to resolve the reported alleged noncompliance within 30 days of receipt of written notice of the reported alleged non-compliance. In the event of claimed non-compliance with a material provision of this Agreement and a failure to achieve a resolution of the issue within 60 days of the meet and confer, either side may seek mediation by the Court. If such mediation fails to achieve a resolution, Plaintiffs may move before the Court for reinstatement of the lawsuit or ask the Court to recommend a one-time oneyear extension of the duration of this Agreement. Should the Court recommend that this Agreement be extended for one additional year, the parties agree to be bound by that recommendation. In the event of alleged non-compliance, Plaintiffs may also elect to proceed in state court and seek specific performance of the terms ofthis Agreement. Defendant reserves the right to all defenses to such proceeding in state court.\\nAttorn ey Pees and Costs. Defendant agrees to pay the total sum of $11,123.00 (Eleven Thousand One Hundred and Twenty-Three dollars) as attorney fees and costs in full and final settlement thereof. It is specifically understood and agreed that the amount paid under this Settlement Agreement and Release specifically includes all attorneys\\' fees and costs to which Plaintiffs and/or their attorneys may be entitled to arising out of this matter and the sum is specifically intended to be inclusive of all attorneys\\' fees and costs. Plaintiffs understand that by executing this Settlement Agreement and Release, they release and waive any additional claim and/or right to attorneys\\' fees and expenses in connection with the Complaint. Neither Plaintiffs, nor their attorneys, nor anyone acting on their behalf, shall make an application for additional monies in addition to the amount set forth in this paragraph.\\n4 ofl5\\n\\n\\x0cTerm of Agreement. This agreement shall be in effect for two years from the date the agreement is executed by the parties and shall be enforceable during that period according to the above terms, notwithstanding the Stipulation of Dismissal executed herewith.\\nRelease. Plaintiffs hereby release and forever discharge Defendant, its present and former affiliates, elected and appointed officials, directors, agents, attorneys, employees, former employees, volunteer employees, representatives, insurers and reinsurers, third-party administrators and all of their successors and assigns, from any and all actions for the legal claims at issue in the Lawsuit, up to the date of the signing of this Agreement. Plaintiffs acknowledge that this is a Release of all claims in the Lawsuit and all claims set forth in the Complaint, including claims for attorney\\'s fees, expenses and costs. Plaintiffs further release any and all rights they may have to seek discovery on the claims in the Lawsuit. Plaintiffs hereby release and forever discharge Defendant from any and all claims for attorney\\'s fees which they may have against Defendant, its heirs, executors, administrators, successors and/or assigns, arising out of this Lawsuit.\\nPlaintiffs further covenant and promise that they will not hereafter file or cause to be filed on their behalf any charge, complaint or legal or administrative action of any nature before any court or administrative agency to assert any claim against any of the persons or entities released herein, for the claims in the Lawsuit, except as may be necessary to enforce this Agreement.\\nThis Agreement does not constitute and shall in no manner be construed as an admission of any wrongdoing or liability on the part of the County of Middlesex or as an admission by the County of Middlesex of th~ validity of any of the Plaintiffs\\' allegations as contained in their Complaint and/or as supplemented during the course of discovery. Defendant continues to maintain the validity of the denials and affirmative defenses set forth in its Answer to the Complaint.\\nPlaintiffs represent that they have not assigned to any third party any claim in the Lawsuit. Plaintiffs represent and warrant that no other person or entity has or has had any interest in the claims, demands, obligations or causes of action referred to in this Agreement and Release; and that Plaintiffs have not sold, assigned, transferred, and/or conveyed to any third party, and/or otherwise disposed of, any of the claims, demands, obligations, or causes of actions at issue in the Lawsuit. Plaintiffs further represent that they will not file or cause to be filed any charge, claim or complaint of any kind against the Defendant seeking recovery, sanctions, or injunctive relief, with respect to the claims in the Lawsuit.\\nPlaintiffs agree that they will not voluntarily assist in any claim or litigation which may be pending or filed in the future against Defendant concerning any claims in the Lawsuit. The parties hereto acknowledge that Plaintiffs may be compelled to testify in litigation by court order or process.\\nPlaintiffs\\' counsel have agreed that, at the time of the execution of this Release, there is no intention to initiate a new lawsuit related to, or to continue with the prosecution of, the claims\\n5 of15\\n\\n\\x0cin the Complaint against Defendant, their present and former affiliates, elected and appointed officials, directors, agents, attorneys, employees, former employees, volunteer employees, representatives, insurers and reinsurers, third-party administrators and all of their successors and assigns.\\nBy executing this Agreement, Plaintiffs represent and acknowledge that they do not rely, and have not relied upon, any representation or statement not set forth in this Agreement made by Defendant, or its counsel with regard to the subject matter, basis, or effect of this Agreement or otherwise. This Agreement sets forth the entire agreement between the parties and supersedes any and all prior agreements or understandings between the parties.\\nThis Settlement Agreement and Release shall be binding and inure to the benefit of the Plaintiffs, including successors, assigns, heirs, executors and personal and legal representatives, the County of Middlesex, as well as the successors and assigns of the County of Middlesex, its Departments, and its present and former elected and appointed officials, officers, directors, agents, administrators, attorneys, representatives and employees.\\nThis Agreement shall be construed in accordance with the laws of the State of New Jersey.\\nThe parties agree that the language of this Agreement has been negotiated, is a product of the draftsmanship of all of the parties and that the usual rule that the provisions of a document are to be construed against the drafter shall not apply to the interpretation of any provisions hereof.\\nThe signatures of the parties below indicate they have had an opportunity to review this Agreement with their attorneys, that they have read and understood the provisions and that they have executed it voluntarily with full knowledge of the significance of all its tenns and provisions.\\nCounsel of record, all of whose signatures appear below, represent and warrant that they have reviewed this Settlement Agreement and Release with their respective clients. The Plaintiffs have been advised by their counsel to execute the Agreement and Release.\\nThis Agreement may be executed in counterparts, each of which, when so executed and delivered, shall be deemed to be an original.\\nIN WITNESS WHEREOF, and intending to be legally bound, the parties have executed this Agreement.\\n6 ofl5\\n\\n\\x0cSTATEMENT BY PLAINTIFF, AZAIUAH LAZAR, WHO IS SIGNING BELOW: AKAHTAPHARTEHNHGENAGATHADITVIRORVSSSDOEEEWEOIDEREDTALNHMOMNIEOENNAACEEFEDDTLDUYELNNGENAMFTTNTEPSUDTAEDIUITLUAEXNNAFHLRON,TTNFYATRAOIDFCACTIUHNNITHKBENIAOHOAANENADLANSOI\\'MEElLLVC\\'WURXEAEEITWSNNIEAGDNITCDGALMAVAGDUEIEILEN,VAOSRTLEDTNINASIYANNDHTDNENTGGAEPBDHMLNOSSTAEEDVEOUUOHNGOPNFPIMYAIRLSFDPNAYLOUIAOCAFVNBNRWRATIGIETDYTEISDRRGNAURIVIAEOIHCRTNTIELNYYISTISMNCLTOSS, OYGMETRRSUONNECSIANFTGTRSTONOPDOUHM.TPNRELTHESEIICRTCS.EOROOAOHTORANRTNAIHWRGISSVTITOEIURSUCOETEXNLELLAHRETECATEMGCMWAXITRWUMSWREHEIETSTCIEONEIETETFHUITFMHUHFTMTTAUELIHMMNAHNNALLIYYGDYNYELST ATTORNEY(S).\\n. A Dated:~,2018( By; \\'IJ·%;1;~i~/J1tL\\nSTATE OF NEW .mRSEY:\\nCOUNTY OF /~iJ.lf<.SC!Y\\nI CERTIFY that on~·----\\' 2018, AZARIAH LAZAR,\\npersonally came before me and acknowledged under oath, to my satisfaction, that he: (a) is named in and personally signed this document; and (b) signed, sealed, and delivered this document as their act and deed.\\nI\\n7 of 16\\n\\n\\x0cSTATEMENT BY PLAINTIFF, LUJS BORRERO, WHO IS SIGNING BELOW: RTTHAAPKAHAEHHENATGNAGRATIDIVVORRSSSODEEEEW.OIDREEDALTNHNOMMIENEONAAECFEEDDTLDYEULNNEGNFMATTTNPESUDTAERDULAITEXNNIAFLHNOR,TTFNYATRAOIFDCACTIUHNNTHIKBNEIAODAAHNENDALNSAOIETEMLLCVWRXUAEEITESWNEAINGDTINCDLMGVAAAGDUEIIELNESA,VORTLEDNTIAISNAYDNNDTHNENTGGAEDBHDMLNOSETSAEDVEOUOUHGNPONPFIMAIYRSLPNFDAOLYUOIAACFVNWBNRRAGTIIYTDETIDSRERGANUIRVIEAOIHRTCNTEILNISYTYISMNLCTOSS,GYEOMRTRSOUNNESCAIFNTTGTRSONOJOD.UTHM>PNEHRLTESIECRCITSE.OROOHOATROANR·ANTyHWRGSIVSTITEOUIRUSCEOTEXNLELLAHRECTETEAMGCMAXWTIWRUMWSREHEIETECISTNIOEETETFUHTIFMHUHFTTMATULEIIMMNANAHLLNDDYYYJNGYETSJ ATTORNEY(S).\\n\\nDated: {rr ;_~ - -\\n\\n• 2018\\n\\nBy:--\\'L-U-I-S -BO-R-R-E--R-O--------------------\\n\\nPt.\\'-\"Y\\\\~iv\\\\\\\\ v(\\'...,,·•I,\\nSTAT.It OF NEW:JEfi&Fr¥t\\nCOUNTY .OF b) ~~ ({\\' L\\nI CERTIFY that on _.:::...J\\'---\\'.-,v_l\\',_l,=·<-\"----~!~5..·.-__ _ _ _, 2018, LUIS .BORRERO,\\npersonally came before me and acknowledged under oath, to my satisfaction, that he:\\n(a) is named in and personally signed this document; and (b) signed, sealed, and delivered this document as their act and deed.\\n\\n8 of 16\\n\\n\\x0cSTATI~MENT BY PLAINTIFF, HECTOR AMI~NGUAL, WHO IS SIGNING BELOW:\\nAHAKATPHRATEHNGAHENGATRADITVRIORVSSSODEEEWEOIDEREDTLANHMOMNIEOENNAACEFEEDDTLDY.UELNNGENAFMTTTNEPSUDTAEDRUTILAEXNANIFHLRONT,NTFYAATROJDFCACTIUHNNTHKIDINEADHOAANEANDLASNOIMTEELLVCWRUXEEAEITWSNIAENGDNITCDLAMCAVAGDUEEILIEN,AVOSRTLTEDNIANSIAYNNDHDTNENTGGAEDBDHMLNOSSTAEEDVEOUUOHNGOPNFPMIYAIRLSFPNDAYLOUIAOCAFVNBNRWIATIGUIEYTDTEDSRRNGAURIVAIEIOCRHTNTIELNYYSITISMNLCTOSS, OYGMETRRSOUNNECSIANFTGTRSTONOPDOUHM.TPNRELTHESECIRITSC.EOROOAHOTORARNTANIHWRGISTVSITOEIUSRCUOETEXNLELLRHAETECAETMGCMWAXITRWUMSWRHEEIETTSICEONEIETEHTFUFITMHHUFTTMTAUELIHMMAHNNANLLIYYDGEYNYLST\\nA1TORNEY(S).\\n\\nA Dated:\\n\\n~\\n\\nC)\\n112.\\n\\n(Q\\n\\n, 2018\\n\\nSTATE OF NEW .JERSEY :\\nCOUNTY 01•\\' tv\\\\·,~~l( \\\\,\\\\~.,e.\\nI CERTIFY that on ~A>-·~v:...:..(\\'_,\\\\_.-\\'bJt,LJ\\\\t-----• 2018, HECTOR AMENGUAL,\\npersonally came before me and acknowledged under oath, to my satisfaction, that he: (a) is named in and personally signed this document; and\\n(b) signed, sealed, and delivered this document as theh· act and deed.\\n\\n9 of 16\\n\\n\\x0cSTATEMENT BY I}LAINTIFF, SEAN PERSING, WHO IS SIGNING DELOW:\\nHKTARAHPAATEHNHANGEAGTRDITAIROVVRSSSODEEWEEO1EDREDALTNIHMNOI\\\\EENNO1AAECFEEDDTLDYUELNNEGNFAMTTNTEPSUDTADEIULTIAUEXNNAFLHRNO,TTNFYATOARIFDCACTIUHNNTHIKBENIADOAHANENDALANSO1MTEELLVCWRUXEEAIETWSNAEGINDNITCDLAMAGVAGDUEJIEIENVJS,AORTLEDTNISNAIYNADNTHDNETNGGAEDBHDMLNOSTSEAEDVEOUUOHGNIOPNPIM~YIARSL\\'NPDAYLFOUOAIAFVNNBWCRRATGiIYTDTEISDlRRGAUlRIVIAEONIHRTNTCEILNYITSYSIMNLCT,OSSOGYMETRRSOUNNESCIAFNTGTRSTONOPODUHM.TPNIELHTUESEICRTCSE.OROOAHO\\'ROfANTRANlIWRUGJSVSTTOEIUSRUOCETEXNELLLHRAECETATEMGCMAWXITURWMSWREHEIETSETCINOEIETETFHUTlIMHiUHF\\'TTMATUELIHMMNANHNLALIDYYGYYNETLS ATTORNEY(S).\\n\\nDated: _!_i/.13._ _ ,20,18\\n\\nSTAJ\\'E OF NEW JERSEY :\\n\\nMrddleseY c\\n\\nou\\n\\nN\\n\\nTY oF , I CERTIFY\\n\\nthat\\n\\non\\n\\n:.\\n_~;:::.O,_,h=Vl_.___:_P.~)Jf=c,\"-\",;v_.1.1:!.J:.:.\\'~\\':.f:.~;1-\\'\\\\l~L \\\\- ~ -\\n\\n·\\n\\n2018,\\n\\nSEAN\\n\\nPERSING,\\n\\npersonally\\n\\ncame before me and acknowledged undet· oath, to my satisfaction, that he:\\n\\n(a) is named in and pel\\'sonally signed this document; and\\n\\n(b) signed, sealed, and delivered this document as their act and deed.\\n\\nI\\n10 of 16\\n\\n\\x0cSTATEMENT BY J>LAINTIFF,J ONATHAN RODlUGUEZ, WHO IS SIGNING DEL OW:\\nAHKAATPTRHAEHINGANGEAT-IRDAIRVTORVISSSODEEEWEOIDEREDLTANMMHONIEEONNAACEEEFDDTLDYUELNNGENAMFTTTNEPSUDTAEDRUITLEAXNANIFHLRNOT,TNFYAATORIDFCACTIUHNNKITHBINEADHOANAEANDLANSO1TMEELLVCWRUXEEAEITWSNANIEGDNITCDLGAMAVADGUEIELIENV,OASRTLTEDNINASIYANNDHTDNENTGGAEDBDHMLNOSSTEAEDVEOUUOHNGOPNFPMIYAIRLSFDPNAYLOUIAOCFANVNBRWRTAIGEYTIDTEIDSRRGANURIVAIEIORHCNTTIELNYYTSISIMCLNTOSS,OYGMTERRSUONENCSIANTGFTRSOTNODUPHOM.TINI,ELTHEUSERCITSC.EOROAOOHTORARNTNAIWHRIGSTVSTOIEIUSRCUOEETNXLELLRHAETCEAETMGCMWAXTIRMWUSWRHEEIETSTCIEONEIETEHTFUIFTMHUHFTMTTAUELIMHMANHNNLALIYYGDYEYLNTS . ATTORNEY(S). ·\\n\\nDated: r_/ · 1__,2Q18\\n\\nBy: ~~-~ .JONATHANR0DRIGUEZ\\n\\nSTATE OF NF.W ,JERSEY :\\nCOUNTYOF ~ u~ .<(\\nI CERTIFY that on ~_c;_.;_;\\\\i\\'--_c_:._)_ _ ___, 2018, JONATHAN\\nRODRIGUEZ, personally came before me and acknowl~dged under oath, to my satisfactioi1, that\\nhe:\\n(a) is named in arid personally signed this document; and (b) sigi1ed, sealed, and delivered this document as theiL· act nnd deed.\\n\\n12 of 16\\n\\n\\x0c~ 0 0\\n•• • ··•\\n\\n0 0\\n\\n:~ 0 0 .. , , ,\\n\\n0 0\\n\\n0\\n\\n••\\n\\n0\\n\\n0\\n\\n: a0;\\n\\nJ •o\\n\\n..\\n\\n.. .\\n\\nI. _: . ....... .\\n\\n. ··: \\\\ •~ I · • :: ~: .:: ; .:. . ..\\n\\n•• •••L . : · r.::: ·. ··.~:\\n: ~~\\n\\nI\\n\\nStATEMENT DY PLAINTIFF, TERRENCE EDWARDS, WHO IS SIGNING BELOW:\\n\\ntj ~.\\n\\nAHKATAPHTAREHNHAEGNGATRADTIVIORVRSSSDOEEEEWOIDREEDTNLAHMNMOIEOENNAAECFEEDDTLDYULENNGENAFMTTTNEPSUDTAERDUITLAJXNNAIFmHLNOT,TNFYATOARI~FCACTIUHNTNIHKDENIADOHAANENDALASNOITEMELLVCWRUXEAEEITWSNNEIGADINTCDGAMVAlAG.DlUEEIILNV~,SOARTLEDTINNASIYNADNHTDENNTGGAEDBDHMLNOSSTEAEDVEOUUOHGNOPNFPIMYARISLFDNP~LYOUAIOFCAVNNBWRRTAIGIETYDTIESDRRGNAUIRVAIEOIRHCTNTEILNYYSITSIMNLCTOSS, OYGMETRRSOUNNECSIAFNGTTRSTONOPUDOHM.TPNREITHE.S4EIICRCST.EOROOOAHTROARNTNAIHWRGSISVTIOTEUIRSUCOETEXNLELLRHAETECATEMCGMWAXITUMSWRWRHEEITETSNECIEOIETETHFUTlFHMHUFTTMTAULEIHMMNHANALLNIYYGDYYENLSJ\\n\\n!\\n:.\\ni\\nI\"\\nI\\nI\\nI.\\nI1:\\'\\n:.):\\n\\nATI\\'ORNEY(S).\\n\\n<r-•.sL \\\\) - - Dated:~ 2018 By: TERRENCEEbWARDS~\\n\\nt;r;:J;:{ STATE OF NF.W\\n\\nCOUNTY 01~.11_\\nI CERTIFY\\n\\n>\\nthat\\n\\n\\' Y{, tjj . j / A\\nrut --Jr~---\\'\\n\\n2018,\\n\\nTERRENCg\\n\\nEDWARDS,\\n\\npersonally came before me and acknowledged under oath, to my satisfaction, that he:\\n\\n(a) Is named in and persomlUy signed this document; and\\n\\n. (I>) signed, senled, and delivered this document as theh· net nnd deed, .\\n\\n• t ,.,\\n13 of 16\\n\\n\\x0cSTATEMENT BY PLAINTIJi\\'Jl, DAMANI HARRIS, WHO IS SIGNING BELOW: AAKAHTHPARTEHNGANGHEATRADIRVTORIVSSSDOEEEWEOIDEERDLTANMMHONIEOENNAACEEEFDDTLDYUELNNGENAFMTTTNEPSUDTAEDRUITLEANXANIFLHRNOT,TNFYAATORDIFCACTIUHNNTKHIBINEADHOAANEANDLANSOIMETELLVCWRUXEEAEITWSNANIEGDNITCDLGAMAVAGDUEIELIEN,AVOSRTLTEDNINASIYANNDHDTNENTGAGEDBHDMLNOSSTEAEDVEOUUOING-OPNlFPMYlAIRLSFDPNAYLOUIOACAFVNNBRWRATIGIYETDTEIDSRRGNAURIVAIEIOCRHNTTIELNYYTSIISMCLNTOSS, OYMGTERSROUNENCSIANFGTTRSTONPODUHOM.TPNRELTHESEICRITSC.EOROOAOHTORARNTNAIHWRGISSTVTOIEIURSUCOEETXNLELLRHAETECATEMGCM·WAXITUMRWSWRHEEIETSTICEONEIETEHTFUITFMHUFHTTMTAUELIHMMAHNNNALLIYYDGEYYLNST ATTORNEY(S).\\nSTATE OF NEW JERSEY :\\nCOUNTY OF Lv~l.:.,.r\\\\,:,\\\\J\\nI CERTIFY that on 1\\\\~r--\\'··_\\\\;,_----=\\\\.,==------\\' 2018, DAMANI HARRIS,\\npet\\'sonally came before me and acknowledged under oath, to my satisfaction, that he: (a) is named in and personally signed this document; and (b) signed, sealed, and delivered this document as theit· act aud deed.\\n14 of 16\\n\\n\\x0cSTATEMENT BY PLAINTIFF, PATRICJ( O\\'DWYEH, WHO IS SIGNING BELOW: 1THICPIDHARNNEHHHEAAOTTRAATIAVVCAESSODTLUEENORKLMIDDDANHNENAEOENANTAEOMFNNDLOYDGEWTEWNTEFBIPSSAAUDNAE1ROUNXALGIHLlFVD,LAON,EEFFIYlRTNIAGIIiSNCTNGUUAUTHEIADNENLOFRANANDLDFSNCVCYEITEECIYOORRXAABITNLSSEEADLOIUTMSTNCNVUAAUAN}DCUINN]NNLTS}YTDADETDADI,ANLDARBLSMTNLGTYEYCDlYMIRGOiOITlMITAElPRNGOiSA1ElLIHPl)WGITNSRAPNOTHEONIODSRATRTVERVWGHOMSTR1TIRISRSEMSUUUIOEWR.OCNNYTERMNILDIIIMSATNTAESSEHYTEGPXIROOMTRNETFOTTFTITSCOHHORO.TTUIRENIHHMTSICETCEEEFAOAYOOHUYTAAG(NNAESILGG-RSHSV)XLl.lURREUASEEELEEKVLCAETEMCTNEUGMMAEOTTWRWRENEIWOENIENNTIETLLTGFTTMHAEAHUTNDAAETLHMDNNGANELIDDYNYRETSI\\n\\nSTATE\\' OF N.l!:W JERSEY :\\n. COUNTY Oir V~ t,JQlua\\n\\nI 2018, PATRICK O\\'DWYER,\\n\\npersonally came before me and acknowledged under onth, to my satisfaction, that he: (a) is nnrned Jn and personally signed this document; and (b) signed, sealed, and delivered this document ns their act and deed.\\n\\n15 of 16 ·\\n\\n\\x0cNew Jersey Offioe of the Public Defendel\\' Attomeysfol\\' Plalnl(/fo\\nD-. ~\\nAmedcn11 Civil Libet1ics Union ofNew Jersey A.ttomeysfor Plaintiffs\\nBy:~LA~ cmme LoCicero, Esq. Amel\\'icnn Civil.Liberties Union of New Jersey Attomeys[or Plaintiffs\\nBy:~ t7BOfdett;~\\nDvomk and Associates; LLC . Attomeysfor • ndant\\n15 of 15\\n\\n\\x0c CLOSED,PLO,RULE16,SCHEDO\\nU.S. District Court District of New Jersey [LIVE] (Trenton) CIVIL DOCKET FOR CASE #: 3:15-cv-07920-PGS-TJB\\n\\nC-POD INMATES OF MIDDLESEX COUNTY ADULT CORRECTION CENTER et al v. MIDDLESEX COUNTY Assigned to: Judge Peter G. Sheridan Referred to: Magistrate Judge Tonianne J. Bongiovanni Cause: 42:1983 Prisoner Civil Rights\\n\\nDate Filed: 11/05/2015 Date Terminated: 10/24/2018 Jury Demand: Defendant Nature of Suit: 555 Prison Condition Jurisdiction: Federal Question\\n\\nPlaintiff\\nC-POD INMATES OF MIDDLESEX COUNTY ADULT CORRECTION CENTER\\non behalf of themselves and all others\\nsimilarly situated\\n\\nrepresented by ALEXANDER R. SHALOM AMERICAN CIVIL LIBERTIES UNION OF NEW JERSEY FOUNDATION 89 Market Street, 7th Floor P.O. BOX 32159 NEWARK, NJ 07102 973-854-1714 Email: ashalom@aclu-nj.org\\nLEAD ATTORNEY\\nATTORNEY TO BE NOTICED\\n\\nFLETCHER C. DUDDY NEW JERSEY OFFICE OF THE PUBLIC DEFENDER HUGHES JUSTICE COMPLEX 25 MARKET STREET P.O. BOX 850 TRENTON, NJ 08625 609-292-7087 Email: ﬂetcher.duddy@opd.state.nj.us\\nLEAD ATTORNEY\\nATTORNEY TO BE NOTICED\\n\\nJEANNE LOCICERO AMERICAN CIVIL LIBERTIES UNION OF NEW JERSEY FOUNDATION 89 Market Street, 7th Floor P.O. BOX 32159 NEWARK, NJ 07102 973-854-1715 Fax: 973-642-6523 Email: jlocicero@aclu-nj.org\\nLEAD ATTORNEY\\nATTORNEY TO BE NOTICED\\n\\nJENNIFER N SELLITTI RICHARD J. HUGHES JUSTICE COMPLEX 25 MARKET STREET, 2ND FLOOR,\\n\\n\\x0cPlaintiff AZARIAH LAZAR on behalf of themselves and all others similarly situated\\n\\nNORTH WING, P.O. BOX 850 TRENTON, NJ 08625 LEAD ATTORNEY ATTORNEY TO BE NOTICED\\nJESSE M. DEBROSSE RICHARD J. HUGHES JUSTICE COMPLEX 25 MARKET STREET, 2ND FLOOR, NORTH WING, P.O. BOX 850 TRENTON, NJ 08625 LEAD ATTORNEY ATTORNEY TO BE NOTICED\\nTESS MEILING BORDEN AMERICAN CIVIL LIBERTIES UNION OF NJ 89 MARKET ST PO BOX 32159 NEWARK, NJ 07102 973-854-1733 Email: tborden@aclu-nj.org LEAD ATTORNEY ATTORNEY TO BE NOTICED\\nrepresented by ALEXANDER R. SHALOM (See above for address) LEAD ATTORNEY ATTORNEY TO BE NOTICED\\nFLETCHER C. DUDDY (See above for address) LEAD ATTORNEY ATTORNEY TO BE NOTICED\\nJEANNE LOCICERO (See above for address) LEAD ATTORNEY ATTORNEY TO BE NOTICED\\nJENNIFER N SELLITTI (See above for address) LEAD ATTORNEY ATTORNEY TO BE NOTICED\\nJESSE M. DEBROSSE (See above for address) LEAD ATTORNEY ATTORNEY TO BE NOTICED\\nTESS MEILING BORDEN (See above for address)\\n\\n\\x0cPlaintiff LUIS BORRERO on behalf of themselves and all others similarly situated\\nPlaintiff HECTOR AMENGUAL on behalf of themselves and all others similarly situated\\n\\nLEAD ATTORNEY ATTORNEY TO BE NOTICED\\nrepresented by ALEXANDER R. SHALOM (See above for address) LEAD ATTORNEY ATTORNEY TO BE NOTICED\\nFLETCHER C. DUDDY (See above for address) LEAD ATTORNEY ATTORNEY TO BE NOTICED\\nJEANNE LOCICERO (See above for address) LEAD ATTORNEY ATTORNEY TO BE NOTICED\\nJENNIFER N SELLITTI (See above for address) LEAD ATTORNEY ATTORNEY TO BE NOTICED\\nJESSE M. DEBROSSE (See above for address) LEAD ATTORNEY ATTORNEY TO BE NOTICED\\nTESS MEILING BORDEN (See above for address) LEAD ATTORNEY ATTORNEY TO BE NOTICED\\nrepresented by ALEXANDER R. SHALOM (See above for address) LEAD ATTORNEY ATTORNEY TO BE NOTICED\\nFLETCHER C. DUDDY (See above for address) LEAD ATTORNEY ATTORNEY TO BE NOTICED\\nJEANNE LOCICERO (See above for address) LEAD ATTORNEY ATTORNEY TO BE NOTICED\\nJENNIFER N SELLITTI (See above for address) LEAD ATTORNEY ATTORNEY TO BE NOTICED\\n\\n\\x0cPlaintiff SEAN PERSHING on behalf of themselves and all others similarly situated\\nPlaintiff TYSON RATLIFF on behalf of themselves and all others similarly situated TERMINATED: 08/22/2018\\n\\nJESSE M. DEBROSSE (See above for address) LEAD ATTORNEY ATTORNEY TO BE NOTICED\\nTESS MEILING BORDEN (See above for address) LEAD ATTORNEY ATTORNEY TO BE NOTICED\\nrepresented by ALEXANDER R. SHALOM (See above for address) LEAD ATTORNEY ATTORNEY TO BE NOTICED\\nFLETCHER C. DUDDY (See above for address) LEAD ATTORNEY ATTORNEY TO BE NOTICED\\nJEANNE LOCICERO (See above for address) LEAD ATTORNEY ATTORNEY TO BE NOTICED\\nJENNIFER N SELLITTI (See above for address) LEAD ATTORNEY ATTORNEY TO BE NOTICED\\nJESSE M. DEBROSSE (See above for address) LEAD ATTORNEY ATTORNEY TO BE NOTICED\\nTESS MEILING BORDEN (See above for address) LEAD ATTORNEY ATTORNEY TO BE NOTICED\\nrepresented by ALEXANDER R. SHALOM (See above for address) LEAD ATTORNEY ATTORNEY TO BE NOTICED\\nFLETCHER C. DUDDY (See above for address) LEAD ATTORNEY ATTORNEY TO BE NOTICED\\nJEANNE LOCICERO\\n\\n\\x0cPlaintiff JONATHAN RODRIGUEZ on behalf of themselves and all others similarly situated\\nPlaintiff TERRENCE EDWARDS on behalf of themselves and all others similarly situated\\n\\n(See above for address) LEAD ATTORNEY ATTORNEY TO BE NOTICED\\nJENNIFER N SELLITTI (See above for address) LEAD ATTORNEY ATTORNEY TO BE NOTICED\\nJESSE M. DEBROSSE (See above for address) LEAD ATTORNEY ATTORNEY TO BE NOTICED\\nTESS MEILING BORDEN (See above for address) LEAD ATTORNEY ATTORNEY TO BE NOTICED\\nrepresented by ALEXANDER R. SHALOM (See above for address) LEAD ATTORNEY ATTORNEY TO BE NOTICED\\nFLETCHER C. DUDDY (See above for address) LEAD ATTORNEY ATTORNEY TO BE NOTICED\\nJEANNE LOCICERO (See above for address) LEAD ATTORNEY ATTORNEY TO BE NOTICED\\nJENNIFER N SELLITTI (See above for address) LEAD ATTORNEY ATTORNEY TO BE NOTICED\\nJESSE M. DEBROSSE (See above for address) LEAD ATTORNEY ATTORNEY TO BE NOTICED\\nTESS MEILING BORDEN (See above for address) LEAD ATTORNEY ATTORNEY TO BE NOTICED\\nrepresented by ALEXANDER R. SHALOM (See above for address) LEAD ATTORNEY\\n\\n\\x0cPlaintiff DAMANI HARRIS on behalf of themselves and all others similarly situated\\n\\nATTORNEY TO BE NOTICED\\nFLETCHER C. DUDDY (See above for address) LEAD ATTORNEY ATTORNEY TO BE NOTICED\\nJEANNE LOCICERO (See above for address) LEAD ATTORNEY ATTORNEY TO BE NOTICED\\nJENNIFER N SELLITTI (See above for address) LEAD ATTORNEY ATTORNEY TO BE NOTICED\\nJESSE M. DEBROSSE (See above for address) LEAD ATTORNEY ATTORNEY TO BE NOTICED\\nTESS MEILING BORDEN (See above for address) LEAD ATTORNEY ATTORNEY TO BE NOTICED\\nrepresented by ALEXANDER R. SHALOM (See above for address) LEAD ATTORNEY ATTORNEY TO BE NOTICED\\nFLETCHER C. DUDDY (See above for address) LEAD ATTORNEY ATTORNEY TO BE NOTICED\\nJEANNE LOCICERO (See above for address) LEAD ATTORNEY ATTORNEY TO BE NOTICED\\nJENNIFER N SELLITTI (See above for address) LEAD ATTORNEY ATTORNEY TO BE NOTICED\\nJESSE M. DEBROSSE (See above for address) LEAD ATTORNEY ATTORNEY TO BE NOTICED\\nTESS MEILING BORDEN\\n\\n\\x0cPlaintiff PATRICK O\\'DWYER on behalf of themselves and all others similarly situated\\nV. Defendant MIDDLESEX COUNTY\\n\\n(See above for address) LEAD ATTORNEY ATTORNEY TO BE NOTICED\\nrepresented by ALEXANDER R. SHALOM (See above for address) LEAD ATTORNEY ATTORNEY TO BE NOTICED\\nFLETCHER C. DUDDY (See above for address) LEAD ATTORNEY ATTORNEY TO BE NOTICED\\nJEANNE LOCICERO (See above for address) LEAD ATTORNEY ATTORNEY TO BE NOTICED\\nJENNIFER N SELLITTI (See above for address) LEAD ATTORNEY ATTORNEY TO BE NOTICED\\nJESSE M. DEBROSSE (See above for address) LEAD ATTORNEY ATTORNEY TO BE NOTICED\\nTESS MEILING BORDEN (See above for address) LEAD ATTORNEY ATTORNEY TO BE NOTICED\\nrepresented by LORI A. DVORAK DVORAK & ASSOCIATES, LLC 390 GEORGE STREET 8TH FLOOR NEW BRUNSWICK, NJ 08901 (732) 317-0130 Fax: (732) 317-0140 Email: ldvorak@dvorakandassociates.com LEAD ATTORNEY ATTORNEY TO BE NOTICED\\nDANIELLE ABOUZEID DVORAK AND ASSOCIATES, LLC 390 GEORGE STREET, 8TH FLOOR NEW BRUNSWICK, NJ 08901\\n\\n\\x0c(732) 317-0130 Email: dabouzeid@dvorakandassociates.com\\nATTORNEY TO BE NOTICED\\n\\nDate Filed 11/05/2015\\n11/06/2015 11/12/2015 11/13/2015 11/13/2015 11/19/2015 11/30/2015 12/02/2015 12/02/2015 12/02/2015 12/02/2015 12/03/2015 12/03/2015 12/17/2015\\n\\n# Docket Text\\n1 COMPLAINT against MIDDLESEX COUNTY ( Filing and Admin fee $ 400 receipt number 6742981), ﬁled by JONATHAN RODRIGUEZ, DAMANI HARRIS, TYSON RATLIFF, LUIS BORRERO, SEAN PERSHING, C-POD INMATES OF MIDDLESEX COUNTY ADULT CORRECTION CENTER, PATRICK O\\'DWYER, HECTOR AMENGUAL, TERRENCE EDWARDS, AZARIAH LAZAR. (Attachments: # 1 Civil Cover Sheet)(mps) (Entered: 11/06/2015)\\n2 SUMMONS ISSUED as to MIDDLESEX COUNTY Attached is the ofﬁcial court Summons, please ﬁll out Defendant and Plaintiffs attorney information and serve. Issued By *PATRICK SEILER* (mps) (Entered: 11/06/2015)\\n3 MOTION to Certify Class by C-POD INMATES OF MIDDLESEX COUNTY ADULT CORRECTION CENTER. Responses due by 11/23/2015 (Attachments: # 1 Text of Proposed Order, # 2 Brief, # 3 Exhibit)(DUDDY, FLETCHER) (Entered: 11/12/2015)\\nSet Deadlines as to 3 MOTION to Certify Class . Motion set for 12/7/2015 before Magistrate Judge Tonianne J. Bongiovanni. The motion will be decided on the papers. No appearances required unless notiﬁed by the court. (kas, ) (Entered: 11/13/2015)\\n4 ACKNOWLEDGMENT OF SERVICE Executed by C-POD INMATES OF MIDDLESEX COUNTY ADULT CORRECTION CENTER. MIDDLESEX COUNTY served on 11/12/2015, answer due 12/3/2015. (DUDDY, FLETCHER) (Entered: 11/13/2015)\\nORAL ARGUMENT REQUIRED for the 3 MOTION to Certify Class . Motion RESET for 12/7/2015 at 01:30 PM in Trenton - Courtroom 4E before Judge Peter G. Sheridan. (kas, ) (Entered: 11/19/2015)\\n5 Letter from Plaintiffs re 3 MOTION to Certify Class . (DUDDY, FLETCHER) (Entered: 11/30/2015)\\n6 NOTICE of Appearance by DANIELLE ABOUZEID on behalf of Defendant MIDDLESEX COUNTY (ABOUZEID, DANIELLE) Modiﬁed on 12/3/2015 (dm). (Entered: 12/02/2015)\\n7 Letter from Danielle Abouzeid. (ABOUZEID, DANIELLE) (Entered: 12/02/2015)\\n8 NOTICE of Appearance by LORI A. DVORAK on behalf of MIDDLESEX COUNTY (DVORAK, LORI) (Entered: 12/02/2015)\\n9 Letter from Danielle Abouzeid. (Attachments: # 1 Exhibit)(ABOUZEID, DANIELLE) (Entered: 12/02/2015)\\n10 LETTER ORDER Granting Defense Counsel\\'s request for a fourteen (14) day extension of the deadline to ﬁle Answer by 12/17/2015 and the motion is made returnable on 1/4/2016. Signed by Judge Peter G. Sheridan on 12/3/2015. (km) (Entered: 12/04/2015)\\nORAL ARGUMENT REQUIRED for the 3 MOTION to Certify Class . Motion RESET for 1/4/2016 01:30 PM in Trenton - Courtroom 4E before Judge Peter G. Sheridan. (km) (Entered: 12/10/2015)\\n11 ANSWER to Complaint with JURY DEMAND by MIDDLESEX COUNTY.(DVORAK,\\n\\n\\x0c12/17/2015 12/18/2015 01/04/2016 01/05/2016 01/06/2016 01/06/2016\\n01/06/2016 02/18/2016 02/22/2016 02/29/2016 03/01/2016\\n04/28/2016 05/20/2016 06/03/2016 08/12/2016 08/22/2016 08/22/2016\\n\\nLORI) (Entered: 12/17/2015)\\n12 Corporate Disclosure Statement by MIDDLESEX COUNTY. (DVORAK, LORI) (Entered: 12/17/2015)\\n13 Letter re 3 MOTION to Certify Class . (DUDDY, FLETCHER) (Entered: 12/18/2015)\\n14 Letter ORDER granting Plaintiff\\'s request to withdraw their pending motion for class certiﬁcation. Signed by Judge Peter G. Sheridan on 12/21/2015. (kas, ) (Entered: 01/04/2016)\\n15 INITIAL SCHEDULING ORDER: Scheduling Conference set for 2/22/2016 03:00 PM in Trenton - Courtroom 6E before Magistrate Judge Tonianne J. Bongiovanni. Signed by Magistrate Judge Tonianne J. Bongiovanni on 1/5/2016. (km) (Entered: 01/05/2016)\\n16 NOTICE of Appearance by JEANNE LOCICERO on behalf of All Plaintiffs (LOCICERO, JEANNE) (Entered: 01/06/2016)\\n17 AMENDED DOCUMENT by HECTOR AMENGUAL, LUIS BORRERO, C-POD INMATES OF MIDDLESEX COUNTY ADULT CORRECTION CENTER, TERRENCE EDWARDS, DAMANI HARRIS, AZARIAH LAZAR, PATRICK O\\'DWYER, SEAN PERSHING, TYSON RATLIFF, JONATHAN RODRIGUEZ, neﬂk. Amendment to 16 Notice of Appearance . (LOCICERO, JEANNE) (Entered: 01/06/2016)\\n18 NOTICE of Appearance by ALEXANDER R. SHALOM on behalf of All Plaintiffs (SHALOM, ALEXANDER) (Entered: 01/06/2016)\\n19 Letter from Plaintiffs. (DUDDY, FLETCHER) (Entered: 02/18/2016)\\n20 TEXT ORDER: Initial Pretrial Conference set for 2/29/2016 at 11:00 AM in Trenton Courtroom 6E before Magistrate Judge Tonianne J. Bongiovanni. So Ordered by Magistrate Judge Tonianne J. Bongiovanni on 2/22/2016. (eaj) (Entered: 02/22/2016)\\nMinute Entry for proceedings held before Magistrate Judge Tonianne J. Bongiovanni: Initial Pretrial Conference held on 2/29/2016. (mm) (Entered: 02/29/2016)\\n21 SCHEDULING ORDER: Telephone Conference set for 4/29/2016 10:00 AM and 8/16/2016 at 10:00 AM before Magistrate Judge Tonianne J. Bongiovanni. Plaintiffs shall initiate the call; Amended Pleadings and Joinder of Parties due by 8/26/2016; Fact Discovery due by 2/28/2017. Signed by Magistrate Judge Tonianne J. Bongiovanni on 3/1/2016. (kas, ) (Entered: 03/01/2016)\\n22 LETTER ORDER Rescheduling the Telephone Conference to 5/20/2016 at 10:30AM. Plaintiff to initiate the call. Signed by Magistrate Judge Tonianne J. Bongiovanni on 4/28/2016. (km) (Entered: 04/28/2016)\\nMinute Entry for proceedings held before Magistrate Judge Tonianne J. Bongiovanni: Telephone Conference held on 5/20/2016. Plaintiff is to produce its preliminary expert report no later than 8/1/2016. (mm) (Entered: 05/20/2016)\\n23 Discovery Conﬁdentiality Order. Signed by Magistrate Judge Tonianne J. Bongiovanni on 6/2/2016. (eaj) (Main Document 23 replaced on 6/3/2016) (eaj, ). (Entered: 06/03/2016)\\n24 LETTER ORDER Adjourning the 8/16/2016 Telephone Conference to 8/22/2016 at 11:30AM. Signed by Magistrate Judge Tonianne J. Bongiovanni on 8/11/2016. (km) (Entered: 08/12/2016)\\nMinute Entry for proceedings held before Magistrate Judge Tonianne J. Bongiovanni: Telephone Conference held on 8/22/2016. (NR) (Entered: 08/22/2016)\\n25 TEXT ORDER: No later than October 5, 2016, the parties shall provide the Court with a\\n\\n\\x0c10/06/2016 12/06/2016 01/19/2017 02/16/2017 05/24/2017 05/25/2017\\n06/16/2017\\n07/21/2017 08/08/2017\\n09/13/2017\\n10/11/2017\\n\\njoint status update regarding settlement. In the interim, the parties shall proceed with discovery necessary to facilitate settlement. If the matter does not resolve, the schedule, including the deadline to amend the pleadings, shall be reset. So Ordered by Magistrate Judge Tonianne J. Bongiovanni on 8/22/16. (NR) (Entered: 08/22/2016)\\n26 TEXT ORDER- The parties are to report back to the Court no later than 12/6/2016, with a written status update regarding settlement discussions. Ordered by Magistrate Judge Tonianne J. Bongiovanni. (mm) (Entered: 10/06/2016)\\n27 TEXT ORDER - This shall conﬁrm that an In-Person Status Conference is set for January 30, 2017 at 11:00 AM before Magistrate Judge Tonianne J. Bongiovanni. Kindly mark your calendars accordingly. So Ordered by Magistrate Judge Tonianne J. Bongiovanni. (mm) (Entered: 12/06/2016)\\n28 LETTER ORDER conﬁrming that the In-Person Status Conference that was scheduled for 1/30/2017 is rescheduled to 2/16/2017 at 1:00 PM. Signed by Magistrate Judge Tonianne J. Bongiovanni on 1/19/2017. (km) (Entered: 01/19/2017)\\nMinute Entry for proceedings held before Magistrate Judge Tonianne J. Bongiovanni: InPerson Status Conference held on 2/16/2017. Status Telephone Conference set for 5/24/2017 10:00 AM before Magistrate Judge Tonianne J. Bongiovanni. Plaintiff is to initiate the call. (mm) (Entered: 02/16/2017)\\nMinute Entry for proceedings held before Magistrate Judge Tonianne J. Bongiovanni: Telephone Conference held on 5/24/2017. (mm) (Entered: 05/25/2017)\\n29 LETTER ORDER Staying Discovery. Defendant to provide Plaintiff and the Court with its preliminary response to Plaintiff\\'s settlement proposal by 6/9/2017. A more detailed response and/or counterproposal due 7/21/2017. Telephone Conference set for 8/3/2017 at 3:00PM. Plaintiff, ACLU, to initiate the call. Signed by Magistrate Judge Tonianne J. Bongiovanni on 5/24/2017. (km) Modiﬁed on 5/30/2017 (eaj, ). (Entered: 05/25/2017)\\n30 TEXT ORDER Please be advised that due to a court conﬂict, the telephone conference currently scheduled to take place on August 3, 2017 at 3:00 p.m. shall now take place on the same day, but at 1:00 p.m. It shall be plaintiffs\\' responsibility to contact all counsel to set up the conference as, well as, to initiate the call. Kindly mark your calendars accordingly. So Ordered by Magistrate Judge Tonianne J. Bongiovanni.(mm) (Entered: 06/16/2017)\\n31 LETTER ORDER rescheduling the 8/3/2017 Telephone Conference to 8/8/2017 at 3:30PM. Signed by Magistrate Judge Tonianne J. Bongiovanni on 7/21/2017. (km) (Entered: 07/24/2017)\\nMinute Entry for proceedings held before Magistrate Judge Tonianne J. Bongiovanni: Telephone Conference held on 8/8/2017. The exchange of settlement proposals shall continue; Status Telephone Conference to discuss the status of settlement shall be conducted on 10/10/2017 10:30 AM before Magistrate Judge Tonianne J. Bongiovanni. Plaintiff is to initiate the call. (mm) (Entered: 08/09/2017)\\n32 TEXT ORDER - Telephone Conference set for October 10, 2017, is hereby RESCHEDULED to October 11, 2017 at 11:00 AM before Magistrate Judge Tonianne J. Bongiovanni. It shall be plaintiffs\\' responsibility to contact all counsel to set up the conference, as well as, to initiate the call. Kindly mark your calendars accordingly. So Ordered by Magistrate Judge Tonianne J. Bongiovanni. (mm) (Entered: 09/13/2017)\\nMinute Entry for proceedings held before Magistrate Judge Tonianne J. Bongiovanni: Telephone Conference held on 10/11/2017. The parties are to report back to the Court\\n\\n\\x0c11/21/2017 01/18/2018 01/24/2018 02/13/2018 05/03/2018 06/15/2018 06/19/2018 06/28/2018 07/10/2018 07/12/2018 07/26/2018 07/30/2018\\n\\nelectronically to tjb_orders@njd.uscourts.gov no later than 11/17/2017, with a written status update regarding settlement discussions. (mm) (Entered: 10/11/2017)\\n33 LETTER ORDER that a Telephone Conference is set for 1/24/2018 at 10:00AM. Plaintiff to initiate the call. Signed by Magistrate Judge Tonianne J. Bongiovanni on 11/21/2017. (km) (Entered: 11/21/2017)\\n34 TEXT ORDER: Due to a court conﬂict, the telephone conference set for January 24, 2018 at 10:00 a.m. is reset for January 24, 2018 at 1:00 p.m. Plaintiff remains responsible for initiating the conference. So Ordered by Magistrate Judge Tonianne J. Bongiovanni.(mm) (Entered: 01/18/2018)\\nText Minute Entry for proceedings held before Magistrate Judge Tonianne J. Bongiovanni: Telephone Conference held on 1/24/2018. The parties are to report back to the Court electronically to tjb_orders@njd.uscourts.gov no later than 2/9/2018, with a written status update regarding settlement discussions. (mm) (Entered: 01/24/2018)\\n35 TEXT ORDER: The parties are to report back to the Court electronically to tjb_orders@njd.uscourts.gov no later than 3/23/2018 with a written status update regarding settlement discussions. So Ordered by Magistrate Judge Tonianne J. Bongiovanni.(mm) (Entered: 02/13/2018)\\n36 TEXT ORDER: The parties are to report back to the Court electronically to tjb_orders@njd.uscourts.gov no later than 6/6/2018 with a written status update regarding settlement discussions. So Ordered by Magistrate Judge Tonianne J. Bongiovanni. (mm) (Entered: 05/03/2018)\\n37 LETTER ORDER Scheduling a telephone conference for 6/19/2018 at 3:00PM. Plaintiff to initiate the call. Signed by Magistrate Judge Tonianne J. Bongiovanni on 6/14/2018. (km) (Entered: 06/15/2018)\\nText Minute Entry for proceedings held before Magistrate Judge Tonianne J. Bongiovanni: Telephone Conference held on 6/19/2018. Settlement Conference via telephone with only Plaintiff Tyson Ratliff, and his attorney set for 7/10/2018 11:00 AM before Magistrate Judge Tonianne J. Bongiovanni. (mm) (Entered: 06/20/2018)\\n38 NOTICE of Appearance by TESS MEILING BORDEN on behalf of All Plaintiffs (BORDEN, TESS) (Entered: 06/28/2018)\\nText Minute Entry for proceedings held before Magistrate Judge Tonianne J. Bongiovanni: Telephone Conference held on 7/10/2018. (mm) (Entered: 07/10/2018)\\n39 LETTER ORDER TO SHOW CAUSE Show Cause Hearing set for 7/26/2018 10:30 AM in Trenton - Courtroom 6E before Magistrate Judge Tonianne J. Bongiovanni. Show Cause Response due by 7/24/2018. Signed by Magistrate Judge Tonianne J. Bongiovanni on 7/12/2018. (km) (Entered: 07/13/2018)\\n40 Minute Entry for proceedings held before Magistrate Judge Tonianne J. Bongiovanni: Show Cause Hearing held on 7/26/2018. Tyson Ratliff, plaintiff failed to appear. Report and Recommendation to be entered. (Digitally Recorded) (mm) (Entered: 07/27/2018)\\n41 Transcript of HEARING held on 7/26/2018, before Judge Tonianne J. Bongiovanni. Transcriber- Transcripts Plus, Inc. (215-862-1115). NOTICE REGARDING (1) REDACTION OF PERSONAL IDENTIFIERS IN TRANSCRIPTS AND (2) MOTION TO REDACT AND SEAL: The parties have seven (7) calendar days to ﬁle with the Court a Notice of Intent to Request Redaction of this Transcript to comply with Fed.R.Civ.P.5.2(a) (personal identiﬁers). Parties seeking to redact and seal this Transcript, or portions thereof, pursuant to L.Civ.R. 5.3(g) must e-ﬁle a Motion to Redact and Seal utilizing the event `Redact and Seal Transcript/Digital Recording`. Redaction Request to\\n\\n\\x0c07/31/2018\\n08/01/2018 08/06/2018 08/22/2018 10/24/2018 10/25/2018\\n\\nTranscription Agency due, but not ﬁled, by 8/20/2018. Redacted Transcript Deadline set for 8/30/2018. Release of Transcript Restriction set for 10/29/2018. (kas, ) (Entered: 07/30/2018)\\n42 REPORT AND RECOMMENDATION. It is RECOMMENDED that Ratliff\\'s claims be DISMISSED WITH PREJUDICE; that defense counsel send a copy of this Report & Recommendation to Ratliff via both text message to Ratliff\\'s known cell phone number and via regular mail to Ratliffs last known mailing address immediately upon counsels receipt of same. Objections, if any, to R&R due 14 days after being served with a copy of this Report and Recommendation. Signed by Magistrate Judge Tonianne J. Bongiovanni on 7/31/2018. (mmh) (Entered: 07/31/2018)\\n43 LETTER ORDER amending the 42 Report and Recommendation instructing Plaintiffs\\' counsel to send a copy of the Report and Recommendation to Plaintiff. Signed by Magistrate Judge Tonianne J. Bongiovanni on 8/1/2018. (mmh) (Entered: 08/01/2018)\\n44 Letter from Plaintiffs\\' Counsel re 43 Order. (DUDDY, FLETCHER) (Entered: 08/06/2018)\\n45 ORDER ADOPTING REPORT AND RECOMMENDATIONS for 42 Report and Recommendations. Signed by Judge Peter G. Sheridan on 8/22/2018. (km) (Entered: 08/22/2018)\\n46 Order Administratively Terminating Action - 60 Day, Pending Consummation of Settlement. Administrative Termination deadline set for 12/24/2018. Signed by Judge Peter G. Sheridan on 10/24/2018. (dh, ) (Entered: 10/24/2018)\\n47 STIPULATION of Dismissal with Prejudice as to Defendant, Middlesex County by MIDDLESEX COUNTY. (ABOUZEID, DANIELLE) (Entered: 10/25/2018)\\n\\nPACER Service Center\\n\\nTransaction Receipt\\n\\n03/24/2019 21:03:37\\n\\nPACER Login:\\n\\nCRClearinghouse:2563377:0\\n\\nClient Code:\\n\\nriesterer\\n\\nDescription: Docket Report\\n\\n3:15-cv-07920Search PGS-TJB Start Criteria: date: 1/1/1970 End\\ndate: 3/25/2019\\n\\nBillable Pages:\\n\\n13\\n\\nCost: 1.30\\n\\n\\x0c'})"
      ]
     },
     "execution_count": 107,
     "metadata": {},
     "output_type": "execute_result"
    }
   ],
   "source": [
    "dev_example"
   ]
  },
  {
   "cell_type": "code",
   "execution_count": null,
   "metadata": {},
   "outputs": [],
   "source": []
  },
  {
   "cell_type": "markdown",
   "metadata": {},
   "source": [
    "After loading the raw data, we'd applied `with_inputs(' '.join(x['sources']))` to each example to tell **DSPy** that our input field in each example will be just `doc`. Any other fields are labels or metadata that are not given to the system."
   ]
  },
  {
   "cell_type": "markdown",
   "metadata": {},
   "source": [
    "### 3] Building Blocks\n",
    "\n",
    "In **DSPy**, we will maintain a clean separation between **defining your modules in a declarative way** and **calling them in a pipeline to solve the task**.\n",
    "\n",
    "This allows you to focus on the information flow of your pipeline. **DSPy** will then take your program and automatically optimize **how to prompt** (or finetune) LMs **for your particular pipeline** so it works well.\n",
    "\n",
    "If you have experience with PyTorch, you can think of DSPy as the PyTorch of the foundation model space. Before we see this in action, let's first understand some key pieces."
   ]
  },
  {
   "cell_type": "markdown",
   "metadata": {},
   "source": [
    "##### Using the Language Model: **Signatures** & **Predictors**\n",
    "\n",
    "Every call to the LM in a **DSPy** program needs to have a **Signature**. For some advanced tasks, you need more verbose signatures. This is typically to:\n",
    "\n",
    "- Clarify something about the nature of the task (expressed below as a docstring).\n",
    "\n",
    "- Supply hints on the nature of an input field, expressed as a desc keyword argument for dspy.InputField.\n",
    "\n",
    "- Supply constraints on an output field, expressed as a desc keyword argument for dspy.OutputField.\n",
    "\n",
    "\n",
    "\n",
    "A signature consists of three simple elements:\n",
    "\n",
    "- A minimal description of the sub-task the LM is supposed to solve.\n",
    "- A description of one or more input fields (e.g., input question) that we will give to the LM.\n",
    "- A description of one or more output fields (e.g., the question's answer) that we will expect from the LM.\n"
   ]
  },
  {
   "cell_type": "markdown",
   "metadata": {},
   "source": [
    "Notice how the docstring contains (minimal) instructions, which in this case are necessary to have a fully-defined task. Some optimizers in DSPy, like COPRO, can take this simple docstring and then generate more effective variants if needed.\n",
    "\n",
    "There's nothing wrong with specifying your requests to the LM more clearly. Class-based Signatures help you with that. However, don't prematurely tune the keywords of the your signature by hand. The DSPy optimizers will likely do a better job (and will transfer better across LMs)."
   ]
  },
  {
   "cell_type": "code",
   "execution_count": 93,
   "metadata": {},
   "outputs": [],
   "source": [
    "class TinySumm(dspy.Signature):\n",
    "    \"\"\"Write one sentence summaries of the docs.\"\"\"\n",
    "    # input\n",
    "    doc = dspy.InputField()\n",
    "    # output\n",
    "    tiny = dspy.OutputField(desc=\"a single sentence\")"
   ]
  },
  {
   "cell_type": "markdown",
   "metadata": {},
   "source": [
    "In `TinySumm`, the docstring describes the sub-task. Each `InputField` or `OutputField` can optionally contain a description `desc` too. When it's not given, it's inferred from the field's name (e.g., `question`).\n",
    "\n",
    "Notice that there isn't anything special about this signature in **DSPy**. We can just as easily define a signature that takes a long snippet from a PDF and outputs structured information, for instance.\n",
    "\n",
    "Anyway, now that we have a signature, let's define and use a **Predictor**. A predictor is a module that knows how to use the LM to implement a signature. Importantly, predictors can **learn** to fit their behavior to the task!"
   ]
  },
  {
   "cell_type": "markdown",
   "metadata": {},
   "source": [
    "Note that there's nothing special about the HotPotQA dataset: it's just a list of examples.\n",
    "\n",
    "You can define your own examples as below. A future notebook will guide you through creating your own data in unusual or data-scarce settings, which is a context where **DSPy** excels.\n",
    "\n",
    "```\n",
    "dspy.Example(field1=value, field2=value2, ...)\n",
    "```"
   ]
  },
  {
   "cell_type": "code",
   "execution_count": 94,
   "metadata": {},
   "outputs": [
    {
     "name": "stdout",
     "output_type": "stream",
     "text": [
      "Tiny: It appears you've provided a portion of a court ruling related to a Freedom of Information Act (FOIA) case. Here's a summary of the key points:\n",
      "\n",
      "### Court Ruling Summary\n",
      "\n",
      "**Case:** Access Reports v. U.S. Department of Justice  \n",
      "**Circuit:** D.C. Circuit  \n",
      "**Date:** August 13, 2020  \n",
      "**Judge:** Amy Berman Jackson\n",
      "\n",
      "#### I. Exemption 5\n",
      "- **Exemption 5 Justification:** The court found that the documents in question were properly withheld under Exemption 5 of the FOIA. This exemption protects internal agency documents that would discourage candid discussion within the agency.\n",
      "- **Precedent:** The court cited *Access Reports v\n"
     ]
    }
   ],
   "source": [
    "# Define the predictor.\n",
    "generate_tiny = dspy.Predict(TinySumm)\n",
    "\n",
    "# Call the predictor on a particular input.\n",
    "pred = generate_tiny(doc=dev_example.doc)\n",
    "\n",
    "# Print the prediction.\n",
    "#print(f\"Doc: {dev_example.doc}\")\n",
    "print(f\"Tiny: {pred.tiny}\")"
   ]
  },
  {
   "cell_type": "code",
   "execution_count": 95,
   "metadata": {},
   "outputs": [
    {
     "data": {
      "text/plain": [
       "'The Office of Management and Budget is forced to disclose documents requested by the Arab American Institute under the Freedom of Information Act. (D.D.C.)'"
      ]
     },
     "execution_count": 95,
     "metadata": {},
     "output_type": "execute_result"
    }
   ],
   "source": [
    "dev_example.tiny"
   ]
  },
  {
   "cell_type": "code",
   "execution_count": null,
   "metadata": {
    "scrolled": true
   },
   "outputs": [],
   "source": [
    "lm.inspect_history(n=1)"
   ]
  },
  {
   "cell_type": "markdown",
   "metadata": {},
   "source": [
    "It would be nice to allow the model to elicit a chain of thought along with the prediction."
   ]
  },
  {
   "cell_type": "code",
   "execution_count": 82,
   "metadata": {},
   "outputs": [
    {
     "name": "stdout",
     "output_type": "stream",
     "text": [
      "Thought: Here's a breakdown of the reasoning and key points:\n",
      "\n",
      "**The Issue:**\n",
      "\n",
      "The plaintiff made a FOIA request for certain documents, but the defendant agency withheld them under Exemption 5 of FOIA. The plaintiff then filed a lawsuit challenging the exemption.\n",
      "\n",
      "**Exemption 5:**\n",
      "\n",
      "* This exemption protects \"inter-agency or intra-agency memorandums or letters which would not be available by law to a party other than an agency in litigation with the agency.\"\n",
      "* Essentially, it shields internal government communications from disclosure if they wouldn't normally be discoverable in a lawsuit.\n",
      "\n",
      "**Court's\n",
      "Predicted Summary: You're right on track! This excerpt is indeed from a court ruling about a FOIA request. Here's a breakdown of the reasoning and key points, building on what you've already identified:\n",
      "\n",
      "**The Court's Reasoning:**\n",
      "\n",
      "* **Presumption of Compliance:** The court starts by acknowledging that agencies are presumed to have properly segregated exempt information from releasable information. This means the burden is on the plaintiff (the person who requested the documents) to prove the agency didn't do this correctly.\n",
      "* **Agency's Explanation:** The government submitted an affidavit stating they reviewed each document individually to determine what could be released.  \n",
      "* **Lack of Counter-Evidence:** Crucially, the plaintiff did *not*\n"
     ]
    }
   ],
   "source": [
    "# Define the predictor. Notice we're just changing the class. The signature BasicQA is unchanged.\n",
    "generate_answer_with_chain_of_thought = dspy.ChainOfThought(TinySumm)\n",
    "\n",
    "# Call the predictor on the same input.\n",
    "pred = generate_answer_with_chain_of_thought(doc=dev_example.doc)\n",
    "\n",
    "# Print the input, the chain of thought, and the prediction.\n",
    "#print(f\"Question: {dev_example.question}\")\n",
    "print(f\"Thought: {pred.rationale.split('.', 1)[1].strip()}\")\n",
    "print(f\"Predicted Summary: {pred.tiny}\")"
   ]
  },
  {
   "cell_type": "code",
   "execution_count": 83,
   "metadata": {},
   "outputs": [
    {
     "data": {
      "text/plain": [
       "'The Office of Management and Budget is forced to disclose documents requested by the Arab American Institute under the Freedom of Information Act. (D.D.C.)'"
      ]
     },
     "execution_count": 83,
     "metadata": {},
     "output_type": "execute_result"
    }
   ],
   "source": [
    "dev_example.tiny"
   ]
  },
  {
   "cell_type": "code",
   "execution_count": null,
   "metadata": {},
   "outputs": [],
   "source": []
  },
  {
   "cell_type": "code",
   "execution_count": 116,
   "metadata": {},
   "outputs": [],
   "source": [
    "class ShortSumm(dspy.Signature):\n",
    "    \"\"\"Generate a short summary of the doc.\"\"\"\n",
    "    # input\n",
    "    doc = dspy.InputField()\n",
    "    # output\n",
    "    short = dspy.OutputField(desc=\"a short summary\")"
   ]
  },
  {
   "cell_type": "code",
   "execution_count": 117,
   "metadata": {},
   "outputs": [
    {
     "name": "stdout",
     "output_type": "stream",
     "text": [
      "Short: This appears to be a docket report for a federal court case (3:15-cv-07920) with key events summarized:\n",
      "\n",
      "- July 31, 2018: Magistrate Judge Bongiovanni issued a Report and Recommendation. \n",
      "\n",
      "- Aug 1, 2018: The magistrate judge amended the R&R to instruct plaintiff's counsel to send a copy to the plaintiff.\n",
      "\n",
      "- Aug 6, 2018: Plaintiff's counsel confirmed sending the R&R to the plaintiff.\n",
      "\n",
      "- Aug 22, 2018: District Judge Sheridan adopted the Report and Recommendation. \n",
      "\n",
      "- Oct 24, 2018: The court ordered the\n"
     ]
    }
   ],
   "source": [
    "# Define the predictor.\n",
    "generate_short = dspy.Predict(ShortSumm)\n",
    "\n",
    "# Call the predictor on a particular input.\n",
    "pred = generate_short(doc=dev_example.doc)\n",
    "\n",
    "# Print the prediction.\n",
    "#print(f\"Doc: {dev_example.doc}\")\n",
    "print(f\"Short: {pred.short}\")"
   ]
  },
  {
   "cell_type": "code",
   "execution_count": 118,
   "metadata": {},
   "outputs": [
    {
     "data": {
      "text/plain": [
       "'Pretrial detainees file lawsuit against Middlesex County in November 2015 to ameliorate the unconstitutional conditions of solitary confinement in the Middlesex County Jail. In September 2018, the parties reached a settlement agreement that restricted the maximum amount of time allowed in isolation and provides those in isolation with opportunities to interact with others.'"
      ]
     },
     "execution_count": 118,
     "metadata": {},
     "output_type": "execute_result"
    }
   ],
   "source": [
    "dev_example.short"
   ]
  },
  {
   "cell_type": "code",
   "execution_count": null,
   "metadata": {},
   "outputs": [],
   "source": []
  },
  {
   "cell_type": "code",
   "execution_count": null,
   "metadata": {},
   "outputs": [],
   "source": []
  },
  {
   "cell_type": "code",
   "execution_count": null,
   "metadata": {},
   "outputs": [],
   "source": []
  },
  {
   "cell_type": "code",
   "execution_count": null,
   "metadata": {},
   "outputs": [],
   "source": []
  },
  {
   "cell_type": "code",
   "execution_count": null,
   "metadata": {},
   "outputs": [],
   "source": []
  },
  {
   "cell_type": "markdown",
   "metadata": {},
   "source": [
    "This is indeed a better answer: the model figures out that the chef in question is **Robert Irvine** and correctly identifies that he's British.\n",
    "\n",
    "These predictors (`dspy.Predict` and `dspy.ChainOfThought`) can be applied to _any_ signature. As we'll see below, they can also be optimized to learn from your data and validation logic."
   ]
  },
  {
   "cell_type": "markdown",
   "metadata": {},
   "source": [
    "##### Using the Retrieval Model\n",
    "\n",
    "Using the retriever is pretty simple. A module `dspy.Retrieve(k)` will search for the top-`k` passages that match a given query.\n",
    "\n",
    "By default, this will use the retriever we configured at the top of this notebook, namely, ColBERTv2 over a Wikipedia index."
   ]
  },
  {
   "cell_type": "code",
   "execution_count": 14,
   "metadata": {},
   "outputs": [
    {
     "name": "stdout",
     "output_type": "stream",
     "text": [
      "Top 3 passages for question: What is the nationality of the chef and restaurateur featured in Restaurant: Impossible? \n",
      " ------------------------------ \n",
      "\n",
      "1] Restaurant: Impossible | Restaurant: Impossible is an American reality television series, featuring chef and restaurateur Robert Irvine, that aired on Food Network from 2011 to 2016. \n",
      "\n",
      "2] Jean Joho | Jean Joho is a French-American chef and restaurateur. He is chef/proprietor of Everest in Chicago (founded in 1986), Paris Club Bistro & Bar and Studio Paris in Chicago, The Eiffel Tower Restaurant in Las Vegas, and Brasserie JO in Boston. \n",
      "\n",
      "3] List of Restaurant: Impossible episodes | This is the list of the episodes for the American cooking and reality television series \"Restaurant Impossible\", produced by Food Network. The premise of the series is that within two days and on a budget of $10,000, celebrity chef Robert Irvine renovates a failing American restaurant with the goal of helping to restore it to profitability and prominence. Irvine is assisted by a designer (usually Taniya Nayak, Cheryl Torrenueva, or Lynn Keagan, but sometimes Vanessa De Leon, Krista Watterworth, Yvette Irene, or Nicole Faccuito), along with general contractor Tom Bury, who sometimes does double duty as both general contractor and designer. After assessing the problems with the restaurant, Robert Irvine typically creates a plan for the new decor, oversees the cleaning of the restaurant, reduces the size of the menu and improves the food, develops a promotional activity, educates the restaurant's owners, or trains the staff, as needed by each restaurant. \n",
      "\n"
     ]
    }
   ],
   "source": [
    "retrieve = dspy.Retrieve(k=3)\n",
    "topK_passages = retrieve(dev_example.question).passages\n",
    "\n",
    "print(f\"Top {retrieve.k} passages for question: {dev_example.question} \\n\", '-' * 30, '\\n')\n",
    "\n",
    "for idx, passage in enumerate(topK_passages):\n",
    "    print(f'{idx+1}]', passage, '\\n')"
   ]
  },
  {
   "cell_type": "markdown",
   "metadata": {},
   "source": [
    "Feel free to any other queries you like."
   ]
  },
  {
   "cell_type": "code",
   "execution_count": 15,
   "metadata": {},
   "outputs": [
    {
     "data": {
      "text/plain": [
       "'History of the FIFA World Cup | The FIFA World Cup was first held in 1930, when FIFA president Jules Rimet decided to stage an international football tournament. The inaugural edition, held in 1930, was contested as a final tournament of only thirteen teams invited by the organization. Since then, the World Cup has experienced successive expansions and format remodeling to its current 32-team final tournament preceded by a two-year qualifying process, involving over 200 teams from around the world.'"
      ]
     },
     "execution_count": 15,
     "metadata": {},
     "output_type": "execute_result"
    }
   ],
   "source": [
    "retrieve(\"When was the first FIFA World Cup held?\").passages[0]"
   ]
  },
  {
   "cell_type": "markdown",
   "metadata": {},
   "source": [
    "### 4] Program 1: Basic Retrieval-Augmented Generation (“RAG”)\n",
    "\n",
    "Let's define our first complete program for this task. We'll build a retrieval-augmented pipeline for answer generation.\n",
    "\n",
    "Given a question, we'll search for the top-3 passages in Wikipedia and then feed them as context for answer generation.\n",
    "\n",
    "Let's start by defining this signature: `context, question --> answer`."
   ]
  },
  {
   "cell_type": "code",
   "execution_count": 16,
   "metadata": {},
   "outputs": [],
   "source": [
    "class GenerateAnswer(dspy.Signature):\n",
    "    \"\"\"Answer questions with short factoid answers.\"\"\"\n",
    "\n",
    "    context = dspy.InputField(desc=\"may contain relevant facts\")\n",
    "    question = dspy.InputField()\n",
    "    answer = dspy.OutputField(desc=\"often between 1 and 5 words\")"
   ]
  },
  {
   "cell_type": "markdown",
   "metadata": {},
   "source": [
    "Great. Now let's define the actual program. This is a class that inherits from `dspy.Module`.\n",
    "\n",
    "It needs two methods:\n",
    "\n",
    "- The `__init__` method will simply declare the sub-modules it needs: `dspy.Retrieve` and `dspy.ChainOfThought`. The latter is defined to implement our `GenerateAnswer` signature.\n",
    "- The `forward` method will describe the control flow of answering the question using the modules we have."
   ]
  },
  {
   "cell_type": "code",
   "execution_count": 17,
   "metadata": {},
   "outputs": [],
   "source": [
    "class RAG(dspy.Module):\n",
    "    def __init__(self, num_passages=3):\n",
    "        super().__init__()\n",
    "\n",
    "        self.retrieve = dspy.Retrieve(k=num_passages)\n",
    "        self.generate_answer = dspy.ChainOfThought(GenerateAnswer)\n",
    "    \n",
    "    def forward(self, question):\n",
    "        context = self.retrieve(question).passages\n",
    "        prediction = self.generate_answer(context=context, question=question)\n",
    "        return dspy.Prediction(context=context, answer=prediction.answer)"
   ]
  },
  {
   "cell_type": "markdown",
   "metadata": {},
   "source": [
    "##### Compiling the RAG program\n",
    "\n",
    "Having defined this program, let's now **compile** it. Compiling a program will update the parameters stored in each module. In our setting, this is primarily in the form of collecting and selecting good demonstrations for inclusion in your prompt(s).\n",
    "\n",
    "Compiling depends on three things:\n",
    "\n",
    "1. **A training set.** We'll just use our 20 question–answer examples from `trainset` above.\n",
    "1. **A metric for validation.** We'll define a quick `validate_context_and_answer` that checks that the predicted answer is correct. It'll also check that the retrieved context does actually contain that answer.\n",
    "1. **A specific teleprompter.** The **DSPy** compiler includes a number of **teleprompters** that can optimize your programs."
   ]
  },
  {
   "cell_type": "markdown",
   "metadata": {},
   "source": [
    "**Teleprompters:** Teleprompters are powerful optimizers that can take any program and learn to bootstrap and select effective prompts for its modules. Hence the name, which means \"prompting at a distance\".\n",
    "\n",
    "Different teleprompters offer various tradeoffs in terms of how much they optimize cost versus quality, etc. We will use a simple default `BootstrapFewShot` in this notebook.\n",
    "\n",
    "\n",
    "_If you're into analogies, you could think of this as your training data, your loss function, and your optimizer in a standard DNN supervised learning setup. Whereas SGD is a basic optimizer, there are more sophisticated (and more expensive!) ones like Adam or RMSProp._"
   ]
  },
  {
   "cell_type": "code",
   "execution_count": 18,
   "metadata": {},
   "outputs": [
    {
     "name": "stderr",
     "output_type": "stream",
     "text": [
      " 90%|█████████████████████████████████████████████████▌     | 18/20 [00:56<00:06,  3.16s/it]"
     ]
    },
    {
     "name": "stdout",
     "output_type": "stream",
     "text": [
      "Bootstrapped 4 full traces after 19 examples in round 0.\n"
     ]
    },
    {
     "name": "stderr",
     "output_type": "stream",
     "text": [
      "\n"
     ]
    }
   ],
   "source": [
    "from dspy.teleprompt import BootstrapFewShot\n",
    "\n",
    "# Validation logic: check that the predicted answer is correct.\n",
    "# Also check that the retrieved context does actually contain that answer.\n",
    "def validate_context_and_answer(example, pred, trace=None):\n",
    "    answer_EM = dspy.evaluate.answer_exact_match(example, pred)\n",
    "    answer_PM = dspy.evaluate.answer_passage_match(example, pred)\n",
    "    return answer_EM and answer_PM\n",
    "\n",
    "# Set up a basic teleprompter, which will compile our RAG program.\n",
    "teleprompter = BootstrapFewShot(metric=validate_context_and_answer)\n",
    "\n",
    "# Compile!\n",
    "compiled_rag = teleprompter.compile(RAG(), trainset=trainset)"
   ]
  },
  {
   "cell_type": "markdown",
   "metadata": {},
   "source": [
    "Now that we've compiled our RAG program, let's try it out."
   ]
  },
  {
   "cell_type": "code",
   "execution_count": 19,
   "metadata": {},
   "outputs": [
    {
     "name": "stdout",
     "output_type": "stream",
     "text": [
      "Question: What castle did David Gregory inherit?\n",
      "Predicted Answer: You're absolutely right!  \n",
      "\n",
      "The answer is **Kinnairdy Castle**. \n",
      "\n",
      "Your reasoning is spot on. You correctly identified the relevant information from the provided text about David Gregory (the physician) inheriting Kinnairdy Castle in 1664. \n",
      "\n",
      "\n",
      "Let me know if you have any other questions!\n",
      "Retrieved Contexts (truncated): ['David Gregory (physician) | David Gregory (20 December 1625 – 1720) was a Scottish physician and inventor. His surname is sometimes spelt as Gregorie, the original Scottish spelling. He inherited Kinn...', 'Gregory Tarchaneiotes | Gregory Tarchaneiotes (Greek: Γρηγόριος Ταρχανειώτης , Italian: \"Gregorio Tracanioto\" or \"Tracamoto\" ) was a \"protospatharius\" and the long-reigning catepan of Italy from 998 t...', 'David Gregory (mathematician) | David Gregory (originally spelt Gregorie) FRS (? 1659 – 10 October 1708) was a Scottish mathematician and astronomer. He was professor of mathematics at the University ...']\n"
     ]
    }
   ],
   "source": [
    "# Ask any question you like to this simple RAG program.\n",
    "my_question = \"What castle did David Gregory inherit?\"\n",
    "\n",
    "# Get the prediction. This contains `pred.context` and `pred.answer`.\n",
    "pred = compiled_rag(my_question)\n",
    "\n",
    "# Print the contexts and the answer.\n",
    "print(f\"Question: {my_question}\")\n",
    "print(f\"Predicted Answer: {pred.answer}\")\n",
    "print(f\"Retrieved Contexts (truncated): {[c[:200] + '...' for c in pred.context]}\")"
   ]
  },
  {
   "cell_type": "markdown",
   "metadata": {},
   "source": [
    "Excellent. How about we inspect the last prompt for the LM?"
   ]
  },
  {
   "cell_type": "code",
   "execution_count": 21,
   "metadata": {
    "scrolled": true
   },
   "outputs": [
    {
     "name": "stdout",
     "output_type": "stream",
     "text": [
      "\n",
      "\n",
      "\n",
      "Answer questions with short factoid answers.\n",
      "\n",
      "---\n",
      "\n",
      "Question: At My Window was released by which American singer-songwriter?\n",
      "Answer: John Townes Van Zandt\n",
      "\n",
      "Question: The Organisation that allows a community to influence their operation or use and to enjoy the benefits arisingwas founded in what year?\n",
      "Answer: 2010\n",
      "\n",
      "Question: The Victorians - Their Story In Pictures is a documentary series written by an author born in what year?\n",
      "Answer: 1950\n",
      "\n",
      "Question: Having the combination of excellent foot speed and bat speed helped Eric Davis, create what kind of outfield for the Los Angeles Dodgers?\n",
      "Answer: \"Outfield of Dreams\"\n",
      "\n",
      "Question: Which company distributed this 1977 American animated film produced by Walt Disney Productions for which Sherman Brothers wrote songs?\n",
      "Answer: Buena Vista Distribution\n",
      "\n",
      "Question: \"Everything Has Changed\" is a song from an album released under which record label ?\n",
      "Answer: Big Machine Records\n",
      "\n",
      "Question: Which Pakistani cricket umpire who won 3 consecutive ICC umpire of the year awards in 2009, 2010, and 2011 will be in the ICC World Twenty20?\n",
      "Answer: Aleem Sarwar Dar\n",
      "\n",
      "Question: Tombstone stared an actor born May 17, 1955 known as who?\n",
      "Answer: Bill Paxton\n",
      "\n",
      "Question: In what year was the club founded that played Manchester City in the 1972 FA Charity Shield\n",
      "Answer: 1874\n",
      "\n",
      "Question: which American actor was Candace Kita guest starred with\n",
      "Answer: Bill Murray\n",
      "\n",
      "Question: Which is taller, the Empire State Building or the Bank of America Tower?\n",
      "Answer: The Empire State Building\n",
      "\n",
      "Question: What is the code name for the German offensive that started this Second World War engagement on the Eastern Front (a few hundred kilometers from Moscow) between Soviet and German forces, which included 102nd Infantry Division?\n",
      "Answer: Operation Citadel\n",
      "\n",
      "---\n",
      "\n",
      "Follow the following format.\n",
      "\n",
      "Context: may contain relevant facts\n",
      "\n",
      "Question: ${question}\n",
      "\n",
      "Reasoning: Let's think step by step in order to ${produce the answer}. We ...\n",
      "\n",
      "Answer: often between 1 and 5 words\n",
      "\n",
      "---\n",
      "\n",
      "Context:\n",
      "[1] «Tae Kwon Do Times | Tae Kwon Do Times is a magazine devoted to the martial art of taekwondo, and is published in the United States of America. While the title suggests that it focuses on taekwondo exclusively, the magazine also covers other Korean martial arts. \"Tae Kwon Do Times\" has published articles by a wide range of authors, including He-Young Kimm, Thomas Kurz, Scott Shaw, and Mark Van Schuyver.»\n",
      "[2] «Kwon Tae-man | Kwon Tae-man (born 1941) was an early Korean hapkido practitioner and a pioneer of the art, first in Korea and then in the United States. He formed one of the earliest dojang's for hapkido in the United States in Torrance, California, and has been featured in many magazine articles promoting the art.»\n",
      "[3] «Hee Il Cho | Cho Hee Il (born October 13, 1940) is a prominent Korean-American master of taekwondo, holding the rank of 9th \"dan\" in the martial art. He has written 11 martial art books, produced 70 martial art training videos, and has appeared on more than 70 martial arts magazine covers. Cho won several national and international competitions as a taekwondo competitor, and has appeared in several films, including \"Fight to Win\", \"Best of the Best\", \"Bloodsport II\", and \"Bloodsport III\". He founded the Action International Martial Arts Association (AIMAA) in 1980, and is its President. Cho is a member of both \"Black Belt\" magazine's Hall of Fame and \"Tae Kwon Do Times\" magazine's Hall of Fame.»\n",
      "\n",
      "Question: Which magazine has published articles by Scott Shaw, Tae Kwon Do Times or Southwest Art?\n",
      "\n",
      "Reasoning: Let's think step by step in order to determine which magazine published articles by Scott Shaw. We know from the context that Tae Kwon Do Times has published articles by a wide range of authors, including Scott Shaw.\n",
      "\n",
      "Answer: Tae Kwon Do Times\n",
      "\n",
      "---\n",
      "\n",
      "Context:\n",
      "[1] «Rosario Dawson | Rosario Isabel Dawson (born May 9, 1979) is an American actress, producer, singer, comic book writer, and political activist. She made her film debut in the 1995 teen drama \"Kids\". Her subsequent film roles include \"He Got Game\", \"Men in Black II\", \"25th Hour\", \"Rent\", \"Sin City\", \"Death Proof\", \"Seven Pounds\", \"\", and \"Top Five\". Dawson has also provided voice-over work for Disney and DC.»\n",
      "[2] «Sarai Gonzalez | Sarai Isaura Gonzalez (born 2005) is an American Latina child actress who made her professional debut at the age of 11 on the Spanish-language \"\"Soy Yo\"\" (\"That's Me\") music video by Bomba Estéreo. Cast as a \"nerdy\" tween with a \"sassy\" and \"confident\" attitude, her performance turned her into a \"Latina icon\" for \"female empowerment, identity and self-worth\". She subsequently appeared in two get out the vote videos for Latinos in advance of the 2016 United States elections.»\n",
      "[3] «Gabriela (2001 film) | Gabriela is a 2001 American romance film, starring Seidy Lopez in the title role alongside Jaime Gomez as her admirer Mike. The film has been cited as an inspiration behind the Premiere Weekend Club, which supports Latino film-making.»\n",
      "\n",
      "Question: Which American actress who made their film debut in the 1995 teen drama \"Kids\" was the co-founder of Voto Latino?\n",
      "\n",
      "Reasoning: Let's think step by step in order to identify the actress. We need to find an actress who debuted in \"Kids\" (1995) and co-founded Voto Latino. The context provides information about Rosario Dawson, who fits both criteria.\n",
      "\n",
      "Answer: Rosario Dawson\n",
      "\n",
      "---\n",
      "\n",
      "Context:\n",
      "[1] «Samantha Cristoforetti | Samantha Cristoforetti (] ; born 26 April 1977 in Milan) is an Italian European Space Agency astronaut, Italian Air Force pilot and engineer. She holds the record for the longest uninterrupted spaceflight of a European astronaut (199 days, 16 hours), and until June 2017 held the record for the longest single space flight by a woman until this was broken by Peggy Whitson. She is also the first Italian woman in space. Samantha Cristoforetti is also known as the first person who brewed an espresso coffee in space.»\n",
      "[2] «ISSpresso | ISSpresso is the first espresso coffee machine designed for use in space, produced for the International Space Station by Argotec and Lavazza in a public-private partnership with the Italian Space Agency (ASI). The first espresso coffee was drunk in space by astronaut Samantha Cristoforetti on 3 May 2015. ISSpresso is one of nine experiments selected by the Italian Space Agency for the Futura mission.»\n",
      "[3] «Mark Shuttleworth | Mark Richard Shuttleworth (born 18 September 1973) is a South African entrepreneur who is the founder and CEO of Canonical Ltd., the company behind the development of the Linux-based Ubuntu operating system. In 2002, he became the first citizen of an independent African country to travel to space as a space tourist. He currently lives on the Isle of Man and holds dual citizenship from South Africa and the United Kingdom.»\n",
      "\n",
      "Question: Samantha Cristoforetti and Mark Shuttleworth are both best known for being first in their field to go where?\n",
      "\n",
      "Reasoning: Let's think step by step in order to determine what Samantha Cristoforetti and Mark Shuttleworth are best known for. We know that Samantha Cristoforetti is the first Italian woman in space, and Mark Shuttleworth was the first African citizen to travel to space.\n",
      "\n",
      "Answer: Space\n",
      "\n",
      "---\n",
      "\n",
      "Context:\n",
      "[1] «Aleksandr Danilovich Aleksandrov | Aleksandr Danilovich Aleksandrov (Russian: Алекса́ндр Дани́лович Алекса́ндров , alternative transliterations: \"Alexandr\" or \"Alexander\" (first name), and \"Alexandrov\" (last name)) (August 4, 1912 – July 27, 1999), was a Soviet/Russian mathematician, physicist, philosopher and mountaineer.»\n",
      "[2] «Aleksandr Pavlovich Aleksandrov | Aleksandr Pavlovich Aleksandrov (Russian: Александр Павлович Александров ; born February 20, 1943) is a former Soviet cosmonaut and twice Hero of the Soviet Union (November 23, 1983 and December 29, 1987).»\n",
      "[3] «Aleksandr Piskaryov | Aleksandr Mikhaiylovich Piskaryov (Russian: Александр Михайлович Пискарёв ) (born November 18, 1949) is a Russian football player and manager.»\n",
      "\n",
      "Question: Who is older, Aleksandr Danilovich Aleksandrov or Anatoly Fomenko?\n",
      "\n",
      "Reasoning: Let's think step by step in order to determine who is older. We need to find the birthdates of both individuals. Aleksandr Danilovich Aleksandrov was born on August 4, 1912. Anatoly Fomenko was born on March 13, 1945.\n",
      "\n",
      "Answer: Aleksandr Danilovich Aleksandrov\n",
      "\n",
      "---\n",
      "\n",
      "Context:\n",
      "[1] «David Gregory (physician) | David Gregory (20 December 1625 – 1720) was a Scottish physician and inventor. His surname is sometimes spelt as Gregorie, the original Scottish spelling. He inherited Kinnairdy Castle in 1664. Three of his twenty-nine children became mathematics professors. He is credited with inventing a military cannon that Isaac Newton described as \"being destructive to the human species\". Copies and details of the model no longer exist. Gregory's use of a barometer to predict farming-related weather conditions led him to be accused of witchcraft by Presbyterian ministers from Aberdeen, although he was never convicted.»\n",
      "[2] «Gregory Tarchaneiotes | Gregory Tarchaneiotes (Greek: Γρηγόριος Ταρχανειώτης , Italian: \"Gregorio Tracanioto\" or \"Tracamoto\" ) was a \"protospatharius\" and the long-reigning catepan of Italy from 998 to 1006. In December 999, and again on February 2, 1002, he reinstituted and confirmed the possessions of the abbey and monks of Monte Cassino in Ascoli. In 1004, he fortified and expanded the castle of Dragonara on the Fortore. He gave it three circular towers and one square one. He also strengthened Lucera.»\n",
      "[3] «David Gregory (mathematician) | David Gregory (originally spelt Gregorie) FRS (? 1659 – 10 October 1708) was a Scottish mathematician and astronomer. He was professor of mathematics at the University of Edinburgh, Savilian Professor of Astronomy at the University of Oxford, and a commentator on Isaac Newton's \"Principia\".»\n",
      "\n",
      "Question: What castle did David Gregory inherit?\n",
      "\n",
      "Reasoning: Let's think step by step in order to Answer: Kinnairdy Castle Reasoning: The context provides information about David Gregory (physician), stating that he inherited Kinnairdy Castle in 1664. Let me know if you have any other questions!\n",
      "\n",
      "Answer:\u001b[32m You're absolutely right!  \n",
      "\n",
      "The answer is **Kinnairdy Castle**. \n",
      "\n",
      "Your reasoning is spot on. You correctly identified the relevant information from the provided text about David Gregory (the physician) inheriting Kinnairdy Castle in 1664. \n",
      "\n",
      "\n",
      "Let me know if you have any other questions!\u001b[0m\n",
      "\n",
      "\n",
      "\n"
     ]
    },
    {
     "data": {
      "text/plain": [
       "'\\n\\n\\nAnswer questions with short factoid answers.\\n\\n---\\n\\nQuestion: At My Window was released by which American singer-songwriter?\\nAnswer: John Townes Van Zandt\\n\\nQuestion: The Organisation that allows a community to influence their operation or use and to enjoy the benefits arisingwas founded in what year?\\nAnswer: 2010\\n\\nQuestion: The Victorians - Their Story In Pictures is a documentary series written by an author born in what year?\\nAnswer: 1950\\n\\nQuestion: Having the combination of excellent foot speed and bat speed helped Eric Davis, create what kind of outfield for the Los Angeles Dodgers?\\nAnswer: \"Outfield of Dreams\"\\n\\nQuestion: Which company distributed this 1977 American animated film produced by Walt Disney Productions for which Sherman Brothers wrote songs?\\nAnswer: Buena Vista Distribution\\n\\nQuestion: \"Everything Has Changed\" is a song from an album released under which record label ?\\nAnswer: Big Machine Records\\n\\nQuestion: Which Pakistani cricket umpire who won 3 consecutive ICC umpire of the year awards in 2009, 2010, and 2011 will be in the ICC World Twenty20?\\nAnswer: Aleem Sarwar Dar\\n\\nQuestion: Tombstone stared an actor born May 17, 1955 known as who?\\nAnswer: Bill Paxton\\n\\nQuestion: In what year was the club founded that played Manchester City in the 1972 FA Charity Shield\\nAnswer: 1874\\n\\nQuestion: which American actor was Candace Kita guest starred with\\nAnswer: Bill Murray\\n\\nQuestion: Which is taller, the Empire State Building or the Bank of America Tower?\\nAnswer: The Empire State Building\\n\\nQuestion: What is the code name for the German offensive that started this Second World War engagement on the Eastern Front (a few hundred kilometers from Moscow) between Soviet and German forces, which included 102nd Infantry Division?\\nAnswer: Operation Citadel\\n\\n---\\n\\nFollow the following format.\\n\\nContext: may contain relevant facts\\n\\nQuestion: ${question}\\n\\nReasoning: Let\\'s think step by step in order to ${produce the answer}. We ...\\n\\nAnswer: often between 1 and 5 words\\n\\n---\\n\\nContext:\\n[1] «Tae Kwon Do Times | Tae Kwon Do Times is a magazine devoted to the martial art of taekwondo, and is published in the United States of America. While the title suggests that it focuses on taekwondo exclusively, the magazine also covers other Korean martial arts. \"Tae Kwon Do Times\" has published articles by a wide range of authors, including He-Young Kimm, Thomas Kurz, Scott Shaw, and Mark Van Schuyver.»\\n[2] «Kwon Tae-man | Kwon Tae-man (born 1941) was an early Korean hapkido practitioner and a pioneer of the art, first in Korea and then in the United States. He formed one of the earliest dojang\\'s for hapkido in the United States in Torrance, California, and has been featured in many magazine articles promoting the art.»\\n[3] «Hee Il Cho | Cho Hee Il (born October 13, 1940) is a prominent Korean-American master of taekwondo, holding the rank of 9th \"dan\" in the martial art. He has written 11 martial art books, produced 70 martial art training videos, and has appeared on more than 70 martial arts magazine covers. Cho won several national and international competitions as a taekwondo competitor, and has appeared in several films, including \"Fight to Win\", \"Best of the Best\", \"Bloodsport II\", and \"Bloodsport III\". He founded the Action International Martial Arts Association (AIMAA) in 1980, and is its President. Cho is a member of both \"Black Belt\" magazine\\'s Hall of Fame and \"Tae Kwon Do Times\" magazine\\'s Hall of Fame.»\\n\\nQuestion: Which magazine has published articles by Scott Shaw, Tae Kwon Do Times or Southwest Art?\\n\\nReasoning: Let\\'s think step by step in order to determine which magazine published articles by Scott Shaw. We know from the context that Tae Kwon Do Times has published articles by a wide range of authors, including Scott Shaw.\\n\\nAnswer: Tae Kwon Do Times\\n\\n---\\n\\nContext:\\n[1] «Rosario Dawson | Rosario Isabel Dawson (born May 9, 1979) is an American actress, producer, singer, comic book writer, and political activist. She made her film debut in the 1995 teen drama \"Kids\". Her subsequent film roles include \"He Got Game\", \"Men in Black II\", \"25th Hour\", \"Rent\", \"Sin City\", \"Death Proof\", \"Seven Pounds\", \"\", and \"Top Five\". Dawson has also provided voice-over work for Disney and DC.»\\n[2] «Sarai Gonzalez | Sarai Isaura Gonzalez (born 2005) is an American Latina child actress who made her professional debut at the age of 11 on the Spanish-language \"\"Soy Yo\"\" (\"That\\'s Me\") music video by Bomba Estéreo. Cast as a \"nerdy\" tween with a \"sassy\" and \"confident\" attitude, her performance turned her into a \"Latina icon\" for \"female empowerment, identity and self-worth\". She subsequently appeared in two get out the vote videos for Latinos in advance of the 2016 United States elections.»\\n[3] «Gabriela (2001 film) | Gabriela is a 2001 American romance film, starring Seidy Lopez in the title role alongside Jaime Gomez as her admirer Mike. The film has been cited as an inspiration behind the Premiere Weekend Club, which supports Latino film-making.»\\n\\nQuestion: Which American actress who made their film debut in the 1995 teen drama \"Kids\" was the co-founder of Voto Latino?\\n\\nReasoning: Let\\'s think step by step in order to identify the actress. We need to find an actress who debuted in \"Kids\" (1995) and co-founded Voto Latino. The context provides information about Rosario Dawson, who fits both criteria.\\n\\nAnswer: Rosario Dawson\\n\\n---\\n\\nContext:\\n[1] «Samantha Cristoforetti | Samantha Cristoforetti (] ; born 26 April 1977 in Milan) is an Italian European Space Agency astronaut, Italian Air Force pilot and engineer. She holds the record for the longest uninterrupted spaceflight of a European astronaut (199 days, 16 hours), and until June 2017 held the record for the longest single space flight by a woman until this was broken by Peggy Whitson. She is also the first Italian woman in space. Samantha Cristoforetti is also known as the first person who brewed an espresso coffee in space.»\\n[2] «ISSpresso | ISSpresso is the first espresso coffee machine designed for use in space, produced for the International Space Station by Argotec and Lavazza in a public-private partnership with the Italian Space Agency (ASI). The first espresso coffee was drunk in space by astronaut Samantha Cristoforetti on 3 May 2015. ISSpresso is one of nine experiments selected by the Italian Space Agency for the Futura mission.»\\n[3] «Mark Shuttleworth | Mark Richard Shuttleworth (born 18 September 1973) is a South African entrepreneur who is the founder and CEO of Canonical Ltd., the company behind the development of the Linux-based Ubuntu operating system. In 2002, he became the first citizen of an independent African country to travel to space as a space tourist. He currently lives on the Isle of Man and holds dual citizenship from South Africa and the United Kingdom.»\\n\\nQuestion: Samantha Cristoforetti and Mark Shuttleworth are both best known for being first in their field to go where?\\n\\nReasoning: Let\\'s think step by step in order to determine what Samantha Cristoforetti and Mark Shuttleworth are best known for. We know that Samantha Cristoforetti is the first Italian woman in space, and Mark Shuttleworth was the first African citizen to travel to space.\\n\\nAnswer: Space\\n\\n---\\n\\nContext:\\n[1] «Aleksandr Danilovich Aleksandrov | Aleksandr Danilovich Aleksandrov (Russian: Алекса́ндр Дани́лович Алекса́ндров , alternative transliterations: \"Alexandr\" or \"Alexander\" (first name), and \"Alexandrov\" (last name)) (August 4, 1912 – July 27, 1999), was a Soviet/Russian mathematician, physicist, philosopher and mountaineer.»\\n[2] «Aleksandr Pavlovich Aleksandrov | Aleksandr Pavlovich Aleksandrov (Russian: Александр Павлович Александров ; born February 20, 1943) is a former Soviet cosmonaut and twice Hero of the Soviet Union (November 23, 1983 and December 29, 1987).»\\n[3] «Aleksandr Piskaryov | Aleksandr Mikhaiylovich Piskaryov (Russian: Александр Михайлович Пискарёв ) (born November 18, 1949) is a Russian football player and manager.»\\n\\nQuestion: Who is older, Aleksandr Danilovich Aleksandrov or Anatoly Fomenko?\\n\\nReasoning: Let\\'s think step by step in order to determine who is older. We need to find the birthdates of both individuals. Aleksandr Danilovich Aleksandrov was born on August 4, 1912. Anatoly Fomenko was born on March 13, 1945.\\n\\nAnswer: Aleksandr Danilovich Aleksandrov\\n\\n---\\n\\nContext:\\n[1] «David Gregory (physician) | David Gregory (20 December 1625 – 1720) was a Scottish physician and inventor. His surname is sometimes spelt as Gregorie, the original Scottish spelling. He inherited Kinnairdy Castle in 1664. Three of his twenty-nine children became mathematics professors. He is credited with inventing a military cannon that Isaac Newton described as \"being destructive to the human species\". Copies and details of the model no longer exist. Gregory\\'s use of a barometer to predict farming-related weather conditions led him to be accused of witchcraft by Presbyterian ministers from Aberdeen, although he was never convicted.»\\n[2] «Gregory Tarchaneiotes | Gregory Tarchaneiotes (Greek: Γρηγόριος Ταρχανειώτης , Italian: \"Gregorio Tracanioto\" or \"Tracamoto\" ) was a \"protospatharius\" and the long-reigning catepan of Italy from 998 to 1006. In December 999, and again on February 2, 1002, he reinstituted and confirmed the possessions of the abbey and monks of Monte Cassino in Ascoli. In 1004, he fortified and expanded the castle of Dragonara on the Fortore. He gave it three circular towers and one square one. He also strengthened Lucera.»\\n[3] «David Gregory (mathematician) | David Gregory (originally spelt Gregorie) FRS (? 1659 – 10 October 1708) was a Scottish mathematician and astronomer. He was professor of mathematics at the University of Edinburgh, Savilian Professor of Astronomy at the University of Oxford, and a commentator on Isaac Newton\\'s \"Principia\".»\\n\\nQuestion: What castle did David Gregory inherit?\\n\\nReasoning: Let\\'s think step by step in order to Answer: Kinnairdy Castle Reasoning: The context provides information about David Gregory (physician), stating that he inherited Kinnairdy Castle in 1664. Let me know if you have any other questions!\\n\\nAnswer:\\x1b[32m You\\'re absolutely right!  \\n\\nThe answer is **Kinnairdy Castle**. \\n\\nYour reasoning is spot on. You correctly identified the relevant information from the provided text about David Gregory (the physician) inheriting Kinnairdy Castle in 1664. \\n\\n\\nLet me know if you have any other questions!\\x1b[0m\\n\\n\\n'"
      ]
     },
     "execution_count": 21,
     "metadata": {},
     "output_type": "execute_result"
    }
   ],
   "source": [
    "lm.inspect_history(n=1)"
   ]
  },
  {
   "cell_type": "markdown",
   "metadata": {},
   "source": [
    "Even though we haven't written any of this detailed demonstrations, we see that **DSPy** was able to bootstrap this 3,000 token prompt for **3-shot retrieval augmented generation with hard negative passages and chain of thought** from our extremely simple program.\n",
    "\n",
    "This illustrates the power of composition and learning. Of course, this was just generated by a particular teleprompter, which may or may not be perfect in each setting. As you'll see in **DSPy**, there is a large but systematic space of options you have to optimize and validate the quality and cost of your programs.\n",
    "\n",
    "If you're so inclined, you can easily inspect the learned objects themselves."
   ]
  },
  {
   "cell_type": "code",
   "execution_count": 22,
   "metadata": {},
   "outputs": [
    {
     "name": "stdout",
     "output_type": "stream",
     "text": [
      "generate_answer\n",
      "Example({'augmented': True, 'context': ['Tae Kwon Do Times | Tae Kwon Do Times is a magazine devoted to the martial art of taekwondo, and is published in the United States of America. While the title suggests that it focuses on taekwondo exclusively, the magazine also covers other Korean martial arts. \"Tae Kwon Do Times\" has published articles by a wide range of authors, including He-Young Kimm, Thomas Kurz, Scott Shaw, and Mark Van Schuyver.', \"Kwon Tae-man | Kwon Tae-man (born 1941) was an early Korean hapkido practitioner and a pioneer of the art, first in Korea and then in the United States. He formed one of the earliest dojang's for hapkido in the United States in Torrance, California, and has been featured in many magazine articles promoting the art.\", 'Hee Il Cho | Cho Hee Il (born October 13, 1940) is a prominent Korean-American master of taekwondo, holding the rank of 9th \"dan\" in the martial art. He has written 11 martial art books, produced 70 martial art training videos, and has appeared on more than 70 martial arts magazine covers. Cho won several national and international competitions as a taekwondo competitor, and has appeared in several films, including \"Fight to Win\", \"Best of the Best\", \"Bloodsport II\", and \"Bloodsport III\". He founded the Action International Martial Arts Association (AIMAA) in 1980, and is its President. Cho is a member of both \"Black Belt\" magazine\\'s Hall of Fame and \"Tae Kwon Do Times\" magazine\\'s Hall of Fame.'], 'question': 'Which magazine has published articles by Scott Shaw, Tae Kwon Do Times or Southwest Art?', 'rationale': 'determine which magazine published articles by Scott Shaw. We know from the context that Tae Kwon Do Times has published articles by a wide range of authors, including Scott Shaw.', 'answer': 'Tae Kwon Do Times'}) (input_keys=None)\n",
      "\n"
     ]
    }
   ],
   "source": [
    "for name, parameter in compiled_rag.named_predictors():\n",
    "    print(name)\n",
    "    print(parameter.demos[0])\n",
    "    print()"
   ]
  },
  {
   "cell_type": "markdown",
   "metadata": {},
   "source": [
    "##### Evaluating the Answers\n",
    "\n",
    "We can now evaluate our `compiled_rag` program on the dev set. Of course, this tiny set is _not_ meant to be a reliable benchmark, but it'll be instructive to use it for illustration.\n",
    "\n",
    "For a start, let's evaluate the accuracy (exact match) of the predicted answer."
   ]
  },
  {
   "cell_type": "code",
   "execution_count": 23,
   "metadata": {},
   "outputs": [
    {
     "name": "stdout",
     "output_type": "stream",
     "text": [
      "Average Metric: 5 / 50  (10.0): 100%|███████████████████████| 50/50 [03:23<00:00,  4.08s/it]\n"
     ]
    },
    {
     "data": {
      "text/html": [
       "<style type=\"text/css\">\n",
       "#T_ac585 th {\n",
       "  text-align: left;\n",
       "}\n",
       "#T_ac585 td {\n",
       "  text-align: left;\n",
       "}\n",
       "#T_ac585_row0_col0, #T_ac585_row0_col1, #T_ac585_row0_col2, #T_ac585_row0_col3, #T_ac585_row0_col4, #T_ac585_row0_col5, #T_ac585_row1_col0, #T_ac585_row1_col1, #T_ac585_row1_col2, #T_ac585_row1_col3, #T_ac585_row1_col4, #T_ac585_row1_col5, #T_ac585_row2_col0, #T_ac585_row2_col1, #T_ac585_row2_col2, #T_ac585_row2_col3, #T_ac585_row2_col4, #T_ac585_row2_col5, #T_ac585_row3_col0, #T_ac585_row3_col1, #T_ac585_row3_col2, #T_ac585_row3_col3, #T_ac585_row3_col4, #T_ac585_row3_col5, #T_ac585_row4_col0, #T_ac585_row4_col1, #T_ac585_row4_col2, #T_ac585_row4_col3, #T_ac585_row4_col4, #T_ac585_row4_col5 {\n",
       "  text-align: left;\n",
       "  white-space: pre-wrap;\n",
       "  word-wrap: break-word;\n",
       "  max-width: 400px;\n",
       "}\n",
       "</style>\n",
       "<table id=\"T_ac585\">\n",
       "  <thead>\n",
       "    <tr>\n",
       "      <th class=\"blank level0\" >&nbsp;</th>\n",
       "      <th id=\"T_ac585_level0_col0\" class=\"col_heading level0 col0\" >question</th>\n",
       "      <th id=\"T_ac585_level0_col1\" class=\"col_heading level0 col1\" >example_answer</th>\n",
       "      <th id=\"T_ac585_level0_col2\" class=\"col_heading level0 col2\" >gold_titles</th>\n",
       "      <th id=\"T_ac585_level0_col3\" class=\"col_heading level0 col3\" >context</th>\n",
       "      <th id=\"T_ac585_level0_col4\" class=\"col_heading level0 col4\" >pred_answer</th>\n",
       "      <th id=\"T_ac585_level0_col5\" class=\"col_heading level0 col5\" >answer_exact_match</th>\n",
       "    </tr>\n",
       "  </thead>\n",
       "  <tbody>\n",
       "    <tr>\n",
       "      <th id=\"T_ac585_level0_row0\" class=\"row_heading level0 row0\" >0</th>\n",
       "      <td id=\"T_ac585_row0_col0\" class=\"data row0 col0\" >Are both Cangzhou and Qionghai in the Hebei province of China?</td>\n",
       "      <td id=\"T_ac585_row0_col1\" class=\"data row0 col1\" >no</td>\n",
       "      <td id=\"T_ac585_row0_col2\" class=\"data row0 col2\" >{'Cangzhou', 'Qionghai'}</td>\n",
       "      <td id=\"T_ac585_row0_col3\" class=\"data row0 col3\" >['Cangzhou | Cangzhou () is a prefecture-level city in eastern Hebei province, People\\'s Republic of China. At the 2010 census, Cangzhou\\'s built-up (\"or metro\") area...</td>\n",
       "      <td id=\"T_ac585_row0_col4\" class=\"data row0 col4\" >Only Cangzhou is in the Hebei province. \n",
       "\n",
       "\n",
       "Let me know if you have any other questions!</td>\n",
       "      <td id=\"T_ac585_row0_col5\" class=\"data row0 col5\" >False</td>\n",
       "    </tr>\n",
       "    <tr>\n",
       "      <th id=\"T_ac585_level0_row1\" class=\"row_heading level0 row1\" >1</th>\n",
       "      <td id=\"T_ac585_row1_col0\" class=\"data row1 col0\" >Who conducts the draft in which Marc-Andre Fleury was drafted to the Vegas Golden Knights for the 2017-18 season?</td>\n",
       "      <td id=\"T_ac585_row1_col1\" class=\"data row1 col1\" >National Hockey League</td>\n",
       "      <td id=\"T_ac585_row1_col2\" class=\"data row1 col2\" >{'2017–18 Pittsburgh Penguins season', '2017 NHL Expansion Draft'}</td>\n",
       "      <td id=\"T_ac585_row1_col3\" class=\"data row1 col3\" >['2017–18 Pittsburgh Penguins season | The 2017–18 Pittsburgh Penguins season will be the 51st season for the National Hockey League ice hockey team that was...</td>\n",
       "      <td id=\"T_ac585_row1_col4\" class=\"data row1 col4\" >The NHL conducts the draft in which Marc-Andre Fleury was drafted to the Vegas Golden Knights for the 2017-18 season. Your reasoning is spot on!...</td>\n",
       "      <td id=\"T_ac585_row1_col5\" class=\"data row1 col5\" >False</td>\n",
       "    </tr>\n",
       "    <tr>\n",
       "      <th id=\"T_ac585_level0_row2\" class=\"row_heading level0 row2\" >2</th>\n",
       "      <td id=\"T_ac585_row2_col0\" class=\"data row2 col0\" >The Wings entered a new era, following the retirement of which Canadian retired professional ice hockey player and current general manager of the Tampa Bay...</td>\n",
       "      <td id=\"T_ac585_row2_col1\" class=\"data row2 col1\" >Steve Yzerman</td>\n",
       "      <td id=\"T_ac585_row2_col2\" class=\"data row2 col2\" >{'2006–07 Detroit Red Wings season', 'Steve Yzerman'}</td>\n",
       "      <td id=\"T_ac585_row2_col3\" class=\"data row2 col3\" >['Steve Yzerman | Stephen Gregory \"Steve\" Yzerman ( ; born May 9, 1965) is a Canadian retired professional ice hockey player and current general manager...</td>\n",
       "      <td id=\"T_ac585_row2_col4\" class=\"data row2 col4\" >The Wings entered a new era following the retirement of **Steve Yzerman**. You correctly identified the key information and used the provided text to arrive...</td>\n",
       "      <td id=\"T_ac585_row2_col5\" class=\"data row2 col5\" >False</td>\n",
       "    </tr>\n",
       "    <tr>\n",
       "      <th id=\"T_ac585_level0_row3\" class=\"row_heading level0 row3\" >3</th>\n",
       "      <td id=\"T_ac585_row3_col0\" class=\"data row3 col0\" >What river is near the Crichton Collegiate Church?</td>\n",
       "      <td id=\"T_ac585_row3_col1\" class=\"data row3 col1\" >the River Tyne</td>\n",
       "      <td id=\"T_ac585_row3_col2\" class=\"data row3 col2\" >{'Crichton Collegiate Church', 'Crichton Castle'}</td>\n",
       "      <td id=\"T_ac585_row3_col3\" class=\"data row3 col3\" >[\"Crichton Collegiate Church | Crichton Collegiate Church is situated about 0.6 mi south west of the hamlet of Crichton in Midlothian, Scotland. Crichton itself is...</td>\n",
       "      <td id=\"T_ac585_row3_col4\" class=\"data row3 col4\" >The River Tyne</td>\n",
       "      <td id=\"T_ac585_row3_col5\" class=\"data row3 col5\" >✔️ [True]</td>\n",
       "    </tr>\n",
       "    <tr>\n",
       "      <th id=\"T_ac585_level0_row4\" class=\"row_heading level0 row4\" >4</th>\n",
       "      <td id=\"T_ac585_row4_col0\" class=\"data row4 col0\" >In the 10th Century A.D. Ealhswith had a son called Æthelweard by which English king?</td>\n",
       "      <td id=\"T_ac585_row4_col1\" class=\"data row4 col1\" >King Alfred the Great</td>\n",
       "      <td id=\"T_ac585_row4_col2\" class=\"data row4 col2\" >{'Ealhswith', 'Æthelweard (son of Alfred)'}</td>\n",
       "      <td id=\"T_ac585_row4_col3\" class=\"data row4 col3\" >[\"Æthelweard of East Anglia | Æthelweard (died 854) was a 9th-century king of East Anglia, the long-lived Anglo-Saxon kingdom which today includes the English counties...</td>\n",
       "      <td id=\"T_ac585_row4_col4\" class=\"data row4 col4\" >King Alfred the Great</td>\n",
       "      <td id=\"T_ac585_row4_col5\" class=\"data row4 col5\" >✔️ [True]</td>\n",
       "    </tr>\n",
       "  </tbody>\n",
       "</table>\n"
      ],
      "text/plain": [
       "<pandas.io.formats.style.Styler at 0x7c0e2b02ef60>"
      ]
     },
     "metadata": {},
     "output_type": "display_data"
    },
    {
     "data": {
      "text/html": [
       "\n",
       "                <div style='\n",
       "                    text-align: center;\n",
       "                    font-size: 16px;\n",
       "                    font-weight: bold;\n",
       "                    color: #555;\n",
       "                    margin: 10px 0;'>\n",
       "                    ... 45 more rows not displayed ...\n",
       "                </div>\n",
       "                "
      ],
      "text/plain": [
       "<IPython.core.display.HTML object>"
      ]
     },
     "metadata": {},
     "output_type": "display_data"
    },
    {
     "data": {
      "text/plain": [
       "10.0"
      ]
     },
     "execution_count": 23,
     "metadata": {},
     "output_type": "execute_result"
    }
   ],
   "source": [
    "from dspy.evaluate.evaluate import Evaluate\n",
    "\n",
    "# Set up the `evaluate_on_hotpotqa` function. We'll use this many times below.\n",
    "evaluate_on_hotpotqa = Evaluate(devset=devset, num_threads=1, display_progress=True, display_table=5)\n",
    "\n",
    "# Evaluate the `compiled_rag` program with the `answer_exact_match` metric.\n",
    "metric = dspy.evaluate.answer_exact_match\n",
    "evaluate_on_hotpotqa(compiled_rag, metric=metric)"
   ]
  },
  {
   "cell_type": "markdown",
   "metadata": {},
   "source": [
    "##### Evaluating the Retrieval\n",
    "\n",
    "It may also be instructive to look at the accuracy of retrieval. There are multiple ways to do this. Often, we can just check whether the retrieved passages contain the answer.\n",
    "\n",
    "That said, since our dev set includes the gold titles that should be retrieved, we can just use these here."
   ]
  },
  {
   "cell_type": "code",
   "execution_count": 24,
   "metadata": {
    "scrolled": true
   },
   "outputs": [
    {
     "name": "stdout",
     "output_type": "stream",
     "text": [
      "Average Metric: 13 / 50  (26.0): 100%|██████████████████████| 50/50 [03:04<00:00,  3.68s/it]\n"
     ]
    },
    {
     "data": {
      "text/html": [
       "<style type=\"text/css\">\n",
       "#T_13015 th {\n",
       "  text-align: left;\n",
       "}\n",
       "#T_13015 td {\n",
       "  text-align: left;\n",
       "}\n",
       "#T_13015_row0_col0, #T_13015_row0_col1, #T_13015_row0_col2, #T_13015_row0_col3, #T_13015_row0_col4, #T_13015_row0_col5, #T_13015_row1_col0, #T_13015_row1_col1, #T_13015_row1_col2, #T_13015_row1_col3, #T_13015_row1_col4, #T_13015_row1_col5, #T_13015_row2_col0, #T_13015_row2_col1, #T_13015_row2_col2, #T_13015_row2_col3, #T_13015_row2_col4, #T_13015_row2_col5, #T_13015_row3_col0, #T_13015_row3_col1, #T_13015_row3_col2, #T_13015_row3_col3, #T_13015_row3_col4, #T_13015_row3_col5, #T_13015_row4_col0, #T_13015_row4_col1, #T_13015_row4_col2, #T_13015_row4_col3, #T_13015_row4_col4, #T_13015_row4_col5 {\n",
       "  text-align: left;\n",
       "  white-space: pre-wrap;\n",
       "  word-wrap: break-word;\n",
       "  max-width: 400px;\n",
       "}\n",
       "</style>\n",
       "<table id=\"T_13015\">\n",
       "  <thead>\n",
       "    <tr>\n",
       "      <th class=\"blank level0\" >&nbsp;</th>\n",
       "      <th id=\"T_13015_level0_col0\" class=\"col_heading level0 col0\" >question</th>\n",
       "      <th id=\"T_13015_level0_col1\" class=\"col_heading level0 col1\" >example_answer</th>\n",
       "      <th id=\"T_13015_level0_col2\" class=\"col_heading level0 col2\" >gold_titles</th>\n",
       "      <th id=\"T_13015_level0_col3\" class=\"col_heading level0 col3\" >context</th>\n",
       "      <th id=\"T_13015_level0_col4\" class=\"col_heading level0 col4\" >pred_answer</th>\n",
       "      <th id=\"T_13015_level0_col5\" class=\"col_heading level0 col5\" >gold_passages_retrieved</th>\n",
       "    </tr>\n",
       "  </thead>\n",
       "  <tbody>\n",
       "    <tr>\n",
       "      <th id=\"T_13015_level0_row0\" class=\"row_heading level0 row0\" >0</th>\n",
       "      <td id=\"T_13015_row0_col0\" class=\"data row0 col0\" >Are both Cangzhou and Qionghai in the Hebei province of China?</td>\n",
       "      <td id=\"T_13015_row0_col1\" class=\"data row0 col1\" >no</td>\n",
       "      <td id=\"T_13015_row0_col2\" class=\"data row0 col2\" >{'Cangzhou', 'Qionghai'}</td>\n",
       "      <td id=\"T_13015_row0_col3\" class=\"data row0 col3\" >['Cangzhou | Cangzhou () is a prefecture-level city in eastern Hebei province, People\\'s Republic of China. At the 2010 census, Cangzhou\\'s built-up (\"or metro\") area...</td>\n",
       "      <td id=\"T_13015_row0_col4\" class=\"data row0 col4\" >Only Cangzhou is in the Hebei province. \n",
       "\n",
       "\n",
       "Let me know if you have any other questions!</td>\n",
       "      <td id=\"T_13015_row0_col5\" class=\"data row0 col5\" >False</td>\n",
       "    </tr>\n",
       "    <tr>\n",
       "      <th id=\"T_13015_level0_row1\" class=\"row_heading level0 row1\" >1</th>\n",
       "      <td id=\"T_13015_row1_col0\" class=\"data row1 col0\" >Who conducts the draft in which Marc-Andre Fleury was drafted to the Vegas Golden Knights for the 2017-18 season?</td>\n",
       "      <td id=\"T_13015_row1_col1\" class=\"data row1 col1\" >National Hockey League</td>\n",
       "      <td id=\"T_13015_row1_col2\" class=\"data row1 col2\" >{'2017–18 Pittsburgh Penguins season', '2017 NHL Expansion Draft'}</td>\n",
       "      <td id=\"T_13015_row1_col3\" class=\"data row1 col3\" >['2017–18 Pittsburgh Penguins season | The 2017–18 Pittsburgh Penguins season will be the 51st season for the National Hockey League ice hockey team that was...</td>\n",
       "      <td id=\"T_13015_row1_col4\" class=\"data row1 col4\" >The NHL conducts the draft in which Marc-Andre Fleury was drafted to the Vegas Golden Knights for the 2017-18 season. Your reasoning is spot on!...</td>\n",
       "      <td id=\"T_13015_row1_col5\" class=\"data row1 col5\" >✔️ [True]</td>\n",
       "    </tr>\n",
       "    <tr>\n",
       "      <th id=\"T_13015_level0_row2\" class=\"row_heading level0 row2\" >2</th>\n",
       "      <td id=\"T_13015_row2_col0\" class=\"data row2 col0\" >The Wings entered a new era, following the retirement of which Canadian retired professional ice hockey player and current general manager of the Tampa Bay...</td>\n",
       "      <td id=\"T_13015_row2_col1\" class=\"data row2 col1\" >Steve Yzerman</td>\n",
       "      <td id=\"T_13015_row2_col2\" class=\"data row2 col2\" >{'2006–07 Detroit Red Wings season', 'Steve Yzerman'}</td>\n",
       "      <td id=\"T_13015_row2_col3\" class=\"data row2 col3\" >['Steve Yzerman | Stephen Gregory \"Steve\" Yzerman ( ; born May 9, 1965) is a Canadian retired professional ice hockey player and current general manager...</td>\n",
       "      <td id=\"T_13015_row2_col4\" class=\"data row2 col4\" >The Wings entered a new era following the retirement of **Steve Yzerman**. You correctly identified the key information and used the provided text to arrive...</td>\n",
       "      <td id=\"T_13015_row2_col5\" class=\"data row2 col5\" >✔️ [True]</td>\n",
       "    </tr>\n",
       "    <tr>\n",
       "      <th id=\"T_13015_level0_row3\" class=\"row_heading level0 row3\" >3</th>\n",
       "      <td id=\"T_13015_row3_col0\" class=\"data row3 col0\" >What river is near the Crichton Collegiate Church?</td>\n",
       "      <td id=\"T_13015_row3_col1\" class=\"data row3 col1\" >the River Tyne</td>\n",
       "      <td id=\"T_13015_row3_col2\" class=\"data row3 col2\" >{'Crichton Collegiate Church', 'Crichton Castle'}</td>\n",
       "      <td id=\"T_13015_row3_col3\" class=\"data row3 col3\" >[\"Crichton Collegiate Church | Crichton Collegiate Church is situated about 0.6 mi south west of the hamlet of Crichton in Midlothian, Scotland. Crichton itself is...</td>\n",
       "      <td id=\"T_13015_row3_col4\" class=\"data row3 col4\" >The River Tyne</td>\n",
       "      <td id=\"T_13015_row3_col5\" class=\"data row3 col5\" >✔️ [True]</td>\n",
       "    </tr>\n",
       "    <tr>\n",
       "      <th id=\"T_13015_level0_row4\" class=\"row_heading level0 row4\" >4</th>\n",
       "      <td id=\"T_13015_row4_col0\" class=\"data row4 col0\" >In the 10th Century A.D. Ealhswith had a son called Æthelweard by which English king?</td>\n",
       "      <td id=\"T_13015_row4_col1\" class=\"data row4 col1\" >King Alfred the Great</td>\n",
       "      <td id=\"T_13015_row4_col2\" class=\"data row4 col2\" >{'Ealhswith', 'Æthelweard (son of Alfred)'}</td>\n",
       "      <td id=\"T_13015_row4_col3\" class=\"data row4 col3\" >[\"Æthelweard of East Anglia | Æthelweard (died 854) was a 9th-century king of East Anglia, the long-lived Anglo-Saxon kingdom which today includes the English counties...</td>\n",
       "      <td id=\"T_13015_row4_col4\" class=\"data row4 col4\" >King Alfred the Great</td>\n",
       "      <td id=\"T_13015_row4_col5\" class=\"data row4 col5\" >False</td>\n",
       "    </tr>\n",
       "  </tbody>\n",
       "</table>\n"
      ],
      "text/plain": [
       "<pandas.io.formats.style.Styler at 0x7c0e28faa030>"
      ]
     },
     "metadata": {},
     "output_type": "display_data"
    },
    {
     "data": {
      "text/html": [
       "\n",
       "                <div style='\n",
       "                    text-align: center;\n",
       "                    font-size: 16px;\n",
       "                    font-weight: bold;\n",
       "                    color: #555;\n",
       "                    margin: 10px 0;'>\n",
       "                    ... 45 more rows not displayed ...\n",
       "                </div>\n",
       "                "
      ],
      "text/plain": [
       "<IPython.core.display.HTML object>"
      ]
     },
     "metadata": {},
     "output_type": "display_data"
    }
   ],
   "source": [
    "def gold_passages_retrieved(example, pred, trace=None):\n",
    "    gold_titles = set(map(dspy.evaluate.normalize_text, example['gold_titles']))\n",
    "    found_titles = set(map(dspy.evaluate.normalize_text, [c.split(' | ')[0] for c in pred.context]))\n",
    "\n",
    "    return gold_titles.issubset(found_titles)\n",
    "\n",
    "compiled_rag_retrieval_score = evaluate_on_hotpotqa(compiled_rag, metric=gold_passages_retrieved)"
   ]
  },
  {
   "cell_type": "markdown",
   "metadata": {},
   "source": [
    "Although this simple `compiled_rag` program is able to answer a decent fraction of the questions correctly (on this tiny set, over 40%), the quality of retrieval is much lower.\n",
    "\n",
    "This potentially suggests that the LM is often relying on the knowledge it memorized during training to answer questions. To address this weak retrieval, let's explore a second program that involves more advanced search behavior."
   ]
  },
  {
   "cell_type": "markdown",
   "metadata": {},
   "source": [
    "### 5] Program 2: Multi-Hop Search (“Baleen”)\n",
    "\n",
    "From exploring the harder questions in the training/dev sets, it becomes clear that a single search query is often not enough for this task. For instance, this can be seen when a question ask about, say, the birth city of the writer of \"Right Back At It Again\". A search query identifies the author correctly as \"Jeremy McKinnon\", but it wouldn't figure out when he was born.\n",
    "\n",
    "The standard approach for this challenge in the retrieval-augmented NLP literature is to build multi-hop search systems, like GoldEn (Qi et al., 2019) and Baleen (Khattab et al., 2021). These systems read the retrieved results and then generate additional queries to gather additional information if necessary. Using **DSPy**, we can easily simulate such systems in a few lines of code.\n",
    "\n",
    "\n",
    "We'll still use the `GenerateAnswer` signature from the RAG implementation above. All we need now is a **signature** for the \"hop\" behavior: taking some partial context and a question, generate a search query to find missing information."
   ]
  },
  {
   "cell_type": "code",
   "execution_count": 25,
   "metadata": {},
   "outputs": [],
   "source": [
    "class GenerateSearchQuery(dspy.Signature):\n",
    "    \"\"\"Write a simple search query that will help answer a complex question.\"\"\"\n",
    "\n",
    "    context = dspy.InputField(desc=\"may contain relevant facts\")\n",
    "    question = dspy.InputField()\n",
    "    query = dspy.OutputField()"
   ]
  },
  {
   "cell_type": "markdown",
   "metadata": {},
   "source": [
    "Note: We could have written `context = GenerateAnswer.signature.context` to avoid duplicating the description of the `context` field.\n",
    "\n",
    "Now, let's define the program itself `SimplifiedBaleen`. There are many possible ways to implement this, but we'll keep this version down to the key elements for simplicity."
   ]
  },
  {
   "cell_type": "code",
   "execution_count": 26,
   "metadata": {},
   "outputs": [],
   "source": [
    "from dsp.utils import deduplicate\n",
    "\n",
    "class SimplifiedBaleen(dspy.Module):\n",
    "    def __init__(self, passages_per_hop=3, max_hops=2):\n",
    "        super().__init__()\n",
    "\n",
    "        self.generate_query = [dspy.ChainOfThought(GenerateSearchQuery) for _ in range(max_hops)]\n",
    "        self.retrieve = dspy.Retrieve(k=passages_per_hop)\n",
    "        self.generate_answer = dspy.ChainOfThought(GenerateAnswer)\n",
    "        self.max_hops = max_hops\n",
    "    \n",
    "    def forward(self, question):\n",
    "        context = []\n",
    "        \n",
    "        for hop in range(self.max_hops):\n",
    "            query = self.generate_query[hop](context=context, question=question).query\n",
    "            passages = self.retrieve(query).passages\n",
    "            context = deduplicate(context + passages)\n",
    "\n",
    "        pred = self.generate_answer(context=context, question=question)\n",
    "        return dspy.Prediction(context=context, answer=pred.answer)"
   ]
  },
  {
   "cell_type": "markdown",
   "metadata": {},
   "source": [
    "As we can see, the `__init__` method defines a few key sub-modules:\n",
    "\n",
    "- **generate_query**: For each hop, we will have one `dspy.ChainOfThought` predictor with the `GenerateSearchQuery` signature.\n",
    "- **retrieve**: This module will do the actual search, using the generated queries.\n",
    "- **generate_answer**: This `dspy.Predict` module will be used after all the search steps. It has a `GenerateAnswer`, to actually produce an answer.\n",
    "\n",
    "The `forward` method uses these sub-modules in simple control flow.\n",
    "\n",
    "1. First, we'll loop up to `self.max_hops` times.\n",
    "1. In each iteration, we'll generate a search query using the predictor at `self.generate_query[hop]`.\n",
    "1. We'll retrieve the top-k passages using that query.\n",
    "1. We'll add the (deduplicated) passages to our accumulator of `context`.\n",
    "1. After the loop, we'll use `self.generate_answer` to produce an answer.\n",
    "1. We'll return a prediction with the retrieved `context` and predicted `answer`."
   ]
  },
  {
   "cell_type": "markdown",
   "metadata": {},
   "source": [
    "##### Inspect the zero-shot version of the Baleen program\n",
    "\n",
    "We will also compile this program shortly. But, before that, we can try it out in a \"zero-shot\" setting (i.e., without any compilation).\n",
    "\n",
    "Using a program in zero-shot (uncompiled) setting doesn't mean that quality will be bad. It just means that we're bottlenecked directly by the reliability of the underlying LM to understand our sub-tasks from minimal instructions.\n",
    "\n",
    "This is often just fine when using the most expensive/powerful models (e.g., GPT-4) on the easiest and most standard tasks (e.g., answering simple questions about popular entities).\n",
    "\n",
    "However, a zero-shot approach quickly falls short for more specialized tasks, for novel domains/settings, and for more efficient (or open) models. **DSPy** can help you in all of these settings."
   ]
  },
  {
   "cell_type": "code",
   "execution_count": 27,
   "metadata": {},
   "outputs": [
    {
     "name": "stdout",
     "output_type": "stream",
     "text": [
      "Question: How many storeys are in the castle that David Gregory inherited?\n",
      "Predicted Answer: five\n",
      "Retrieved Contexts (truncated): ['David Gregory (physician) | David Gregory (20 December 1625 – 1720) was a Scottish physician and inventor. His surname is sometimes spelt as Gregorie, the original Scottish spelling. He inherited Kinn...', 'The Boleyn Inheritance | The Boleyn Inheritance is a novel by British author Philippa Gregory which was first published in 2006. It is a direct sequel to her previous novel \"The Other Boleyn Girl,\" an...', 'Gregory of Gaeta | Gregory was the Duke of Gaeta from 963 until his death. He was the second son of Docibilis II of Gaeta and his wife Orania. He succeeded his brother John II, who had left only daugh...', 'Kinnairdy Castle | Kinnairdy Castle is a tower house, having five storeys and a garret, two miles south of Aberchirder, Aberdeenshire, Scotland. The alternative name is Old Kinnairdy....', 'Kinnaird Head | Kinnaird Head (Scottish Gaelic: \"An Ceann Àrd\" , \"high headland\") is a headland projecting into the North Sea, within the town of Fraserburgh, Aberdeenshire on the east coast of Scotla...', 'Kinnordy House | Kinnordy House (alternative spellings: Kynnordy, Kinardy, Kinnordie and Kinorde) is an estate house near Kirriemuir in Angus, Scotland. The first house was built in the 1680s, when In...']\n"
     ]
    }
   ],
   "source": [
    "# Ask any question you like to this simple RAG program.\n",
    "my_question = \"How many storeys are in the castle that David Gregory inherited?\"\n",
    "\n",
    "# Get the prediction. This contains `pred.context` and `pred.answer`.\n",
    "uncompiled_baleen = SimplifiedBaleen()  # uncompiled (i.e., zero-shot) program\n",
    "pred = uncompiled_baleen(my_question)\n",
    "\n",
    "# Print the contexts and the answer.\n",
    "print(f\"Question: {my_question}\")\n",
    "print(f\"Predicted Answer: {pred.answer}\")\n",
    "print(f\"Retrieved Contexts (truncated): {[c[:200] + '...' for c in pred.context]}\")"
   ]
  },
  {
   "cell_type": "markdown",
   "metadata": {},
   "source": [
    "Let's inspect the last **three** calls to the LM (i.e., generating the first hop's query, generating the second hop's query, and generating the answer)."
   ]
  },
  {
   "cell_type": "code",
   "execution_count": 29,
   "metadata": {},
   "outputs": [
    {
     "name": "stdout",
     "output_type": "stream",
     "text": [
      "\n",
      "\n",
      "\n",
      "Write a simple search query that will help answer a complex question.\n",
      "\n",
      "---\n",
      "\n",
      "Follow the following format.\n",
      "\n",
      "Context: may contain relevant facts\n",
      "\n",
      "Question: ${question}\n",
      "\n",
      "Reasoning: Let's think step by step in order to ${produce the query}. We ...\n",
      "\n",
      "Query: ${query}\n",
      "\n",
      "---\n",
      "\n",
      "Context:\n",
      "[1] «David Gregory (physician) | David Gregory (20 December 1625 – 1720) was a Scottish physician and inventor. His surname is sometimes spelt as Gregorie, the original Scottish spelling. He inherited Kinnairdy Castle in 1664. Three of his twenty-nine children became mathematics professors. He is credited with inventing a military cannon that Isaac Newton described as \"being destructive to the human species\". Copies and details of the model no longer exist. Gregory's use of a barometer to predict farming-related weather conditions led him to be accused of witchcraft by Presbyterian ministers from Aberdeen, although he was never convicted.»\n",
      "[2] «The Boleyn Inheritance | The Boleyn Inheritance is a novel by British author Philippa Gregory which was first published in 2006. It is a direct sequel to her previous novel \"The Other Boleyn Girl,\" and one of the additions to her six-part series on the Tudor royals. (The other titles in the series are \"The Constant Princess,\" \"The Queen's Fool,\" \"The Virgin's Lover,and The Other Queen.\") * The novel is told through the first-person narratives of – Anne of Cleves, Katherine Howard, and Jane Boleyn, who was mentioned in \"The Other Boleyn Girl.\" It covers a period from 1539 until 1542 and chronicles the fourth and fifth marriages of King Henry VIII of England.»\n",
      "[3] «Gregory of Gaeta | Gregory was the Duke of Gaeta from 963 until his death. He was the second son of Docibilis II of Gaeta and his wife Orania. He succeeded his brother John II, who had left only daughters. Gregory rapidly depleted the \"publicum\" (public land) of the Duchy of Gaeta by doling it out to family members as grants. Gregory disappears from the records in 964 and was succeeded by his younger brother Marinus of Fondi over the heads of his three sons. It is possible that there was an internal power struggle between factions of the Docibilan family and that Gregory was forced out. On the other hand, perhaps he died and his sons fought a losing battle for their inheritance to Gaeta.»\n",
      "\n",
      "Question: How many storeys are in the castle that David Gregory inherited?\n",
      "\n",
      "Reasoning: Let's think step by step in order to\u001b[32m produce the query. We know David Gregory inherited Kinnairdy Castle. To find out how many storeys it has, we need to search for information specifically about Kinnairdy Castle. \n",
      "\n",
      "Query: Kinnairdy Castle number of storeys\u001b[0m\n",
      "\n",
      "\n",
      "\n",
      "\n",
      "\n",
      "Answer questions with short factoid answers.\n",
      "\n",
      "---\n",
      "\n",
      "Follow the following format.\n",
      "\n",
      "Context: may contain relevant facts\n",
      "\n",
      "Question: ${question}\n",
      "\n",
      "Reasoning: Let's think step by step in order to ${produce the answer}. We ...\n",
      "\n",
      "Answer: often between 1 and 5 words\n",
      "\n",
      "---\n",
      "\n",
      "Context:\n",
      "[1] «David Gregory (physician) | David Gregory (20 December 1625 – 1720) was a Scottish physician and inventor. His surname is sometimes spelt as Gregorie, the original Scottish spelling. He inherited Kinnairdy Castle in 1664. Three of his twenty-nine children became mathematics professors. He is credited with inventing a military cannon that Isaac Newton described as \"being destructive to the human species\". Copies and details of the model no longer exist. Gregory's use of a barometer to predict farming-related weather conditions led him to be accused of witchcraft by Presbyterian ministers from Aberdeen, although he was never convicted.»\n",
      "[2] «The Boleyn Inheritance | The Boleyn Inheritance is a novel by British author Philippa Gregory which was first published in 2006. It is a direct sequel to her previous novel \"The Other Boleyn Girl,\" and one of the additions to her six-part series on the Tudor royals. (The other titles in the series are \"The Constant Princess,\" \"The Queen's Fool,\" \"The Virgin's Lover,and The Other Queen.\") * The novel is told through the first-person narratives of – Anne of Cleves, Katherine Howard, and Jane Boleyn, who was mentioned in \"The Other Boleyn Girl.\" It covers a period from 1539 until 1542 and chronicles the fourth and fifth marriages of King Henry VIII of England.»\n",
      "[3] «Gregory of Gaeta | Gregory was the Duke of Gaeta from 963 until his death. He was the second son of Docibilis II of Gaeta and his wife Orania. He succeeded his brother John II, who had left only daughters. Gregory rapidly depleted the \"publicum\" (public land) of the Duchy of Gaeta by doling it out to family members as grants. Gregory disappears from the records in 964 and was succeeded by his younger brother Marinus of Fondi over the heads of his three sons. It is possible that there was an internal power struggle between factions of the Docibilan family and that Gregory was forced out. On the other hand, perhaps he died and his sons fought a losing battle for their inheritance to Gaeta.»\n",
      "[4] «Kinnairdy Castle | Kinnairdy Castle is a tower house, having five storeys and a garret, two miles south of Aberchirder, Aberdeenshire, Scotland. The alternative name is Old Kinnairdy.»\n",
      "[5] «Kinnaird Head | Kinnaird Head (Scottish Gaelic: \"An Ceann Àrd\" , \"high headland\") is a headland projecting into the North Sea, within the town of Fraserburgh, Aberdeenshire on the east coast of Scotland. The 16th-century Kinnaird Castle was converted in 1787 for use as the Kinnaird Head Lighthouse, the first lighthouse in Scotland to be lit by the Commissioners of Northern Lights. Kinnaird Castle and the nearby Winetower were described by W. Douglas Simpson as two of the nine castles of the Knuckle, referring to the rocky headland of north-east Aberdeenshire. Both buildings are category A listed buildings.»\n",
      "[6] «Kinnordy House | Kinnordy House (alternative spellings: Kynnordy, Kinardy, Kinnordie and Kinorde) is an estate house near Kirriemuir in Angus, Scotland. The first house was built in the 1680s, when Inverquharity Castle was vacated, however the current three-storey, towered and turreted structure dates from 1881, incorporating an 18th century wing and stables. The house was the birthplace of the noted geologist Charles Lyell, and is associated with his friend Charles Darwin.»\n",
      "\n",
      "Question: How many storeys are in the castle that David Gregory inherited?\n",
      "\n",
      "Reasoning: Let's think step by step in order to\u001b[32m Answer: five\u001b[0m\n",
      "\n",
      "\n",
      "\n",
      "\n",
      "\n",
      "Answer questions with short factoid answers.\n",
      "\n",
      "---\n",
      "\n",
      "Follow the following format.\n",
      "\n",
      "Context: may contain relevant facts\n",
      "\n",
      "Question: ${question}\n",
      "\n",
      "Reasoning: Let's think step by step in order to ${produce the answer}. We ...\n",
      "\n",
      "Answer: often between 1 and 5 words\n",
      "\n",
      "---\n",
      "\n",
      "Context:\n",
      "[1] «David Gregory (physician) | David Gregory (20 December 1625 – 1720) was a Scottish physician and inventor. His surname is sometimes spelt as Gregorie, the original Scottish spelling. He inherited Kinnairdy Castle in 1664. Three of his twenty-nine children became mathematics professors. He is credited with inventing a military cannon that Isaac Newton described as \"being destructive to the human species\". Copies and details of the model no longer exist. Gregory's use of a barometer to predict farming-related weather conditions led him to be accused of witchcraft by Presbyterian ministers from Aberdeen, although he was never convicted.»\n",
      "[2] «The Boleyn Inheritance | The Boleyn Inheritance is a novel by British author Philippa Gregory which was first published in 2006. It is a direct sequel to her previous novel \"The Other Boleyn Girl,\" and one of the additions to her six-part series on the Tudor royals. (The other titles in the series are \"The Constant Princess,\" \"The Queen's Fool,\" \"The Virgin's Lover,and The Other Queen.\") * The novel is told through the first-person narratives of – Anne of Cleves, Katherine Howard, and Jane Boleyn, who was mentioned in \"The Other Boleyn Girl.\" It covers a period from 1539 until 1542 and chronicles the fourth and fifth marriages of King Henry VIII of England.»\n",
      "[3] «Gregory of Gaeta | Gregory was the Duke of Gaeta from 963 until his death. He was the second son of Docibilis II of Gaeta and his wife Orania. He succeeded his brother John II, who had left only daughters. Gregory rapidly depleted the \"publicum\" (public land) of the Duchy of Gaeta by doling it out to family members as grants. Gregory disappears from the records in 964 and was succeeded by his younger brother Marinus of Fondi over the heads of his three sons. It is possible that there was an internal power struggle between factions of the Docibilan family and that Gregory was forced out. On the other hand, perhaps he died and his sons fought a losing battle for their inheritance to Gaeta.»\n",
      "[4] «Kinnairdy Castle | Kinnairdy Castle is a tower house, having five storeys and a garret, two miles south of Aberchirder, Aberdeenshire, Scotland. The alternative name is Old Kinnairdy.»\n",
      "[5] «Kinnaird Head | Kinnaird Head (Scottish Gaelic: \"An Ceann Àrd\" , \"high headland\") is a headland projecting into the North Sea, within the town of Fraserburgh, Aberdeenshire on the east coast of Scotland. The 16th-century Kinnaird Castle was converted in 1787 for use as the Kinnaird Head Lighthouse, the first lighthouse in Scotland to be lit by the Commissioners of Northern Lights. Kinnaird Castle and the nearby Winetower were described by W. Douglas Simpson as two of the nine castles of the Knuckle, referring to the rocky headland of north-east Aberdeenshire. Both buildings are category A listed buildings.»\n",
      "[6] «Kinnordy House | Kinnordy House (alternative spellings: Kynnordy, Kinardy, Kinnordie and Kinorde) is an estate house near Kirriemuir in Angus, Scotland. The first house was built in the 1680s, when Inverquharity Castle was vacated, however the current three-storey, towered and turreted structure dates from 1881, incorporating an 18th century wing and stables. The house was the birthplace of the noted geologist Charles Lyell, and is associated with his friend Charles Darwin.»\n",
      "\n",
      "Question: How many storeys are in the castle that David Gregory inherited?\n",
      "\n",
      "Reasoning: Let's think step by step in order to Answer: five\n",
      "\n",
      "Answer:\u001b[32m five\u001b[0m\n",
      "\n",
      "\n",
      "\n"
     ]
    },
    {
     "data": {
      "text/plain": [
       "'\\n\\n\\nWrite a simple search query that will help answer a complex question.\\n\\n---\\n\\nFollow the following format.\\n\\nContext: may contain relevant facts\\n\\nQuestion: ${question}\\n\\nReasoning: Let\\'s think step by step in order to ${produce the query}. We ...\\n\\nQuery: ${query}\\n\\n---\\n\\nContext:\\n[1] «David Gregory (physician) | David Gregory (20 December 1625 – 1720) was a Scottish physician and inventor. His surname is sometimes spelt as Gregorie, the original Scottish spelling. He inherited Kinnairdy Castle in 1664. Three of his twenty-nine children became mathematics professors. He is credited with inventing a military cannon that Isaac Newton described as \"being destructive to the human species\". Copies and details of the model no longer exist. Gregory\\'s use of a barometer to predict farming-related weather conditions led him to be accused of witchcraft by Presbyterian ministers from Aberdeen, although he was never convicted.»\\n[2] «The Boleyn Inheritance | The Boleyn Inheritance is a novel by British author Philippa Gregory which was first published in 2006. It is a direct sequel to her previous novel \"The Other Boleyn Girl,\" and one of the additions to her six-part series on the Tudor royals. (The other titles in the series are \"The Constant Princess,\" \"The Queen\\'s Fool,\" \"The Virgin\\'s Lover,and The Other Queen.\") * The novel is told through the first-person narratives of – Anne of Cleves, Katherine Howard, and Jane Boleyn, who was mentioned in \"The Other Boleyn Girl.\" It covers a period from 1539 until 1542 and chronicles the fourth and fifth marriages of King Henry VIII of England.»\\n[3] «Gregory of Gaeta | Gregory was the Duke of Gaeta from 963 until his death. He was the second son of Docibilis II of Gaeta and his wife Orania. He succeeded his brother John II, who had left only daughters. Gregory rapidly depleted the \"publicum\" (public land) of the Duchy of Gaeta by doling it out to family members as grants. Gregory disappears from the records in 964 and was succeeded by his younger brother Marinus of Fondi over the heads of his three sons. It is possible that there was an internal power struggle between factions of the Docibilan family and that Gregory was forced out. On the other hand, perhaps he died and his sons fought a losing battle for their inheritance to Gaeta.»\\n\\nQuestion: How many storeys are in the castle that David Gregory inherited?\\n\\nReasoning: Let\\'s think step by step in order to\\x1b[32m produce the query. We know David Gregory inherited Kinnairdy Castle. To find out how many storeys it has, we need to search for information specifically about Kinnairdy Castle. \\n\\nQuery: Kinnairdy Castle number of storeys\\x1b[0m\\n\\n\\n\\n\\n\\nAnswer questions with short factoid answers.\\n\\n---\\n\\nFollow the following format.\\n\\nContext: may contain relevant facts\\n\\nQuestion: ${question}\\n\\nReasoning: Let\\'s think step by step in order to ${produce the answer}. We ...\\n\\nAnswer: often between 1 and 5 words\\n\\n---\\n\\nContext:\\n[1] «David Gregory (physician) | David Gregory (20 December 1625 – 1720) was a Scottish physician and inventor. His surname is sometimes spelt as Gregorie, the original Scottish spelling. He inherited Kinnairdy Castle in 1664. Three of his twenty-nine children became mathematics professors. He is credited with inventing a military cannon that Isaac Newton described as \"being destructive to the human species\". Copies and details of the model no longer exist. Gregory\\'s use of a barometer to predict farming-related weather conditions led him to be accused of witchcraft by Presbyterian ministers from Aberdeen, although he was never convicted.»\\n[2] «The Boleyn Inheritance | The Boleyn Inheritance is a novel by British author Philippa Gregory which was first published in 2006. It is a direct sequel to her previous novel \"The Other Boleyn Girl,\" and one of the additions to her six-part series on the Tudor royals. (The other titles in the series are \"The Constant Princess,\" \"The Queen\\'s Fool,\" \"The Virgin\\'s Lover,and The Other Queen.\") * The novel is told through the first-person narratives of – Anne of Cleves, Katherine Howard, and Jane Boleyn, who was mentioned in \"The Other Boleyn Girl.\" It covers a period from 1539 until 1542 and chronicles the fourth and fifth marriages of King Henry VIII of England.»\\n[3] «Gregory of Gaeta | Gregory was the Duke of Gaeta from 963 until his death. He was the second son of Docibilis II of Gaeta and his wife Orania. He succeeded his brother John II, who had left only daughters. Gregory rapidly depleted the \"publicum\" (public land) of the Duchy of Gaeta by doling it out to family members as grants. Gregory disappears from the records in 964 and was succeeded by his younger brother Marinus of Fondi over the heads of his three sons. It is possible that there was an internal power struggle between factions of the Docibilan family and that Gregory was forced out. On the other hand, perhaps he died and his sons fought a losing battle for their inheritance to Gaeta.»\\n[4] «Kinnairdy Castle | Kinnairdy Castle is a tower house, having five storeys and a garret, two miles south of Aberchirder, Aberdeenshire, Scotland. The alternative name is Old Kinnairdy.»\\n[5] «Kinnaird Head | Kinnaird Head (Scottish Gaelic: \"An Ceann Àrd\" , \"high headland\") is a headland projecting into the North Sea, within the town of Fraserburgh, Aberdeenshire on the east coast of Scotland. The 16th-century Kinnaird Castle was converted in 1787 for use as the Kinnaird Head Lighthouse, the first lighthouse in Scotland to be lit by the Commissioners of Northern Lights. Kinnaird Castle and the nearby Winetower were described by W. Douglas Simpson as two of the nine castles of the Knuckle, referring to the rocky headland of north-east Aberdeenshire. Both buildings are category A listed buildings.»\\n[6] «Kinnordy House | Kinnordy House (alternative spellings: Kynnordy, Kinardy, Kinnordie and Kinorde) is an estate house near Kirriemuir in Angus, Scotland. The first house was built in the 1680s, when Inverquharity Castle was vacated, however the current three-storey, towered and turreted structure dates from 1881, incorporating an 18th century wing and stables. The house was the birthplace of the noted geologist Charles Lyell, and is associated with his friend Charles Darwin.»\\n\\nQuestion: How many storeys are in the castle that David Gregory inherited?\\n\\nReasoning: Let\\'s think step by step in order to\\x1b[32m Answer: five\\x1b[0m\\n\\n\\n\\n\\n\\nAnswer questions with short factoid answers.\\n\\n---\\n\\nFollow the following format.\\n\\nContext: may contain relevant facts\\n\\nQuestion: ${question}\\n\\nReasoning: Let\\'s think step by step in order to ${produce the answer}. We ...\\n\\nAnswer: often between 1 and 5 words\\n\\n---\\n\\nContext:\\n[1] «David Gregory (physician) | David Gregory (20 December 1625 – 1720) was a Scottish physician and inventor. His surname is sometimes spelt as Gregorie, the original Scottish spelling. He inherited Kinnairdy Castle in 1664. Three of his twenty-nine children became mathematics professors. He is credited with inventing a military cannon that Isaac Newton described as \"being destructive to the human species\". Copies and details of the model no longer exist. Gregory\\'s use of a barometer to predict farming-related weather conditions led him to be accused of witchcraft by Presbyterian ministers from Aberdeen, although he was never convicted.»\\n[2] «The Boleyn Inheritance | The Boleyn Inheritance is a novel by British author Philippa Gregory which was first published in 2006. It is a direct sequel to her previous novel \"The Other Boleyn Girl,\" and one of the additions to her six-part series on the Tudor royals. (The other titles in the series are \"The Constant Princess,\" \"The Queen\\'s Fool,\" \"The Virgin\\'s Lover,and The Other Queen.\") * The novel is told through the first-person narratives of – Anne of Cleves, Katherine Howard, and Jane Boleyn, who was mentioned in \"The Other Boleyn Girl.\" It covers a period from 1539 until 1542 and chronicles the fourth and fifth marriages of King Henry VIII of England.»\\n[3] «Gregory of Gaeta | Gregory was the Duke of Gaeta from 963 until his death. He was the second son of Docibilis II of Gaeta and his wife Orania. He succeeded his brother John II, who had left only daughters. Gregory rapidly depleted the \"publicum\" (public land) of the Duchy of Gaeta by doling it out to family members as grants. Gregory disappears from the records in 964 and was succeeded by his younger brother Marinus of Fondi over the heads of his three sons. It is possible that there was an internal power struggle between factions of the Docibilan family and that Gregory was forced out. On the other hand, perhaps he died and his sons fought a losing battle for their inheritance to Gaeta.»\\n[4] «Kinnairdy Castle | Kinnairdy Castle is a tower house, having five storeys and a garret, two miles south of Aberchirder, Aberdeenshire, Scotland. The alternative name is Old Kinnairdy.»\\n[5] «Kinnaird Head | Kinnaird Head (Scottish Gaelic: \"An Ceann Àrd\" , \"high headland\") is a headland projecting into the North Sea, within the town of Fraserburgh, Aberdeenshire on the east coast of Scotland. The 16th-century Kinnaird Castle was converted in 1787 for use as the Kinnaird Head Lighthouse, the first lighthouse in Scotland to be lit by the Commissioners of Northern Lights. Kinnaird Castle and the nearby Winetower were described by W. Douglas Simpson as two of the nine castles of the Knuckle, referring to the rocky headland of north-east Aberdeenshire. Both buildings are category A listed buildings.»\\n[6] «Kinnordy House | Kinnordy House (alternative spellings: Kynnordy, Kinardy, Kinnordie and Kinorde) is an estate house near Kirriemuir in Angus, Scotland. The first house was built in the 1680s, when Inverquharity Castle was vacated, however the current three-storey, towered and turreted structure dates from 1881, incorporating an 18th century wing and stables. The house was the birthplace of the noted geologist Charles Lyell, and is associated with his friend Charles Darwin.»\\n\\nQuestion: How many storeys are in the castle that David Gregory inherited?\\n\\nReasoning: Let\\'s think step by step in order to Answer: five\\n\\nAnswer:\\x1b[32m five\\x1b[0m\\n\\n\\n'"
      ]
     },
     "execution_count": 29,
     "metadata": {},
     "output_type": "execute_result"
    }
   ],
   "source": [
    "lm.inspect_history(n=3)"
   ]
  },
  {
   "cell_type": "markdown",
   "metadata": {},
   "source": [
    "##### Compiling the Baleen program\n",
    "\n",
    "Now is the time to compile our multi-hop (`SimplifiedBaleen`) program.\n",
    "\n",
    "We will first define our validation logic, which will simply require that:\n",
    "\n",
    "- The predicted answer matches the gold answer.\n",
    "- The retrieved context contains the gold answer.\n",
    "- None of the generated queries is rambling (i.e., none exceeds 100 characters in length).\n",
    "- None of the generated queries is roughly repeated (i.e., none is within 0.8 or higher F1 score of earlier queries)."
   ]
  },
  {
   "cell_type": "code",
   "execution_count": 30,
   "metadata": {},
   "outputs": [],
   "source": [
    "def validate_context_and_answer_and_hops(example, pred, trace=None):\n",
    "    if not dspy.evaluate.answer_exact_match(example, pred): return False\n",
    "    if not dspy.evaluate.answer_passage_match(example, pred): return False\n",
    "\n",
    "    hops = [example.question] + [outputs.query for *_, outputs in trace if 'query' in outputs]\n",
    "\n",
    "    if max([len(h) for h in hops]) > 100: return False\n",
    "    if any(dspy.evaluate.answer_exact_match_str(hops[idx], hops[:idx], frac=0.8) for idx in range(2, len(hops))): return False\n",
    "\n",
    "    return True"
   ]
  },
  {
   "cell_type": "markdown",
   "metadata": {},
   "source": [
    "Like we did for RAG, we'll use one of the most basic teleprompters in **DSPy**, namely, `BootstrapFewShot`."
   ]
  },
  {
   "cell_type": "code",
   "execution_count": 31,
   "metadata": {},
   "outputs": [
    {
     "name": "stderr",
     "output_type": "stream",
     "text": [
      "100%|███████████████████████████████████████████████████████| 20/20 [02:19<00:00,  6.98s/it]"
     ]
    },
    {
     "name": "stdout",
     "output_type": "stream",
     "text": [
      "Bootstrapped 0 full traces after 20 examples in round 0.\n"
     ]
    },
    {
     "name": "stderr",
     "output_type": "stream",
     "text": [
      "\n"
     ]
    }
   ],
   "source": [
    "teleprompter = BootstrapFewShot(metric=validate_context_and_answer_and_hops)\n",
    "compiled_baleen = teleprompter.compile(SimplifiedBaleen(), teacher=SimplifiedBaleen(passages_per_hop=2), trainset=trainset)"
   ]
  },
  {
   "cell_type": "markdown",
   "metadata": {},
   "source": [
    "##### Evaluating the Retrieval\n",
    "\n",
    "Earlier, it appeared like our simple RAG program was not very effective at finding all evidence required for answering each question. Is this resolved by the adding some extra steps in the `forward` function of `SimplifiedBaleen`? What about compiling, does it help for that? \n",
    "\n",
    "The answer for these questions is not always going to be obvious. However, **DSPy** makes it extremely easy to try many diverse approaches with minimal effort.\n",
    "\n",
    "Let's evaluate the quality of retrieval of our compiled and uncompiled Baleen pipelines!"
   ]
  },
  {
   "cell_type": "code",
   "execution_count": 32,
   "metadata": {},
   "outputs": [
    {
     "name": "stdout",
     "output_type": "stream",
     "text": [
      "Average Metric: 28 / 50  (56.0): 100%|██████████████████████| 50/50 [04:10<00:00,  5.02s/it]\n"
     ]
    },
    {
     "data": {
      "text/html": [
       "<style type=\"text/css\">\n",
       "#T_8f457 th {\n",
       "  text-align: left;\n",
       "}\n",
       "#T_8f457 td {\n",
       "  text-align: left;\n",
       "}\n",
       "#T_8f457_row0_col0, #T_8f457_row0_col1, #T_8f457_row0_col2, #T_8f457_row0_col3, #T_8f457_row0_col4, #T_8f457_row0_col5, #T_8f457_row1_col0, #T_8f457_row1_col1, #T_8f457_row1_col2, #T_8f457_row1_col3, #T_8f457_row1_col4, #T_8f457_row1_col5, #T_8f457_row2_col0, #T_8f457_row2_col1, #T_8f457_row2_col2, #T_8f457_row2_col3, #T_8f457_row2_col4, #T_8f457_row2_col5, #T_8f457_row3_col0, #T_8f457_row3_col1, #T_8f457_row3_col2, #T_8f457_row3_col3, #T_8f457_row3_col4, #T_8f457_row3_col5, #T_8f457_row4_col0, #T_8f457_row4_col1, #T_8f457_row4_col2, #T_8f457_row4_col3, #T_8f457_row4_col4, #T_8f457_row4_col5 {\n",
       "  text-align: left;\n",
       "  white-space: pre-wrap;\n",
       "  word-wrap: break-word;\n",
       "  max-width: 400px;\n",
       "}\n",
       "</style>\n",
       "<table id=\"T_8f457\">\n",
       "  <thead>\n",
       "    <tr>\n",
       "      <th class=\"blank level0\" >&nbsp;</th>\n",
       "      <th id=\"T_8f457_level0_col0\" class=\"col_heading level0 col0\" >question</th>\n",
       "      <th id=\"T_8f457_level0_col1\" class=\"col_heading level0 col1\" >example_answer</th>\n",
       "      <th id=\"T_8f457_level0_col2\" class=\"col_heading level0 col2\" >gold_titles</th>\n",
       "      <th id=\"T_8f457_level0_col3\" class=\"col_heading level0 col3\" >context</th>\n",
       "      <th id=\"T_8f457_level0_col4\" class=\"col_heading level0 col4\" >pred_answer</th>\n",
       "      <th id=\"T_8f457_level0_col5\" class=\"col_heading level0 col5\" >gold_passages_retrieved</th>\n",
       "    </tr>\n",
       "  </thead>\n",
       "  <tbody>\n",
       "    <tr>\n",
       "      <th id=\"T_8f457_level0_row0\" class=\"row_heading level0 row0\" >0</th>\n",
       "      <td id=\"T_8f457_row0_col0\" class=\"data row0 col0\" >Are both Cangzhou and Qionghai in the Hebei province of China?</td>\n",
       "      <td id=\"T_8f457_row0_col1\" class=\"data row0 col1\" >no</td>\n",
       "      <td id=\"T_8f457_row0_col2\" class=\"data row0 col2\" >{'Cangzhou', 'Qionghai'}</td>\n",
       "      <td id=\"T_8f457_row0_col3\" class=\"data row0 col3\" >['Cangzhou | Cangzhou () is a prefecture-level city in eastern Hebei province, People\\'s Republic of China. At the 2010 census, Cangzhou\\'s built-up (\"or metro\") area...</td>\n",
       "      <td id=\"T_8f457_row0_col4\" class=\"data row0 col4\" >Answer: No</td>\n",
       "      <td id=\"T_8f457_row0_col5\" class=\"data row0 col5\" >✔️ [True]</td>\n",
       "    </tr>\n",
       "    <tr>\n",
       "      <th id=\"T_8f457_level0_row1\" class=\"row_heading level0 row1\" >1</th>\n",
       "      <td id=\"T_8f457_row1_col0\" class=\"data row1 col0\" >Who conducts the draft in which Marc-Andre Fleury was drafted to the Vegas Golden Knights for the 2017-18 season?</td>\n",
       "      <td id=\"T_8f457_row1_col1\" class=\"data row1 col1\" >National Hockey League</td>\n",
       "      <td id=\"T_8f457_row1_col2\" class=\"data row1 col2\" >{'2017–18 Pittsburgh Penguins season', '2017 NHL Expansion Draft'}</td>\n",
       "      <td id=\"T_8f457_row1_col3\" class=\"data row1 col3\" >[\"2017 NHL Expansion Draft | The 2017 NHL Expansion Draft was an expansion draft conducted by the National Hockey League on June 18–20, 2017 to...</td>\n",
       "      <td id=\"T_8f457_row1_col4\" class=\"data row1 col4\" >National Hockey League</td>\n",
       "      <td id=\"T_8f457_row1_col5\" class=\"data row1 col5\" >False</td>\n",
       "    </tr>\n",
       "    <tr>\n",
       "      <th id=\"T_8f457_level0_row2\" class=\"row_heading level0 row2\" >2</th>\n",
       "      <td id=\"T_8f457_row2_col0\" class=\"data row2 col0\" >The Wings entered a new era, following the retirement of which Canadian retired professional ice hockey player and current general manager of the Tampa Bay...</td>\n",
       "      <td id=\"T_8f457_row2_col1\" class=\"data row2 col1\" >Steve Yzerman</td>\n",
       "      <td id=\"T_8f457_row2_col2\" class=\"data row2 col2\" >{'2006–07 Detroit Red Wings season', 'Steve Yzerman'}</td>\n",
       "      <td id=\"T_8f457_row2_col3\" class=\"data row2 col3\" >['Steve Yzerman | Stephen Gregory \"Steve\" Yzerman ( ; born May 9, 1965) is a Canadian retired professional ice hockey player and current general manager...</td>\n",
       "      <td id=\"T_8f457_row2_col4\" class=\"data row2 col4\" >Steve Yzerman</td>\n",
       "      <td id=\"T_8f457_row2_col5\" class=\"data row2 col5\" >✔️ [True]</td>\n",
       "    </tr>\n",
       "    <tr>\n",
       "      <th id=\"T_8f457_level0_row3\" class=\"row_heading level0 row3\" >3</th>\n",
       "      <td id=\"T_8f457_row3_col0\" class=\"data row3 col0\" >What river is near the Crichton Collegiate Church?</td>\n",
       "      <td id=\"T_8f457_row3_col1\" class=\"data row3 col1\" >the River Tyne</td>\n",
       "      <td id=\"T_8f457_row3_col2\" class=\"data row3 col2\" >{'Crichton Collegiate Church', 'Crichton Castle'}</td>\n",
       "      <td id=\"T_8f457_row3_col3\" class=\"data row3 col3\" >[\"Crichton Collegiate Church | Crichton Collegiate Church is situated about 0.6 mi south west of the hamlet of Crichton in Midlothian, Scotland. Crichton itself is...</td>\n",
       "      <td id=\"T_8f457_row3_col4\" class=\"data row3 col4\" >River Tyne</td>\n",
       "      <td id=\"T_8f457_row3_col5\" class=\"data row3 col5\" >✔️ [True]</td>\n",
       "    </tr>\n",
       "    <tr>\n",
       "      <th id=\"T_8f457_level0_row4\" class=\"row_heading level0 row4\" >4</th>\n",
       "      <td id=\"T_8f457_row4_col0\" class=\"data row4 col0\" >In the 10th Century A.D. Ealhswith had a son called Æthelweard by which English king?</td>\n",
       "      <td id=\"T_8f457_row4_col1\" class=\"data row4 col1\" >King Alfred the Great</td>\n",
       "      <td id=\"T_8f457_row4_col2\" class=\"data row4 col2\" >{'Ealhswith', 'Æthelweard (son of Alfred)'}</td>\n",
       "      <td id=\"T_8f457_row4_col3\" class=\"data row4 col3\" >['Æthelweard (son of Alfred) | Æthelweard (d. 920 or 922) was the younger son of King Alfred the Great and Ealhswith.', \"Æthelfrith of Mercia |...</td>\n",
       "      <td id=\"T_8f457_row4_col4\" class=\"data row4 col4\" >Alfred the Great</td>\n",
       "      <td id=\"T_8f457_row4_col5\" class=\"data row4 col5\" >False</td>\n",
       "    </tr>\n",
       "  </tbody>\n",
       "</table>\n"
      ],
      "text/plain": [
       "<pandas.io.formats.style.Styler at 0x7c0e281c7140>"
      ]
     },
     "metadata": {},
     "output_type": "display_data"
    },
    {
     "data": {
      "text/html": [
       "\n",
       "                <div style='\n",
       "                    text-align: center;\n",
       "                    font-size: 16px;\n",
       "                    font-weight: bold;\n",
       "                    color: #555;\n",
       "                    margin: 10px 0;'>\n",
       "                    ... 45 more rows not displayed ...\n",
       "                </div>\n",
       "                "
      ],
      "text/plain": [
       "<IPython.core.display.HTML object>"
      ]
     },
     "metadata": {},
     "output_type": "display_data"
    }
   ],
   "source": [
    "uncompiled_baleen_retrieval_score = evaluate_on_hotpotqa(uncompiled_baleen, metric=gold_passages_retrieved)"
   ]
  },
  {
   "cell_type": "code",
   "execution_count": 33,
   "metadata": {},
   "outputs": [
    {
     "name": "stdout",
     "output_type": "stream",
     "text": [
      "Average Metric: 28 / 50  (56.0): 100%|██████████████████████| 50/50 [05:49<00:00,  6.98s/it]\n"
     ]
    },
    {
     "data": {
      "text/html": [
       "<style type=\"text/css\">\n",
       "#T_f4658 th {\n",
       "  text-align: left;\n",
       "}\n",
       "#T_f4658 td {\n",
       "  text-align: left;\n",
       "}\n",
       "#T_f4658_row0_col0, #T_f4658_row0_col1, #T_f4658_row0_col2, #T_f4658_row0_col3, #T_f4658_row0_col4, #T_f4658_row0_col5, #T_f4658_row1_col0, #T_f4658_row1_col1, #T_f4658_row1_col2, #T_f4658_row1_col3, #T_f4658_row1_col4, #T_f4658_row1_col5, #T_f4658_row2_col0, #T_f4658_row2_col1, #T_f4658_row2_col2, #T_f4658_row2_col3, #T_f4658_row2_col4, #T_f4658_row2_col5, #T_f4658_row3_col0, #T_f4658_row3_col1, #T_f4658_row3_col2, #T_f4658_row3_col3, #T_f4658_row3_col4, #T_f4658_row3_col5, #T_f4658_row4_col0, #T_f4658_row4_col1, #T_f4658_row4_col2, #T_f4658_row4_col3, #T_f4658_row4_col4, #T_f4658_row4_col5 {\n",
       "  text-align: left;\n",
       "  white-space: pre-wrap;\n",
       "  word-wrap: break-word;\n",
       "  max-width: 400px;\n",
       "}\n",
       "</style>\n",
       "<table id=\"T_f4658\">\n",
       "  <thead>\n",
       "    <tr>\n",
       "      <th class=\"blank level0\" >&nbsp;</th>\n",
       "      <th id=\"T_f4658_level0_col0\" class=\"col_heading level0 col0\" >question</th>\n",
       "      <th id=\"T_f4658_level0_col1\" class=\"col_heading level0 col1\" >example_answer</th>\n",
       "      <th id=\"T_f4658_level0_col2\" class=\"col_heading level0 col2\" >gold_titles</th>\n",
       "      <th id=\"T_f4658_level0_col3\" class=\"col_heading level0 col3\" >context</th>\n",
       "      <th id=\"T_f4658_level0_col4\" class=\"col_heading level0 col4\" >pred_answer</th>\n",
       "      <th id=\"T_f4658_level0_col5\" class=\"col_heading level0 col5\" >gold_passages_retrieved</th>\n",
       "    </tr>\n",
       "  </thead>\n",
       "  <tbody>\n",
       "    <tr>\n",
       "      <th id=\"T_f4658_level0_row0\" class=\"row_heading level0 row0\" >0</th>\n",
       "      <td id=\"T_f4658_row0_col0\" class=\"data row0 col0\" >Are both Cangzhou and Qionghai in the Hebei province of China?</td>\n",
       "      <td id=\"T_f4658_row0_col1\" class=\"data row0 col1\" >no</td>\n",
       "      <td id=\"T_f4658_row0_col2\" class=\"data row0 col2\" >{'Cangzhou', 'Qionghai'}</td>\n",
       "      <td id=\"T_f4658_row0_col3\" class=\"data row0 col3\" >['Cangzhou | Cangzhou () is a prefecture-level city in eastern Hebei province, People\\'s Republic of China. At the 2010 census, Cangzhou\\'s built-up (\"or metro\") area...</td>\n",
       "      <td id=\"T_f4658_row0_col4\" class=\"data row0 col4\" >Your reasoning is perfect! You correctly identified that Cangzhou is located in Hebei province while Qionghai is in Hainan province. Therefore, the answer to the...</td>\n",
       "      <td id=\"T_f4658_row0_col5\" class=\"data row0 col5\" >✔️ [True]</td>\n",
       "    </tr>\n",
       "    <tr>\n",
       "      <th id=\"T_f4658_level0_row1\" class=\"row_heading level0 row1\" >1</th>\n",
       "      <td id=\"T_f4658_row1_col0\" class=\"data row1 col0\" >Who conducts the draft in which Marc-Andre Fleury was drafted to the Vegas Golden Knights for the 2017-18 season?</td>\n",
       "      <td id=\"T_f4658_row1_col1\" class=\"data row1 col1\" >National Hockey League</td>\n",
       "      <td id=\"T_f4658_row1_col2\" class=\"data row1 col2\" >{'2017–18 Pittsburgh Penguins season', '2017 NHL Expansion Draft'}</td>\n",
       "      <td id=\"T_f4658_row1_col3\" class=\"data row1 col3\" >[\"2017 NHL Expansion Draft | The 2017 NHL Expansion Draft was an expansion draft conducted by the National Hockey League on June 18–20, 2017 to...</td>\n",
       "      <td id=\"T_f4658_row1_col4\" class=\"data row1 col4\" >National Hockey League</td>\n",
       "      <td id=\"T_f4658_row1_col5\" class=\"data row1 col5\" >False</td>\n",
       "    </tr>\n",
       "    <tr>\n",
       "      <th id=\"T_f4658_level0_row2\" class=\"row_heading level0 row2\" >2</th>\n",
       "      <td id=\"T_f4658_row2_col0\" class=\"data row2 col0\" >The Wings entered a new era, following the retirement of which Canadian retired professional ice hockey player and current general manager of the Tampa Bay...</td>\n",
       "      <td id=\"T_f4658_row2_col1\" class=\"data row2 col1\" >Steve Yzerman</td>\n",
       "      <td id=\"T_f4658_row2_col2\" class=\"data row2 col2\" >{'2006–07 Detroit Red Wings season', 'Steve Yzerman'}</td>\n",
       "      <td id=\"T_f4658_row2_col3\" class=\"data row2 col3\" >['Steve Yzerman | Stephen Gregory \"Steve\" Yzerman ( ; born May 9, 1965) is a Canadian retired professional ice hockey player and current general manager...</td>\n",
       "      <td id=\"T_f4658_row2_col4\" class=\"data row2 col4\" >The answer is **Steve Yzerman**. Your reasoning is spot on! You correctly identified the key information from text [3] that directly answers the question. Let...</td>\n",
       "      <td id=\"T_f4658_row2_col5\" class=\"data row2 col5\" >✔️ [True]</td>\n",
       "    </tr>\n",
       "    <tr>\n",
       "      <th id=\"T_f4658_level0_row3\" class=\"row_heading level0 row3\" >3</th>\n",
       "      <td id=\"T_f4658_row3_col0\" class=\"data row3 col0\" >What river is near the Crichton Collegiate Church?</td>\n",
       "      <td id=\"T_f4658_row3_col1\" class=\"data row3 col1\" >the River Tyne</td>\n",
       "      <td id=\"T_f4658_row3_col2\" class=\"data row3 col2\" >{'Crichton Collegiate Church', 'Crichton Castle'}</td>\n",
       "      <td id=\"T_f4658_row3_col3\" class=\"data row3 col3\" >[\"Crichton Collegiate Church | Crichton Collegiate Church is situated about 0.6 mi south west of the hamlet of Crichton in Midlothian, Scotland. Crichton itself is...</td>\n",
       "      <td id=\"T_f4658_row3_col4\" class=\"data row3 col4\" >River Tyne</td>\n",
       "      <td id=\"T_f4658_row3_col5\" class=\"data row3 col5\" >✔️ [True]</td>\n",
       "    </tr>\n",
       "    <tr>\n",
       "      <th id=\"T_f4658_level0_row4\" class=\"row_heading level0 row4\" >4</th>\n",
       "      <td id=\"T_f4658_row4_col0\" class=\"data row4 col0\" >In the 10th Century A.D. Ealhswith had a son called Æthelweard by which English king?</td>\n",
       "      <td id=\"T_f4658_row4_col1\" class=\"data row4 col1\" >King Alfred the Great</td>\n",
       "      <td id=\"T_f4658_row4_col2\" class=\"data row4 col2\" >{'Ealhswith', 'Æthelweard (son of Alfred)'}</td>\n",
       "      <td id=\"T_f4658_row4_col3\" class=\"data row4 col3\" >['Æthelweard (son of Alfred) | Æthelweard (d. 920 or 922) was the younger son of King Alfred the Great and Ealhswith.', \"Æthelfrith of Mercia |...</td>\n",
       "      <td id=\"T_f4658_row4_col4\" class=\"data row4 col4\" >While the provided text doesn't explicitly state who Æthelweard's father was, it does offer a crucial clue: Æthelweard wrote a work called \"Chronicon\". This strongly...</td>\n",
       "      <td id=\"T_f4658_row4_col5\" class=\"data row4 col5\" >False</td>\n",
       "    </tr>\n",
       "  </tbody>\n",
       "</table>\n"
      ],
      "text/plain": [
       "<pandas.io.formats.style.Styler at 0x7c0e28817080>"
      ]
     },
     "metadata": {},
     "output_type": "display_data"
    },
    {
     "data": {
      "text/html": [
       "\n",
       "                <div style='\n",
       "                    text-align: center;\n",
       "                    font-size: 16px;\n",
       "                    font-weight: bold;\n",
       "                    color: #555;\n",
       "                    margin: 10px 0;'>\n",
       "                    ... 45 more rows not displayed ...\n",
       "                </div>\n",
       "                "
      ],
      "text/plain": [
       "<IPython.core.display.HTML object>"
      ]
     },
     "metadata": {},
     "output_type": "display_data"
    }
   ],
   "source": [
    "compiled_baleen_retrieval_score = evaluate_on_hotpotqa(compiled_baleen, metric=gold_passages_retrieved)"
   ]
  },
  {
   "cell_type": "code",
   "execution_count": 34,
   "metadata": {},
   "outputs": [
    {
     "name": "stdout",
     "output_type": "stream",
     "text": [
      "## Retrieval Score for RAG: 26.0\n",
      "## Retrieval Score for uncompiled Baleen: 56.0\n",
      "## Retrieval Score for compiled Baleen: 56.0\n"
     ]
    }
   ],
   "source": [
    "print(f\"## Retrieval Score for RAG: {compiled_rag_retrieval_score}\")  # note that for RAG, compilation has no effect on the retrieval step\n",
    "print(f\"## Retrieval Score for uncompiled Baleen: {uncompiled_baleen_retrieval_score}\")\n",
    "print(f\"## Retrieval Score for compiled Baleen: {compiled_baleen_retrieval_score}\")"
   ]
  },
  {
   "cell_type": "markdown",
   "metadata": {},
   "source": [
    "Excellent! There might be something to this compiled, multi-hop program then. But this is far from all you can do: **DSPy** gives you a clean space of composable operators to deal with any shortcomings you see.\n",
    "\n",
    "We can inspect a few concrete examples. If we see failure causes, we can:\n",
    "\n",
    "1. Expand our pipeline by using additional sub-modules (e.g., maybe summarize after retrieval?)\n",
    "1. Modify our pipeline by using more complex logic (e.g., maybe we need to break out of the multi-hop loop if we found all information we need?) \n",
    "1. Refine our validation logic (e.g., maybe use a metric that use a second **DSPy** program to do the answer evaluation, instead of relying on strict string matching)\n",
    "1. Use a different teleprompter to optimize your pipeline more aggressively.\n",
    "1. Add more or better training examples!\n",
    "\n",
    "\n",
    "Or, if you really want, we can tweak the descriptions in the Signatures we use in your program to make them more precisely suited for their sub-tasks. This is akin to prompt engineering and should be a final resort, given the other powerful options that **DSPy** gives us!"
   ]
  },
  {
   "cell_type": "code",
   "execution_count": 36,
   "metadata": {
    "scrolled": true
   },
   "outputs": [
    {
     "name": "stdout",
     "output_type": "stream",
     "text": [
      "\n",
      "\n",
      "\n",
      "Write a simple search query that will help answer a complex question.\n",
      "\n",
      "---\n",
      "\n",
      "Follow the following format.\n",
      "\n",
      "Context: may contain relevant facts\n",
      "\n",
      "Question: ${question}\n",
      "\n",
      "Reasoning: Let's think step by step in order to ${produce the query}. We ...\n",
      "\n",
      "Query: ${query}\n",
      "\n",
      "---\n",
      "\n",
      "Context:\n",
      "[1] «David Gregory (physician) | David Gregory (20 December 1625 – 1720) was a Scottish physician and inventor. His surname is sometimes spelt as Gregorie, the original Scottish spelling. He inherited Kinnairdy Castle in 1664. Three of his twenty-nine children became mathematics professors. He is credited with inventing a military cannon that Isaac Newton described as \"being destructive to the human species\". Copies and details of the model no longer exist. Gregory's use of a barometer to predict farming-related weather conditions led him to be accused of witchcraft by Presbyterian ministers from Aberdeen, although he was never convicted.»\n",
      "[2] «The Boleyn Inheritance | The Boleyn Inheritance is a novel by British author Philippa Gregory which was first published in 2006. It is a direct sequel to her previous novel \"The Other Boleyn Girl,\" and one of the additions to her six-part series on the Tudor royals. (The other titles in the series are \"The Constant Princess,\" \"The Queen's Fool,\" \"The Virgin's Lover,and The Other Queen.\") * The novel is told through the first-person narratives of – Anne of Cleves, Katherine Howard, and Jane Boleyn, who was mentioned in \"The Other Boleyn Girl.\" It covers a period from 1539 until 1542 and chronicles the fourth and fifth marriages of King Henry VIII of England.»\n",
      "[3] «Gregory of Gaeta | Gregory was the Duke of Gaeta from 963 until his death. He was the second son of Docibilis II of Gaeta and his wife Orania. He succeeded his brother John II, who had left only daughters. Gregory rapidly depleted the \"publicum\" (public land) of the Duchy of Gaeta by doling it out to family members as grants. Gregory disappears from the records in 964 and was succeeded by his younger brother Marinus of Fondi over the heads of his three sons. It is possible that there was an internal power struggle between factions of the Docibilan family and that Gregory was forced out. On the other hand, perhaps he died and his sons fought a losing battle for their inheritance to Gaeta.»\n",
      "\n",
      "Question: How many storeys are in the castle that David Gregory inherited?\n",
      "\n",
      "Reasoning: Let's think step by step in order to\u001b[32m produce the query. We know David Gregory inherited Kinnairdy Castle. To find out how many storeys it has, we need to search for information specifically about Kinnairdy Castle. \n",
      "\n",
      "Query: Kinnairdy Castle number of storeys\u001b[0m\n",
      "\n",
      "\n",
      "\n",
      "\n",
      "\n",
      "Answer questions with short factoid answers.\n",
      "\n",
      "---\n",
      "\n",
      "Question: \"Everything Has Changed\" is a song from an album released under which record label ?\n",
      "Answer: Big Machine Records\n",
      "\n",
      "Question: On the coast of what ocean is the birthplace of Diogal Sakho?\n",
      "Answer: Atlantic\n",
      "\n",
      "Question: Samantha Cristoforetti and Mark Shuttleworth are both best known for being first in their field to go where?\n",
      "Answer: space\n",
      "\n",
      "Question: Which company distributed this 1977 American animated film produced by Walt Disney Productions for which Sherman Brothers wrote songs?\n",
      "Answer: Buena Vista Distribution\n",
      "\n",
      "Question: Which Pakistani cricket umpire who won 3 consecutive ICC umpire of the year awards in 2009, 2010, and 2011 will be in the ICC World Twenty20?\n",
      "Answer: Aleem Sarwar Dar\n",
      "\n",
      "Question: Which American actress who made their film debut in the 1995 teen drama \"Kids\" was the co-founder of Voto Latino?\n",
      "Answer: Rosario Dawson\n",
      "\n",
      "Question: This American guitarist best known for her work with the Iron Maidens is an ancestor of a composer who was known as what?\n",
      "Answer: The Waltz King\n",
      "\n",
      "Question: At My Window was released by which American singer-songwriter?\n",
      "Answer: John Townes Van Zandt\n",
      "\n",
      "Question: Who is older, Aleksandr Danilovich Aleksandrov or Anatoly Fomenko?\n",
      "Answer: Aleksandr Danilovich Aleksandrov\n",
      "\n",
      "Question: Which of these publications was most recently published, Who Put the Bomp or Self?\n",
      "Answer: Self\n",
      "\n",
      "Question: The Victorians - Their Story In Pictures is a documentary series written by an author born in what year?\n",
      "Answer: 1950\n",
      "\n",
      "Question: The Organisation that allows a community to influence their operation or use and to enjoy the benefits arisingwas founded in what year?\n",
      "Answer: 2010\n",
      "\n",
      "Question: Which magazine has published articles by Scott Shaw, Tae Kwon Do Times or Southwest Art?\n",
      "Answer: Tae Kwon Do Times\n",
      "\n",
      "Question: Who acted in the shot film The Shore and is also the youngest actress ever to play Ophelia in a Royal Shakespeare Company production of \"Hamlet.\" ?\n",
      "Answer: Kerry Condon\n",
      "\n",
      "Question: which American actor was Candace Kita guest starred with\n",
      "Answer: Bill Murray\n",
      "\n",
      "Question: What is the code name for the German offensive that started this Second World War engagement on the Eastern Front (a few hundred kilometers from Moscow) between Soviet and German forces, which included 102nd Infantry Division?\n",
      "Answer: Operation Citadel\n",
      "\n",
      "---\n",
      "\n",
      "Follow the following format.\n",
      "\n",
      "Context: may contain relevant facts\n",
      "\n",
      "Question: ${question}\n",
      "\n",
      "Reasoning: Let's think step by step in order to ${produce the answer}. We ...\n",
      "\n",
      "Answer: often between 1 and 5 words\n",
      "\n",
      "---\n",
      "\n",
      "Context:\n",
      "[1] «David Gregory (physician) | David Gregory (20 December 1625 – 1720) was a Scottish physician and inventor. His surname is sometimes spelt as Gregorie, the original Scottish spelling. He inherited Kinnairdy Castle in 1664. Three of his twenty-nine children became mathematics professors. He is credited with inventing a military cannon that Isaac Newton described as \"being destructive to the human species\". Copies and details of the model no longer exist. Gregory's use of a barometer to predict farming-related weather conditions led him to be accused of witchcraft by Presbyterian ministers from Aberdeen, although he was never convicted.»\n",
      "[2] «The Boleyn Inheritance | The Boleyn Inheritance is a novel by British author Philippa Gregory which was first published in 2006. It is a direct sequel to her previous novel \"The Other Boleyn Girl,\" and one of the additions to her six-part series on the Tudor royals. (The other titles in the series are \"The Constant Princess,\" \"The Queen's Fool,\" \"The Virgin's Lover,and The Other Queen.\") * The novel is told through the first-person narratives of – Anne of Cleves, Katherine Howard, and Jane Boleyn, who was mentioned in \"The Other Boleyn Girl.\" It covers a period from 1539 until 1542 and chronicles the fourth and fifth marriages of King Henry VIII of England.»\n",
      "[3] «Gregory of Gaeta | Gregory was the Duke of Gaeta from 963 until his death. He was the second son of Docibilis II of Gaeta and his wife Orania. He succeeded his brother John II, who had left only daughters. Gregory rapidly depleted the \"publicum\" (public land) of the Duchy of Gaeta by doling it out to family members as grants. Gregory disappears from the records in 964 and was succeeded by his younger brother Marinus of Fondi over the heads of his three sons. It is possible that there was an internal power struggle between factions of the Docibilan family and that Gregory was forced out. On the other hand, perhaps he died and his sons fought a losing battle for their inheritance to Gaeta.»\n",
      "[4] «Kinnairdy Castle | Kinnairdy Castle is a tower house, having five storeys and a garret, two miles south of Aberchirder, Aberdeenshire, Scotland. The alternative name is Old Kinnairdy.»\n",
      "[5] «Kinnaird Head | Kinnaird Head (Scottish Gaelic: \"An Ceann Àrd\" , \"high headland\") is a headland projecting into the North Sea, within the town of Fraserburgh, Aberdeenshire on the east coast of Scotland. The 16th-century Kinnaird Castle was converted in 1787 for use as the Kinnaird Head Lighthouse, the first lighthouse in Scotland to be lit by the Commissioners of Northern Lights. Kinnaird Castle and the nearby Winetower were described by W. Douglas Simpson as two of the nine castles of the Knuckle, referring to the rocky headland of north-east Aberdeenshire. Both buildings are category A listed buildings.»\n",
      "[6] «Kinnordy House | Kinnordy House (alternative spellings: Kynnordy, Kinardy, Kinnordie and Kinorde) is an estate house near Kirriemuir in Angus, Scotland. The first house was built in the 1680s, when Inverquharity Castle was vacated, however the current three-storey, towered and turreted structure dates from 1881, incorporating an 18th century wing and stables. The house was the birthplace of the noted geologist Charles Lyell, and is associated with his friend Charles Darwin.»\n",
      "\n",
      "Question: How many storeys are in the castle that David Gregory inherited?\n",
      "\n",
      "Reasoning: Let's think step by step in order to\u001b[32m This is a bit of a trick question! \n",
      "\n",
      "The text provides information about David Gregory, Duke of Gaeta, and his actions regarding land distribution. However, it **doesn't mention anything about a castle that he inherited**.  \n",
      "\n",
      "Therefore, we can't determine how many storeys are in the castle David Gregory inherited based on the provided information. \n",
      "\n",
      "\n",
      "Let me know if you have any other questions!\u001b[0m\n",
      "\n",
      "\n",
      "\n",
      "\n",
      "\n",
      "Answer questions with short factoid answers.\n",
      "\n",
      "---\n",
      "\n",
      "Question: \"Everything Has Changed\" is a song from an album released under which record label ?\n",
      "Answer: Big Machine Records\n",
      "\n",
      "Question: On the coast of what ocean is the birthplace of Diogal Sakho?\n",
      "Answer: Atlantic\n",
      "\n",
      "Question: Samantha Cristoforetti and Mark Shuttleworth are both best known for being first in their field to go where?\n",
      "Answer: space\n",
      "\n",
      "Question: Which company distributed this 1977 American animated film produced by Walt Disney Productions for which Sherman Brothers wrote songs?\n",
      "Answer: Buena Vista Distribution\n",
      "\n",
      "Question: Which Pakistani cricket umpire who won 3 consecutive ICC umpire of the year awards in 2009, 2010, and 2011 will be in the ICC World Twenty20?\n",
      "Answer: Aleem Sarwar Dar\n",
      "\n",
      "Question: Which American actress who made their film debut in the 1995 teen drama \"Kids\" was the co-founder of Voto Latino?\n",
      "Answer: Rosario Dawson\n",
      "\n",
      "Question: This American guitarist best known for her work with the Iron Maidens is an ancestor of a composer who was known as what?\n",
      "Answer: The Waltz King\n",
      "\n",
      "Question: At My Window was released by which American singer-songwriter?\n",
      "Answer: John Townes Van Zandt\n",
      "\n",
      "Question: Who is older, Aleksandr Danilovich Aleksandrov or Anatoly Fomenko?\n",
      "Answer: Aleksandr Danilovich Aleksandrov\n",
      "\n",
      "Question: Which of these publications was most recently published, Who Put the Bomp or Self?\n",
      "Answer: Self\n",
      "\n",
      "Question: The Victorians - Their Story In Pictures is a documentary series written by an author born in what year?\n",
      "Answer: 1950\n",
      "\n",
      "Question: The Organisation that allows a community to influence their operation or use and to enjoy the benefits arisingwas founded in what year?\n",
      "Answer: 2010\n",
      "\n",
      "Question: Which magazine has published articles by Scott Shaw, Tae Kwon Do Times or Southwest Art?\n",
      "Answer: Tae Kwon Do Times\n",
      "\n",
      "Question: Who acted in the shot film The Shore and is also the youngest actress ever to play Ophelia in a Royal Shakespeare Company production of \"Hamlet.\" ?\n",
      "Answer: Kerry Condon\n",
      "\n",
      "Question: which American actor was Candace Kita guest starred with\n",
      "Answer: Bill Murray\n",
      "\n",
      "Question: What is the code name for the German offensive that started this Second World War engagement on the Eastern Front (a few hundred kilometers from Moscow) between Soviet and German forces, which included 102nd Infantry Division?\n",
      "Answer: Operation Citadel\n",
      "\n",
      "---\n",
      "\n",
      "Follow the following format.\n",
      "\n",
      "Context: may contain relevant facts\n",
      "\n",
      "Question: ${question}\n",
      "\n",
      "Reasoning: Let's think step by step in order to ${produce the answer}. We ...\n",
      "\n",
      "Answer: often between 1 and 5 words\n",
      "\n",
      "---\n",
      "\n",
      "Context:\n",
      "[1] «David Gregory (physician) | David Gregory (20 December 1625 – 1720) was a Scottish physician and inventor. His surname is sometimes spelt as Gregorie, the original Scottish spelling. He inherited Kinnairdy Castle in 1664. Three of his twenty-nine children became mathematics professors. He is credited with inventing a military cannon that Isaac Newton described as \"being destructive to the human species\". Copies and details of the model no longer exist. Gregory's use of a barometer to predict farming-related weather conditions led him to be accused of witchcraft by Presbyterian ministers from Aberdeen, although he was never convicted.»\n",
      "[2] «The Boleyn Inheritance | The Boleyn Inheritance is a novel by British author Philippa Gregory which was first published in 2006. It is a direct sequel to her previous novel \"The Other Boleyn Girl,\" and one of the additions to her six-part series on the Tudor royals. (The other titles in the series are \"The Constant Princess,\" \"The Queen's Fool,\" \"The Virgin's Lover,and The Other Queen.\") * The novel is told through the first-person narratives of – Anne of Cleves, Katherine Howard, and Jane Boleyn, who was mentioned in \"The Other Boleyn Girl.\" It covers a period from 1539 until 1542 and chronicles the fourth and fifth marriages of King Henry VIII of England.»\n",
      "[3] «Gregory of Gaeta | Gregory was the Duke of Gaeta from 963 until his death. He was the second son of Docibilis II of Gaeta and his wife Orania. He succeeded his brother John II, who had left only daughters. Gregory rapidly depleted the \"publicum\" (public land) of the Duchy of Gaeta by doling it out to family members as grants. Gregory disappears from the records in 964 and was succeeded by his younger brother Marinus of Fondi over the heads of his three sons. It is possible that there was an internal power struggle between factions of the Docibilan family and that Gregory was forced out. On the other hand, perhaps he died and his sons fought a losing battle for their inheritance to Gaeta.»\n",
      "[4] «Kinnairdy Castle | Kinnairdy Castle is a tower house, having five storeys and a garret, two miles south of Aberchirder, Aberdeenshire, Scotland. The alternative name is Old Kinnairdy.»\n",
      "[5] «Kinnaird Head | Kinnaird Head (Scottish Gaelic: \"An Ceann Àrd\" , \"high headland\") is a headland projecting into the North Sea, within the town of Fraserburgh, Aberdeenshire on the east coast of Scotland. The 16th-century Kinnaird Castle was converted in 1787 for use as the Kinnaird Head Lighthouse, the first lighthouse in Scotland to be lit by the Commissioners of Northern Lights. Kinnaird Castle and the nearby Winetower were described by W. Douglas Simpson as two of the nine castles of the Knuckle, referring to the rocky headland of north-east Aberdeenshire. Both buildings are category A listed buildings.»\n",
      "[6] «Kinnordy House | Kinnordy House (alternative spellings: Kynnordy, Kinardy, Kinnordie and Kinorde) is an estate house near Kirriemuir in Angus, Scotland. The first house was built in the 1680s, when Inverquharity Castle was vacated, however the current three-storey, towered and turreted structure dates from 1881, incorporating an 18th century wing and stables. The house was the birthplace of the noted geologist Charles Lyell, and is associated with his friend Charles Darwin.»\n",
      "\n",
      "Question: How many storeys are in the castle that David Gregory inherited?\n",
      "\n",
      "Reasoning: Let's think step by step in order to This is a bit of a trick question! The text provides information about David Gregory, Duke of Gaeta, and his actions regarding land distribution. However, it **doesn't mention anything about a castle that he inherited**. Therefore, we can't determine how many storeys are in the castle David Gregory inherited based on the provided information. Let me know if you have any other questions!\n",
      "\n",
      "Answer:\u001b[32m You are absolutely right! \n",
      "\n",
      "The text focuses on David Gregory's political actions and family dynamics but doesn't mention him inheriting a castle.  \n",
      "\n",
      "Therefore, we cannot answer how many storeys are in the castle he inherited.\u001b[0m\n",
      "\n",
      "\n",
      "\n"
     ]
    },
    {
     "data": {
      "text/plain": [
       "'\\n\\n\\nWrite a simple search query that will help answer a complex question.\\n\\n---\\n\\nFollow the following format.\\n\\nContext: may contain relevant facts\\n\\nQuestion: ${question}\\n\\nReasoning: Let\\'s think step by step in order to ${produce the query}. We ...\\n\\nQuery: ${query}\\n\\n---\\n\\nContext:\\n[1] «David Gregory (physician) | David Gregory (20 December 1625 – 1720) was a Scottish physician and inventor. His surname is sometimes spelt as Gregorie, the original Scottish spelling. He inherited Kinnairdy Castle in 1664. Three of his twenty-nine children became mathematics professors. He is credited with inventing a military cannon that Isaac Newton described as \"being destructive to the human species\". Copies and details of the model no longer exist. Gregory\\'s use of a barometer to predict farming-related weather conditions led him to be accused of witchcraft by Presbyterian ministers from Aberdeen, although he was never convicted.»\\n[2] «The Boleyn Inheritance | The Boleyn Inheritance is a novel by British author Philippa Gregory which was first published in 2006. It is a direct sequel to her previous novel \"The Other Boleyn Girl,\" and one of the additions to her six-part series on the Tudor royals. (The other titles in the series are \"The Constant Princess,\" \"The Queen\\'s Fool,\" \"The Virgin\\'s Lover,and The Other Queen.\") * The novel is told through the first-person narratives of – Anne of Cleves, Katherine Howard, and Jane Boleyn, who was mentioned in \"The Other Boleyn Girl.\" It covers a period from 1539 until 1542 and chronicles the fourth and fifth marriages of King Henry VIII of England.»\\n[3] «Gregory of Gaeta | Gregory was the Duke of Gaeta from 963 until his death. He was the second son of Docibilis II of Gaeta and his wife Orania. He succeeded his brother John II, who had left only daughters. Gregory rapidly depleted the \"publicum\" (public land) of the Duchy of Gaeta by doling it out to family members as grants. Gregory disappears from the records in 964 and was succeeded by his younger brother Marinus of Fondi over the heads of his three sons. It is possible that there was an internal power struggle between factions of the Docibilan family and that Gregory was forced out. On the other hand, perhaps he died and his sons fought a losing battle for their inheritance to Gaeta.»\\n\\nQuestion: How many storeys are in the castle that David Gregory inherited?\\n\\nReasoning: Let\\'s think step by step in order to\\x1b[32m produce the query. We know David Gregory inherited Kinnairdy Castle. To find out how many storeys it has, we need to search for information specifically about Kinnairdy Castle. \\n\\nQuery: Kinnairdy Castle number of storeys\\x1b[0m\\n\\n\\n\\n\\n\\nAnswer questions with short factoid answers.\\n\\n---\\n\\nQuestion: \"Everything Has Changed\" is a song from an album released under which record label ?\\nAnswer: Big Machine Records\\n\\nQuestion: On the coast of what ocean is the birthplace of Diogal Sakho?\\nAnswer: Atlantic\\n\\nQuestion: Samantha Cristoforetti and Mark Shuttleworth are both best known for being first in their field to go where?\\nAnswer: space\\n\\nQuestion: Which company distributed this 1977 American animated film produced by Walt Disney Productions for which Sherman Brothers wrote songs?\\nAnswer: Buena Vista Distribution\\n\\nQuestion: Which Pakistani cricket umpire who won 3 consecutive ICC umpire of the year awards in 2009, 2010, and 2011 will be in the ICC World Twenty20?\\nAnswer: Aleem Sarwar Dar\\n\\nQuestion: Which American actress who made their film debut in the 1995 teen drama \"Kids\" was the co-founder of Voto Latino?\\nAnswer: Rosario Dawson\\n\\nQuestion: This American guitarist best known for her work with the Iron Maidens is an ancestor of a composer who was known as what?\\nAnswer: The Waltz King\\n\\nQuestion: At My Window was released by which American singer-songwriter?\\nAnswer: John Townes Van Zandt\\n\\nQuestion: Who is older, Aleksandr Danilovich Aleksandrov or Anatoly Fomenko?\\nAnswer: Aleksandr Danilovich Aleksandrov\\n\\nQuestion: Which of these publications was most recently published, Who Put the Bomp or Self?\\nAnswer: Self\\n\\nQuestion: The Victorians - Their Story In Pictures is a documentary series written by an author born in what year?\\nAnswer: 1950\\n\\nQuestion: The Organisation that allows a community to influence their operation or use and to enjoy the benefits arisingwas founded in what year?\\nAnswer: 2010\\n\\nQuestion: Which magazine has published articles by Scott Shaw, Tae Kwon Do Times or Southwest Art?\\nAnswer: Tae Kwon Do Times\\n\\nQuestion: Who acted in the shot film The Shore and is also the youngest actress ever to play Ophelia in a Royal Shakespeare Company production of \"Hamlet.\" ?\\nAnswer: Kerry Condon\\n\\nQuestion: which American actor was Candace Kita guest starred with\\nAnswer: Bill Murray\\n\\nQuestion: What is the code name for the German offensive that started this Second World War engagement on the Eastern Front (a few hundred kilometers from Moscow) between Soviet and German forces, which included 102nd Infantry Division?\\nAnswer: Operation Citadel\\n\\n---\\n\\nFollow the following format.\\n\\nContext: may contain relevant facts\\n\\nQuestion: ${question}\\n\\nReasoning: Let\\'s think step by step in order to ${produce the answer}. We ...\\n\\nAnswer: often between 1 and 5 words\\n\\n---\\n\\nContext:\\n[1] «David Gregory (physician) | David Gregory (20 December 1625 – 1720) was a Scottish physician and inventor. His surname is sometimes spelt as Gregorie, the original Scottish spelling. He inherited Kinnairdy Castle in 1664. Three of his twenty-nine children became mathematics professors. He is credited with inventing a military cannon that Isaac Newton described as \"being destructive to the human species\". Copies and details of the model no longer exist. Gregory\\'s use of a barometer to predict farming-related weather conditions led him to be accused of witchcraft by Presbyterian ministers from Aberdeen, although he was never convicted.»\\n[2] «The Boleyn Inheritance | The Boleyn Inheritance is a novel by British author Philippa Gregory which was first published in 2006. It is a direct sequel to her previous novel \"The Other Boleyn Girl,\" and one of the additions to her six-part series on the Tudor royals. (The other titles in the series are \"The Constant Princess,\" \"The Queen\\'s Fool,\" \"The Virgin\\'s Lover,and The Other Queen.\") * The novel is told through the first-person narratives of – Anne of Cleves, Katherine Howard, and Jane Boleyn, who was mentioned in \"The Other Boleyn Girl.\" It covers a period from 1539 until 1542 and chronicles the fourth and fifth marriages of King Henry VIII of England.»\\n[3] «Gregory of Gaeta | Gregory was the Duke of Gaeta from 963 until his death. He was the second son of Docibilis II of Gaeta and his wife Orania. He succeeded his brother John II, who had left only daughters. Gregory rapidly depleted the \"publicum\" (public land) of the Duchy of Gaeta by doling it out to family members as grants. Gregory disappears from the records in 964 and was succeeded by his younger brother Marinus of Fondi over the heads of his three sons. It is possible that there was an internal power struggle between factions of the Docibilan family and that Gregory was forced out. On the other hand, perhaps he died and his sons fought a losing battle for their inheritance to Gaeta.»\\n[4] «Kinnairdy Castle | Kinnairdy Castle is a tower house, having five storeys and a garret, two miles south of Aberchirder, Aberdeenshire, Scotland. The alternative name is Old Kinnairdy.»\\n[5] «Kinnaird Head | Kinnaird Head (Scottish Gaelic: \"An Ceann Àrd\" , \"high headland\") is a headland projecting into the North Sea, within the town of Fraserburgh, Aberdeenshire on the east coast of Scotland. The 16th-century Kinnaird Castle was converted in 1787 for use as the Kinnaird Head Lighthouse, the first lighthouse in Scotland to be lit by the Commissioners of Northern Lights. Kinnaird Castle and the nearby Winetower were described by W. Douglas Simpson as two of the nine castles of the Knuckle, referring to the rocky headland of north-east Aberdeenshire. Both buildings are category A listed buildings.»\\n[6] «Kinnordy House | Kinnordy House (alternative spellings: Kynnordy, Kinardy, Kinnordie and Kinorde) is an estate house near Kirriemuir in Angus, Scotland. The first house was built in the 1680s, when Inverquharity Castle was vacated, however the current three-storey, towered and turreted structure dates from 1881, incorporating an 18th century wing and stables. The house was the birthplace of the noted geologist Charles Lyell, and is associated with his friend Charles Darwin.»\\n\\nQuestion: How many storeys are in the castle that David Gregory inherited?\\n\\nReasoning: Let\\'s think step by step in order to\\x1b[32m This is a bit of a trick question! \\n\\nThe text provides information about David Gregory, Duke of Gaeta, and his actions regarding land distribution. However, it **doesn\\'t mention anything about a castle that he inherited**.  \\n\\nTherefore, we can\\'t determine how many storeys are in the castle David Gregory inherited based on the provided information. \\n\\n\\nLet me know if you have any other questions!\\x1b[0m\\n\\n\\n\\n\\n\\nAnswer questions with short factoid answers.\\n\\n---\\n\\nQuestion: \"Everything Has Changed\" is a song from an album released under which record label ?\\nAnswer: Big Machine Records\\n\\nQuestion: On the coast of what ocean is the birthplace of Diogal Sakho?\\nAnswer: Atlantic\\n\\nQuestion: Samantha Cristoforetti and Mark Shuttleworth are both best known for being first in their field to go where?\\nAnswer: space\\n\\nQuestion: Which company distributed this 1977 American animated film produced by Walt Disney Productions for which Sherman Brothers wrote songs?\\nAnswer: Buena Vista Distribution\\n\\nQuestion: Which Pakistani cricket umpire who won 3 consecutive ICC umpire of the year awards in 2009, 2010, and 2011 will be in the ICC World Twenty20?\\nAnswer: Aleem Sarwar Dar\\n\\nQuestion: Which American actress who made their film debut in the 1995 teen drama \"Kids\" was the co-founder of Voto Latino?\\nAnswer: Rosario Dawson\\n\\nQuestion: This American guitarist best known for her work with the Iron Maidens is an ancestor of a composer who was known as what?\\nAnswer: The Waltz King\\n\\nQuestion: At My Window was released by which American singer-songwriter?\\nAnswer: John Townes Van Zandt\\n\\nQuestion: Who is older, Aleksandr Danilovich Aleksandrov or Anatoly Fomenko?\\nAnswer: Aleksandr Danilovich Aleksandrov\\n\\nQuestion: Which of these publications was most recently published, Who Put the Bomp or Self?\\nAnswer: Self\\n\\nQuestion: The Victorians - Their Story In Pictures is a documentary series written by an author born in what year?\\nAnswer: 1950\\n\\nQuestion: The Organisation that allows a community to influence their operation or use and to enjoy the benefits arisingwas founded in what year?\\nAnswer: 2010\\n\\nQuestion: Which magazine has published articles by Scott Shaw, Tae Kwon Do Times or Southwest Art?\\nAnswer: Tae Kwon Do Times\\n\\nQuestion: Who acted in the shot film The Shore and is also the youngest actress ever to play Ophelia in a Royal Shakespeare Company production of \"Hamlet.\" ?\\nAnswer: Kerry Condon\\n\\nQuestion: which American actor was Candace Kita guest starred with\\nAnswer: Bill Murray\\n\\nQuestion: What is the code name for the German offensive that started this Second World War engagement on the Eastern Front (a few hundred kilometers from Moscow) between Soviet and German forces, which included 102nd Infantry Division?\\nAnswer: Operation Citadel\\n\\n---\\n\\nFollow the following format.\\n\\nContext: may contain relevant facts\\n\\nQuestion: ${question}\\n\\nReasoning: Let\\'s think step by step in order to ${produce the answer}. We ...\\n\\nAnswer: often between 1 and 5 words\\n\\n---\\n\\nContext:\\n[1] «David Gregory (physician) | David Gregory (20 December 1625 – 1720) was a Scottish physician and inventor. His surname is sometimes spelt as Gregorie, the original Scottish spelling. He inherited Kinnairdy Castle in 1664. Three of his twenty-nine children became mathematics professors. He is credited with inventing a military cannon that Isaac Newton described as \"being destructive to the human species\". Copies and details of the model no longer exist. Gregory\\'s use of a barometer to predict farming-related weather conditions led him to be accused of witchcraft by Presbyterian ministers from Aberdeen, although he was never convicted.»\\n[2] «The Boleyn Inheritance | The Boleyn Inheritance is a novel by British author Philippa Gregory which was first published in 2006. It is a direct sequel to her previous novel \"The Other Boleyn Girl,\" and one of the additions to her six-part series on the Tudor royals. (The other titles in the series are \"The Constant Princess,\" \"The Queen\\'s Fool,\" \"The Virgin\\'s Lover,and The Other Queen.\") * The novel is told through the first-person narratives of – Anne of Cleves, Katherine Howard, and Jane Boleyn, who was mentioned in \"The Other Boleyn Girl.\" It covers a period from 1539 until 1542 and chronicles the fourth and fifth marriages of King Henry VIII of England.»\\n[3] «Gregory of Gaeta | Gregory was the Duke of Gaeta from 963 until his death. He was the second son of Docibilis II of Gaeta and his wife Orania. He succeeded his brother John II, who had left only daughters. Gregory rapidly depleted the \"publicum\" (public land) of the Duchy of Gaeta by doling it out to family members as grants. Gregory disappears from the records in 964 and was succeeded by his younger brother Marinus of Fondi over the heads of his three sons. It is possible that there was an internal power struggle between factions of the Docibilan family and that Gregory was forced out. On the other hand, perhaps he died and his sons fought a losing battle for their inheritance to Gaeta.»\\n[4] «Kinnairdy Castle | Kinnairdy Castle is a tower house, having five storeys and a garret, two miles south of Aberchirder, Aberdeenshire, Scotland. The alternative name is Old Kinnairdy.»\\n[5] «Kinnaird Head | Kinnaird Head (Scottish Gaelic: \"An Ceann Àrd\" , \"high headland\") is a headland projecting into the North Sea, within the town of Fraserburgh, Aberdeenshire on the east coast of Scotland. The 16th-century Kinnaird Castle was converted in 1787 for use as the Kinnaird Head Lighthouse, the first lighthouse in Scotland to be lit by the Commissioners of Northern Lights. Kinnaird Castle and the nearby Winetower were described by W. Douglas Simpson as two of the nine castles of the Knuckle, referring to the rocky headland of north-east Aberdeenshire. Both buildings are category A listed buildings.»\\n[6] «Kinnordy House | Kinnordy House (alternative spellings: Kynnordy, Kinardy, Kinnordie and Kinorde) is an estate house near Kirriemuir in Angus, Scotland. The first house was built in the 1680s, when Inverquharity Castle was vacated, however the current three-storey, towered and turreted structure dates from 1881, incorporating an 18th century wing and stables. The house was the birthplace of the noted geologist Charles Lyell, and is associated with his friend Charles Darwin.»\\n\\nQuestion: How many storeys are in the castle that David Gregory inherited?\\n\\nReasoning: Let\\'s think step by step in order to This is a bit of a trick question! The text provides information about David Gregory, Duke of Gaeta, and his actions regarding land distribution. However, it **doesn\\'t mention anything about a castle that he inherited**. Therefore, we can\\'t determine how many storeys are in the castle David Gregory inherited based on the provided information. Let me know if you have any other questions!\\n\\nAnswer:\\x1b[32m You are absolutely right! \\n\\nThe text focuses on David Gregory\\'s political actions and family dynamics but doesn\\'t mention him inheriting a castle.  \\n\\nTherefore, we cannot answer how many storeys are in the castle he inherited.\\x1b[0m\\n\\n\\n'"
      ]
     },
     "execution_count": 36,
     "metadata": {},
     "output_type": "execute_result"
    }
   ],
   "source": [
    "compiled_baleen(\"How many storeys are in the castle that David Gregory inherited?\")\n",
    "lm.inspect_history(n=3)"
   ]
  },
  {
   "cell_type": "code",
   "execution_count": null,
   "metadata": {},
   "outputs": [],
   "source": []
  }
 ],
 "metadata": {
  "kernelspec": {
   "display_name": "Python 3 (ipykernel)",
   "language": "python",
   "name": "python3"
  },
  "language_info": {
   "codemirror_mode": {
    "name": "ipython",
    "version": 3
   },
   "file_extension": ".py",
   "mimetype": "text/x-python",
   "name": "python",
   "nbconvert_exporter": "python",
   "pygments_lexer": "ipython3",
   "version": "3.12.0"
  }
 },
 "nbformat": 4,
 "nbformat_minor": 4
}
