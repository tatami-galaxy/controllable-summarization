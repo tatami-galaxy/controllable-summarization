{
 "cells": [
  {
   "cell_type": "markdown",
   "metadata": {},
   "source": [
    "<img src=\"docs/images/DSPy8.png\" alt=\"DSPy7 Image\" height=\"150\"/>\n",
    "\n",
    "## **DSPy**: Programming with Foundation Models\n",
    "\n",
    "[<img align=\"center\" src=\"https://colab.research.google.com/assets/colab-badge.svg\" />](https://colab.research.google.com/github/stanfordnlp/dspy/blob/main/intro.ipynb)"
   ]
  },
  {
   "cell_type": "markdown",
   "metadata": {},
   "source": [
    "This notebook introduces the **DSPy** framework for **Programming with Foundation Models**, i.e., language models (LMs) and retrieval models (RMs).\n",
    "\n",
    "**DSPy** emphasizes programming over prompting. It unifies techniques for **prompting** and **fine-tuning** LMs as well as improving them with **reasoning** and **tool/retrieval augmentation**, all expressed through a _minimalistic set of Pythonic operations that compose and learn_.\n",
    "\n",
    "**DSPy** provides **composable and declarative modules** for instructing LMs in a familiar Pythonic syntax. On top of that, **DSPy** introduces an **automatic compiler that teaches LMs** how to conduct the declarative steps in your program. The **DSPy compiler** will internally _trace_ your program and then **craft high-quality prompts for large LMs (or train automatic finetunes for small LMs)** to teach them the steps of your task."
   ]
  },
  {
   "cell_type": "markdown",
   "metadata": {},
   "source": [
    "### 0] Setting Up\n",
    "\n",
    "As we'll start to see below, **DSPy** can routinely teach powerful models like `GPT-3.5` and local models like `T5-base` or `Llama2-13b` to be much more reliable at complex tasks. **DSPy** will compile the _same program_ into different few-shot prompts and/or finetunes for each LM."
   ]
  },
  {
   "cell_type": "code",
   "execution_count": 1,
   "metadata": {},
   "outputs": [],
   "source": [
    "import sys\n",
    "import os\n",
    "import dspy\n",
    "from dspy.evaluate import Evaluate\n",
    "from dspy.teleprompt import BootstrapFewShotWithRandomSearch\n",
    "from rouge_score import rouge_scorer"
   ]
  },
  {
   "cell_type": "code",
   "execution_count": 2,
   "metadata": {},
   "outputs": [],
   "source": [
    "model_name = 'gemma2:27b'\n",
    "#model_name = 'qwen2.5:72b'"
   ]
  },
  {
   "cell_type": "code",
   "execution_count": 4,
   "metadata": {},
   "outputs": [],
   "source": [
    "#turbo = dspy.OpenAI(model='gpt-3.5-turbo')\n",
    "lm = dspy.OllamaLocal(model=model_name)\n",
    "dspy.settings.configure(lm=lm)"
   ]
  },
  {
   "cell_type": "markdown",
   "metadata": {},
   "source": [
    "You can build your own **DSPy programs** for various tasks, e.g., question answering, information extraction, or text-to-SQL.\n",
    "\n",
    "Whatever the task, the general workflow is:\n",
    "\n",
    "1. **Collect a little bit of data.** Define examples of the inputs and outputs of your program (e.g., questions and their answers). This could just be a handful of quick examples you wrote down. If large datasets exist, the more the merrier!\n",
    "1. **Write your program.** Define the modules (i.e., sub-tasks) of your program and the way they should interact together to solve your task.\n",
    "1. **Define some validation logic.** What makes for a good run of your program? Maybe the answers need to have a certain length or stick to a particular format? Specify the logic that checks that.\n",
    "1. **Compile!** Ask **DSPy** to _compile_ your program using your data. The compiler will use your data and validation logic to optimize your program (e.g., prompts and modules) so it's efficient and effective!\n",
    "1. **Iterate.** Repeat the process by improving your data, program, validation, or by using more advanced features of the **DSPy** compiler."
   ]
  },
  {
   "cell_type": "markdown",
   "metadata": {},
   "source": [
    "### Data"
   ]
  },
  {
   "cell_type": "code",
   "execution_count": 5,
   "metadata": {},
   "outputs": [
    {
     "name": "stdout",
     "output_type": "stream",
     "text": [
      "DatasetDict({\n",
      "    train: Dataset({\n",
      "        features: ['id', 'sources', 'sources_metadata', 'summary/long', 'summary/short', 'summary/tiny', 'case_metadata'],\n",
      "        num_rows: 3177\n",
      "    })\n",
      "    validation: Dataset({\n",
      "        features: ['id', 'sources', 'sources_metadata', 'summary/long', 'summary/short', 'summary/tiny', 'case_metadata'],\n",
      "        num_rows: 454\n",
      "    })\n",
      "    test: Dataset({\n",
      "        features: ['id', 'sources', 'sources_metadata', 'summary/long', 'summary/short', 'summary/tiny', 'case_metadata'],\n",
      "        num_rows: 908\n",
      "    })\n",
      "})\n"
     ]
    }
   ],
   "source": [
    "from datasets import load_dataset\n",
    "\n",
    "multi_lexsum = load_dataset(\"allenai/multi_lexsum\", name=\"v20230518\")\n",
    "print(multi_lexsum)"
   ]
  },
  {
   "cell_type": "markdown",
   "metadata": {},
   "source": [
    "The core data type for data in DSPy is Example. You will use Examples to represent items in your training set and test set. DSPy Examples are similar to Python dicts but have a few useful utilities. Your DSPy modules will return values of the type Prediction, which is a special sub-class of Example. When you use DSPy, you will do a lot of evaluation and optimization runs. Your individual datapoints will be of type Example."
   ]
  },
  {
   "cell_type": "markdown",
   "metadata": {},
   "source": [
    "Select 100 train examples and 20 dev examples where all 3 summaries are present"
   ]
  },
  {
   "cell_type": "code",
   "execution_count": 6,
   "metadata": {},
   "outputs": [],
   "source": [
    "trainset = multi_lexsum['train'].filter(\n",
    "    lambda x: x['summary/tiny'] is not None and x['summary/short'] is not None and x['summary/long'] is not None\n",
    ").select(range(100))\n",
    "\n",
    "devset = multi_lexsum['validation'].filter(\n",
    "    lambda x: x['summary/tiny'] is not None and x['summary/short'] is not None and x['summary/long'] is not None\n",
    ").select(range(20))"
   ]
  },
  {
   "cell_type": "markdown",
   "metadata": {},
   "source": [
    "#### Create Examples"
   ]
  },
  {
   "cell_type": "code",
   "execution_count": 7,
   "metadata": {},
   "outputs": [],
   "source": [
    "def join_sources(x):\n",
    "    x['sources'] = ' '.join(x['sources'])\n",
    "    return x\n",
    "\n",
    "trainset = trainset.map(join_sources, batched=False)\n",
    "devset = devset.map(join_sources, batched=False)"
   ]
  },
  {
   "cell_type": "code",
   "execution_count": 8,
   "metadata": {},
   "outputs": [
    {
     "data": {
      "text/plain": [
       "(100, 20)"
      ]
     },
     "execution_count": 8,
     "metadata": {},
     "output_type": "execute_result"
    }
   ],
   "source": [
    "# Tell DSPy that the joined 'sources' field is the input. Any other fields are labels and/or metadata\n",
    "trainset = [dspy.Example(\n",
    "    doc=x['sources'],\n",
    "    long=x['summary/long'],\n",
    "    short=x['summary/short'],\n",
    "    tiny=x['summary/tiny']\n",
    ").with_inputs('doc') for x in trainset]\n",
    "\n",
    "devset = [dspy.Example(\n",
    "    doc=' '.join(x['sources']),\n",
    "    long=x['summary/long'],\n",
    "    short=x['summary/short'],\n",
    "    tiny=x['summary/tiny']\n",
    ").with_inputs('doc') for x in devset]\n",
    "\n",
    "# ['doc', 'long', 'short', 'tiny']\n",
    "len(trainset), len(devset)"
   ]
  },
  {
   "cell_type": "markdown",
   "metadata": {},
   "source": [
    "**DSPy** typically requires very minimal labeling. Whereas your pipeline may involve six or seven complex steps, you only need labels for the initial question and the final answer. **DSPy** will bootstrap any intermediate labels needed to support your pipeline. If you change your pipeline in any way, the data bootstrapped will change accordingly!\n",
    "\n",
    "Now, let's look at some data examples."
   ]
  },
  {
   "cell_type": "code",
   "execution_count": 9,
   "metadata": {},
   "outputs": [
    {
     "name": "stdout",
     "output_type": "stream",
     "text": [
      "short: Two men who were arrested for trespassing on property of businesses open to the public filed a lawsuit in the U.S. District Court for the Western District of Michigan against the city of Grand Rapids, its chief of police, and two individual officers. The plaintiffs claimed that the Grand Rapids Police Department's policy and practice of arresting individuals for trespass -- without probable cause and based on general Letters of Intent to Prosecute signed by Grand Rapids businesses -- results in unreasonable searches and seizures in violation of the Fourth Amendment. The parties came to a private settlement agreement for damages and attorney's fees in late 2019. The Judge dismissed the case in early 2020.\n",
      "tiny: Settlement reached in 2019 for @ACLU case on arrests for trespassing without a warning under Grand Rapids, MI's \"No Trespass Letters\" policy (W.D. Mich.)\n"
     ]
    }
   ],
   "source": [
    "train_example = trainset[1]\n",
    "print(f\"short: {train_example.short}\")\n",
    "print(f\"tiny: {train_example.tiny}\")"
   ]
  },
  {
   "cell_type": "code",
   "execution_count": 10,
   "metadata": {},
   "outputs": [
    {
     "name": "stdout",
     "output_type": "stream",
     "text": [
      "short: Pretrial detainees file lawsuit against Middlesex County in November 2015 to ameliorate the unconstitutional conditions of solitary confinement in the Middlesex County Jail. In September 2018, the parties reached a settlement agreement that restricted the maximum amount of time allowed in isolation and provides those in isolation with opportunities to interact with others.\n",
      "tiny: Pretrial detainees settled this class action against Middlesex County to provide 28 hours per week of out-of-cell time and mental health screenings to people held in solitary confinement.\n"
     ]
    }
   ],
   "source": [
    "dev_example = devset[2]\n",
    "print(f\"short: {dev_example.short}\")\n",
    "print(f\"tiny: {dev_example.tiny}\")"
   ]
  },
  {
   "cell_type": "markdown",
   "metadata": {},
   "source": [
    "After loading the raw data, we'd applied `with_inputs(' '.join(x['sources']))` to each example to tell **DSPy** that our input field in each example will be just `doc`. Any other fields are labels or metadata that are not given to the system."
   ]
  },
  {
   "cell_type": "markdown",
   "metadata": {},
   "source": [
    "### Basic zero shot prompt"
   ]
  },
  {
   "cell_type": "markdown",
   "metadata": {},
   "source": [
    "tiny ~ 25 words\n",
    "\n",
    "short ~ 130 words\n",
    "\n",
    "long ~ 650 words\n",
    "\n",
    "Generate a {summary_type} summary of maximum {max_tokens[summary_type]} tokens of the following text:"
   ]
  },
  {
   "cell_type": "markdown",
   "metadata": {},
   "source": [
    "#### Short Summary"
   ]
  },
  {
   "cell_type": "markdown",
   "metadata": {},
   "source": [
    "##### Signature"
   ]
  },
  {
   "cell_type": "code",
   "execution_count": 11,
   "metadata": {},
   "outputs": [],
   "source": [
    "class ShortSummSig(dspy.Signature):\n",
    "    \"\"\"Generate short summaries of about 130 words.\"\"\"\n",
    "    # input\n",
    "    doc = dspy.InputField()\n",
    "    # output\n",
    "    short = dspy.OutputField()"
   ]
  },
  {
   "cell_type": "markdown",
   "metadata": {},
   "source": [
    "In `ShortSumm`, the docstring describes the sub-task. Each `InputField` or `OutputField` can optionally contain a description `desc` too. When it's not given, it's inferred from the field's name (e.g., `question`).\n",
    "\n",
    "Notice that there isn't anything special about this signature in **DSPy**. We can just as easily define a signature that takes a long snippet from a PDF and outputs structured information, for instance.\n",
    "\n",
    "Anyway, now that we have a signature, let's define and use a **Predictor**. A predictor is a module that knows how to use the LM to implement a signature. Importantly, predictors can **learn** to fit their behavior to the task!"
   ]
  },
  {
   "cell_type": "markdown",
   "metadata": {},
   "source": [
    "```\n",
    "dspy.Example(field1=value, field2=value2, ...)\n",
    "```"
   ]
  },
  {
   "cell_type": "code",
   "execution_count": 12,
   "metadata": {},
   "outputs": [
    {
     "name": "stdout",
     "output_type": "stream",
     "text": [
      "Generated short: This appears to be a legal document excerpt detailing court activity. Here's a breakdown:\n",
      "\n",
      "* **Dismissal:** The case (likely a civil lawsuit, given the \"cv\" designation) was dismissed with prejudice against Middlesex County. This means the plaintiff cannot refile the same claim.\n",
      "* **Stipulation:**  The dismissal was agreed upon by both parties (the plaintiff and Middlesex County).\n",
      "* **Dates:** Key dates include:\n",
      "    * 10/24/2018: Judge Peter G. Sheridan signed the dismissal order.\n",
      "    * 10/25/2018: The dismissal was officially entered into the court record.\n",
      "* **PACER Transaction:** This section indicates\n",
      "\n",
      "Ground truth short: Pretrial detainees file lawsuit against Middlesex County in November 2015 to ameliorate the unconstitutional conditions of solitary confinement in the Middlesex County Jail. In September 2018, the parties reached a settlement agreement that restricted the maximum amount of time allowed in isolation and provides those in isolation with opportunities to interact with others.\n"
     ]
    }
   ],
   "source": [
    "# Define the predictor.\n",
    "generate_short = dspy.Predict(ShortSummSig)\n",
    "\n",
    "# Call the predictor on a particular input\n",
    "pred = generate_short(doc=dev_example.doc)\n",
    "\n",
    "# Print the prediction\n",
    "#print(f\"Doc: {dev_example.doc}\")\n",
    "print(f\"Generated short: {pred.short}\")\n",
    "print('')\n",
    "print(f\"Ground truth short: {dev_example.short}\")"
   ]
  },
  {
   "cell_type": "markdown",
   "metadata": {},
   "source": [
    "#### Evaluation"
   ]
  },
  {
   "cell_type": "markdown",
   "metadata": {},
   "source": [
    "##### Metric"
   ]
  },
  {
   "cell_type": "code",
   "execution_count": 14,
   "metadata": {},
   "outputs": [],
   "source": [
    "scorer = rouge_scorer.RougeScorer(['rouge1', 'rougeL'], use_stemmer=True)\n",
    "def eval_summ(example, pred, trace=None):\n",
    "    return scorer.score(example.short.lower(), pred.short.lower())['rouge1'][2]\n",
    "\n",
    "r1 = eval_summ"
   ]
  },
  {
   "cell_type": "markdown",
   "metadata": {},
   "source": [
    "##### Program"
   ]
  },
  {
   "cell_type": "code",
   "execution_count": 15,
   "metadata": {},
   "outputs": [],
   "source": [
    "class ShortSummProg(dspy.Module):\n",
    "    def __init__(self):\n",
    "        super().__init__()\n",
    "        self.generate_summ = dspy.Predict(ShortSummSig)\n",
    "\n",
    "    def forward(self, doc):\n",
    "        return self.generate_summ(doc=doc)\n",
    "\n",
    "shortsumm = ShortSummProg()"
   ]
  },
  {
   "cell_type": "markdown",
   "metadata": {},
   "source": [
    "##### Evaluate"
   ]
  },
  {
   "cell_type": "code",
   "execution_count": 16,
   "metadata": {},
   "outputs": [],
   "source": [
    "evaluator = Evaluate(devset=devset, num_threads=1, display_progress=True, display_table=0)"
   ]
  },
  {
   "cell_type": "code",
   "execution_count": 17,
   "metadata": {},
   "outputs": [
    {
     "name": "stdout",
     "output_type": "stream",
     "text": [
      "Average Metric: 4.149412227978533 / 20 \n"
     ]
    },
    {
     "data": {
      "text/plain": [
       "20.75"
      ]
     },
     "execution_count": 17,
     "metadata": {},
     "output_type": "execute_result"
    }
   ],
   "source": [
    "evaluator(shortsumm, metric=r1)"
   ]
  },
  {
   "cell_type": "markdown",
   "metadata": {},
   "source": [
    "### Optimized few-shot with bootstrapped demonstrations"
   ]
  },
  {
   "cell_type": "code",
   "execution_count": 19,
   "metadata": {},
   "outputs": [
    {
     "name": "stdout",
     "output_type": "stream",
     "text": [
      "Going to sample between 1 and 8 traces per predictor.\n",
      "Will attempt to bootstrap 16 candidate sets.\n"
     ]
    }
   ],
   "source": [
    "bootstrap_optimizer = BootstrapFewShotWithRandomSearch(\n",
    "    max_bootstrapped_demos=8,\n",
    "    max_labeled_demos=8,\n",
    "    #num_candidate_programs=10,\n",
    "    num_threads=8,\n",
    "    metric=r1,\n",
    "    #teacher_settings=dict(lm=gpt4T)\n",
    ")"
   ]
  },
  {
   "cell_type": "code",
   "execution_count": 21,
   "metadata": {},
   "outputs": [
    {
     "name": "stderr",
     "output_type": "stream",
     "text": [
      "Average Metric: 4.351450206532021 / 20 \n"
     ]
    },
    {
     "name": "stdout",
     "output_type": "stream",
     "text": [
      "Score: 21.76 for set: [0]\n",
      "New best sscore: 21.76 for seed -3\n",
      "Scores so far: [21.76]\n",
      "Best score: 21.76\n"
     ]
    },
    {
     "name": "stderr",
     "output_type": "stream",
     "text": [
      "Average Metric: 4.357405195605286 / 20 \n"
     ]
    },
    {
     "name": "stdout",
     "output_type": "stream",
     "text": [
      "Score: 21.79 for set: [8]\n",
      "New best sscore: 21.79 for seed -2\n",
      "Scores so far: [21.76, 21.79]\n",
      "Best score: 21.79\n"
     ]
    },
    {
     "name": "stderr",
     "output_type": "stream",
     "text": [
      "  8%|▏ | 8/100 [01:18<14:57,  9.75s/it]\n"
     ]
    },
    {
     "name": "stdout",
     "output_type": "stream",
     "text": [
      "Bootstrapped 8 full traces after 9 examples in round 0.\n"
     ]
    },
    {
     "name": "stderr",
     "output_type": "stream",
     "text": [
      "Average Metric: 4.211767554417294 / 20 \n"
     ]
    },
    {
     "name": "stdout",
     "output_type": "stream",
     "text": [
      "Score: 21.06 for set: [8]\n",
      "Scores so far: [21.76, 21.79, 21.06]\n",
      "Best score: 21.79\n",
      "Average of max per entry across top 1 scores: 0.21787025978026428\n",
      "Average of max per entry across top 2 scores: 0.22436364365796096\n",
      "Average of max per entry across top 3 scores: 0.2276850753525236\n",
      "Average of max per entry across top 5 scores: 0.2276850753525236\n",
      "Average of max per entry across top 8 scores: 0.2276850753525236\n",
      "Average of max per entry across top 9999 scores: 0.2276850753525236\n"
     ]
    },
    {
     "name": "stderr",
     "output_type": "stream",
     "text": [
      "  7%|▏ | 7/100 [02:05<27:43, 17.89s/it]\n"
     ]
    },
    {
     "name": "stdout",
     "output_type": "stream",
     "text": [
      "Bootstrapped 7 full traces after 8 examples in round 0.\n"
     ]
    },
    {
     "name": "stderr",
     "output_type": "stream",
     "text": [
      "Average Metric: 4.1334237528685955 / 20\n"
     ]
    },
    {
     "name": "stdout",
     "output_type": "stream",
     "text": [
      "Score: 20.67 for set: [8]\n",
      "Scores so far: [21.76, 21.79, 21.06, 20.67]\n",
      "Best score: 21.79\n",
      "Average of max per entry across top 1 scores: 0.21787025978026428\n",
      "Average of max per entry across top 2 scores: 0.22436364365796096\n",
      "Average of max per entry across top 3 scores: 0.2276850753525236\n",
      "Average of max per entry across top 5 scores: 0.23105284627904102\n",
      "Average of max per entry across top 8 scores: 0.23105284627904102\n",
      "Average of max per entry across top 9999 scores: 0.23105284627904102\n"
     ]
    },
    {
     "name": "stderr",
     "output_type": "stream",
     "text": [
      "  3%|  | 3/100 [00:26<14:29,  8.97s/it]\n"
     ]
    },
    {
     "name": "stdout",
     "output_type": "stream",
     "text": [
      "Bootstrapped 3 full traces after 4 examples in round 0.\n"
     ]
    },
    {
     "name": "stderr",
     "output_type": "stream",
     "text": [
      "Average Metric: 4.140660441558267 / 20 \n"
     ]
    },
    {
     "name": "stdout",
     "output_type": "stream",
     "text": [
      "Score: 20.7 for set: [8]\n",
      "Scores so far: [21.76, 21.79, 21.06, 20.67, 20.7]\n",
      "Best score: 21.79\n",
      "Average of max per entry across top 1 scores: 0.21787025978026428\n",
      "Average of max per entry across top 2 scores: 0.22436364365796096\n",
      "Average of max per entry across top 3 scores: 0.2276850753525236\n",
      "Average of max per entry across top 5 scores: 0.23151215027232067\n",
      "Average of max per entry across top 8 scores: 0.23151215027232067\n",
      "Average of max per entry across top 9999 scores: 0.23151215027232067\n"
     ]
    },
    {
     "name": "stderr",
     "output_type": "stream",
     "text": [
      "  1%|  | 1/100 [00:08<14:23,  8.72s/it]\n"
     ]
    },
    {
     "name": "stdout",
     "output_type": "stream",
     "text": [
      "Bootstrapped 1 full traces after 2 examples in round 0.\n"
     ]
    },
    {
     "name": "stderr",
     "output_type": "stream",
     "text": [
      "Average Metric: 4.087983463840106 / 20 \n"
     ]
    },
    {
     "name": "stdout",
     "output_type": "stream",
     "text": [
      "Score: 20.44 for set: [8]\n",
      "Scores so far: [21.76, 21.79, 21.06, 20.67, 20.7, 20.44]\n",
      "Best score: 21.79\n",
      "Average of max per entry across top 1 scores: 0.21787025978026428\n",
      "Average of max per entry across top 2 scores: 0.22436364365796096\n",
      "Average of max per entry across top 3 scores: 0.2276850753525236\n",
      "Average of max per entry across top 5 scores: 0.23151215027232067\n",
      "Average of max per entry across top 8 scores: 0.23381218520546043\n",
      "Average of max per entry across top 9999 scores: 0.23381218520546043\n"
     ]
    },
    {
     "name": "stderr",
     "output_type": "stream",
     "text": [
      "  4%|  | 4/100 [01:20<32:13, 20.14s/it]\n"
     ]
    },
    {
     "name": "stdout",
     "output_type": "stream",
     "text": [
      "Bootstrapped 4 full traces after 5 examples in round 0.\n"
     ]
    },
    {
     "name": "stderr",
     "output_type": "stream",
     "text": [
      "Average Metric: 4.215519643330277 / 20 \n"
     ]
    },
    {
     "name": "stdout",
     "output_type": "stream",
     "text": [
      "Score: 21.08 for set: [8]\n",
      "Scores so far: [21.76, 21.79, 21.06, 20.67, 20.7, 20.44, 21.08]\n",
      "Best score: 21.79\n",
      "Average of max per entry across top 1 scores: 0.21787025978026428\n",
      "Average of max per entry across top 2 scores: 0.22436364365796096\n",
      "Average of max per entry across top 3 scores: 0.22954593618174238\n",
      "Average of max per entry across top 5 scores: 0.23056465891200356\n",
      "Average of max per entry across top 8 scores: 0.23454511405108094\n",
      "Average of max per entry across top 9999 scores: 0.23454511405108094\n"
     ]
    },
    {
     "name": "stderr",
     "output_type": "stream",
     "text": [
      "  4%|  | 4/100 [00:27<11:00,  6.88s/it]\n"
     ]
    },
    {
     "name": "stdout",
     "output_type": "stream",
     "text": [
      "Bootstrapped 4 full traces after 5 examples in round 0.\n"
     ]
    },
    {
     "name": "stderr",
     "output_type": "stream",
     "text": [
      "Average Metric: 4.167550434041505 / 20 \n"
     ]
    },
    {
     "name": "stdout",
     "output_type": "stream",
     "text": [
      "Score: 20.84 for set: [8]\n",
      "Scores so far: [21.76, 21.79, 21.06, 20.67, 20.7, 20.44, 21.08, 20.84]\n",
      "Best score: 21.79\n",
      "Average of max per entry across top 1 scores: 0.21787025978026428\n",
      "Average of max per entry across top 2 scores: 0.22436364365796096\n",
      "Average of max per entry across top 3 scores: 0.22954593618174238\n",
      "Average of max per entry across top 5 scores: 0.23042237382862382\n",
      "Average of max per entry across top 8 scores: 0.2348621329609808\n",
      "Average of max per entry across top 9999 scores: 0.2348621329609808\n"
     ]
    },
    {
     "name": "stderr",
     "output_type": "stream",
     "text": [
      "  5%|  | 5/100 [00:31<10:00,  6.32s/it]\n"
     ]
    },
    {
     "name": "stdout",
     "output_type": "stream",
     "text": [
      "Bootstrapped 5 full traces after 6 examples in round 0.\n"
     ]
    },
    {
     "name": "stderr",
     "output_type": "stream",
     "text": [
      "Average Metric: 4.212115835341751 / 20 \n"
     ]
    },
    {
     "name": "stdout",
     "output_type": "stream",
     "text": [
      "Score: 21.06 for set: [8]\n",
      "Scores so far: [21.76, 21.79, 21.06, 20.67, 20.7, 20.44, 21.08, 20.84, 21.06]\n",
      "Best score: 21.79\n",
      "Average of max per entry across top 1 scores: 0.21787025978026428\n",
      "Average of max per entry across top 2 scores: 0.22436364365796096\n",
      "Average of max per entry across top 3 scores: 0.22954593618174238\n",
      "Average of max per entry across top 5 scores: 0.23529650244822636\n",
      "Average of max per entry across top 8 scores: 0.23856549397310672\n",
      "Average of max per entry across top 9999 scores: 0.23896254448361454\n"
     ]
    },
    {
     "name": "stderr",
     "output_type": "stream",
     "text": [
      "  2%|  | 2/100 [00:18<15:18,  9.38s/it]\n"
     ]
    },
    {
     "name": "stdout",
     "output_type": "stream",
     "text": [
      "Bootstrapped 2 full traces after 3 examples in round 0.\n"
     ]
    },
    {
     "name": "stderr",
     "output_type": "stream",
     "text": [
      "Average Metric: 4.183474031537362 / 20 \n"
     ]
    },
    {
     "name": "stdout",
     "output_type": "stream",
     "text": [
      "Score: 20.92 for set: [8]\n",
      "Scores so far: [21.76, 21.79, 21.06, 20.67, 20.7, 20.44, 21.08, 20.84, 21.06, 20.92]\n",
      "Best score: 21.79\n",
      "Average of max per entry across top 1 scores: 0.21787025978026428\n",
      "Average of max per entry across top 2 scores: 0.22436364365796096\n",
      "Average of max per entry across top 3 scores: 0.22954593618174238\n",
      "Average of max per entry across top 5 scores: 0.23529650244822636\n",
      "Average of max per entry across top 8 scores: 0.23636757721496565\n",
      "Average of max per entry across top 9999 scores: 0.23922480771819443\n"
     ]
    },
    {
     "name": "stderr",
     "output_type": "stream",
     "text": [
      "  6%|  | 6/100 [01:53<29:39, 18.93s/it]\n"
     ]
    },
    {
     "name": "stdout",
     "output_type": "stream",
     "text": [
      "Bootstrapped 6 full traces after 7 examples in round 0.\n"
     ]
    },
    {
     "name": "stderr",
     "output_type": "stream",
     "text": [
      "Average Metric: 4.271972054650577 / 20 \n"
     ]
    },
    {
     "name": "stdout",
     "output_type": "stream",
     "text": [
      "Score: 21.36 for set: [8]\n",
      "Scores so far: [21.76, 21.79, 21.06, 20.67, 20.7, 20.44, 21.08, 20.84, 21.06, 20.92, 21.36]\n",
      "Best score: 21.79\n",
      "Average of max per entry across top 1 scores: 0.21787025978026428\n",
      "Average of max per entry across top 2 scores: 0.22436364365796096\n",
      "Average of max per entry across top 3 scores: 0.22848029401701817\n",
      "Average of max per entry across top 5 scores: 0.23366258654079958\n",
      "Average of max per entry across top 8 scores: 0.23937957573527607\n",
      "Average of max per entry across top 9999 scores: 0.2422368062385049\n"
     ]
    },
    {
     "name": "stderr",
     "output_type": "stream",
     "text": [
      "  4%|  | 4/100 [00:59<23:40, 14.79s/it]\n"
     ]
    },
    {
     "name": "stdout",
     "output_type": "stream",
     "text": [
      "Bootstrapped 4 full traces after 5 examples in round 0.\n"
     ]
    },
    {
     "name": "stderr",
     "output_type": "stream",
     "text": [
      "Average Metric: 4.35365673158565 / 20  \n"
     ]
    },
    {
     "name": "stdout",
     "output_type": "stream",
     "text": [
      "Score: 21.77 for set: [8]\n",
      "Scores so far: [21.76, 21.79, 21.06, 20.67, 20.7, 20.44, 21.08, 20.84, 21.06, 20.92, 21.36, 21.77]\n",
      "Best score: 21.79\n",
      "Average of max per entry across top 1 scores: 0.21787025978026428\n",
      "Average of max per entry across top 2 scores: 0.22722673687725586\n",
      "Average of max per entry across top 3 scores: 0.22958757892814052\n",
      "Average of max per entry across top 5 scores: 0.235972886522418\n",
      "Average of max per entry across top 8 scores: 0.23960370791644098\n",
      "Average of max per entry across top 9999 scores: 0.24227274338117538\n"
     ]
    },
    {
     "name": "stderr",
     "output_type": "stream",
     "text": [
      "  8%|▏ | 8/100 [01:15<14:27,  9.43s/it]\n"
     ]
    },
    {
     "name": "stdout",
     "output_type": "stream",
     "text": [
      "Bootstrapped 8 full traces after 9 examples in round 0.\n"
     ]
    },
    {
     "name": "stderr",
     "output_type": "stream",
     "text": [
      "Average Metric: 4.138558549737024 / 20 \n"
     ]
    },
    {
     "name": "stdout",
     "output_type": "stream",
     "text": [
      "Score: 20.69 for set: [8]\n",
      "Scores so far: [21.76, 21.79, 21.06, 20.67, 20.7, 20.44, 21.08, 20.84, 21.06, 20.92, 21.36, 21.77, 20.69]\n",
      "Best score: 21.79\n",
      "Average of max per entry across top 1 scores: 0.21787025978026428\n",
      "Average of max per entry across top 2 scores: 0.22722673687725586\n",
      "Average of max per entry across top 3 scores: 0.22958757892814052\n",
      "Average of max per entry across top 5 scores: 0.235972886522418\n",
      "Average of max per entry across top 8 scores: 0.23960370791644098\n",
      "Average of max per entry across top 9999 scores: 0.24227274338117538\n"
     ]
    },
    {
     "name": "stderr",
     "output_type": "stream",
     "text": [
      "  1%|  | 1/100 [00:05<08:22,  5.08s/it]\n"
     ]
    },
    {
     "name": "stdout",
     "output_type": "stream",
     "text": [
      "Bootstrapped 1 full traces after 2 examples in round 0.\n"
     ]
    },
    {
     "name": "stderr",
     "output_type": "stream",
     "text": [
      "Average Metric: 4.221797369148664 / 20 \n"
     ]
    },
    {
     "name": "stdout",
     "output_type": "stream",
     "text": [
      "Score: 21.11 for set: [8]\n",
      "Scores so far: [21.76, 21.79, 21.06, 20.67, 20.7, 20.44, 21.08, 20.84, 21.06, 20.92, 21.36, 21.77, 20.69, 21.11]\n",
      "Best score: 21.79\n",
      "Average of max per entry across top 1 scores: 0.21787025978026428\n",
      "Average of max per entry across top 2 scores: 0.22722673687725586\n",
      "Average of max per entry across top 3 scores: 0.22958757892814052\n",
      "Average of max per entry across top 5 scores: 0.23397721499320318\n",
      "Average of max per entry across top 8 scores: 0.23932193696314497\n",
      "Average of max per entry across top 9999 scores: 0.2423938877293256\n"
     ]
    },
    {
     "name": "stderr",
     "output_type": "stream",
     "text": [
      "  8%|▏ | 8/100 [00:58<11:14,  7.34s/it]\n"
     ]
    },
    {
     "name": "stdout",
     "output_type": "stream",
     "text": [
      "Bootstrapped 8 full traces after 9 examples in round 0.\n"
     ]
    },
    {
     "name": "stderr",
     "output_type": "stream",
     "text": [
      "Average Metric: 4.266788700363167 / 20 \n"
     ]
    },
    {
     "name": "stdout",
     "output_type": "stream",
     "text": [
      "Score: 21.33 for set: [8]\n",
      "Scores so far: [21.76, 21.79, 21.06, 20.67, 20.7, 20.44, 21.08, 20.84, 21.06, 20.92, 21.36, 21.77, 20.69, 21.11, 21.33]\n",
      "Best score: 21.79\n",
      "Average of max per entry across top 1 scores: 0.21787025978026428\n",
      "Average of max per entry across top 2 scores: 0.22722673687725586\n",
      "Average of max per entry across top 3 scores: 0.22958757892814052\n",
      "Average of max per entry across top 5 scores: 0.23457531776551419\n",
      "Average of max per entry across top 8 scores: 0.23871939409538467\n",
      "Average of max per entry across top 9999 scores: 0.24389293216315266\n"
     ]
    },
    {
     "name": "stderr",
     "output_type": "stream",
     "text": [
      "  8%|▏ | 8/100 [02:13<25:36, 16.70s/it]\n"
     ]
    },
    {
     "name": "stdout",
     "output_type": "stream",
     "text": [
      "Bootstrapped 8 full traces after 9 examples in round 0.\n"
     ]
    },
    {
     "name": "stderr",
     "output_type": "stream",
     "text": [
      "Average Metric: 4.1540958333439635 / 20\n"
     ]
    },
    {
     "name": "stdout",
     "output_type": "stream",
     "text": [
      "Score: 20.77 for set: [8]\n",
      "Scores so far: [21.76, 21.79, 21.06, 20.67, 20.7, 20.44, 21.08, 20.84, 21.06, 20.92, 21.36, 21.77, 20.69, 21.11, 21.33, 20.77]\n",
      "Best score: 21.79\n",
      "Average of max per entry across top 1 scores: 0.21787025978026428\n",
      "Average of max per entry across top 2 scores: 0.22722673687725586\n",
      "Average of max per entry across top 3 scores: 0.22958757892814052\n",
      "Average of max per entry across top 5 scores: 0.23457531776551419\n",
      "Average of max per entry across top 8 scores: 0.23871939409538467\n",
      "Average of max per entry across top 9999 scores: 0.24408090208796468\n"
     ]
    },
    {
     "name": "stderr",
     "output_type": "stream",
     "text": [
      "  5%|  | 5/100 [00:42<13:22,  8.45s/it]\n"
     ]
    },
    {
     "name": "stdout",
     "output_type": "stream",
     "text": [
      "Bootstrapped 5 full traces after 6 examples in round 0.\n"
     ]
    },
    {
     "name": "stderr",
     "output_type": "stream",
     "text": [
      "Average Metric: 4.174172664920959 / 20 \n"
     ]
    },
    {
     "name": "stdout",
     "output_type": "stream",
     "text": [
      "Score: 20.87 for set: [8]\n",
      "Scores so far: [21.76, 21.79, 21.06, 20.67, 20.7, 20.44, 21.08, 20.84, 21.06, 20.92, 21.36, 21.77, 20.69, 21.11, 21.33, 20.77, 20.87]\n",
      "Best score: 21.79\n",
      "Average of max per entry across top 1 scores: 0.21787025978026428\n",
      "Average of max per entry across top 2 scores: 0.22722673687725586\n",
      "Average of max per entry across top 3 scores: 0.22958757892814052\n",
      "Average of max per entry across top 5 scores: 0.23457531776551419\n",
      "Average of max per entry across top 8 scores: 0.23871939409538467\n",
      "Average of max per entry across top 9999 scores: 0.24408090208796468\n"
     ]
    },
    {
     "name": "stderr",
     "output_type": "stream",
     "text": [
      "  2%|  | 2/100 [00:18<15:08,  9.27s/it]\n"
     ]
    },
    {
     "name": "stdout",
     "output_type": "stream",
     "text": [
      "Bootstrapped 2 full traces after 3 examples in round 0.\n"
     ]
    },
    {
     "name": "stderr",
     "output_type": "stream",
     "text": [
      "Average Metric: 4.188098941633238 / 20 \n"
     ]
    },
    {
     "name": "stdout",
     "output_type": "stream",
     "text": [
      "Score: 20.94 for set: [8]\n",
      "Scores so far: [21.76, 21.79, 21.06, 20.67, 20.7, 20.44, 21.08, 20.84, 21.06, 20.92, 21.36, 21.77, 20.69, 21.11, 21.33, 20.77, 20.87, 20.94]\n",
      "Best score: 21.79\n",
      "Average of max per entry across top 1 scores: 0.21787025978026428\n",
      "Average of max per entry across top 2 scores: 0.22722673687725586\n",
      "Average of max per entry across top 3 scores: 0.22958757892814052\n",
      "Average of max per entry across top 5 scores: 0.23457531776551419\n",
      "Average of max per entry across top 8 scores: 0.23871939409538467\n",
      "Average of max per entry across top 9999 scores: 0.2468081748152374\n"
     ]
    },
    {
     "name": "stderr",
     "output_type": "stream",
     "text": [
      "  4%|  | 4/100 [01:08<27:14, 17.03s/it]\n"
     ]
    },
    {
     "name": "stdout",
     "output_type": "stream",
     "text": [
      "Bootstrapped 4 full traces after 5 examples in round 0.\n"
     ]
    },
    {
     "name": "stderr",
     "output_type": "stream",
     "text": [
      "Average Metric: 4.211498499519415 / 20 "
     ]
    },
    {
     "name": "stdout",
     "output_type": "stream",
     "text": [
      "Score: 21.06 for set: [8]\n",
      "Scores so far: [21.76, 21.79, 21.06, 20.67, 20.7, 20.44, 21.08, 20.84, 21.06, 20.92, 21.36, 21.77, 20.69, 21.11, 21.33, 20.77, 20.87, 20.94, 21.06]\n",
      "Best score: 21.79\n",
      "Average of max per entry across top 1 scores: 0.21787025978026428\n",
      "Average of max per entry across top 2 scores: 0.22722673687725586\n",
      "Average of max per entry across top 3 scores: 0.22958757892814052\n",
      "Average of max per entry across top 5 scores: 0.23457531776551419\n",
      "Average of max per entry across top 8 scores: 0.23871939409538467\n",
      "Average of max per entry across top 9999 scores: 0.2468081748152374\n",
      "19 candidate programs found.\n"
     ]
    },
    {
     "name": "stderr",
     "output_type": "stream",
     "text": [
      "\n"
     ]
    }
   ],
   "source": [
    "shortsumm_fewshot = bootstrap_optimizer.compile(shortsumm, trainset=trainset, valset=devset)"
   ]
  },
  {
   "cell_type": "code",
   "execution_count": null,
   "metadata": {},
   "outputs": [],
   "source": []
  }
 ],
 "metadata": {
  "kernelspec": {
   "display_name": "Python 3 (ipykernel)",
   "language": "python",
   "name": "python3"
  },
  "language_info": {
   "codemirror_mode": {
    "name": "ipython",
    "version": 3
   },
   "file_extension": ".py",
   "mimetype": "text/x-python",
   "name": "python",
   "nbconvert_exporter": "python",
   "pygments_lexer": "ipython3",
   "version": "3.12.0"
  }
 },
 "nbformat": 4,
 "nbformat_minor": 4
}
