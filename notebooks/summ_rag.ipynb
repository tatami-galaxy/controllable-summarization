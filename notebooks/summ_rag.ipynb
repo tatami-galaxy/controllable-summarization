{
 "cells": [
  {
   "cell_type": "code",
   "execution_count": 4,
   "id": "665e41f1-e8ca-4603-b305-6f5042f6b894",
   "metadata": {},
   "outputs": [],
   "source": [
    "from datasets import load_dataset\n",
    "import dspy"
   ]
  },
  {
   "cell_type": "markdown",
   "id": "d8fc59d7-c516-40e4-b12d-e0352e5fff38",
   "metadata": {},
   "source": [
    "### Convert dataset into ColBERT index"
   ]
  },
  {
   "cell_type": "code",
   "execution_count": 5,
   "id": "33365388-9418-43ec-aa32-752ad2622bf0",
   "metadata": {},
   "outputs": [
    {
     "name": "stdout",
     "output_type": "stream",
     "text": [
      "DatasetDict({\n",
      "    train: Dataset({\n",
      "        features: ['id', 'sources', 'sources_metadata', 'summary/long', 'summary/short', 'summary/tiny', 'case_metadata'],\n",
      "        num_rows: 3177\n",
      "    })\n",
      "    validation: Dataset({\n",
      "        features: ['id', 'sources', 'sources_metadata', 'summary/long', 'summary/short', 'summary/tiny', 'case_metadata'],\n",
      "        num_rows: 454\n",
      "    })\n",
      "    test: Dataset({\n",
      "        features: ['id', 'sources', 'sources_metadata', 'summary/long', 'summary/short', 'summary/tiny', 'case_metadata'],\n",
      "        num_rows: 908\n",
      "    })\n",
      "})\n"
     ]
    }
   ],
   "source": [
    "multi_lexsum = load_dataset(\"allenai/multi_lexsum\", name=\"v20230518\")\n",
    "print(multi_lexsum)"
   ]
  },
  {
   "cell_type": "code",
   "execution_count": 13,
   "id": "d59ecfd4-097e-4cea-b7b6-31977ae103a3",
   "metadata": {},
   "outputs": [
    {
     "name": "stdout",
     "output_type": "stream",
     "text": [
      "Case 1:05-cv-00530-D Document 1-1 Filed 09/19/2005 Page 1 of 6\n",
      "\n",
      "IN\n",
      "\n",
      "THE\n",
      "\n",
      "UNITED\n",
      "\n",
      "STATES\n",
      "\n",
      "DISTRICT\n",
      "\n",
      "FILD COUR T\n",
      "\n",
      "P19\n",
      "\n",
      ".05\n",
      "\n",
      "Nl\n",
      "\n",
      "el\n",
      "\n",
      ".s\n",
      "\n",
      "FOR THE SOUTHERN DISTRICT OF ALABAMA\n",
      "\n",
      "SOUTHERN DIVISION\n",
      "\n",
      "EQUAL EMPLOYMENT OPPORTUNITY ]\n",
      "\n",
      "COMMISSION, ]\n",
      "\n",
      "] Plaintiff, ] Civil Action No. OSS- 0'53a -~\n",
      "\n",
      "v.\n",
      "\n",
      "]\n",
      "\n",
      "]\n",
      "COMPLAINT\n",
      "\n",
      "] HOUSE OF PHILADELPHIA CENTER, INC . ]\n",
      "\n",
      "JURY TRIAL DEMAND\n",
      "\n",
      "Defendant .\n",
      "\n",
      "]\n",
      "]\n",
      "] ]\n",
      "\n",
      "NATURE OF THE ACTION This is an action under Title VII of the Civil Rights Act of 1964 and Title I of the Civil Rights Act of 1991 to correct unlawful employment practices on the basis of sex and to provide appropriate relief to Sharonda Griffin who was adversely affected by such practices . The Commission alleges that the Defendant discriminated against Sharonda Griffin because of her sex, female .\n",
      "\n",
      "1\n",
      "\n",
      "\f",
      "Case 1:05-cv-00530-D Document 1-1 Filed 09/19/2005 Page 2 of 6\n",
      "JURISDICTION AND VENU E 1 . Jurisdiction of this Court is invoked pursuant to 28 U .S .C. §§ 451, 1331, 1337, 1343 and 1345 . This action is authorized and instituted pursuant to §§ 703, 706(f)(1) and (3) of Title VII of the Civil Rights Act of 1964, as amended, 42 U.S .C. § 2000e-2(a), 42 U .S .C . § 2000e-5(f)(l) and (3), and Section 102 of the Civil Rights Act of 1991, 42 U .S.C. Section 1981A . 2 . The unlawful employment practices alleged to be unlawful were committed within the jurisdiction of the United States District Court for the Southern District of Alabama, Southern Division .\n",
      "PARTIES 3 . Plaintiff, the Equal Employment Opportunity Commission (the \"Commission\"), is the agency of the United States of America charged with the administration, interpretation and enforcement of Title VII, and is expressly authorized to bring this action by § 706(f)(1) and (3) of Title VII, 42 U.S.C. § 2000e-5(f)(l) and (3) . 4. At all relevant times, the Defendant, House of Philadelphia Center, Incorporated (\"House of Philadelphia\" or the \"Employer\") has continuously been doing business in the State of Alabama and the city of Irvington, and has continuously had at least 15 employees.\n",
      "2\n",
      "\n",
      "\f",
      "Case 1:05-cv-00530-D Document 1-1 Filed 09/19/2005 Page 3 of 6\n",
      "5 . At all relevant times, the Defendant Employer has continuously been an employer engaged in an industry affecting commerce within the meaning of Sections 701(b), (g) and (h) of Title VII, 42 U .S .C . § 2000e-(b), (g) and (h) .\n",
      "STATEMENT OF CLAIM S 6 . More than thirty days prior to the institution of this lawsuit, Sharonda Griffin filed a Charge of Discrimination with the Commission alleging violations of Title VII by Defendant Employer. All conditions precedent to the institution of this lawsuit have been fulfilled. 7 . Since at least October 15, 2004, Defendant has engaged in unlawful employment practices at its Irvington, Alabama, facility in violation of Section 703 (a) of Title VII, 42 U .S.C. § 2000e-2(a). In particular, Defendant discharged Sharonda Griffin because she was pregnant . 8 . The effect of the practices complained of in paragraph 7 above has been to deprive Sharonda Griffin of equal employment opportunities and otherwise adversely affected her status as an employee, because of her sex, female . 9. The unlawful employment practices complained of in paragraphs 7 and 8 above were intentional .\n",
      "3\n",
      "\n",
      "\f",
      "Case 1:05-cv-00530-D Document 1-1 Filed 09/19/2005 Page 4 of 6\n",
      "10. The unlawful employment practices complained of in paragraphs 7, 8 and 9 above were done with malice or with reckless indifference to the federally protected rights of Sharonda Griffin.\n",
      "PRAYER FOR RELIE F WHEREFORE , the Commission respectfully requests that this Court :\n",
      "A. Grant a permanent injunction enjoining the Defendant Employer, its officers, agents, successors, assigns and all persons in active concert or participation with it, from engaging in any employment practices which discriminate on the basis of sex.\n",
      "B . Order the Defendant to institute and carry out policies, practices and programs which provide equal employment opportunities for all of its employees regardless of sex and which eradicate the effects of its past and present unlawful employment practices .\n",
      "C . Order the Defendant to make whole Sharonda Griffin by providing appropriate relief, in amounts to be determined at trial, and other affirmative relief necessary to eradicate the effects of its unlawful employment practices .\n",
      "D. Order Defendant Employer to make whole Sharonda Griffin by providing her with compensation for non-pecuniary losses resulting from the unlawful employment practices described in paragraphs 7, 8 and 9 above, including pain an d\n",
      "4\n",
      "\n",
      "\f",
      "Case 1:05-cv-00530-D Document 1-1 Filed 09/19/2005 Page 5 of 6\n",
      "suffering, emotional distress, humiliation, isolation, depression, and loss of enjoyment of life, in amounts to be determined at trial .\n",
      "E. Order Defendant Employer to pay Sharonda Griffin punitive damages for its malicious and reckless conduct described in paragraphs 7, 8 and 9 above, in amounts to be determined at trial .\n",
      "F. Grant such further relief as the Court deems necessary and proper in the public interest .\n",
      "G. Award the Commission its costs of this action . JURY TRIAL DEMAND\n",
      "The Commission requests a jury trial on all questions of fact raised by its complaint .\n",
      "Respectfully submitted , JAMES L. LEE Deputy General Counsel GWENDOLYN YOUNG REAMS Associate General Counse l EQUAL EMPLOYMENT OPPORTUNITY\n",
      "COMMISSION 1801 \"L\" Street, N .W. Washington, DC 2050 7\n",
      "5\n",
      "\n",
      "\f",
      "Case 1:05-cv-00530-D Document 1-1 Filed 09/19/2005 Page 6 of 6\n",
      "a'rles E. G rrier CHARLES GUERRIER Regional Attorney Ohio State Bar ID #002354 6\n",
      "s/ Mason D. Barrett MASON D . BARRETT Senior Trial Attorney Colorado State Bar ID #2130 9\n",
      "EQUAL EMPLOYMENT OPPORTUNITY COMMISSION\n",
      "113022 d Street South , Suite 2000 Birmingham, Alabama 35205-2886 Telephone : (205) 212-2047 Facsimile : (205) 212-204 1\n",
      "6\n",
      "\n",
      "\f",
      "\n"
     ]
    },
    {
     "ename": "RuntimeError",
     "evalue": "No active exception to reraise",
     "output_type": "error",
     "traceback": [
      "\u001b[0;31m---------------------------------------------------------------------------\u001b[0m",
      "\u001b[0;31mRuntimeError\u001b[0m                              Traceback (most recent call last)",
      "Cell \u001b[0;32mIn[13], line 5\u001b[0m\n\u001b[1;32m      3\u001b[0m \u001b[38;5;28;01mfor\u001b[39;00m passage \u001b[38;5;129;01min\u001b[39;00m example[\u001b[38;5;124m'\u001b[39m\u001b[38;5;124msources\u001b[39m\u001b[38;5;124m'\u001b[39m]:\n\u001b[1;32m      4\u001b[0m     \u001b[38;5;28mprint\u001b[39m(passage)\n\u001b[0;32m----> 5\u001b[0m     \u001b[38;5;28;01mraise\u001b[39;00m\n",
      "\u001b[0;31mRuntimeError\u001b[0m: No active exception to reraise"
     ]
    }
   ],
   "source": [
    "collection = []\n",
    "for example in multi_lexsum['train']:\n",
    "    for passage in example['sources']:\n",
    "        print(passage)\n",
    "        raise"
   ]
  },
  {
   "cell_type": "code",
   "execution_count": 12,
   "id": "c9482f7a-ac4c-417d-8fa6-12f7d73fb7d7",
   "metadata": {},
   "outputs": [
    {
     "data": {
      "text/plain": [
       "'Case 1:05-cv-00530-KD-M Document 9-t Filed 02/21/2006 Page 1 of 6\\n\\nIN THE UNITED STATES DISTRICT COURT FOR THE SOUTHERN DISTRICT OF ALABAMA\\nSOUTHERN DIVISION\\n\\nEQUAL EMPLOYMENT\\n\\n)\\n\\nOPPORTUNITY COMMISSION,\\n\\n)\\n\\n)\\n\\n- plaintiff,.\\n\\n.).. :-.. ,\\n\\n..\\n\\nvs.\\nHOUSE OF PHILADELPHIA CENTER, INC.,\\nDefendant.\\n\\n)\\n\\nCIVIL ACTION NO. 05-0530-D\\n\\n)\\n\\n)\\n\\n)\\n\\n)\\n\\n)\\n\\n)\\n\\nCOMPLAINT IN INTERVENTION\\n\\n1. This claim arises under Title VII of the Civil Rights Act of 1964, as amended, and\\n\\nPlaintiff Sharonda Griffin also asserts state law claims. This Court has jurisdiction over this action\\n\\npursuant to Title 28 U.S.C. §§1331 and 1343. This Court has supplemental jurisdiction over\\n\\nplaintiffs state law claims pursuant to 28 U.S.C. § 1367.\\n\\n2. Plaintiff Sharonda Griffin (\"Plaintiff\") is a female over the age of nineteen (19)\\n\\n3. Defendant House of Philadelphia Center, Inc. (\"Defendant\") is a corporation doing business in the Southern District of Alabama.\\nAt all times relevant to the complaint, Defendant had fifteen or more employees. At all times relevant to the complaint, Plaintiff was employed by Defendant. During the course of Plaintiff’s employment, Defendant discriminated against Plaintiff on the basis of her sex and pregnancy. 7. Plaintiff’s supervisor made defamatory remarks about Plaintiff to her co-workers.\\n\\n\\x0cCase 1:05-cv-00530-KD-M Document 9-1 Filed 02/21/2006 Page 2 of 6\\nPlaintiff was terminated from her employment on October ! 5, 2004. 9. Plaintiffs termination was based on her pregnancy. 10. In a letter 1o Plaintiff, dated October ! 5, 2004, Ms. Mamie H. Mackey, Director of the House of Philadelphia Center, Inc., stated, \"Please be advised thai your service is no longer needed at House o~Philadeiphia. Due to persofial, health reason which I have discussed with you. In the near future after you have the baby, I will consider you working for the company again. Your last working day will be Friday, October 15, 2004\". (Letter attached as Exhibit 1) 11. Plaintiff filed a timely Charge of Discrimination with the Equal Employment Opportunity Commission, (EEOC) Charge Number 130-2005-00806, in or about November of 2004. (EEOC Charge attached as Exhibit 2) 12. Plaintiff received a\"Cause Determination\" from the EEOC. (Determination attached as Exhibit 3) 13. The EEOC issued a determination that :\\nInvestigation revealed that Charging Party was discharged and informed she would be considered for re-employment after having her baby. Direct evidence indicates Charging Party’s pregnancy was a motivating factor in Respondent’s decision to discharge her. Evidence does not support the stated defense that the Charging Party voluntarily resigned. I fred reasonable cause to believe that the Charging Party was subjected to discriminatory discharge due to her pregnancy, in violalion of Title VII. 14. Thereafter, on or about September 19, 2005, the EEOC filed a lawsuit against the House of Philadelphia Center, Inc. 15. Plaintifftimely filed this complaint in intervention.\\nFirst Claim For Relief 16. Plaintiffincorporates by reference each of the foregoing allegations of fact as though\\n-2-\\n\\n\\x0cCase 1:05-cv-00530-KD-M Document 9-1 Filed 02/2112006 Page 3 of 6\\nfully set forth herein. 17. Defendant discriminated against Plaintiff in the terms and condilions of her\\nemployment, at ieasl partly because of her sex and pregnancy. 18. As a result of Defendant’s intentional and unlawful conduct, Plaintiff suffered and\\n\" ¯ \": ~:onlinues to suffer emotional painand suffering, inconvenience, mental.anguish, loss of enjoyment of life, loss of income, and loss of employment benefits. 19. Defendant acled with malice or with reckless indifference to Plaintiff’s federally protected fights. WHEREFORE, Plaintiff demands reinstatement, the removal of all unfavorable material related to this matter from her personnel files, back pay, front pay, compensatory and punitive damages, costs and attorneys’ fees and all other relief deemed appropriate by this Court and/or the\\nSecond Claim For Relief 20. Plaintiff incorporates by reference each of the foregoing allegations of fact as though fully set forth herein. 21. Defendant’s conduct created and/or condoned a hostile work environment for Plaintiff. 22. As a result of Defendant’s intentional and unlawful conduct, Plaintiff suffered and continues to suffer emotional pain and suffering, inconvenienee, mental anguish, and loss of enjoyment of life. 23. Defendant acted with malice or with reckless indifference to Plaintiffs federally protected rights.\\n-3-\\n\\n\\x0cCase 1:05-cv-00530-KD-M Document 9-1 Filed 02t21/2006 Page 4 of 6\\nWHEREFORE, Plaintiff demands reinstatement, the removal of all unfavorable material related to Ibis mailer from her personnel files, back pay, front pay, compensatory and punitive damages, costs and atton~eys’ fees and all olher relief deemed appropriate by this Court and/or Ihe jury.\\n: -.. Third Claim For Relief - 24. Plaintiff incorporates by reference each of the foregoing allegations of fact as though fully set forth herein. 25. Defendant terminated Plaintiffs employment because of her sex and pregnancy. 26. As a result of Defendant’s intentional and unlawful conduct, Plaintiff suffered and continues to suffer emotional pain and suffering, inconvenience, mental anguish, and loss of enjoyment of life. 27. Defendant acted with malice or with reckless indifference to Plaintiffs federally protected rights. WHEREFORE, Plaintiff demands reinstatement, the removal of all unfavorable material related to this matter from her personnel files, back pay, front pay, compensatory and punitive damages, costs and attorneys’ fees and all other relief deemed appropriate by this Court and/or the\\nSixth Claim For Relief 28. Plaintiffincoq~orates by reference each of the foregoing allegations of fact as though fully set forth herein. 29. Defendant made defamatory remarks about Plaintiff. 30. As a proximate result of defendant’s intentional and/or reckless conduct, Plaintiff\\n-4-\\n\\n\\x0cCase 1:05-cv-00530-KD-M Document 9-1 Filed 02/21/2006 t-’age b ol u\\nsuffered and continues to suffer emotional pain and suffering, inconvenience, mental anguish, loss of enjoyment of life, loss of income, and loss of employment benefits.\\nWHEREFORE, Plaintiff demands reinstatement, the removal of all unfavorable material related to this matter from her personnel files, back pay, front pay, compensatory and punitive. damages, coslg and aft0rne~s’ fees and all other relief deemed appropriate by this Court and/or the.\\njury.\\ns/Daniel A. Hannan DANIEL A. HANNAN (HANND4492) Attorney for Plaintiff OF COUNSEL: FRANKLIN & STEIN, P.C. 63 South Royal Street Suite 1109 Mobile, Alabama 36602 Phone: 251-433-0051 Fax: 251-433-3919 Email: dahlawyer@,hotmail, corn PLAINTIFF DEMANDS TRIAL BY JURY. s/Daniel A. Hannah\\n-5-\\n\\n\\x0cCase 1:05-cv-00530-KD-M Document 9-1 Filed 02/21/2006 Page 6 of 6\\nComplaint in Intervention EEOC vs. House of Philadelphia Center, Inc. Civil Action No. 05-0530-D\\nCERTIFICATE OF SERVICE I hereby certify that on 9th day of F~bmary, 2006, 1 electronically filed the foregoing document with the Clerk of the Court using the CM/ECF system which will send notification of such filing to the following: Charles Guerrier, Esq., Mason D. Barrett, Esq. and Raymond L. Bell, Jr., Esq.\\ns/Daniel A. Hannan Federal Bar Number: HANND4492\\n-6-\\n\\n\\x0c'"
      ]
     },
     "execution_count": 12,
     "metadata": {},
     "output_type": "execute_result"
    }
   ],
   "source": [
    "multi_lexsum['train']['sources'][0][1]"
   ]
  },
  {
   "cell_type": "code",
   "execution_count": null,
   "id": "7339fc55-c151-4c82-b5c2-7e11cf992594",
   "metadata": {},
   "outputs": [],
   "source": [
    "model_name = 'gemma2:27b'\n",
    "\n",
    "lm = dspy.OllamaLocal(model=model_name)\n",
    "dspy.settings.configure(lm=lm)"
   ]
  },
  {
   "cell_type": "code",
   "execution_count": null,
   "id": "56f0b1c0-2793-495c-96c2-2b10a87a584d",
   "metadata": {},
   "outputs": [],
   "source": [
    "turbo = dspy.OpenAI(model='gpt-3.5-turbo')\n",
    "colbertv2_wiki17_abstracts = dspy.ColBERTv2(url='http://20.102.90.50:2017/wiki17_abstracts')\n",
    "\n",
    "dspy.settings.configure(lm=turbo, rm=colbertv2_wiki17_abstracts)"
   ]
  }
 ],
 "metadata": {
  "kernelspec": {
   "display_name": "Python 3 (ipykernel)",
   "language": "python",
   "name": "python3"
  },
  "language_info": {
   "codemirror_mode": {
    "name": "ipython",
    "version": 3
   },
   "file_extension": ".py",
   "mimetype": "text/x-python",
   "name": "python",
   "nbconvert_exporter": "python",
   "pygments_lexer": "ipython3",
   "version": "3.12.0"
  }
 },
 "nbformat": 4,
 "nbformat_minor": 5
}
